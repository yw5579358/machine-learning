{
 "cells": [
  {
   "cell_type": "code",
   "execution_count": 1,
   "id": "initial_id",
   "metadata": {
    "collapsed": true,
    "ExecuteTime": {
     "end_time": "2023-09-03T01:17:27.565786500Z",
     "start_time": "2023-09-03T01:17:26.922221100Z"
    }
   },
   "outputs": [
    {
     "data": {
      "text/plain": "    a   b\n0  10  20\n1  20  30\n2  30  40",
      "text/html": "<div>\n<style scoped>\n    .dataframe tbody tr th:only-of-type {\n        vertical-align: middle;\n    }\n\n    .dataframe tbody tr th {\n        vertical-align: top;\n    }\n\n    .dataframe thead th {\n        text-align: right;\n    }\n</style>\n<table border=\"1\" class=\"dataframe\">\n  <thead>\n    <tr style=\"text-align: right;\">\n      <th></th>\n      <th>a</th>\n      <th>b</th>\n    </tr>\n  </thead>\n  <tbody>\n    <tr>\n      <th>0</th>\n      <td>10</td>\n      <td>20</td>\n    </tr>\n    <tr>\n      <th>1</th>\n      <td>20</td>\n      <td>30</td>\n    </tr>\n    <tr>\n      <th>2</th>\n      <td>30</td>\n      <td>40</td>\n    </tr>\n  </tbody>\n</table>\n</div>"
     },
     "execution_count": 1,
     "metadata": {},
     "output_type": "execute_result"
    }
   ],
   "source": [
    "import numpy as np\n",
    "import pandas as pd\n",
    "df = pd.DataFrame({'a':[10,20,30],'b':[20,30,40]})\n",
    "df "
   ]
  },
  {
   "cell_type": "markdown",
   "source": [
    "## 1 Series的Apply 方法"
   ],
   "metadata": {
    "collapsed": false
   },
   "id": "fac5db522654578f"
  },
  {
   "cell_type": "code",
   "execution_count": 2,
   "outputs": [],
   "source": [
    "def my_sq(x):\n",
    "    return x**2"
   ],
   "metadata": {
    "collapsed": false,
    "ExecuteTime": {
     "end_time": "2023-09-03T01:17:27.570613800Z",
     "start_time": "2023-09-03T01:17:27.559782300Z"
    }
   },
   "id": "3c7a379668a37121"
  },
  {
   "cell_type": "code",
   "execution_count": 3,
   "outputs": [
    {
     "data": {
      "text/plain": "0    100\n1    400\n2    900\nName: a, dtype: int64"
     },
     "execution_count": 3,
     "metadata": {},
     "output_type": "execute_result"
    }
   ],
   "source": [
    "df['a'].apply(my_sq)"
   ],
   "metadata": {
    "collapsed": false,
    "ExecuteTime": {
     "end_time": "2023-09-03T01:17:27.577612Z",
     "start_time": "2023-09-03T01:17:27.562789200Z"
    }
   },
   "id": "5235496569c845c"
  },
  {
   "cell_type": "code",
   "execution_count": 4,
   "outputs": [
    {
     "data": {
      "text/plain": "0     1000\n1     8000\n2    27000\nName: a, dtype: int64"
     },
     "execution_count": 4,
     "metadata": {},
     "output_type": "execute_result"
    }
   ],
   "source": [
    "# 方法传递多个参数\n",
    "def my_sq(x,e):\n",
    "    return x**e\n",
    "df['a'].apply(my_sq,e=3)"
   ],
   "metadata": {
    "collapsed": false,
    "ExecuteTime": {
     "end_time": "2023-09-03T01:17:27.638846700Z",
     "start_time": "2023-09-03T01:17:27.578612100Z"
    }
   },
   "id": "72fcdec73cd8d15c"
  },
  {
   "cell_type": "markdown",
   "source": [
    "## 2 DataFrame 的apply 方法"
   ],
   "metadata": {
    "collapsed": false
   },
   "id": "d2513a45376e3177"
  },
  {
   "cell_type": "code",
   "execution_count": 5,
   "outputs": [
    {
     "data": {
      "text/plain": "     a     b\n0  100   400\n1  400   900\n2  900  1600",
      "text/html": "<div>\n<style scoped>\n    .dataframe tbody tr th:only-of-type {\n        vertical-align: middle;\n    }\n\n    .dataframe tbody tr th {\n        vertical-align: top;\n    }\n\n    .dataframe thead th {\n        text-align: right;\n    }\n</style>\n<table border=\"1\" class=\"dataframe\">\n  <thead>\n    <tr style=\"text-align: right;\">\n      <th></th>\n      <th>a</th>\n      <th>b</th>\n    </tr>\n  </thead>\n  <tbody>\n    <tr>\n      <th>0</th>\n      <td>100</td>\n      <td>400</td>\n    </tr>\n    <tr>\n      <th>1</th>\n      <td>400</td>\n      <td>900</td>\n    </tr>\n    <tr>\n      <th>2</th>\n      <td>900</td>\n      <td>1600</td>\n    </tr>\n  </tbody>\n</table>\n</div>"
     },
     "execution_count": 5,
     "metadata": {},
     "output_type": "execute_result"
    }
   ],
   "source": [
    "df.apply(my_sq,e=2)"
   ],
   "metadata": {
    "collapsed": false,
    "ExecuteTime": {
     "end_time": "2023-09-03T01:17:27.639846700Z",
     "start_time": "2023-09-03T01:17:27.588800100Z"
    }
   },
   "id": "dfc3076520a3bc3f"
  },
  {
   "cell_type": "code",
   "execution_count": 6,
   "outputs": [],
   "source": [
    "def my_func(x):\n",
    "    print(x)\n",
    "    print('x的数据类型是',type(x))"
   ],
   "metadata": {
    "collapsed": false,
    "ExecuteTime": {
     "end_time": "2023-09-03T01:17:27.641498100Z",
     "start_time": "2023-09-03T01:17:27.598915900Z"
    }
   },
   "id": "e15f3c11582b448e"
  },
  {
   "cell_type": "code",
   "execution_count": 7,
   "outputs": [
    {
     "name": "stdout",
     "output_type": "stream",
     "text": [
      "a    10\n",
      "b    20\n",
      "Name: 0, dtype: int64\n",
      "x的数据类型是 <class 'pandas.core.series.Series'>\n",
      "a    20\n",
      "b    30\n",
      "Name: 1, dtype: int64\n",
      "x的数据类型是 <class 'pandas.core.series.Series'>\n",
      "a    30\n",
      "b    40\n",
      "Name: 2, dtype: int64\n",
      "x的数据类型是 <class 'pandas.core.series.Series'>\n"
     ]
    },
    {
     "data": {
      "text/plain": "0    None\n1    None\n2    None\ndtype: object"
     },
     "execution_count": 7,
     "metadata": {},
     "output_type": "execute_result"
    }
   ],
   "source": [
    "df.apply(my_func,axis = 1)"
   ],
   "metadata": {
    "collapsed": false,
    "ExecuteTime": {
     "end_time": "2023-09-03T01:17:27.677424700Z",
     "start_time": "2023-09-03T01:17:27.603431100Z"
    }
   },
   "id": "bf05a003bc027c7f"
  },
  {
   "cell_type": "code",
   "execution_count": 8,
   "outputs": [],
   "source": [
    "def count_missing(vec):\n",
    "    return pd.isnull(vec).sum()\n",
    "def count_missing_prop(vec):\n",
    "    return pd.isnull(vec).sum()/vec.size"
   ],
   "metadata": {
    "collapsed": false,
    "ExecuteTime": {
     "end_time": "2023-09-03T01:17:27.678427200Z",
     "start_time": "2023-09-03T01:17:27.610291800Z"
    }
   },
   "id": "88d79359105cb8b2"
  },
  {
   "cell_type": "code",
   "execution_count": 9,
   "outputs": [],
   "source": [
    "titanic = pd.read_csv('data/titanic_train.csv')"
   ],
   "metadata": {
    "collapsed": false,
    "ExecuteTime": {
     "end_time": "2023-09-03T01:17:27.679429800Z",
     "start_time": "2023-09-03T01:17:27.617996600Z"
    }
   },
   "id": "ef7e55dc1adf025"
  },
  {
   "cell_type": "code",
   "execution_count": 10,
   "outputs": [
    {
     "data": {
      "text/plain": "PassengerId      0\nSurvived         0\nPclass           0\nName             0\nSex              0\nAge            177\nSibSp            0\nParch            0\nTicket           0\nFare             0\nCabin          687\nEmbarked         2\ndtype: int64"
     },
     "execution_count": 10,
     "metadata": {},
     "output_type": "execute_result"
    }
   ],
   "source": [
    "titanic.apply(count_missing)"
   ],
   "metadata": {
    "collapsed": false,
    "ExecuteTime": {
     "end_time": "2023-09-03T01:17:27.720019400Z",
     "start_time": "2023-09-03T01:17:27.633946200Z"
    }
   },
   "id": "5e52f63ae1028db"
  },
  {
   "cell_type": "code",
   "execution_count": 11,
   "outputs": [],
   "source": [
    "# 年龄"
   ],
   "metadata": {
    "collapsed": false,
    "ExecuteTime": {
     "end_time": "2023-09-03T01:17:27.740771400Z",
     "start_time": "2023-09-03T01:17:27.641498100Z"
    }
   },
   "id": "430c2f2b76bce61c"
  },
  {
   "cell_type": "code",
   "execution_count": 12,
   "outputs": [
    {
     "data": {
      "text/plain": "count    714.000000\nmean      29.699118\nstd       14.526497\nmin        0.420000\n25%       20.125000\n50%       28.000000\n75%       38.000000\nmax       80.000000\nName: Age, dtype: float64"
     },
     "execution_count": 12,
     "metadata": {},
     "output_type": "execute_result"
    }
   ],
   "source": [
    "titanic['Age'].describe()"
   ],
   "metadata": {
    "collapsed": false,
    "ExecuteTime": {
     "end_time": "2023-09-03T01:17:27.777950Z",
     "start_time": "2023-09-03T01:17:27.645505900Z"
    }
   },
   "id": "b1ab94b23eff8fdb"
  },
  {
   "cell_type": "code",
   "execution_count": 13,
   "outputs": [],
   "source": [
    "def cut_age(age):\n",
    "    if age<18:\n",
    "        return '未成年'\n",
    "    elif 18<=age<40:\n",
    "        return '青年'\n",
    "    elif 40<=age<60:\n",
    "        return '中年'\n",
    "    elif 60<=age<81:\n",
    "        return '老年'\n",
    "    else:\n",
    "        return '未知'"
   ],
   "metadata": {
    "collapsed": false,
    "ExecuteTime": {
     "end_time": "2023-09-03T01:17:27.860977300Z",
     "start_time": "2023-09-03T01:17:27.657060300Z"
    }
   },
   "id": "80b3eecefb23ea5f"
  },
  {
   "cell_type": "code",
   "execution_count": 14,
   "outputs": [
    {
     "data": {
      "text/plain": "青年     438\n未知     177\n中年     137\n未成年    113\n老年      26\nName: Age, dtype: int64"
     },
     "execution_count": 14,
     "metadata": {},
     "output_type": "execute_result"
    }
   ],
   "source": [
    "titanic['Age'].apply(cut_age).value_counts()"
   ],
   "metadata": {
    "collapsed": false,
    "ExecuteTime": {
     "end_time": "2023-09-03T01:17:27.896977Z",
     "start_time": "2023-09-03T01:17:27.661065500Z"
    }
   },
   "id": "886bf0adb823d08e"
  },
  {
   "cell_type": "code",
   "execution_count": 15,
   "outputs": [
    {
     "data": {
      "text/plain": "     PassengerId  Survived  Pclass  \\\n33            34         0       2   \n54            55         0       1   \n96            97         0       1   \n116          117         0       3   \n170          171         0       1   \n252          253         0       1   \n275          276         1       1   \n280          281         0       3   \n326          327         0       3   \n366          367         1       1   \n438          439         0       1   \n456          457         0       1   \n483          484         1       3   \n493          494         0       1   \n545          546         0       1   \n555          556         0       1   \n570          571         1       2   \n587          588         1       1   \n625          626         0       1   \n630          631         1       1   \n672          673         0       2   \n684          685         0       2   \n694          695         0       1   \n745          746         0       1   \n829          830         1       1   \n851          852         0       3   \n\n                                                 Name     Sex   Age  SibSp  \\\n33                              Wheadon, Mr. Edward H    male  66.0      0   \n54                     Ostby, Mr. Engelhart Cornelius    male  65.0      0   \n96                          Goldschmidt, Mr. George B    male  71.0      0   \n116                              Connors, Mr. Patrick    male  70.5      0   \n170                         Van der hoef, Mr. Wyckoff    male  61.0      0   \n252                         Stead, Mr. William Thomas    male  62.0      0   \n275                 Andrews, Miss. Kornelia Theodosia  female  63.0      1   \n280                                  Duane, Mr. Frank    male  65.0      0   \n326                         Nysveen, Mr. Johan Hansen    male  61.0      0   \n366  Warren, Mrs. Frank Manley (Anna Sophia Atkinson)  female  60.0      1   \n438                                 Fortune, Mr. Mark    male  64.0      1   \n456                         Millet, Mr. Francis Davis    male  65.0      0   \n483                            Turkula, Mrs. (Hedwig)  female  63.0      0   \n493                           Artagaveytia, Mr. Ramon    male  71.0      0   \n545                      Nicholson, Mr. Arthur Ernest    male  64.0      0   \n555                                Wright, Mr. George    male  62.0      0   \n570                                Harris, Mr. George    male  62.0      0   \n587                  Frolicher-Stehli, Mr. Maxmillian    male  60.0      1   \n625                             Sutton, Mr. Frederick    male  61.0      0   \n630              Barkworth, Mr. Algernon Henry Wilson    male  80.0      0   \n672                       Mitchell, Mr. Henry Michael    male  70.0      0   \n684                 Brown, Mr. Thomas William Solomon    male  60.0      1   \n694                                   Weir, Col. John    male  60.0      0   \n745                      Crosby, Capt. Edward Gifford    male  70.0      1   \n829         Stone, Mrs. George Nelson (Martha Evelyn)  female  62.0      0   \n851                               Svensson, Mr. Johan    male  74.0      0   \n\n     Parch       Ticket      Fare        Cabin Embarked  \n33       0   C.A. 24579   10.5000          NaN        S  \n54       1       113509   61.9792          B30        C  \n96       0     PC 17754   34.6542           A5        C  \n116      0       370369    7.7500          NaN        Q  \n170      0       111240   33.5000          B19        S  \n252      0       113514   26.5500          C87        S  \n275      0        13502   77.9583           D7        S  \n280      0       336439    7.7500          NaN        Q  \n326      0       345364    6.2375          NaN        S  \n366      0       110813   75.2500          D37        C  \n438      4        19950  263.0000  C23 C25 C27        S  \n456      0        13509   26.5500          E38        S  \n483      0         4134    9.5875          NaN        S  \n493      0     PC 17609   49.5042          NaN        C  \n545      0          693   26.0000          NaN        S  \n555      0       113807   26.5500          NaN        S  \n570      0  S.W./PP 752   10.5000          NaN        S  \n587      1        13567   79.2000          B41        C  \n625      0        36963   32.3208          D50        S  \n630      0        27042   30.0000          A23        S  \n672      0   C.A. 24580   10.5000          NaN        S  \n684      1        29750   39.0000          NaN        S  \n694      0       113800   26.5500          NaN        S  \n745      1    WE/P 5735   71.0000          B22        S  \n829      0       113572   80.0000          B28      NaN  \n851      0       347060    7.7750          NaN        S  ",
      "text/html": "<div>\n<style scoped>\n    .dataframe tbody tr th:only-of-type {\n        vertical-align: middle;\n    }\n\n    .dataframe tbody tr th {\n        vertical-align: top;\n    }\n\n    .dataframe thead th {\n        text-align: right;\n    }\n</style>\n<table border=\"1\" class=\"dataframe\">\n  <thead>\n    <tr style=\"text-align: right;\">\n      <th></th>\n      <th>PassengerId</th>\n      <th>Survived</th>\n      <th>Pclass</th>\n      <th>Name</th>\n      <th>Sex</th>\n      <th>Age</th>\n      <th>SibSp</th>\n      <th>Parch</th>\n      <th>Ticket</th>\n      <th>Fare</th>\n      <th>Cabin</th>\n      <th>Embarked</th>\n    </tr>\n  </thead>\n  <tbody>\n    <tr>\n      <th>33</th>\n      <td>34</td>\n      <td>0</td>\n      <td>2</td>\n      <td>Wheadon, Mr. Edward H</td>\n      <td>male</td>\n      <td>66.0</td>\n      <td>0</td>\n      <td>0</td>\n      <td>C.A. 24579</td>\n      <td>10.5000</td>\n      <td>NaN</td>\n      <td>S</td>\n    </tr>\n    <tr>\n      <th>54</th>\n      <td>55</td>\n      <td>0</td>\n      <td>1</td>\n      <td>Ostby, Mr. Engelhart Cornelius</td>\n      <td>male</td>\n      <td>65.0</td>\n      <td>0</td>\n      <td>1</td>\n      <td>113509</td>\n      <td>61.9792</td>\n      <td>B30</td>\n      <td>C</td>\n    </tr>\n    <tr>\n      <th>96</th>\n      <td>97</td>\n      <td>0</td>\n      <td>1</td>\n      <td>Goldschmidt, Mr. George B</td>\n      <td>male</td>\n      <td>71.0</td>\n      <td>0</td>\n      <td>0</td>\n      <td>PC 17754</td>\n      <td>34.6542</td>\n      <td>A5</td>\n      <td>C</td>\n    </tr>\n    <tr>\n      <th>116</th>\n      <td>117</td>\n      <td>0</td>\n      <td>3</td>\n      <td>Connors, Mr. Patrick</td>\n      <td>male</td>\n      <td>70.5</td>\n      <td>0</td>\n      <td>0</td>\n      <td>370369</td>\n      <td>7.7500</td>\n      <td>NaN</td>\n      <td>Q</td>\n    </tr>\n    <tr>\n      <th>170</th>\n      <td>171</td>\n      <td>0</td>\n      <td>1</td>\n      <td>Van der hoef, Mr. Wyckoff</td>\n      <td>male</td>\n      <td>61.0</td>\n      <td>0</td>\n      <td>0</td>\n      <td>111240</td>\n      <td>33.5000</td>\n      <td>B19</td>\n      <td>S</td>\n    </tr>\n    <tr>\n      <th>252</th>\n      <td>253</td>\n      <td>0</td>\n      <td>1</td>\n      <td>Stead, Mr. William Thomas</td>\n      <td>male</td>\n      <td>62.0</td>\n      <td>0</td>\n      <td>0</td>\n      <td>113514</td>\n      <td>26.5500</td>\n      <td>C87</td>\n      <td>S</td>\n    </tr>\n    <tr>\n      <th>275</th>\n      <td>276</td>\n      <td>1</td>\n      <td>1</td>\n      <td>Andrews, Miss. Kornelia Theodosia</td>\n      <td>female</td>\n      <td>63.0</td>\n      <td>1</td>\n      <td>0</td>\n      <td>13502</td>\n      <td>77.9583</td>\n      <td>D7</td>\n      <td>S</td>\n    </tr>\n    <tr>\n      <th>280</th>\n      <td>281</td>\n      <td>0</td>\n      <td>3</td>\n      <td>Duane, Mr. Frank</td>\n      <td>male</td>\n      <td>65.0</td>\n      <td>0</td>\n      <td>0</td>\n      <td>336439</td>\n      <td>7.7500</td>\n      <td>NaN</td>\n      <td>Q</td>\n    </tr>\n    <tr>\n      <th>326</th>\n      <td>327</td>\n      <td>0</td>\n      <td>3</td>\n      <td>Nysveen, Mr. Johan Hansen</td>\n      <td>male</td>\n      <td>61.0</td>\n      <td>0</td>\n      <td>0</td>\n      <td>345364</td>\n      <td>6.2375</td>\n      <td>NaN</td>\n      <td>S</td>\n    </tr>\n    <tr>\n      <th>366</th>\n      <td>367</td>\n      <td>1</td>\n      <td>1</td>\n      <td>Warren, Mrs. Frank Manley (Anna Sophia Atkinson)</td>\n      <td>female</td>\n      <td>60.0</td>\n      <td>1</td>\n      <td>0</td>\n      <td>110813</td>\n      <td>75.2500</td>\n      <td>D37</td>\n      <td>C</td>\n    </tr>\n    <tr>\n      <th>438</th>\n      <td>439</td>\n      <td>0</td>\n      <td>1</td>\n      <td>Fortune, Mr. Mark</td>\n      <td>male</td>\n      <td>64.0</td>\n      <td>1</td>\n      <td>4</td>\n      <td>19950</td>\n      <td>263.0000</td>\n      <td>C23 C25 C27</td>\n      <td>S</td>\n    </tr>\n    <tr>\n      <th>456</th>\n      <td>457</td>\n      <td>0</td>\n      <td>1</td>\n      <td>Millet, Mr. Francis Davis</td>\n      <td>male</td>\n      <td>65.0</td>\n      <td>0</td>\n      <td>0</td>\n      <td>13509</td>\n      <td>26.5500</td>\n      <td>E38</td>\n      <td>S</td>\n    </tr>\n    <tr>\n      <th>483</th>\n      <td>484</td>\n      <td>1</td>\n      <td>3</td>\n      <td>Turkula, Mrs. (Hedwig)</td>\n      <td>female</td>\n      <td>63.0</td>\n      <td>0</td>\n      <td>0</td>\n      <td>4134</td>\n      <td>9.5875</td>\n      <td>NaN</td>\n      <td>S</td>\n    </tr>\n    <tr>\n      <th>493</th>\n      <td>494</td>\n      <td>0</td>\n      <td>1</td>\n      <td>Artagaveytia, Mr. Ramon</td>\n      <td>male</td>\n      <td>71.0</td>\n      <td>0</td>\n      <td>0</td>\n      <td>PC 17609</td>\n      <td>49.5042</td>\n      <td>NaN</td>\n      <td>C</td>\n    </tr>\n    <tr>\n      <th>545</th>\n      <td>546</td>\n      <td>0</td>\n      <td>1</td>\n      <td>Nicholson, Mr. Arthur Ernest</td>\n      <td>male</td>\n      <td>64.0</td>\n      <td>0</td>\n      <td>0</td>\n      <td>693</td>\n      <td>26.0000</td>\n      <td>NaN</td>\n      <td>S</td>\n    </tr>\n    <tr>\n      <th>555</th>\n      <td>556</td>\n      <td>0</td>\n      <td>1</td>\n      <td>Wright, Mr. George</td>\n      <td>male</td>\n      <td>62.0</td>\n      <td>0</td>\n      <td>0</td>\n      <td>113807</td>\n      <td>26.5500</td>\n      <td>NaN</td>\n      <td>S</td>\n    </tr>\n    <tr>\n      <th>570</th>\n      <td>571</td>\n      <td>1</td>\n      <td>2</td>\n      <td>Harris, Mr. George</td>\n      <td>male</td>\n      <td>62.0</td>\n      <td>0</td>\n      <td>0</td>\n      <td>S.W./PP 752</td>\n      <td>10.5000</td>\n      <td>NaN</td>\n      <td>S</td>\n    </tr>\n    <tr>\n      <th>587</th>\n      <td>588</td>\n      <td>1</td>\n      <td>1</td>\n      <td>Frolicher-Stehli, Mr. Maxmillian</td>\n      <td>male</td>\n      <td>60.0</td>\n      <td>1</td>\n      <td>1</td>\n      <td>13567</td>\n      <td>79.2000</td>\n      <td>B41</td>\n      <td>C</td>\n    </tr>\n    <tr>\n      <th>625</th>\n      <td>626</td>\n      <td>0</td>\n      <td>1</td>\n      <td>Sutton, Mr. Frederick</td>\n      <td>male</td>\n      <td>61.0</td>\n      <td>0</td>\n      <td>0</td>\n      <td>36963</td>\n      <td>32.3208</td>\n      <td>D50</td>\n      <td>S</td>\n    </tr>\n    <tr>\n      <th>630</th>\n      <td>631</td>\n      <td>1</td>\n      <td>1</td>\n      <td>Barkworth, Mr. Algernon Henry Wilson</td>\n      <td>male</td>\n      <td>80.0</td>\n      <td>0</td>\n      <td>0</td>\n      <td>27042</td>\n      <td>30.0000</td>\n      <td>A23</td>\n      <td>S</td>\n    </tr>\n    <tr>\n      <th>672</th>\n      <td>673</td>\n      <td>0</td>\n      <td>2</td>\n      <td>Mitchell, Mr. Henry Michael</td>\n      <td>male</td>\n      <td>70.0</td>\n      <td>0</td>\n      <td>0</td>\n      <td>C.A. 24580</td>\n      <td>10.5000</td>\n      <td>NaN</td>\n      <td>S</td>\n    </tr>\n    <tr>\n      <th>684</th>\n      <td>685</td>\n      <td>0</td>\n      <td>2</td>\n      <td>Brown, Mr. Thomas William Solomon</td>\n      <td>male</td>\n      <td>60.0</td>\n      <td>1</td>\n      <td>1</td>\n      <td>29750</td>\n      <td>39.0000</td>\n      <td>NaN</td>\n      <td>S</td>\n    </tr>\n    <tr>\n      <th>694</th>\n      <td>695</td>\n      <td>0</td>\n      <td>1</td>\n      <td>Weir, Col. John</td>\n      <td>male</td>\n      <td>60.0</td>\n      <td>0</td>\n      <td>0</td>\n      <td>113800</td>\n      <td>26.5500</td>\n      <td>NaN</td>\n      <td>S</td>\n    </tr>\n    <tr>\n      <th>745</th>\n      <td>746</td>\n      <td>0</td>\n      <td>1</td>\n      <td>Crosby, Capt. Edward Gifford</td>\n      <td>male</td>\n      <td>70.0</td>\n      <td>1</td>\n      <td>1</td>\n      <td>WE/P 5735</td>\n      <td>71.0000</td>\n      <td>B22</td>\n      <td>S</td>\n    </tr>\n    <tr>\n      <th>829</th>\n      <td>830</td>\n      <td>1</td>\n      <td>1</td>\n      <td>Stone, Mrs. George Nelson (Martha Evelyn)</td>\n      <td>female</td>\n      <td>62.0</td>\n      <td>0</td>\n      <td>0</td>\n      <td>113572</td>\n      <td>80.0000</td>\n      <td>B28</td>\n      <td>NaN</td>\n    </tr>\n    <tr>\n      <th>851</th>\n      <td>852</td>\n      <td>0</td>\n      <td>3</td>\n      <td>Svensson, Mr. Johan</td>\n      <td>male</td>\n      <td>74.0</td>\n      <td>0</td>\n      <td>0</td>\n      <td>347060</td>\n      <td>7.7750</td>\n      <td>NaN</td>\n      <td>S</td>\n    </tr>\n  </tbody>\n</table>\n</div>"
     },
     "execution_count": 15,
     "metadata": {},
     "output_type": "execute_result"
    }
   ],
   "source": [
    "titanic[titanic['Age']>=60]"
   ],
   "metadata": {
    "collapsed": false,
    "ExecuteTime": {
     "end_time": "2023-09-03T01:17:27.909982300Z",
     "start_time": "2023-09-03T01:17:27.690428400Z"
    }
   },
   "id": "9efae1bc39d47bf1"
  },
  {
   "cell_type": "code",
   "execution_count": 16,
   "outputs": [],
   "source": [
    "# Pclass = 1 并且 Name中 包含了Master/Dr/Sir\n",
    "def get_vip(x):\n",
    "    if x['Pclass'] ==1 and ('Master' in x['Name'] or 'Dr' in x['Name'] or 'Sir' in x['Name'] ):\n",
    "        return 'VIP'\n",
    "    else:\n",
    "        return 'Normal'"
   ],
   "metadata": {
    "collapsed": false,
    "ExecuteTime": {
     "end_time": "2023-09-03T01:17:27.940986Z",
     "start_time": "2023-09-03T01:17:27.699931800Z"
    }
   },
   "id": "df8aca23aa58093"
  },
  {
   "cell_type": "code",
   "execution_count": 17,
   "outputs": [],
   "source": [
    "titanic['vip'] = titanic.apply(get_vip,axis=1)"
   ],
   "metadata": {
    "collapsed": false,
    "ExecuteTime": {
     "end_time": "2023-09-03T01:17:27.941986200Z",
     "start_time": "2023-09-03T01:17:27.704937500Z"
    }
   },
   "id": "480729d31e914e67"
  },
  {
   "cell_type": "code",
   "execution_count": 18,
   "outputs": [
    {
     "data": {
      "text/plain": "Normal    881\nVIP        10\nName: vip, dtype: int64"
     },
     "execution_count": 18,
     "metadata": {},
     "output_type": "execute_result"
    }
   ],
   "source": [
    "titanic['vip'].value_counts()"
   ],
   "metadata": {
    "collapsed": false,
    "ExecuteTime": {
     "end_time": "2023-09-03T01:17:27.943986700Z",
     "start_time": "2023-09-03T01:17:27.715652200Z"
    }
   },
   "id": "ae6449ca11ebfa82"
  },
  {
   "cell_type": "code",
   "execution_count": 19,
   "outputs": [
    {
     "data": {
      "text/plain": "     PassengerId  Survived  Pclass  \\\n245          246         0       1   \n305          306         1       1   \n445          446         1       1   \n599          600         1       1   \n632          633         1       1   \n660          661         1       1   \n679          680         1       1   \n766          767         0       1   \n796          797         1       1   \n802          803         1       1   \n\n                                             Name     Sex    Age  SibSp  \\\n245                   Minahan, Dr. William Edward    male  44.00      2   \n305                Allison, Master. Hudson Trevor    male   0.92      1   \n445                     Dodge, Master. Washington    male   4.00      0   \n599  Duff Gordon, Sir. Cosmo Edmund (\"Mr Morgan\")    male  49.00      1   \n632                     Stahelin-Maeglin, Dr. Max    male  32.00      0   \n660                 Frauenthal, Dr. Henry William    male  50.00      2   \n679            Cardeza, Mr. Thomas Drake Martinez    male  36.00      0   \n766                     Brewe, Dr. Arthur Jackson    male    NaN      0   \n796                   Leader, Dr. Alice (Farnham)  female  49.00      0   \n802           Carter, Master. William Thornton II    male  11.00      1   \n\n     Parch    Ticket      Fare        Cabin Embarked  vip  \n245      0     19928   90.0000          C78        Q  VIP  \n305      2    113781  151.5500      C22 C26        S  VIP  \n445      2     33638   81.8583          A34        S  VIP  \n599      0  PC 17485   56.9292          A20        C  VIP  \n632      0     13214   30.5000          B50        C  VIP  \n660      0  PC 17611  133.6500          NaN        S  VIP  \n679      1  PC 17755  512.3292  B51 B53 B55        C  VIP  \n766      0    112379   39.6000          NaN        C  VIP  \n796      0     17465   25.9292          D17        S  VIP  \n802      2    113760  120.0000      B96 B98        S  VIP  ",
      "text/html": "<div>\n<style scoped>\n    .dataframe tbody tr th:only-of-type {\n        vertical-align: middle;\n    }\n\n    .dataframe tbody tr th {\n        vertical-align: top;\n    }\n\n    .dataframe thead th {\n        text-align: right;\n    }\n</style>\n<table border=\"1\" class=\"dataframe\">\n  <thead>\n    <tr style=\"text-align: right;\">\n      <th></th>\n      <th>PassengerId</th>\n      <th>Survived</th>\n      <th>Pclass</th>\n      <th>Name</th>\n      <th>Sex</th>\n      <th>Age</th>\n      <th>SibSp</th>\n      <th>Parch</th>\n      <th>Ticket</th>\n      <th>Fare</th>\n      <th>Cabin</th>\n      <th>Embarked</th>\n      <th>vip</th>\n    </tr>\n  </thead>\n  <tbody>\n    <tr>\n      <th>245</th>\n      <td>246</td>\n      <td>0</td>\n      <td>1</td>\n      <td>Minahan, Dr. William Edward</td>\n      <td>male</td>\n      <td>44.00</td>\n      <td>2</td>\n      <td>0</td>\n      <td>19928</td>\n      <td>90.0000</td>\n      <td>C78</td>\n      <td>Q</td>\n      <td>VIP</td>\n    </tr>\n    <tr>\n      <th>305</th>\n      <td>306</td>\n      <td>1</td>\n      <td>1</td>\n      <td>Allison, Master. Hudson Trevor</td>\n      <td>male</td>\n      <td>0.92</td>\n      <td>1</td>\n      <td>2</td>\n      <td>113781</td>\n      <td>151.5500</td>\n      <td>C22 C26</td>\n      <td>S</td>\n      <td>VIP</td>\n    </tr>\n    <tr>\n      <th>445</th>\n      <td>446</td>\n      <td>1</td>\n      <td>1</td>\n      <td>Dodge, Master. Washington</td>\n      <td>male</td>\n      <td>4.00</td>\n      <td>0</td>\n      <td>2</td>\n      <td>33638</td>\n      <td>81.8583</td>\n      <td>A34</td>\n      <td>S</td>\n      <td>VIP</td>\n    </tr>\n    <tr>\n      <th>599</th>\n      <td>600</td>\n      <td>1</td>\n      <td>1</td>\n      <td>Duff Gordon, Sir. Cosmo Edmund (\"Mr Morgan\")</td>\n      <td>male</td>\n      <td>49.00</td>\n      <td>1</td>\n      <td>0</td>\n      <td>PC 17485</td>\n      <td>56.9292</td>\n      <td>A20</td>\n      <td>C</td>\n      <td>VIP</td>\n    </tr>\n    <tr>\n      <th>632</th>\n      <td>633</td>\n      <td>1</td>\n      <td>1</td>\n      <td>Stahelin-Maeglin, Dr. Max</td>\n      <td>male</td>\n      <td>32.00</td>\n      <td>0</td>\n      <td>0</td>\n      <td>13214</td>\n      <td>30.5000</td>\n      <td>B50</td>\n      <td>C</td>\n      <td>VIP</td>\n    </tr>\n    <tr>\n      <th>660</th>\n      <td>661</td>\n      <td>1</td>\n      <td>1</td>\n      <td>Frauenthal, Dr. Henry William</td>\n      <td>male</td>\n      <td>50.00</td>\n      <td>2</td>\n      <td>0</td>\n      <td>PC 17611</td>\n      <td>133.6500</td>\n      <td>NaN</td>\n      <td>S</td>\n      <td>VIP</td>\n    </tr>\n    <tr>\n      <th>679</th>\n      <td>680</td>\n      <td>1</td>\n      <td>1</td>\n      <td>Cardeza, Mr. Thomas Drake Martinez</td>\n      <td>male</td>\n      <td>36.00</td>\n      <td>0</td>\n      <td>1</td>\n      <td>PC 17755</td>\n      <td>512.3292</td>\n      <td>B51 B53 B55</td>\n      <td>C</td>\n      <td>VIP</td>\n    </tr>\n    <tr>\n      <th>766</th>\n      <td>767</td>\n      <td>0</td>\n      <td>1</td>\n      <td>Brewe, Dr. Arthur Jackson</td>\n      <td>male</td>\n      <td>NaN</td>\n      <td>0</td>\n      <td>0</td>\n      <td>112379</td>\n      <td>39.6000</td>\n      <td>NaN</td>\n      <td>C</td>\n      <td>VIP</td>\n    </tr>\n    <tr>\n      <th>796</th>\n      <td>797</td>\n      <td>1</td>\n      <td>1</td>\n      <td>Leader, Dr. Alice (Farnham)</td>\n      <td>female</td>\n      <td>49.00</td>\n      <td>0</td>\n      <td>0</td>\n      <td>17465</td>\n      <td>25.9292</td>\n      <td>D17</td>\n      <td>S</td>\n      <td>VIP</td>\n    </tr>\n    <tr>\n      <th>802</th>\n      <td>803</td>\n      <td>1</td>\n      <td>1</td>\n      <td>Carter, Master. William Thornton II</td>\n      <td>male</td>\n      <td>11.00</td>\n      <td>1</td>\n      <td>2</td>\n      <td>113760</td>\n      <td>120.0000</td>\n      <td>B96 B98</td>\n      <td>S</td>\n      <td>VIP</td>\n    </tr>\n  </tbody>\n</table>\n</div>"
     },
     "execution_count": 19,
     "metadata": {},
     "output_type": "execute_result"
    }
   ],
   "source": [
    "titanic[titanic['vip']=='VIP']"
   ],
   "metadata": {
    "collapsed": false,
    "ExecuteTime": {
     "end_time": "2023-09-03T01:17:27.944987Z",
     "start_time": "2023-09-03T01:17:27.723033500Z"
    }
   },
   "id": "e5e25fb45c018526"
  },
  {
   "cell_type": "code",
   "execution_count": 20,
   "outputs": [
    {
     "data": {
      "text/plain": "0                                Braund, Mr. Owen Harris\n1      Cumings, Mrs. John Bradley (Florence Briggs Th...\n2                                 Heikkinen, Miss. Laina\n3           Futrelle, Mrs. Jacques Heath (Lily May Peel)\n4                               Allen, Mr. William Henry\n                             ...                        \n886                                Montvila, Rev. Juozas\n887                         Graham, Miss. Margaret Edith\n888             Johnston, Miss. Catherine Helen \"Carrie\"\n889                                Behr, Mr. Karl Howell\n890                                  Dooley, Mr. Patrick\nName: Name, Length: 891, dtype: object"
     },
     "execution_count": 20,
     "metadata": {},
     "output_type": "execute_result"
    }
   ],
   "source": [
    "titanic['Name']"
   ],
   "metadata": {
    "collapsed": false,
    "ExecuteTime": {
     "end_time": "2023-09-03T01:17:27.963006700Z",
     "start_time": "2023-09-03T01:17:27.740771400Z"
    }
   },
   "id": "4c67111f61eac01d"
  },
  {
   "cell_type": "code",
   "execution_count": 21,
   "outputs": [],
   "source": [
    "df = pd.DataFrame({'a':[10,20,30],'b':[20,30,40]})"
   ],
   "metadata": {
    "collapsed": false,
    "ExecuteTime": {
     "end_time": "2023-09-03T01:17:41.600043500Z",
     "start_time": "2023-09-03T01:17:41.574490600Z"
    }
   },
   "id": "34b493eabf684470"
  },
  {
   "cell_type": "code",
   "execution_count": 22,
   "outputs": [
    {
     "data": {
      "text/plain": "0    15.0\n1    25.0\n2    35.0\ndtype: float64"
     },
     "execution_count": 22,
     "metadata": {},
     "output_type": "execute_result"
    }
   ],
   "source": [
    "def avg_test(x,y):\n",
    "    return (x+y)/2\n",
    "avg_test(df['a'],df['b'])"
   ],
   "metadata": {
    "collapsed": false,
    "ExecuteTime": {
     "end_time": "2023-09-03T01:18:12.783103500Z",
     "start_time": "2023-09-03T01:18:12.772933600Z"
    }
   },
   "id": "28cba47d914885c"
  },
  {
   "cell_type": "code",
   "execution_count": 23,
   "outputs": [
    {
     "data": {
      "text/plain": "0    20.0\n1    35.0\n2    50.0\ndtype: float64"
     },
     "execution_count": 23,
     "metadata": {},
     "output_type": "execute_result"
    }
   ],
   "source": [
    "df['a']+df['b']/2"
   ],
   "metadata": {
    "collapsed": false,
    "ExecuteTime": {
     "end_time": "2023-09-03T01:18:26.423412600Z",
     "start_time": "2023-09-03T01:18:26.414032900Z"
    }
   },
   "id": "40e7ec5a0fa94f9e"
  },
  {
   "cell_type": "code",
   "execution_count": 29,
   "outputs": [
    {
     "ename": "ValueError",
     "evalue": "The truth value of a Series is ambiguous. Use a.empty, a.bool(), a.item(), a.any() or a.all().",
     "output_type": "error",
     "traceback": [
      "\u001B[1;31m---------------------------------------------------------------------------\u001B[0m",
      "\u001B[1;31mValueError\u001B[0m                                Traceback (most recent call last)",
      "Cell \u001B[1;32mIn[29], line 6\u001B[0m\n\u001B[0;32m      4\u001B[0m     \u001B[38;5;28;01melse\u001B[39;00m:\n\u001B[0;32m      5\u001B[0m         \u001B[38;5;28;01mreturn\u001B[39;00m (x\u001B[38;5;241m+\u001B[39my)\u001B[38;5;241m/\u001B[39m\u001B[38;5;241m2\u001B[39m\n\u001B[1;32m----> 6\u001B[0m avg_test2(df[\u001B[38;5;124m'\u001B[39m\u001B[38;5;124ma\u001B[39m\u001B[38;5;124m'\u001B[39m],df[\u001B[38;5;124m'\u001B[39m\u001B[38;5;124mb\u001B[39m\u001B[38;5;124m'\u001B[39m])\n",
      "Cell \u001B[1;32mIn[29], line 2\u001B[0m, in \u001B[0;36mavg_test2\u001B[1;34m(x, y)\u001B[0m\n\u001B[0;32m      1\u001B[0m \u001B[38;5;28;01mdef\u001B[39;00m \u001B[38;5;21mavg_test2\u001B[39m(x,y):\n\u001B[1;32m----> 2\u001B[0m     \u001B[38;5;28;01mif\u001B[39;00m x\u001B[38;5;241m==\u001B[39m\u001B[38;5;241m20\u001B[39m:\n\u001B[0;32m      3\u001B[0m         \u001B[38;5;28;01mreturn\u001B[39;00m np\u001B[38;5;241m.\u001B[39mNaN\n\u001B[0;32m      4\u001B[0m     \u001B[38;5;28;01melse\u001B[39;00m:\n",
      "File \u001B[1;32m~\\anaconda3\\Lib\\site-packages\\pandas\\core\\generic.py:1527\u001B[0m, in \u001B[0;36mNDFrame.__nonzero__\u001B[1;34m(self)\u001B[0m\n\u001B[0;32m   1525\u001B[0m \u001B[38;5;129m@final\u001B[39m\n\u001B[0;32m   1526\u001B[0m \u001B[38;5;28;01mdef\u001B[39;00m \u001B[38;5;21m__nonzero__\u001B[39m(\u001B[38;5;28mself\u001B[39m) \u001B[38;5;241m-\u001B[39m\u001B[38;5;241m>\u001B[39m NoReturn:\n\u001B[1;32m-> 1527\u001B[0m     \u001B[38;5;28;01mraise\u001B[39;00m \u001B[38;5;167;01mValueError\u001B[39;00m(\n\u001B[0;32m   1528\u001B[0m         \u001B[38;5;124mf\u001B[39m\u001B[38;5;124m\"\u001B[39m\u001B[38;5;124mThe truth value of a \u001B[39m\u001B[38;5;132;01m{\u001B[39;00m\u001B[38;5;28mtype\u001B[39m(\u001B[38;5;28mself\u001B[39m)\u001B[38;5;241m.\u001B[39m\u001B[38;5;18m__name__\u001B[39m\u001B[38;5;132;01m}\u001B[39;00m\u001B[38;5;124m is ambiguous. \u001B[39m\u001B[38;5;124m\"\u001B[39m\n\u001B[0;32m   1529\u001B[0m         \u001B[38;5;124m\"\u001B[39m\u001B[38;5;124mUse a.empty, a.bool(), a.item(), a.any() or a.all().\u001B[39m\u001B[38;5;124m\"\u001B[39m\n\u001B[0;32m   1530\u001B[0m     )\n",
      "\u001B[1;31mValueError\u001B[0m: The truth value of a Series is ambiguous. Use a.empty, a.bool(), a.item(), a.any() or a.all()."
     ]
    }
   ],
   "source": [
    "def avg_test2(x,y):\n",
    "    if x==20:\n",
    "        return np.NaN\n",
    "    else:\n",
    "        return (x+y)/2\n",
    "avg_test2(df['a'],df['b'])"
   ],
   "metadata": {
    "collapsed": false,
    "ExecuteTime": {
     "end_time": "2023-09-03T01:24:04.564767600Z",
     "start_time": "2023-09-03T01:24:04.523820400Z"
    }
   },
   "id": "4bf20ac5bf42e0b7"
  },
  {
   "cell_type": "code",
   "execution_count": 26,
   "outputs": [
    {
     "data": {
      "text/plain": "0    False\n1     True\n2    False\nName: a, dtype: bool"
     },
     "execution_count": 26,
     "metadata": {},
     "output_type": "execute_result"
    }
   ],
   "source": [
    "df['a']==20"
   ],
   "metadata": {
    "collapsed": false,
    "ExecuteTime": {
     "end_time": "2023-09-03T01:19:56.260724100Z",
     "start_time": "2023-09-03T01:19:56.253640200Z"
    }
   },
   "id": "90c447f59cd75a43"
  },
  {
   "cell_type": "code",
   "execution_count": 30,
   "outputs": [],
   "source": [
    "import numpy as np\n",
    "def avg_test2(x,y):\n",
    "    if x==20:\n",
    "        return np.NaN\n",
    "    else:\n",
    "        return (x+y)/2\n",
    "avg_vec = np.vectorize(avg_test2)"
   ],
   "metadata": {
    "collapsed": false,
    "ExecuteTime": {
     "end_time": "2023-09-03T01:24:10.491918700Z",
     "start_time": "2023-09-03T01:24:10.483911200Z"
    }
   },
   "id": "a14e92b42a7d3b4"
  },
  {
   "cell_type": "code",
   "execution_count": 31,
   "outputs": [
    {
     "data": {
      "text/plain": "array([15., nan, 35.])"
     },
     "execution_count": 31,
     "metadata": {},
     "output_type": "execute_result"
    }
   ],
   "source": [
    "avg_vec(df['a'],df['b'])"
   ],
   "metadata": {
    "collapsed": false,
    "ExecuteTime": {
     "end_time": "2023-09-03T01:24:19.342009800Z",
     "start_time": "2023-09-03T01:24:19.324200300Z"
    }
   },
   "id": "d1b019f2bcd4c79b"
  },
  {
   "cell_type": "code",
   "execution_count": 32,
   "outputs": [
    {
     "data": {
      "text/plain": "array([15., nan, 35.])"
     },
     "execution_count": 32,
     "metadata": {},
     "output_type": "execute_result"
    }
   ],
   "source": [
    "@np.vectorize\n",
    "def avg_test3(x,y):\n",
    "    if x==20:\n",
    "        return np.NaN\n",
    "    else:\n",
    "        return (x+y)/2\n",
    "avg_test3(df['a'],df['b'])"
   ],
   "metadata": {
    "collapsed": false,
    "ExecuteTime": {
     "end_time": "2023-09-03T01:27:22.191687800Z",
     "start_time": "2023-09-03T01:27:22.169359500Z"
    }
   },
   "id": "66263d5df36c96b8"
  },
  {
   "cell_type": "code",
   "execution_count": 34,
   "outputs": [
    {
     "data": {
      "text/plain": "    a   b\n0  11  21\n1  21  31\n2  31  41",
      "text/html": "<div>\n<style scoped>\n    .dataframe tbody tr th:only-of-type {\n        vertical-align: middle;\n    }\n\n    .dataframe tbody tr th {\n        vertical-align: top;\n    }\n\n    .dataframe thead th {\n        text-align: right;\n    }\n</style>\n<table border=\"1\" class=\"dataframe\">\n  <thead>\n    <tr style=\"text-align: right;\">\n      <th></th>\n      <th>a</th>\n      <th>b</th>\n    </tr>\n  </thead>\n  <tbody>\n    <tr>\n      <th>0</th>\n      <td>11</td>\n      <td>21</td>\n    </tr>\n    <tr>\n      <th>1</th>\n      <td>21</td>\n      <td>31</td>\n    </tr>\n    <tr>\n      <th>2</th>\n      <td>31</td>\n      <td>41</td>\n    </tr>\n  </tbody>\n</table>\n</div>"
     },
     "execution_count": 34,
     "metadata": {},
     "output_type": "execute_result"
    }
   ],
   "source": [
    "df.apply(lambda x:x+1)"
   ],
   "metadata": {
    "collapsed": false,
    "ExecuteTime": {
     "end_time": "2023-09-03T01:29:04.948712Z",
     "start_time": "2023-09-03T01:29:04.941194700Z"
    }
   },
   "id": "675e409a481f6030"
  },
  {
   "cell_type": "code",
   "execution_count": 35,
   "outputs": [
    {
     "data": {
      "text/plain": "a    0\nb    0\ndtype: int64"
     },
     "execution_count": 35,
     "metadata": {},
     "output_type": "execute_result"
    }
   ],
   "source": [
    "df.apply(lambda x:x.isnull().sum())"
   ],
   "metadata": {
    "collapsed": false,
    "ExecuteTime": {
     "end_time": "2023-09-03T01:29:22.024032Z",
     "start_time": "2023-09-03T01:29:22.014430400Z"
    }
   },
   "id": "26497c19aefe963e"
  }
 ],
 "metadata": {
  "kernelspec": {
   "display_name": "Python 3",
   "language": "python",
   "name": "python3"
  },
  "language_info": {
   "codemirror_mode": {
    "name": "ipython",
    "version": 2
   },
   "file_extension": ".py",
   "mimetype": "text/x-python",
   "name": "python",
   "nbconvert_exporter": "python",
   "pygments_lexer": "ipython2",
   "version": "2.7.6"
  }
 },
 "nbformat": 4,
 "nbformat_minor": 5
}
