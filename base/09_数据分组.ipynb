{
 "cells": [
  {
   "cell_type": "markdown",
   "source": [
    "## 1 分组聚合"
   ],
   "metadata": {
    "collapsed": false
   },
   "id": "8c674268b86c8ce9"
  },
  {
   "cell_type": "code",
   "execution_count": 1,
   "outputs": [
    {
     "data": {
      "text/plain": "          country continent  year  lifeExp       pop   gdpPercap\n0     Afghanistan      Asia  1952   28.801   8425333  779.445314\n1     Afghanistan      Asia  1957   30.332   9240934  820.853030\n2     Afghanistan      Asia  1962   31.997  10267083  853.100710\n3     Afghanistan      Asia  1967   34.020  11537966  836.197138\n4     Afghanistan      Asia  1972   36.088  13079460  739.981106\n...           ...       ...   ...      ...       ...         ...\n1699     Zimbabwe    Africa  1987   62.351   9216418  706.157306\n1700     Zimbabwe    Africa  1992   60.377  10704340  693.420786\n1701     Zimbabwe    Africa  1997   46.809  11404948  792.449960\n1702     Zimbabwe    Africa  2002   39.989  11926563  672.038623\n1703     Zimbabwe    Africa  2007   43.487  12311143  469.709298\n\n[1704 rows x 6 columns]",
      "text/html": "<div>\n<style scoped>\n    .dataframe tbody tr th:only-of-type {\n        vertical-align: middle;\n    }\n\n    .dataframe tbody tr th {\n        vertical-align: top;\n    }\n\n    .dataframe thead th {\n        text-align: right;\n    }\n</style>\n<table border=\"1\" class=\"dataframe\">\n  <thead>\n    <tr style=\"text-align: right;\">\n      <th></th>\n      <th>country</th>\n      <th>continent</th>\n      <th>year</th>\n      <th>lifeExp</th>\n      <th>pop</th>\n      <th>gdpPercap</th>\n    </tr>\n  </thead>\n  <tbody>\n    <tr>\n      <th>0</th>\n      <td>Afghanistan</td>\n      <td>Asia</td>\n      <td>1952</td>\n      <td>28.801</td>\n      <td>8425333</td>\n      <td>779.445314</td>\n    </tr>\n    <tr>\n      <th>1</th>\n      <td>Afghanistan</td>\n      <td>Asia</td>\n      <td>1957</td>\n      <td>30.332</td>\n      <td>9240934</td>\n      <td>820.853030</td>\n    </tr>\n    <tr>\n      <th>2</th>\n      <td>Afghanistan</td>\n      <td>Asia</td>\n      <td>1962</td>\n      <td>31.997</td>\n      <td>10267083</td>\n      <td>853.100710</td>\n    </tr>\n    <tr>\n      <th>3</th>\n      <td>Afghanistan</td>\n      <td>Asia</td>\n      <td>1967</td>\n      <td>34.020</td>\n      <td>11537966</td>\n      <td>836.197138</td>\n    </tr>\n    <tr>\n      <th>4</th>\n      <td>Afghanistan</td>\n      <td>Asia</td>\n      <td>1972</td>\n      <td>36.088</td>\n      <td>13079460</td>\n      <td>739.981106</td>\n    </tr>\n    <tr>\n      <th>...</th>\n      <td>...</td>\n      <td>...</td>\n      <td>...</td>\n      <td>...</td>\n      <td>...</td>\n      <td>...</td>\n    </tr>\n    <tr>\n      <th>1699</th>\n      <td>Zimbabwe</td>\n      <td>Africa</td>\n      <td>1987</td>\n      <td>62.351</td>\n      <td>9216418</td>\n      <td>706.157306</td>\n    </tr>\n    <tr>\n      <th>1700</th>\n      <td>Zimbabwe</td>\n      <td>Africa</td>\n      <td>1992</td>\n      <td>60.377</td>\n      <td>10704340</td>\n      <td>693.420786</td>\n    </tr>\n    <tr>\n      <th>1701</th>\n      <td>Zimbabwe</td>\n      <td>Africa</td>\n      <td>1997</td>\n      <td>46.809</td>\n      <td>11404948</td>\n      <td>792.449960</td>\n    </tr>\n    <tr>\n      <th>1702</th>\n      <td>Zimbabwe</td>\n      <td>Africa</td>\n      <td>2002</td>\n      <td>39.989</td>\n      <td>11926563</td>\n      <td>672.038623</td>\n    </tr>\n    <tr>\n      <th>1703</th>\n      <td>Zimbabwe</td>\n      <td>Africa</td>\n      <td>2007</td>\n      <td>43.487</td>\n      <td>12311143</td>\n      <td>469.709298</td>\n    </tr>\n  </tbody>\n</table>\n<p>1704 rows × 6 columns</p>\n</div>"
     },
     "execution_count": 1,
     "metadata": {},
     "output_type": "execute_result"
    }
   ],
   "source": [
    "import pandas as pd\n",
    "df = pd.read_csv('data/gapminder.tsv',sep='\\t')\n",
    "df"
   ],
   "metadata": {
    "collapsed": false,
    "ExecuteTime": {
     "end_time": "2023-09-03T01:57:36.710715800Z",
     "start_time": "2023-09-03T01:57:36.014104800Z"
    }
   },
   "id": "57474c83807b1570"
  },
  {
   "cell_type": "code",
   "execution_count": 2,
   "outputs": [
    {
     "data": {
      "text/plain": "year\n1952    49.057620\n1957    51.507401\n1962    53.609249\n1967    55.678290\n1972    57.647386\n1977    59.570157\n1982    61.533197\n1987    63.212613\n1992    64.160338\n1997    65.014676\n2002    65.694923\n2007    67.007423\nName: lifeExp, dtype: float64"
     },
     "execution_count": 2,
     "metadata": {},
     "output_type": "execute_result"
    }
   ],
   "source": [
    "df.groupby('year')['lifeExp'].mean()"
   ],
   "metadata": {
    "collapsed": false,
    "ExecuteTime": {
     "end_time": "2023-09-03T01:57:58.890292700Z",
     "start_time": "2023-09-03T01:57:58.875295700Z"
    }
   },
   "id": "b29acecd3b1c1267"
  },
  {
   "cell_type": "code",
   "execution_count": 3,
   "outputs": [
    {
     "data": {
      "text/plain": "array([1952, 1957, 1962, 1967, 1972, 1977, 1982, 1987, 1992, 1997, 2002,\n       2007], dtype=int64)"
     },
     "execution_count": 3,
     "metadata": {},
     "output_type": "execute_result"
    }
   ],
   "source": [
    "df['year'].unique()"
   ],
   "metadata": {
    "collapsed": false,
    "ExecuteTime": {
     "end_time": "2023-09-03T01:58:16.944441300Z",
     "start_time": "2023-09-03T01:58:16.939778500Z"
    }
   },
   "id": "98e8b2d1709d9995"
  },
  {
   "cell_type": "code",
   "execution_count": 7,
   "outputs": [
    {
     "data": {
      "text/plain": "49.057619718309866"
     },
     "execution_count": 7,
     "metadata": {},
     "output_type": "execute_result"
    }
   ],
   "source": [
    "df[df['year']==1952]['lifeExp'].mean()"
   ],
   "metadata": {
    "collapsed": false,
    "ExecuteTime": {
     "end_time": "2023-09-03T01:59:06.331788Z",
     "start_time": "2023-09-03T01:59:06.325569Z"
    }
   },
   "id": "87099ca2d22e1265"
  },
  {
   "cell_type": "code",
   "execution_count": 8,
   "outputs": [
    {
     "data": {
      "text/plain": "           count       mean        std     min       25%      50%       75%  \\\ncontinent                                                                     \nAfrica     624.0  48.865330   9.150210  23.599  42.37250  47.7920  54.41150   \nAmericas   300.0  64.658737   9.345088  37.579  58.41000  67.0480  71.69950   \nAsia       396.0  60.064903  11.864532  28.801  51.42625  61.7915  69.50525   \nEurope     360.0  71.903686   5.433178  43.585  69.57000  72.2410  75.45050   \nOceania     24.0  74.326208   3.795611  69.120  71.20500  73.6650  77.55250   \n\n              max  \ncontinent          \nAfrica     76.442  \nAmericas   80.653  \nAsia       82.603  \nEurope     81.757  \nOceania    81.235  ",
      "text/html": "<div>\n<style scoped>\n    .dataframe tbody tr th:only-of-type {\n        vertical-align: middle;\n    }\n\n    .dataframe tbody tr th {\n        vertical-align: top;\n    }\n\n    .dataframe thead th {\n        text-align: right;\n    }\n</style>\n<table border=\"1\" class=\"dataframe\">\n  <thead>\n    <tr style=\"text-align: right;\">\n      <th></th>\n      <th>count</th>\n      <th>mean</th>\n      <th>std</th>\n      <th>min</th>\n      <th>25%</th>\n      <th>50%</th>\n      <th>75%</th>\n      <th>max</th>\n    </tr>\n    <tr>\n      <th>continent</th>\n      <th></th>\n      <th></th>\n      <th></th>\n      <th></th>\n      <th></th>\n      <th></th>\n      <th></th>\n      <th></th>\n    </tr>\n  </thead>\n  <tbody>\n    <tr>\n      <th>Africa</th>\n      <td>624.0</td>\n      <td>48.865330</td>\n      <td>9.150210</td>\n      <td>23.599</td>\n      <td>42.37250</td>\n      <td>47.7920</td>\n      <td>54.41150</td>\n      <td>76.442</td>\n    </tr>\n    <tr>\n      <th>Americas</th>\n      <td>300.0</td>\n      <td>64.658737</td>\n      <td>9.345088</td>\n      <td>37.579</td>\n      <td>58.41000</td>\n      <td>67.0480</td>\n      <td>71.69950</td>\n      <td>80.653</td>\n    </tr>\n    <tr>\n      <th>Asia</th>\n      <td>396.0</td>\n      <td>60.064903</td>\n      <td>11.864532</td>\n      <td>28.801</td>\n      <td>51.42625</td>\n      <td>61.7915</td>\n      <td>69.50525</td>\n      <td>82.603</td>\n    </tr>\n    <tr>\n      <th>Europe</th>\n      <td>360.0</td>\n      <td>71.903686</td>\n      <td>5.433178</td>\n      <td>43.585</td>\n      <td>69.57000</td>\n      <td>72.2410</td>\n      <td>75.45050</td>\n      <td>81.757</td>\n    </tr>\n    <tr>\n      <th>Oceania</th>\n      <td>24.0</td>\n      <td>74.326208</td>\n      <td>3.795611</td>\n      <td>69.120</td>\n      <td>71.20500</td>\n      <td>73.6650</td>\n      <td>77.55250</td>\n      <td>81.235</td>\n    </tr>\n  </tbody>\n</table>\n</div>"
     },
     "execution_count": 8,
     "metadata": {},
     "output_type": "execute_result"
    }
   ],
   "source": [
    "df.groupby('continent')['lifeExp'].describe()"
   ],
   "metadata": {
    "collapsed": false,
    "ExecuteTime": {
     "end_time": "2023-09-03T02:00:01.848270400Z",
     "start_time": "2023-09-03T02:00:01.816337400Z"
    }
   },
   "id": "49a2ffee18124195"
  },
  {
   "cell_type": "code",
   "execution_count": 10,
   "outputs": [
    {
     "data": {
      "text/plain": "continent\nAfrica      48.865330\nAmericas    64.658737\nAsia        60.064903\nEurope      71.903686\nOceania     74.326208\nName: lifeExp, dtype: float64"
     },
     "execution_count": 10,
     "metadata": {},
     "output_type": "execute_result"
    }
   ],
   "source": [
    "import numpy as np\n",
    "df.groupby('continent')['lifeExp'].aggregate(np.mean)"
   ],
   "metadata": {
    "collapsed": false,
    "ExecuteTime": {
     "end_time": "2023-09-03T02:02:04.755097700Z",
     "start_time": "2023-09-03T02:02:04.747673400Z"
    }
   },
   "id": "84f93e5af0ee82e0"
  },
  {
   "cell_type": "markdown",
   "source": [
    "- 计算平均寿命和数据集整体的平均寿命的差值"
   ],
   "metadata": {
    "collapsed": false
   },
   "id": "632a8c154de2b1ad"
  },
  {
   "cell_type": "code",
   "execution_count": 12,
   "outputs": [],
   "source": [
    "def my_mean_diff(s,global_mean):\n",
    "    return s.mean() - global_mean"
   ],
   "metadata": {
    "collapsed": false,
    "ExecuteTime": {
     "end_time": "2023-09-03T02:04:00.493470100Z",
     "start_time": "2023-09-03T02:04:00.486463100Z"
    }
   },
   "id": "3be0b73aede6a139"
  },
  {
   "cell_type": "code",
   "execution_count": 14,
   "outputs": [
    {
     "data": {
      "text/plain": "continent\nAfrica     -10.609109\nAmericas     5.184297\nAsia         0.590464\nEurope      12.429247\nOceania     14.851769\nName: lifeExp, dtype: float64"
     },
     "execution_count": 14,
     "metadata": {},
     "output_type": "execute_result"
    }
   ],
   "source": [
    "global_mean = df['lifeExp'].mean()\n",
    "df.groupby('continent')['lifeExp'].agg(my_mean_diff,global_mean = global_mean)"
   ],
   "metadata": {
    "collapsed": false,
    "ExecuteTime": {
     "end_time": "2023-09-03T02:05:05.047685Z",
     "start_time": "2023-09-03T02:05:05.040089400Z"
    }
   },
   "id": "b338c50de0391a0e"
  },
  {
   "cell_type": "code",
   "execution_count": 15,
   "outputs": [
    {
     "data": {
      "text/plain": "        lifeExp         pop     gdpPercap\nyear                                     \n1952  49.057620   3943953.0  108382.35290\n1957  51.507401   4282942.0  113523.13290\n1962  53.609249   4686039.5   95458.11176\n1967  55.678290   5170175.5   80894.88326\n1972  57.647386   5877996.5  109347.86700\n1977  59.570157   6404036.5   59265.47714\n1982  61.533197   7007320.0   33693.17525\n1987  63.212613   7774861.5   31540.97480\n1992  64.160338   8688686.5   34932.91959\n1997  65.014676   9735063.5   41283.16433\n2002  65.694923  10372918.5   44683.97525\n2007  67.007423  10517531.0   49357.19017",
      "text/html": "<div>\n<style scoped>\n    .dataframe tbody tr th:only-of-type {\n        vertical-align: middle;\n    }\n\n    .dataframe tbody tr th {\n        vertical-align: top;\n    }\n\n    .dataframe thead th {\n        text-align: right;\n    }\n</style>\n<table border=\"1\" class=\"dataframe\">\n  <thead>\n    <tr style=\"text-align: right;\">\n      <th></th>\n      <th>lifeExp</th>\n      <th>pop</th>\n      <th>gdpPercap</th>\n    </tr>\n    <tr>\n      <th>year</th>\n      <th></th>\n      <th></th>\n      <th></th>\n    </tr>\n  </thead>\n  <tbody>\n    <tr>\n      <th>1952</th>\n      <td>49.057620</td>\n      <td>3943953.0</td>\n      <td>108382.35290</td>\n    </tr>\n    <tr>\n      <th>1957</th>\n      <td>51.507401</td>\n      <td>4282942.0</td>\n      <td>113523.13290</td>\n    </tr>\n    <tr>\n      <th>1962</th>\n      <td>53.609249</td>\n      <td>4686039.5</td>\n      <td>95458.11176</td>\n    </tr>\n    <tr>\n      <th>1967</th>\n      <td>55.678290</td>\n      <td>5170175.5</td>\n      <td>80894.88326</td>\n    </tr>\n    <tr>\n      <th>1972</th>\n      <td>57.647386</td>\n      <td>5877996.5</td>\n      <td>109347.86700</td>\n    </tr>\n    <tr>\n      <th>1977</th>\n      <td>59.570157</td>\n      <td>6404036.5</td>\n      <td>59265.47714</td>\n    </tr>\n    <tr>\n      <th>1982</th>\n      <td>61.533197</td>\n      <td>7007320.0</td>\n      <td>33693.17525</td>\n    </tr>\n    <tr>\n      <th>1987</th>\n      <td>63.212613</td>\n      <td>7774861.5</td>\n      <td>31540.97480</td>\n    </tr>\n    <tr>\n      <th>1992</th>\n      <td>64.160338</td>\n      <td>8688686.5</td>\n      <td>34932.91959</td>\n    </tr>\n    <tr>\n      <th>1997</th>\n      <td>65.014676</td>\n      <td>9735063.5</td>\n      <td>41283.16433</td>\n    </tr>\n    <tr>\n      <th>2002</th>\n      <td>65.694923</td>\n      <td>10372918.5</td>\n      <td>44683.97525</td>\n    </tr>\n    <tr>\n      <th>2007</th>\n      <td>67.007423</td>\n      <td>10517531.0</td>\n      <td>49357.19017</td>\n    </tr>\n  </tbody>\n</table>\n</div>"
     },
     "execution_count": 15,
     "metadata": {},
     "output_type": "execute_result"
    }
   ],
   "source": [
    "df.groupby('year').agg({'lifeExp':'mean','pop':'median','gdpPercap':'max'})"
   ],
   "metadata": {
    "collapsed": false,
    "ExecuteTime": {
     "end_time": "2023-09-03T02:06:50.014447Z",
     "start_time": "2023-09-03T02:06:49.998960300Z"
    }
   },
   "id": "f7df24256c485a38"
  },
  {
   "cell_type": "markdown",
   "source": [
    "## 2 分组转换 "
   ],
   "metadata": {
    "collapsed": false
   },
   "id": "c7e6b871caf1ee45"
  },
  {
   "cell_type": "code",
   "execution_count": 16,
   "outputs": [],
   "source": [
    "def my_zscore(x):\n",
    "    # 每一组的值 - 当前组的平均值 / 当前组的标准差\n",
    "    return (x-x.mean())/x.std()"
   ],
   "metadata": {
    "collapsed": false,
    "ExecuteTime": {
     "end_time": "2023-09-03T02:13:54.090011800Z",
     "start_time": "2023-09-03T02:13:54.083470300Z"
    }
   },
   "id": "69a481f134b9353a"
  },
  {
   "cell_type": "code",
   "execution_count": 17,
   "outputs": [
    {
     "data": {
      "text/plain": "(1704, 6)"
     },
     "execution_count": 17,
     "metadata": {},
     "output_type": "execute_result"
    }
   ],
   "source": [
    "df.shape"
   ],
   "metadata": {
    "collapsed": false,
    "ExecuteTime": {
     "end_time": "2023-09-03T02:14:03.467874700Z",
     "start_time": "2023-09-03T02:14:03.460255400Z"
    }
   },
   "id": "b3a2de25978f3239"
  },
  {
   "cell_type": "code",
   "execution_count": 18,
   "outputs": [
    {
     "data": {
      "text/plain": "0      -1.656854\n1      -1.731249\n2      -1.786543\n3      -1.848157\n4      -1.894173\n          ...   \n1699   -0.081621\n1700   -0.336974\n1701   -1.574962\n1702   -2.093346\n1703   -1.948180\nName: lifeExp, Length: 1704, dtype: float64"
     },
     "execution_count": 18,
     "metadata": {},
     "output_type": "execute_result"
    }
   ],
   "source": [
    "df.groupby('year')['lifeExp'].transform(my_zscore)"
   ],
   "metadata": {
    "collapsed": false,
    "ExecuteTime": {
     "end_time": "2023-09-03T02:14:30.641027Z",
     "start_time": "2023-09-03T02:14:30.626217500Z"
    }
   },
   "id": "209e989a116998f7"
  },
  {
   "cell_type": "code",
   "execution_count": 19,
   "outputs": [
    {
     "data": {
      "text/plain": "     total_bill   tip     sex smoker   day    time  size\n0         16.99  1.01  Female     No   Sun  Dinner     2\n1         10.34  1.66    Male     No   Sun  Dinner     3\n2         21.01  3.50    Male     No   Sun  Dinner     3\n3         23.68  3.31    Male     No   Sun  Dinner     2\n4         24.59  3.61  Female     No   Sun  Dinner     4\n..          ...   ...     ...    ...   ...     ...   ...\n239       29.03  5.92    Male     No   Sat  Dinner     3\n240       27.18  2.00  Female    Yes   Sat  Dinner     2\n241       22.67  2.00    Male    Yes   Sat  Dinner     2\n242       17.82  1.75    Male     No   Sat  Dinner     2\n243       18.78  3.00  Female     No  Thur  Dinner     2\n\n[244 rows x 7 columns]",
      "text/html": "<div>\n<style scoped>\n    .dataframe tbody tr th:only-of-type {\n        vertical-align: middle;\n    }\n\n    .dataframe tbody tr th {\n        vertical-align: top;\n    }\n\n    .dataframe thead th {\n        text-align: right;\n    }\n</style>\n<table border=\"1\" class=\"dataframe\">\n  <thead>\n    <tr style=\"text-align: right;\">\n      <th></th>\n      <th>total_bill</th>\n      <th>tip</th>\n      <th>sex</th>\n      <th>smoker</th>\n      <th>day</th>\n      <th>time</th>\n      <th>size</th>\n    </tr>\n  </thead>\n  <tbody>\n    <tr>\n      <th>0</th>\n      <td>16.99</td>\n      <td>1.01</td>\n      <td>Female</td>\n      <td>No</td>\n      <td>Sun</td>\n      <td>Dinner</td>\n      <td>2</td>\n    </tr>\n    <tr>\n      <th>1</th>\n      <td>10.34</td>\n      <td>1.66</td>\n      <td>Male</td>\n      <td>No</td>\n      <td>Sun</td>\n      <td>Dinner</td>\n      <td>3</td>\n    </tr>\n    <tr>\n      <th>2</th>\n      <td>21.01</td>\n      <td>3.50</td>\n      <td>Male</td>\n      <td>No</td>\n      <td>Sun</td>\n      <td>Dinner</td>\n      <td>3</td>\n    </tr>\n    <tr>\n      <th>3</th>\n      <td>23.68</td>\n      <td>3.31</td>\n      <td>Male</td>\n      <td>No</td>\n      <td>Sun</td>\n      <td>Dinner</td>\n      <td>2</td>\n    </tr>\n    <tr>\n      <th>4</th>\n      <td>24.59</td>\n      <td>3.61</td>\n      <td>Female</td>\n      <td>No</td>\n      <td>Sun</td>\n      <td>Dinner</td>\n      <td>4</td>\n    </tr>\n    <tr>\n      <th>...</th>\n      <td>...</td>\n      <td>...</td>\n      <td>...</td>\n      <td>...</td>\n      <td>...</td>\n      <td>...</td>\n      <td>...</td>\n    </tr>\n    <tr>\n      <th>239</th>\n      <td>29.03</td>\n      <td>5.92</td>\n      <td>Male</td>\n      <td>No</td>\n      <td>Sat</td>\n      <td>Dinner</td>\n      <td>3</td>\n    </tr>\n    <tr>\n      <th>240</th>\n      <td>27.18</td>\n      <td>2.00</td>\n      <td>Female</td>\n      <td>Yes</td>\n      <td>Sat</td>\n      <td>Dinner</td>\n      <td>2</td>\n    </tr>\n    <tr>\n      <th>241</th>\n      <td>22.67</td>\n      <td>2.00</td>\n      <td>Male</td>\n      <td>Yes</td>\n      <td>Sat</td>\n      <td>Dinner</td>\n      <td>2</td>\n    </tr>\n    <tr>\n      <th>242</th>\n      <td>17.82</td>\n      <td>1.75</td>\n      <td>Male</td>\n      <td>No</td>\n      <td>Sat</td>\n      <td>Dinner</td>\n      <td>2</td>\n    </tr>\n    <tr>\n      <th>243</th>\n      <td>18.78</td>\n      <td>3.00</td>\n      <td>Female</td>\n      <td>No</td>\n      <td>Thur</td>\n      <td>Dinner</td>\n      <td>2</td>\n    </tr>\n  </tbody>\n</table>\n<p>244 rows × 7 columns</p>\n</div>"
     },
     "execution_count": 19,
     "metadata": {},
     "output_type": "execute_result"
    }
   ],
   "source": [
    "tips = pd.read_csv('data/tips.csv')\n",
    "tips"
   ],
   "metadata": {
    "collapsed": false,
    "ExecuteTime": {
     "end_time": "2023-09-03T02:15:14.286067400Z",
     "start_time": "2023-09-03T02:15:14.269748900Z"
    }
   },
   "id": "f62f4303e05b2fd"
  },
  {
   "cell_type": "code",
   "execution_count": 20,
   "outputs": [
    {
     "name": "stdout",
     "output_type": "stream",
     "text": [
      "<class 'pandas.core.frame.DataFrame'>\n",
      "RangeIndex: 244 entries, 0 to 243\n",
      "Data columns (total 7 columns):\n",
      " #   Column      Non-Null Count  Dtype  \n",
      "---  ------      --------------  -----  \n",
      " 0   total_bill  244 non-null    float64\n",
      " 1   tip         244 non-null    float64\n",
      " 2   sex         244 non-null    object \n",
      " 3   smoker      244 non-null    object \n",
      " 4   day         244 non-null    object \n",
      " 5   time        244 non-null    object \n",
      " 6   size        244 non-null    int64  \n",
      "dtypes: float64(2), int64(1), object(4)\n",
      "memory usage: 13.5+ KB\n"
     ]
    }
   ],
   "source": [
    "tips.info()"
   ],
   "metadata": {
    "collapsed": false,
    "ExecuteTime": {
     "end_time": "2023-09-03T02:15:41.974159800Z",
     "start_time": "2023-09-03T02:15:41.951286100Z"
    }
   },
   "id": "2e74e40cbbca1c12"
  },
  {
   "cell_type": "code",
   "execution_count": 21,
   "outputs": [
    {
     "data": {
      "text/plain": "       total_bill         tip        size\ncount  244.000000  244.000000  244.000000\nmean    19.785943    2.998279    2.569672\nstd      8.902412    1.383638    0.951100\nmin      3.070000    1.000000    1.000000\n25%     13.347500    2.000000    2.000000\n50%     17.795000    2.900000    2.000000\n75%     24.127500    3.562500    3.000000\nmax     50.810000   10.000000    6.000000",
      "text/html": "<div>\n<style scoped>\n    .dataframe tbody tr th:only-of-type {\n        vertical-align: middle;\n    }\n\n    .dataframe tbody tr th {\n        vertical-align: top;\n    }\n\n    .dataframe thead th {\n        text-align: right;\n    }\n</style>\n<table border=\"1\" class=\"dataframe\">\n  <thead>\n    <tr style=\"text-align: right;\">\n      <th></th>\n      <th>total_bill</th>\n      <th>tip</th>\n      <th>size</th>\n    </tr>\n  </thead>\n  <tbody>\n    <tr>\n      <th>count</th>\n      <td>244.000000</td>\n      <td>244.000000</td>\n      <td>244.000000</td>\n    </tr>\n    <tr>\n      <th>mean</th>\n      <td>19.785943</td>\n      <td>2.998279</td>\n      <td>2.569672</td>\n    </tr>\n    <tr>\n      <th>std</th>\n      <td>8.902412</td>\n      <td>1.383638</td>\n      <td>0.951100</td>\n    </tr>\n    <tr>\n      <th>min</th>\n      <td>3.070000</td>\n      <td>1.000000</td>\n      <td>1.000000</td>\n    </tr>\n    <tr>\n      <th>25%</th>\n      <td>13.347500</td>\n      <td>2.000000</td>\n      <td>2.000000</td>\n    </tr>\n    <tr>\n      <th>50%</th>\n      <td>17.795000</td>\n      <td>2.900000</td>\n      <td>2.000000</td>\n    </tr>\n    <tr>\n      <th>75%</th>\n      <td>24.127500</td>\n      <td>3.562500</td>\n      <td>3.000000</td>\n    </tr>\n    <tr>\n      <th>max</th>\n      <td>50.810000</td>\n      <td>10.000000</td>\n      <td>6.000000</td>\n    </tr>\n  </tbody>\n</table>\n</div>"
     },
     "execution_count": 21,
     "metadata": {},
     "output_type": "execute_result"
    }
   ],
   "source": [
    "tips.describe()"
   ],
   "metadata": {
    "collapsed": false,
    "ExecuteTime": {
     "end_time": "2023-09-03T02:15:59.362814700Z",
     "start_time": "2023-09-03T02:15:59.346327300Z"
    }
   },
   "id": "66a402b2437ea252"
  },
  {
   "cell_type": "code",
   "execution_count": 22,
   "outputs": [
    {
     "data": {
      "text/plain": "Dinner    176\nLunch      68\nName: time, dtype: int64"
     },
     "execution_count": 22,
     "metadata": {},
     "output_type": "execute_result"
    }
   ],
   "source": [
    "tips['time'].value_counts()"
   ],
   "metadata": {
    "collapsed": false,
    "ExecuteTime": {
     "end_time": "2023-09-03T02:16:46.257146800Z",
     "start_time": "2023-09-03T02:16:46.252226700Z"
    }
   },
   "id": "b90383dbfa20dbeb"
  },
  {
   "cell_type": "code",
   "execution_count": 23,
   "outputs": [
    {
     "data": {
      "text/plain": "Sat     87\nSun     76\nThur    62\nFri     19\nName: day, dtype: int64"
     },
     "execution_count": 23,
     "metadata": {},
     "output_type": "execute_result"
    }
   ],
   "source": [
    "tips['day'].value_counts()"
   ],
   "metadata": {
    "collapsed": false,
    "ExecuteTime": {
     "end_time": "2023-09-03T02:17:07.543706600Z",
     "start_time": "2023-09-03T02:17:07.535845700Z"
    }
   },
   "id": "b5efb7d5b5cb19a3"
  },
  {
   "cell_type": "code",
   "execution_count": 49,
   "outputs": [],
   "source": [
    "#random_state 具体的取值没有啥意义, 但是把这个值固定下来, 多次运行采样的代码, 采样出来的数据是一样的\n",
    "tips_10 = tips.sample(10,random_state=42)\n",
    "import numpy as np\n",
    "tips_10.loc[np.random.permutation(tips_10.index)[:4],'tip'] = np.NAN "
   ],
   "metadata": {
    "collapsed": false,
    "ExecuteTime": {
     "end_time": "2023-09-03T02:27:28.746692700Z",
     "start_time": "2023-09-03T02:27:28.740234300Z"
    }
   },
   "id": "d0445f88e8a1893b"
  },
  {
   "cell_type": "code",
   "execution_count": 51,
   "outputs": [],
   "source": [
    "def fillna_mean(x):\n",
    "    # 计算每组的 小费平均值 利用均值填充缺失值\n",
    "    return x.fillna(x.mean())"
   ],
   "metadata": {
    "collapsed": false,
    "ExecuteTime": {
     "end_time": "2023-09-03T02:29:43.714407800Z",
     "start_time": "2023-09-03T02:29:43.707892900Z"
    }
   },
   "id": "23d99f5ed4b3ff7c"
  },
  {
   "cell_type": "code",
   "execution_count": 53,
   "outputs": [
    {
     "data": {
      "text/plain": "     total_bill   tip     sex smoker   day    time  size\n24        19.82  3.18    Male     No   Sat  Dinner     2\n6          8.77   NaN    Male     No   Sun  Dinner     2\n153       24.55  2.00    Male     No   Sun  Dinner     4\n211       25.89  5.16    Male    Yes   Sat  Dinner     4\n198       13.00   NaN  Female    Yes  Thur   Lunch     2\n176       17.89  2.00    Male    Yes   Sun  Dinner     2\n192       28.44   NaN    Male    Yes  Thur   Lunch     2\n124       12.48  2.52  Female     No  Thur   Lunch     2\n9         14.78   NaN    Male     No   Sun  Dinner     2\n101       15.38  3.00  Female    Yes   Fri  Dinner     2",
      "text/html": "<div>\n<style scoped>\n    .dataframe tbody tr th:only-of-type {\n        vertical-align: middle;\n    }\n\n    .dataframe tbody tr th {\n        vertical-align: top;\n    }\n\n    .dataframe thead th {\n        text-align: right;\n    }\n</style>\n<table border=\"1\" class=\"dataframe\">\n  <thead>\n    <tr style=\"text-align: right;\">\n      <th></th>\n      <th>total_bill</th>\n      <th>tip</th>\n      <th>sex</th>\n      <th>smoker</th>\n      <th>day</th>\n      <th>time</th>\n      <th>size</th>\n    </tr>\n  </thead>\n  <tbody>\n    <tr>\n      <th>24</th>\n      <td>19.82</td>\n      <td>3.18</td>\n      <td>Male</td>\n      <td>No</td>\n      <td>Sat</td>\n      <td>Dinner</td>\n      <td>2</td>\n    </tr>\n    <tr>\n      <th>6</th>\n      <td>8.77</td>\n      <td>NaN</td>\n      <td>Male</td>\n      <td>No</td>\n      <td>Sun</td>\n      <td>Dinner</td>\n      <td>2</td>\n    </tr>\n    <tr>\n      <th>153</th>\n      <td>24.55</td>\n      <td>2.00</td>\n      <td>Male</td>\n      <td>No</td>\n      <td>Sun</td>\n      <td>Dinner</td>\n      <td>4</td>\n    </tr>\n    <tr>\n      <th>211</th>\n      <td>25.89</td>\n      <td>5.16</td>\n      <td>Male</td>\n      <td>Yes</td>\n      <td>Sat</td>\n      <td>Dinner</td>\n      <td>4</td>\n    </tr>\n    <tr>\n      <th>198</th>\n      <td>13.00</td>\n      <td>NaN</td>\n      <td>Female</td>\n      <td>Yes</td>\n      <td>Thur</td>\n      <td>Lunch</td>\n      <td>2</td>\n    </tr>\n    <tr>\n      <th>176</th>\n      <td>17.89</td>\n      <td>2.00</td>\n      <td>Male</td>\n      <td>Yes</td>\n      <td>Sun</td>\n      <td>Dinner</td>\n      <td>2</td>\n    </tr>\n    <tr>\n      <th>192</th>\n      <td>28.44</td>\n      <td>NaN</td>\n      <td>Male</td>\n      <td>Yes</td>\n      <td>Thur</td>\n      <td>Lunch</td>\n      <td>2</td>\n    </tr>\n    <tr>\n      <th>124</th>\n      <td>12.48</td>\n      <td>2.52</td>\n      <td>Female</td>\n      <td>No</td>\n      <td>Thur</td>\n      <td>Lunch</td>\n      <td>2</td>\n    </tr>\n    <tr>\n      <th>9</th>\n      <td>14.78</td>\n      <td>NaN</td>\n      <td>Male</td>\n      <td>No</td>\n      <td>Sun</td>\n      <td>Dinner</td>\n      <td>2</td>\n    </tr>\n    <tr>\n      <th>101</th>\n      <td>15.38</td>\n      <td>3.00</td>\n      <td>Female</td>\n      <td>Yes</td>\n      <td>Fri</td>\n      <td>Dinner</td>\n      <td>2</td>\n    </tr>\n  </tbody>\n</table>\n</div>"
     },
     "execution_count": 53,
     "metadata": {},
     "output_type": "execute_result"
    }
   ],
   "source": [
    "tips_10"
   ],
   "metadata": {
    "collapsed": false,
    "ExecuteTime": {
     "end_time": "2023-09-03T02:30:08.982407200Z",
     "start_time": "2023-09-03T02:30:08.970849100Z"
    }
   },
   "id": "4c37a80b99db248d"
  },
  {
   "cell_type": "code",
   "execution_count": 52,
   "outputs": [
    {
     "data": {
      "text/plain": "24     3.180\n6      3.085\n153    2.000\n211    5.160\n198    2.760\n176    2.000\n192    3.085\n124    2.520\n9      3.085\n101    3.000\nName: tip, dtype: float64"
     },
     "execution_count": 52,
     "metadata": {},
     "output_type": "execute_result"
    }
   ],
   "source": [
    "# 使用性别进行分组, 对小费的缺失值做自定义的处理, 使用了分组变换\n",
    "tips_10.groupby('sex')['tip'].transform(fillna_mean)"
   ],
   "metadata": {
    "collapsed": false,
    "ExecuteTime": {
     "end_time": "2023-09-03T02:29:58.270491Z",
     "start_time": "2023-09-03T02:29:58.262178500Z"
    }
   },
   "id": "a1cf227eb722aa15"
  },
  {
   "cell_type": "markdown",
   "source": [
    "## 3 分组转换练习"
   ],
   "metadata": {
    "collapsed": false
   },
   "id": "a259d6a1e8976f7e"
  },
  {
   "cell_type": "code",
   "execution_count": 55,
   "outputs": [
    {
     "data": {
      "text/plain": "   Name Month    Week  Weight\n0   Bob   Jan  Week 1     291\n1   Amy   Jan  Week 1     197\n2   Bob   Jan  Week 2     288\n3   Amy   Jan  Week 2     189\n4   Bob   Jan  Week 3     283\n5   Amy   Jan  Week 3     189\n6   Bob   Jan  Week 4     283\n7   Amy   Jan  Week 4     190\n8   Bob   Feb  Week 1     283\n9   Amy   Feb  Week 1     190\n10  Bob   Feb  Week 2     275\n11  Amy   Feb  Week 2     184\n12  Bob   Feb  Week 3     268\n13  Amy   Feb  Week 3     177\n14  Bob   Feb  Week 4     268\n15  Amy   Feb  Week 4     173\n16  Bob   Mar  Week 1     268\n17  Amy   Mar  Week 1     173\n18  Bob   Mar  Week 2     271\n19  Amy   Mar  Week 2     173\n20  Bob   Mar  Week 3     265\n21  Amy   Mar  Week 3     170\n22  Bob   Mar  Week 4     261\n23  Amy   Mar  Week 4     170\n24  Bob   Apr  Week 1     261\n25  Amy   Apr  Week 1     170\n26  Bob   Apr  Week 2     258\n27  Amy   Apr  Week 2     164\n28  Bob   Apr  Week 3     253\n29  Amy   Apr  Week 3     164\n30  Bob   Apr  Week 4     250\n31  Amy   Apr  Week 4     161",
      "text/html": "<div>\n<style scoped>\n    .dataframe tbody tr th:only-of-type {\n        vertical-align: middle;\n    }\n\n    .dataframe tbody tr th {\n        vertical-align: top;\n    }\n\n    .dataframe thead th {\n        text-align: right;\n    }\n</style>\n<table border=\"1\" class=\"dataframe\">\n  <thead>\n    <tr style=\"text-align: right;\">\n      <th></th>\n      <th>Name</th>\n      <th>Month</th>\n      <th>Week</th>\n      <th>Weight</th>\n    </tr>\n  </thead>\n  <tbody>\n    <tr>\n      <th>0</th>\n      <td>Bob</td>\n      <td>Jan</td>\n      <td>Week 1</td>\n      <td>291</td>\n    </tr>\n    <tr>\n      <th>1</th>\n      <td>Amy</td>\n      <td>Jan</td>\n      <td>Week 1</td>\n      <td>197</td>\n    </tr>\n    <tr>\n      <th>2</th>\n      <td>Bob</td>\n      <td>Jan</td>\n      <td>Week 2</td>\n      <td>288</td>\n    </tr>\n    <tr>\n      <th>3</th>\n      <td>Amy</td>\n      <td>Jan</td>\n      <td>Week 2</td>\n      <td>189</td>\n    </tr>\n    <tr>\n      <th>4</th>\n      <td>Bob</td>\n      <td>Jan</td>\n      <td>Week 3</td>\n      <td>283</td>\n    </tr>\n    <tr>\n      <th>5</th>\n      <td>Amy</td>\n      <td>Jan</td>\n      <td>Week 3</td>\n      <td>189</td>\n    </tr>\n    <tr>\n      <th>6</th>\n      <td>Bob</td>\n      <td>Jan</td>\n      <td>Week 4</td>\n      <td>283</td>\n    </tr>\n    <tr>\n      <th>7</th>\n      <td>Amy</td>\n      <td>Jan</td>\n      <td>Week 4</td>\n      <td>190</td>\n    </tr>\n    <tr>\n      <th>8</th>\n      <td>Bob</td>\n      <td>Feb</td>\n      <td>Week 1</td>\n      <td>283</td>\n    </tr>\n    <tr>\n      <th>9</th>\n      <td>Amy</td>\n      <td>Feb</td>\n      <td>Week 1</td>\n      <td>190</td>\n    </tr>\n    <tr>\n      <th>10</th>\n      <td>Bob</td>\n      <td>Feb</td>\n      <td>Week 2</td>\n      <td>275</td>\n    </tr>\n    <tr>\n      <th>11</th>\n      <td>Amy</td>\n      <td>Feb</td>\n      <td>Week 2</td>\n      <td>184</td>\n    </tr>\n    <tr>\n      <th>12</th>\n      <td>Bob</td>\n      <td>Feb</td>\n      <td>Week 3</td>\n      <td>268</td>\n    </tr>\n    <tr>\n      <th>13</th>\n      <td>Amy</td>\n      <td>Feb</td>\n      <td>Week 3</td>\n      <td>177</td>\n    </tr>\n    <tr>\n      <th>14</th>\n      <td>Bob</td>\n      <td>Feb</td>\n      <td>Week 4</td>\n      <td>268</td>\n    </tr>\n    <tr>\n      <th>15</th>\n      <td>Amy</td>\n      <td>Feb</td>\n      <td>Week 4</td>\n      <td>173</td>\n    </tr>\n    <tr>\n      <th>16</th>\n      <td>Bob</td>\n      <td>Mar</td>\n      <td>Week 1</td>\n      <td>268</td>\n    </tr>\n    <tr>\n      <th>17</th>\n      <td>Amy</td>\n      <td>Mar</td>\n      <td>Week 1</td>\n      <td>173</td>\n    </tr>\n    <tr>\n      <th>18</th>\n      <td>Bob</td>\n      <td>Mar</td>\n      <td>Week 2</td>\n      <td>271</td>\n    </tr>\n    <tr>\n      <th>19</th>\n      <td>Amy</td>\n      <td>Mar</td>\n      <td>Week 2</td>\n      <td>173</td>\n    </tr>\n    <tr>\n      <th>20</th>\n      <td>Bob</td>\n      <td>Mar</td>\n      <td>Week 3</td>\n      <td>265</td>\n    </tr>\n    <tr>\n      <th>21</th>\n      <td>Amy</td>\n      <td>Mar</td>\n      <td>Week 3</td>\n      <td>170</td>\n    </tr>\n    <tr>\n      <th>22</th>\n      <td>Bob</td>\n      <td>Mar</td>\n      <td>Week 4</td>\n      <td>261</td>\n    </tr>\n    <tr>\n      <th>23</th>\n      <td>Amy</td>\n      <td>Mar</td>\n      <td>Week 4</td>\n      <td>170</td>\n    </tr>\n    <tr>\n      <th>24</th>\n      <td>Bob</td>\n      <td>Apr</td>\n      <td>Week 1</td>\n      <td>261</td>\n    </tr>\n    <tr>\n      <th>25</th>\n      <td>Amy</td>\n      <td>Apr</td>\n      <td>Week 1</td>\n      <td>170</td>\n    </tr>\n    <tr>\n      <th>26</th>\n      <td>Bob</td>\n      <td>Apr</td>\n      <td>Week 2</td>\n      <td>258</td>\n    </tr>\n    <tr>\n      <th>27</th>\n      <td>Amy</td>\n      <td>Apr</td>\n      <td>Week 2</td>\n      <td>164</td>\n    </tr>\n    <tr>\n      <th>28</th>\n      <td>Bob</td>\n      <td>Apr</td>\n      <td>Week 3</td>\n      <td>253</td>\n    </tr>\n    <tr>\n      <th>29</th>\n      <td>Amy</td>\n      <td>Apr</td>\n      <td>Week 3</td>\n      <td>164</td>\n    </tr>\n    <tr>\n      <th>30</th>\n      <td>Bob</td>\n      <td>Apr</td>\n      <td>Week 4</td>\n      <td>250</td>\n    </tr>\n    <tr>\n      <th>31</th>\n      <td>Amy</td>\n      <td>Apr</td>\n      <td>Week 4</td>\n      <td>161</td>\n    </tr>\n  </tbody>\n</table>\n</div>"
     },
     "execution_count": 55,
     "metadata": {},
     "output_type": "execute_result"
    }
   ],
   "source": [
    "weight_loss = pd.read_csv('data/weight_loss.csv')\n",
    "weight_loss"
   ],
   "metadata": {
    "collapsed": false,
    "ExecuteTime": {
     "end_time": "2023-09-03T02:55:12.046468400Z",
     "start_time": "2023-09-03T02:55:12.030669600Z"
    }
   },
   "id": "96ee32f18acd8853"
  },
  {
   "cell_type": "code",
   "execution_count": 56,
   "outputs": [
    {
     "data": {
      "text/plain": "  Name Month    Week  Weight\n0  Bob   Jan  Week 1     291\n1  Amy   Jan  Week 1     197\n2  Bob   Jan  Week 2     288\n3  Amy   Jan  Week 2     189\n4  Bob   Jan  Week 3     283\n5  Amy   Jan  Week 3     189\n6  Bob   Jan  Week 4     283\n7  Amy   Jan  Week 4     190",
      "text/html": "<div>\n<style scoped>\n    .dataframe tbody tr th:only-of-type {\n        vertical-align: middle;\n    }\n\n    .dataframe tbody tr th {\n        vertical-align: top;\n    }\n\n    .dataframe thead th {\n        text-align: right;\n    }\n</style>\n<table border=\"1\" class=\"dataframe\">\n  <thead>\n    <tr style=\"text-align: right;\">\n      <th></th>\n      <th>Name</th>\n      <th>Month</th>\n      <th>Week</th>\n      <th>Weight</th>\n    </tr>\n  </thead>\n  <tbody>\n    <tr>\n      <th>0</th>\n      <td>Bob</td>\n      <td>Jan</td>\n      <td>Week 1</td>\n      <td>291</td>\n    </tr>\n    <tr>\n      <th>1</th>\n      <td>Amy</td>\n      <td>Jan</td>\n      <td>Week 1</td>\n      <td>197</td>\n    </tr>\n    <tr>\n      <th>2</th>\n      <td>Bob</td>\n      <td>Jan</td>\n      <td>Week 2</td>\n      <td>288</td>\n    </tr>\n    <tr>\n      <th>3</th>\n      <td>Amy</td>\n      <td>Jan</td>\n      <td>Week 2</td>\n      <td>189</td>\n    </tr>\n    <tr>\n      <th>4</th>\n      <td>Bob</td>\n      <td>Jan</td>\n      <td>Week 3</td>\n      <td>283</td>\n    </tr>\n    <tr>\n      <th>5</th>\n      <td>Amy</td>\n      <td>Jan</td>\n      <td>Week 3</td>\n      <td>189</td>\n    </tr>\n    <tr>\n      <th>6</th>\n      <td>Bob</td>\n      <td>Jan</td>\n      <td>Week 4</td>\n      <td>283</td>\n    </tr>\n    <tr>\n      <th>7</th>\n      <td>Amy</td>\n      <td>Jan</td>\n      <td>Week 4</td>\n      <td>190</td>\n    </tr>\n  </tbody>\n</table>\n</div>"
     },
     "execution_count": 56,
     "metadata": {},
     "output_type": "execute_result"
    }
   ],
   "source": [
    "# query 类似于SQL 的where 条件  query 需要传入的是条件对应的字符串, 如果条件中还有字符串, 需要用不同类型的引号进行区分\n",
    "weight_loss.query(\"Month=='Jan'\")"
   ],
   "metadata": {
    "collapsed": false,
    "ExecuteTime": {
     "end_time": "2023-09-03T03:02:30.076614600Z",
     "start_time": "2023-09-03T03:02:30.059343500Z"
    }
   },
   "id": "9a1cc4b4c739d7c1"
  },
  {
   "cell_type": "code",
   "execution_count": 57,
   "outputs": [],
   "source": [
    "# 计算减重的比例\n",
    "def find_perc_loss(s):\n",
    "    # s.iloc[0] 每个月的第一周, 体重\n",
    "    return (s.iloc[0]-s)/s.iloc[0] "
   ],
   "metadata": {
    "collapsed": false,
    "ExecuteTime": {
     "end_time": "2023-09-03T03:05:20.685771100Z",
     "start_time": "2023-09-03T03:05:20.678259100Z"
    }
   },
   "id": "f845e90199ac42fc"
  },
  {
   "cell_type": "code",
   "execution_count": 58,
   "outputs": [],
   "source": [
    "bob_jan = weight_loss.query(\"Name=='Bob' and Month=='Jan'\")"
   ],
   "metadata": {
    "collapsed": false,
    "ExecuteTime": {
     "end_time": "2023-09-03T03:06:25.953716400Z",
     "start_time": "2023-09-03T03:06:25.950726100Z"
    }
   },
   "id": "28e47b86a5adae51"
  },
  {
   "cell_type": "code",
   "execution_count": 60,
   "outputs": [
    {
     "data": {
      "text/plain": "0    0.000000\n2    0.010309\n4    0.027491\n6    0.027491\nName: Weight, dtype: float64"
     },
     "execution_count": 60,
     "metadata": {},
     "output_type": "execute_result"
    }
   ],
   "source": [
    "find_perc_loss(bob_jan['Weight'])"
   ],
   "metadata": {
    "collapsed": false,
    "ExecuteTime": {
     "end_time": "2023-09-03T03:06:49.442599200Z",
     "start_time": "2023-09-03T03:06:49.436277300Z"
    }
   },
   "id": "ca1102ec87b21ef9"
  },
  {
   "cell_type": "code",
   "execution_count": 62,
   "outputs": [],
   "source": [
    "weight_loss['减重比例'] = weight_loss.groupby(['Name','Month'])['Weight'].transform(find_perc_loss)"
   ],
   "metadata": {
    "collapsed": false,
    "ExecuteTime": {
     "end_time": "2023-09-03T03:08:20.170387800Z",
     "start_time": "2023-09-03T03:08:20.163961700Z"
    }
   },
   "id": "3796af34327f0e82"
  },
  {
   "cell_type": "code",
   "execution_count": 71,
   "outputs": [],
   "source": [
    "week4_result = weight_loss.query('Week==\"Week 4\"')[['Name','Month','减重比例']]"
   ],
   "metadata": {
    "collapsed": false,
    "ExecuteTime": {
     "end_time": "2023-09-03T03:12:40.001677100Z",
     "start_time": "2023-09-03T03:12:39.994698Z"
    }
   },
   "id": "a5d9bb6d7d0e01d8"
  },
  {
   "cell_type": "code",
   "execution_count": 72,
   "outputs": [],
   "source": [
    "week4_amy = week4_result[week4_result['Name']=='Amy']\n",
    "week4_bob = week4_result.query(\"Name=='Bob'\")"
   ],
   "metadata": {
    "collapsed": false,
    "ExecuteTime": {
     "end_time": "2023-09-03T03:12:41.604265100Z",
     "start_time": "2023-09-03T03:12:41.586683100Z"
    }
   },
   "id": "e2c4c988b9de7649"
  },
  {
   "cell_type": "code",
   "execution_count": 77,
   "outputs": [
    {
     "data": {
      "text/plain": "           减重比例\nMonth          \nJan   -0.008042\nFeb   -0.036470\nMar    0.008778\nApr   -0.010796",
      "text/html": "<div>\n<style scoped>\n    .dataframe tbody tr th:only-of-type {\n        vertical-align: middle;\n    }\n\n    .dataframe tbody tr th {\n        vertical-align: top;\n    }\n\n    .dataframe thead th {\n        text-align: right;\n    }\n</style>\n<table border=\"1\" class=\"dataframe\">\n  <thead>\n    <tr style=\"text-align: right;\">\n      <th></th>\n      <th>减重比例</th>\n    </tr>\n    <tr>\n      <th>Month</th>\n      <th></th>\n    </tr>\n  </thead>\n  <tbody>\n    <tr>\n      <th>Jan</th>\n      <td>-0.008042</td>\n    </tr>\n    <tr>\n      <th>Feb</th>\n      <td>-0.036470</td>\n    </tr>\n    <tr>\n      <th>Mar</th>\n      <td>0.008778</td>\n    </tr>\n    <tr>\n      <th>Apr</th>\n      <td>-0.010796</td>\n    </tr>\n  </tbody>\n</table>\n</div>"
     },
     "execution_count": 77,
     "metadata": {},
     "output_type": "execute_result"
    }
   ],
   "source": [
    "week4_bob[['Month','减重比例']].set_index('Month') - week4_amy[['Month','减重比例']].set_index('Month')"
   ],
   "metadata": {
    "collapsed": false,
    "ExecuteTime": {
     "end_time": "2023-09-03T03:13:56.224620300Z",
     "start_time": "2023-09-03T03:13:56.215972800Z"
    }
   },
   "id": "707958240101ae1b"
  },
  {
   "cell_type": "code",
   "execution_count": 75,
   "outputs": [
    {
     "data": {
      "text/plain": "   Name Month      减重比例\n7   Amy   Jan  0.035533\n15  Amy   Feb  0.089474\n23  Amy   Mar  0.017341\n31  Amy   Apr  0.052941",
      "text/html": "<div>\n<style scoped>\n    .dataframe tbody tr th:only-of-type {\n        vertical-align: middle;\n    }\n\n    .dataframe tbody tr th {\n        vertical-align: top;\n    }\n\n    .dataframe thead th {\n        text-align: right;\n    }\n</style>\n<table border=\"1\" class=\"dataframe\">\n  <thead>\n    <tr style=\"text-align: right;\">\n      <th></th>\n      <th>Name</th>\n      <th>Month</th>\n      <th>减重比例</th>\n    </tr>\n  </thead>\n  <tbody>\n    <tr>\n      <th>7</th>\n      <td>Amy</td>\n      <td>Jan</td>\n      <td>0.035533</td>\n    </tr>\n    <tr>\n      <th>15</th>\n      <td>Amy</td>\n      <td>Feb</td>\n      <td>0.089474</td>\n    </tr>\n    <tr>\n      <th>23</th>\n      <td>Amy</td>\n      <td>Mar</td>\n      <td>0.017341</td>\n    </tr>\n    <tr>\n      <th>31</th>\n      <td>Amy</td>\n      <td>Apr</td>\n      <td>0.052941</td>\n    </tr>\n  </tbody>\n</table>\n</div>"
     },
     "execution_count": 75,
     "metadata": {},
     "output_type": "execute_result"
    }
   ],
   "source": [
    "week4_amy"
   ],
   "metadata": {
    "collapsed": false,
    "ExecuteTime": {
     "end_time": "2023-09-03T03:13:07.068690900Z",
     "start_time": "2023-09-03T03:13:07.050978800Z"
    }
   },
   "id": "24f14245c5de8b0b"
  },
  {
   "cell_type": "markdown",
   "source": [
    "## 4 分组过滤"
   ],
   "metadata": {
    "collapsed": false
   },
   "id": "dc914c86caed9a64"
  },
  {
   "cell_type": "code",
   "execution_count": 83,
   "outputs": [
    {
     "data": {
      "text/plain": "2    156\n3     38\n4     37\n5      5\n1      4\n6      4\nName: size, dtype: int64"
     },
     "execution_count": 83,
     "metadata": {},
     "output_type": "execute_result"
    }
   ],
   "source": [
    "tips['size'].value_counts()"
   ],
   "metadata": {
    "collapsed": false,
    "ExecuteTime": {
     "end_time": "2023-09-03T04:00:38.901382300Z",
     "start_time": "2023-09-03T04:00:38.888903700Z"
    }
   },
   "id": "3e134fe3bdcce957"
  },
  {
   "cell_type": "code",
   "execution_count": 86,
   "outputs": [
    {
     "data": {
      "text/plain": "     total_bill   tip     sex smoker   day    time  size\n0         16.99  1.01  Female     No   Sun  Dinner     2\n1         10.34  1.66    Male     No   Sun  Dinner     3\n2         21.01  3.50    Male     No   Sun  Dinner     3\n3         23.68  3.31    Male     No   Sun  Dinner     2\n4         24.59  3.61  Female     No   Sun  Dinner     4\n..          ...   ...     ...    ...   ...     ...   ...\n239       29.03  5.92    Male     No   Sat  Dinner     3\n240       27.18  2.00  Female    Yes   Sat  Dinner     2\n241       22.67  2.00    Male    Yes   Sat  Dinner     2\n242       17.82  1.75    Male     No   Sat  Dinner     2\n243       18.78  3.00  Female     No  Thur  Dinner     2\n\n[231 rows x 7 columns]",
      "text/html": "<div>\n<style scoped>\n    .dataframe tbody tr th:only-of-type {\n        vertical-align: middle;\n    }\n\n    .dataframe tbody tr th {\n        vertical-align: top;\n    }\n\n    .dataframe thead th {\n        text-align: right;\n    }\n</style>\n<table border=\"1\" class=\"dataframe\">\n  <thead>\n    <tr style=\"text-align: right;\">\n      <th></th>\n      <th>total_bill</th>\n      <th>tip</th>\n      <th>sex</th>\n      <th>smoker</th>\n      <th>day</th>\n      <th>time</th>\n      <th>size</th>\n    </tr>\n  </thead>\n  <tbody>\n    <tr>\n      <th>0</th>\n      <td>16.99</td>\n      <td>1.01</td>\n      <td>Female</td>\n      <td>No</td>\n      <td>Sun</td>\n      <td>Dinner</td>\n      <td>2</td>\n    </tr>\n    <tr>\n      <th>1</th>\n      <td>10.34</td>\n      <td>1.66</td>\n      <td>Male</td>\n      <td>No</td>\n      <td>Sun</td>\n      <td>Dinner</td>\n      <td>3</td>\n    </tr>\n    <tr>\n      <th>2</th>\n      <td>21.01</td>\n      <td>3.50</td>\n      <td>Male</td>\n      <td>No</td>\n      <td>Sun</td>\n      <td>Dinner</td>\n      <td>3</td>\n    </tr>\n    <tr>\n      <th>3</th>\n      <td>23.68</td>\n      <td>3.31</td>\n      <td>Male</td>\n      <td>No</td>\n      <td>Sun</td>\n      <td>Dinner</td>\n      <td>2</td>\n    </tr>\n    <tr>\n      <th>4</th>\n      <td>24.59</td>\n      <td>3.61</td>\n      <td>Female</td>\n      <td>No</td>\n      <td>Sun</td>\n      <td>Dinner</td>\n      <td>4</td>\n    </tr>\n    <tr>\n      <th>...</th>\n      <td>...</td>\n      <td>...</td>\n      <td>...</td>\n      <td>...</td>\n      <td>...</td>\n      <td>...</td>\n      <td>...</td>\n    </tr>\n    <tr>\n      <th>239</th>\n      <td>29.03</td>\n      <td>5.92</td>\n      <td>Male</td>\n      <td>No</td>\n      <td>Sat</td>\n      <td>Dinner</td>\n      <td>3</td>\n    </tr>\n    <tr>\n      <th>240</th>\n      <td>27.18</td>\n      <td>2.00</td>\n      <td>Female</td>\n      <td>Yes</td>\n      <td>Sat</td>\n      <td>Dinner</td>\n      <td>2</td>\n    </tr>\n    <tr>\n      <th>241</th>\n      <td>22.67</td>\n      <td>2.00</td>\n      <td>Male</td>\n      <td>Yes</td>\n      <td>Sat</td>\n      <td>Dinner</td>\n      <td>2</td>\n    </tr>\n    <tr>\n      <th>242</th>\n      <td>17.82</td>\n      <td>1.75</td>\n      <td>Male</td>\n      <td>No</td>\n      <td>Sat</td>\n      <td>Dinner</td>\n      <td>2</td>\n    </tr>\n    <tr>\n      <th>243</th>\n      <td>18.78</td>\n      <td>3.00</td>\n      <td>Female</td>\n      <td>No</td>\n      <td>Thur</td>\n      <td>Dinner</td>\n      <td>2</td>\n    </tr>\n  </tbody>\n</table>\n<p>231 rows × 7 columns</p>\n</div>"
     },
     "execution_count": 86,
     "metadata": {},
     "output_type": "execute_result"
    }
   ],
   "source": [
    "tips.groupby('size').filter(lambda x:x['size'].count()>5)"
   ],
   "metadata": {
    "collapsed": false,
    "ExecuteTime": {
     "end_time": "2023-09-03T04:02:01.210404500Z",
     "start_time": "2023-09-03T04:02:01.192121800Z"
    }
   },
   "id": "4b6ec6242ae5eeef"
  },
  {
   "cell_type": "markdown",
   "source": [
    "## 5 DataFrameGroupby 对象"
   ],
   "metadata": {
    "collapsed": false
   },
   "id": "95b7935d82c23c98"
  },
  {
   "cell_type": "code",
   "execution_count": 89,
   "outputs": [
    {
     "data": {
      "text/plain": "     total_bill   tip     sex smoker   day    time  size\n24        19.82  3.18    Male     No   Sat  Dinner     2\n6          8.77  2.00    Male     No   Sun  Dinner     2\n153       24.55  2.00    Male     No   Sun  Dinner     4\n211       25.89  5.16    Male    Yes   Sat  Dinner     4\n198       13.00  2.00  Female    Yes  Thur   Lunch     2\n176       17.89  2.00    Male    Yes   Sun  Dinner     2\n192       28.44  2.56    Male    Yes  Thur   Lunch     2\n124       12.48  2.52  Female     No  Thur   Lunch     2\n9         14.78  3.23    Male     No   Sun  Dinner     2\n101       15.38  3.00  Female    Yes   Fri  Dinner     2",
      "text/html": "<div>\n<style scoped>\n    .dataframe tbody tr th:only-of-type {\n        vertical-align: middle;\n    }\n\n    .dataframe tbody tr th {\n        vertical-align: top;\n    }\n\n    .dataframe thead th {\n        text-align: right;\n    }\n</style>\n<table border=\"1\" class=\"dataframe\">\n  <thead>\n    <tr style=\"text-align: right;\">\n      <th></th>\n      <th>total_bill</th>\n      <th>tip</th>\n      <th>sex</th>\n      <th>smoker</th>\n      <th>day</th>\n      <th>time</th>\n      <th>size</th>\n    </tr>\n  </thead>\n  <tbody>\n    <tr>\n      <th>24</th>\n      <td>19.82</td>\n      <td>3.18</td>\n      <td>Male</td>\n      <td>No</td>\n      <td>Sat</td>\n      <td>Dinner</td>\n      <td>2</td>\n    </tr>\n    <tr>\n      <th>6</th>\n      <td>8.77</td>\n      <td>2.00</td>\n      <td>Male</td>\n      <td>No</td>\n      <td>Sun</td>\n      <td>Dinner</td>\n      <td>2</td>\n    </tr>\n    <tr>\n      <th>153</th>\n      <td>24.55</td>\n      <td>2.00</td>\n      <td>Male</td>\n      <td>No</td>\n      <td>Sun</td>\n      <td>Dinner</td>\n      <td>4</td>\n    </tr>\n    <tr>\n      <th>211</th>\n      <td>25.89</td>\n      <td>5.16</td>\n      <td>Male</td>\n      <td>Yes</td>\n      <td>Sat</td>\n      <td>Dinner</td>\n      <td>4</td>\n    </tr>\n    <tr>\n      <th>198</th>\n      <td>13.00</td>\n      <td>2.00</td>\n      <td>Female</td>\n      <td>Yes</td>\n      <td>Thur</td>\n      <td>Lunch</td>\n      <td>2</td>\n    </tr>\n    <tr>\n      <th>176</th>\n      <td>17.89</td>\n      <td>2.00</td>\n      <td>Male</td>\n      <td>Yes</td>\n      <td>Sun</td>\n      <td>Dinner</td>\n      <td>2</td>\n    </tr>\n    <tr>\n      <th>192</th>\n      <td>28.44</td>\n      <td>2.56</td>\n      <td>Male</td>\n      <td>Yes</td>\n      <td>Thur</td>\n      <td>Lunch</td>\n      <td>2</td>\n    </tr>\n    <tr>\n      <th>124</th>\n      <td>12.48</td>\n      <td>2.52</td>\n      <td>Female</td>\n      <td>No</td>\n      <td>Thur</td>\n      <td>Lunch</td>\n      <td>2</td>\n    </tr>\n    <tr>\n      <th>9</th>\n      <td>14.78</td>\n      <td>3.23</td>\n      <td>Male</td>\n      <td>No</td>\n      <td>Sun</td>\n      <td>Dinner</td>\n      <td>2</td>\n    </tr>\n    <tr>\n      <th>101</th>\n      <td>15.38</td>\n      <td>3.00</td>\n      <td>Female</td>\n      <td>Yes</td>\n      <td>Fri</td>\n      <td>Dinner</td>\n      <td>2</td>\n    </tr>\n  </tbody>\n</table>\n</div>"
     },
     "execution_count": 89,
     "metadata": {},
     "output_type": "execute_result"
    }
   ],
   "source": [
    "tips_10 = tips.sample(10,random_state=42)\n",
    "tips_10"
   ],
   "metadata": {
    "collapsed": false,
    "ExecuteTime": {
     "end_time": "2023-09-03T04:08:04.466479700Z",
     "start_time": "2023-09-03T04:08:04.451200600Z"
    }
   },
   "id": "86d4e7fe9445232b"
  },
  {
   "cell_type": "code",
   "execution_count": 92,
   "outputs": [
    {
     "data": {
      "text/plain": "{'Female': [198, 124, 101], 'Male': [24, 6, 153, 211, 176, 192, 9]}"
     },
     "execution_count": 92,
     "metadata": {},
     "output_type": "execute_result"
    }
   ],
   "source": [
    "grouped = tips_10.groupby('sex')\n",
    "grouped.groups"
   ],
   "metadata": {
    "collapsed": false,
    "ExecuteTime": {
     "end_time": "2023-09-03T04:08:38.526046200Z",
     "start_time": "2023-09-03T04:08:38.517758Z"
    }
   },
   "id": "e2f71896f2631289"
  },
  {
   "cell_type": "code",
   "execution_count": 95,
   "outputs": [
    {
     "data": {
      "text/plain": "     total_bill   tip     sex smoker   day    time  size\n198       13.00  2.00  Female    Yes  Thur   Lunch     2\n124       12.48  2.52  Female     No  Thur   Lunch     2\n101       15.38  3.00  Female    Yes   Fri  Dinner     2",
      "text/html": "<div>\n<style scoped>\n    .dataframe tbody tr th:only-of-type {\n        vertical-align: middle;\n    }\n\n    .dataframe tbody tr th {\n        vertical-align: top;\n    }\n\n    .dataframe thead th {\n        text-align: right;\n    }\n</style>\n<table border=\"1\" class=\"dataframe\">\n  <thead>\n    <tr style=\"text-align: right;\">\n      <th></th>\n      <th>total_bill</th>\n      <th>tip</th>\n      <th>sex</th>\n      <th>smoker</th>\n      <th>day</th>\n      <th>time</th>\n      <th>size</th>\n    </tr>\n  </thead>\n  <tbody>\n    <tr>\n      <th>198</th>\n      <td>13.00</td>\n      <td>2.00</td>\n      <td>Female</td>\n      <td>Yes</td>\n      <td>Thur</td>\n      <td>Lunch</td>\n      <td>2</td>\n    </tr>\n    <tr>\n      <th>124</th>\n      <td>12.48</td>\n      <td>2.52</td>\n      <td>Female</td>\n      <td>No</td>\n      <td>Thur</td>\n      <td>Lunch</td>\n      <td>2</td>\n    </tr>\n    <tr>\n      <th>101</th>\n      <td>15.38</td>\n      <td>3.00</td>\n      <td>Female</td>\n      <td>Yes</td>\n      <td>Fri</td>\n      <td>Dinner</td>\n      <td>2</td>\n    </tr>\n  </tbody>\n</table>\n</div>"
     },
     "execution_count": 95,
     "metadata": {},
     "output_type": "execute_result"
    }
   ],
   "source": [
    "grouped.get_group('Female')"
   ],
   "metadata": {
    "collapsed": false,
    "ExecuteTime": {
     "end_time": "2023-09-03T04:09:25.607672400Z",
     "start_time": "2023-09-03T04:09:25.598655400Z"
    }
   },
   "id": "f17dc23facc52b2b"
  },
  {
   "cell_type": "code",
   "execution_count": 96,
   "outputs": [
    {
     "data": {
      "text/plain": "     total_bill   tip   sex smoker   day    time  size\n24        19.82  3.18  Male     No   Sat  Dinner     2\n6          8.77  2.00  Male     No   Sun  Dinner     2\n153       24.55  2.00  Male     No   Sun  Dinner     4\n211       25.89  5.16  Male    Yes   Sat  Dinner     4\n176       17.89  2.00  Male    Yes   Sun  Dinner     2\n192       28.44  2.56  Male    Yes  Thur   Lunch     2\n9         14.78  3.23  Male     No   Sun  Dinner     2",
      "text/html": "<div>\n<style scoped>\n    .dataframe tbody tr th:only-of-type {\n        vertical-align: middle;\n    }\n\n    .dataframe tbody tr th {\n        vertical-align: top;\n    }\n\n    .dataframe thead th {\n        text-align: right;\n    }\n</style>\n<table border=\"1\" class=\"dataframe\">\n  <thead>\n    <tr style=\"text-align: right;\">\n      <th></th>\n      <th>total_bill</th>\n      <th>tip</th>\n      <th>sex</th>\n      <th>smoker</th>\n      <th>day</th>\n      <th>time</th>\n      <th>size</th>\n    </tr>\n  </thead>\n  <tbody>\n    <tr>\n      <th>24</th>\n      <td>19.82</td>\n      <td>3.18</td>\n      <td>Male</td>\n      <td>No</td>\n      <td>Sat</td>\n      <td>Dinner</td>\n      <td>2</td>\n    </tr>\n    <tr>\n      <th>6</th>\n      <td>8.77</td>\n      <td>2.00</td>\n      <td>Male</td>\n      <td>No</td>\n      <td>Sun</td>\n      <td>Dinner</td>\n      <td>2</td>\n    </tr>\n    <tr>\n      <th>153</th>\n      <td>24.55</td>\n      <td>2.00</td>\n      <td>Male</td>\n      <td>No</td>\n      <td>Sun</td>\n      <td>Dinner</td>\n      <td>4</td>\n    </tr>\n    <tr>\n      <th>211</th>\n      <td>25.89</td>\n      <td>5.16</td>\n      <td>Male</td>\n      <td>Yes</td>\n      <td>Sat</td>\n      <td>Dinner</td>\n      <td>4</td>\n    </tr>\n    <tr>\n      <th>176</th>\n      <td>17.89</td>\n      <td>2.00</td>\n      <td>Male</td>\n      <td>Yes</td>\n      <td>Sun</td>\n      <td>Dinner</td>\n      <td>2</td>\n    </tr>\n    <tr>\n      <th>192</th>\n      <td>28.44</td>\n      <td>2.56</td>\n      <td>Male</td>\n      <td>Yes</td>\n      <td>Thur</td>\n      <td>Lunch</td>\n      <td>2</td>\n    </tr>\n    <tr>\n      <th>9</th>\n      <td>14.78</td>\n      <td>3.23</td>\n      <td>Male</td>\n      <td>No</td>\n      <td>Sun</td>\n      <td>Dinner</td>\n      <td>2</td>\n    </tr>\n  </tbody>\n</table>\n</div>"
     },
     "execution_count": 96,
     "metadata": {},
     "output_type": "execute_result"
    }
   ],
   "source": [
    "grouped.get_group('Male')"
   ],
   "metadata": {
    "collapsed": false,
    "ExecuteTime": {
     "end_time": "2023-09-03T04:09:39.000934300Z",
     "start_time": "2023-09-03T04:09:38.978441Z"
    }
   },
   "id": "f666f4b8653112cf"
  },
  {
   "cell_type": "code",
   "execution_count": 98,
   "outputs": [
    {
     "name": "stdout",
     "output_type": "stream",
     "text": [
      "('Female',      total_bill   tip     sex smoker   day    time  size\n",
      "198       13.00  2.00  Female    Yes  Thur   Lunch     2\n",
      "124       12.48  2.52  Female     No  Thur   Lunch     2\n",
      "101       15.38  3.00  Female    Yes   Fri  Dinner     2)\n",
      "<class 'pandas.core.frame.DataFrame'>\n",
      "('Male',      total_bill   tip   sex smoker   day    time  size\n",
      "24        19.82  3.18  Male     No   Sat  Dinner     2\n",
      "6          8.77  2.00  Male     No   Sun  Dinner     2\n",
      "153       24.55  2.00  Male     No   Sun  Dinner     4\n",
      "211       25.89  5.16  Male    Yes   Sat  Dinner     4\n",
      "176       17.89  2.00  Male    Yes   Sun  Dinner     2\n",
      "192       28.44  2.56  Male    Yes  Thur   Lunch     2\n",
      "9         14.78  3.23  Male     No   Sun  Dinner     2)\n",
      "<class 'pandas.core.frame.DataFrame'>\n"
     ]
    }
   ],
   "source": [
    "for group in grouped:\n",
    "    # print(group)\n",
    "    print(type(group[1]))"
   ],
   "metadata": {
    "collapsed": false,
    "ExecuteTime": {
     "end_time": "2023-09-03T04:10:46.454818600Z",
     "start_time": "2023-09-03T04:10:46.436508500Z"
    }
   },
   "id": "66971fad9a888e0"
  },
  {
   "cell_type": "code",
   "execution_count": 103,
   "outputs": [
    {
     "name": "stderr",
     "output_type": "stream",
     "text": [
      "C:\\Users\\Administrator\\AppData\\Local\\Temp\\ipykernel_23208\\329239878.py:1: FutureWarning: The default value of numeric_only in DataFrameGroupBy.mean is deprecated. In a future version, numeric_only will default to False. Either specify numeric_only or select only columns which should be valid for the function.\n",
      "  result = tips_10.groupby(['sex','time']).mean()\n"
     ]
    },
    {
     "data": {
      "text/plain": "      sex    time  total_bill       tip      size\n0  Female  Dinner   15.380000  3.000000  2.000000\n1  Female   Lunch   12.740000  2.260000  2.000000\n2    Male  Dinner   18.616667  2.928333  2.666667\n3    Male   Lunch   28.440000  2.560000  2.000000",
      "text/html": "<div>\n<style scoped>\n    .dataframe tbody tr th:only-of-type {\n        vertical-align: middle;\n    }\n\n    .dataframe tbody tr th {\n        vertical-align: top;\n    }\n\n    .dataframe thead th {\n        text-align: right;\n    }\n</style>\n<table border=\"1\" class=\"dataframe\">\n  <thead>\n    <tr style=\"text-align: right;\">\n      <th></th>\n      <th>sex</th>\n      <th>time</th>\n      <th>total_bill</th>\n      <th>tip</th>\n      <th>size</th>\n    </tr>\n  </thead>\n  <tbody>\n    <tr>\n      <th>0</th>\n      <td>Female</td>\n      <td>Dinner</td>\n      <td>15.380000</td>\n      <td>3.000000</td>\n      <td>2.000000</td>\n    </tr>\n    <tr>\n      <th>1</th>\n      <td>Female</td>\n      <td>Lunch</td>\n      <td>12.740000</td>\n      <td>2.260000</td>\n      <td>2.000000</td>\n    </tr>\n    <tr>\n      <th>2</th>\n      <td>Male</td>\n      <td>Dinner</td>\n      <td>18.616667</td>\n      <td>2.928333</td>\n      <td>2.666667</td>\n    </tr>\n    <tr>\n      <th>3</th>\n      <td>Male</td>\n      <td>Lunch</td>\n      <td>28.440000</td>\n      <td>2.560000</td>\n      <td>2.000000</td>\n    </tr>\n  </tbody>\n</table>\n</div>"
     },
     "execution_count": 103,
     "metadata": {},
     "output_type": "execute_result"
    }
   ],
   "source": [
    "result = tips_10.groupby(['sex','time'],as_index=False).mean()\n",
    "result.reset_index()"
   ],
   "metadata": {
    "collapsed": false,
    "ExecuteTime": {
     "end_time": "2023-09-03T04:13:07.520690600Z",
     "start_time": "2023-09-03T04:13:07.492452300Z"
    }
   },
   "id": "c12e0d8eff5ed91b"
  },
  {
   "cell_type": "code",
   "execution_count": 102,
   "outputs": [
    {
     "data": {
      "text/plain": "total_bill    15.38\ntip            3.00\nsize           2.00\nName: (Female, Dinner), dtype: float64"
     },
     "execution_count": 102,
     "metadata": {},
     "output_type": "execute_result"
    }
   ],
   "source": [
    "result.loc[('Female', 'Dinner')]"
   ],
   "metadata": {
    "collapsed": false,
    "ExecuteTime": {
     "end_time": "2023-09-03T04:12:46.188952300Z",
     "start_time": "2023-09-03T04:12:46.185443500Z"
    }
   },
   "id": "e758a6bf3e907657"
  }
 ],
 "metadata": {
  "kernelspec": {
   "display_name": "Python 3",
   "language": "python",
   "name": "python3"
  },
  "language_info": {
   "codemirror_mode": {
    "name": "ipython",
    "version": 2
   },
   "file_extension": ".py",
   "mimetype": "text/x-python",
   "name": "python",
   "nbconvert_exporter": "python",
   "pygments_lexer": "ipython2",
   "version": "2.7.6"
  }
 },
 "nbformat": 4,
 "nbformat_minor": 5
}
