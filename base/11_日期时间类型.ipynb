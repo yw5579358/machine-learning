{
 "cells": [
  {
   "cell_type": "code",
   "execution_count": 3,
   "id": "initial_id",
   "metadata": {
    "collapsed": true,
    "ExecuteTime": {
     "end_time": "2023-09-05T02:15:03.376995900Z",
     "start_time": "2023-09-05T02:15:03.363986200Z"
    }
   },
   "outputs": [],
   "source": [
    "from datetime import datetime\n",
    "\n",
    "import pandas as pd\n",
    "\n",
    "t1 = datetime.now()"
   ]
  },
  {
   "cell_type": "code",
   "execution_count": 4,
   "outputs": [],
   "source": [
    "t2 = datetime(2023,9,1)"
   ],
   "metadata": {
    "collapsed": false,
    "ExecuteTime": {
     "end_time": "2023-09-05T02:15:06.646138100Z",
     "start_time": "2023-09-05T02:15:06.632642600Z"
    }
   },
   "id": "3ce230c7bfcde72d"
  },
  {
   "cell_type": "code",
   "execution_count": 5,
   "outputs": [
    {
     "data": {
      "text/plain": "datetime.timedelta(days=4, seconds=36903, microseconds=362110)"
     },
     "execution_count": 5,
     "metadata": {},
     "output_type": "execute_result"
    }
   ],
   "source": [
    "t1-t2"
   ],
   "metadata": {
    "collapsed": false,
    "ExecuteTime": {
     "end_time": "2023-09-05T02:15:11.173427900Z",
     "start_time": "2023-09-05T02:15:11.158904500Z"
    }
   },
   "id": "5523095e19e30df2"
  },
  {
   "cell_type": "markdown",
   "source": [
    "## 1 Pandas 中的日期时间类型"
   ],
   "metadata": {
    "collapsed": false
   },
   "id": "a2b203b7fe06f070"
  },
  {
   "cell_type": "code",
   "execution_count": 7,
   "outputs": [],
   "source": [
    "import pandas as pd\n",
    "ebola = pd.read_csv('data/country_timeseries.csv')"
   ],
   "metadata": {
    "collapsed": false,
    "ExecuteTime": {
     "end_time": "2023-09-05T02:16:19.999608300Z",
     "start_time": "2023-09-05T02:16:19.217896100Z"
    }
   },
   "id": "6af6d3a7225c9eeb"
  },
  {
   "cell_type": "code",
   "execution_count": 11,
   "outputs": [
    {
     "data": {
      "text/plain": "         Date  Day  Cases_Guinea  Cases_Liberia  Cases_SierraLeone  \\\n0    1/5/2015  289        2776.0            NaN            10030.0   \n1    1/4/2015  288        2775.0            NaN             9780.0   \n2    1/3/2015  287        2769.0         8166.0             9722.0   \n3    1/2/2015  286           NaN         8157.0                NaN   \n4  12/31/2014  284        2730.0         8115.0             9633.0   \n\n   Cases_Nigeria  Cases_Senegal  Cases_UnitedStates  Cases_Spain  Cases_Mali  \\\n0            NaN            NaN                 NaN          NaN         NaN   \n1            NaN            NaN                 NaN          NaN         NaN   \n2            NaN            NaN                 NaN          NaN         NaN   \n3            NaN            NaN                 NaN          NaN         NaN   \n4            NaN            NaN                 NaN          NaN         NaN   \n\n   Deaths_Guinea  Deaths_Liberia  Deaths_SierraLeone  Deaths_Nigeria  \\\n0         1786.0             NaN              2977.0             NaN   \n1         1781.0             NaN              2943.0             NaN   \n2         1767.0          3496.0              2915.0             NaN   \n3            NaN          3496.0                 NaN             NaN   \n4         1739.0          3471.0              2827.0             NaN   \n\n   Deaths_Senegal  Deaths_UnitedStates  Deaths_Spain  Deaths_Mali  \n0             NaN                  NaN           NaN          NaN  \n1             NaN                  NaN           NaN          NaN  \n2             NaN                  NaN           NaN          NaN  \n3             NaN                  NaN           NaN          NaN  \n4             NaN                  NaN           NaN          NaN  ",
      "text/html": "<div>\n<style scoped>\n    .dataframe tbody tr th:only-of-type {\n        vertical-align: middle;\n    }\n\n    .dataframe tbody tr th {\n        vertical-align: top;\n    }\n\n    .dataframe thead th {\n        text-align: right;\n    }\n</style>\n<table border=\"1\" class=\"dataframe\">\n  <thead>\n    <tr style=\"text-align: right;\">\n      <th></th>\n      <th>Date</th>\n      <th>Day</th>\n      <th>Cases_Guinea</th>\n      <th>Cases_Liberia</th>\n      <th>Cases_SierraLeone</th>\n      <th>Cases_Nigeria</th>\n      <th>Cases_Senegal</th>\n      <th>Cases_UnitedStates</th>\n      <th>Cases_Spain</th>\n      <th>Cases_Mali</th>\n      <th>Deaths_Guinea</th>\n      <th>Deaths_Liberia</th>\n      <th>Deaths_SierraLeone</th>\n      <th>Deaths_Nigeria</th>\n      <th>Deaths_Senegal</th>\n      <th>Deaths_UnitedStates</th>\n      <th>Deaths_Spain</th>\n      <th>Deaths_Mali</th>\n    </tr>\n  </thead>\n  <tbody>\n    <tr>\n      <th>0</th>\n      <td>1/5/2015</td>\n      <td>289</td>\n      <td>2776.0</td>\n      <td>NaN</td>\n      <td>10030.0</td>\n      <td>NaN</td>\n      <td>NaN</td>\n      <td>NaN</td>\n      <td>NaN</td>\n      <td>NaN</td>\n      <td>1786.0</td>\n      <td>NaN</td>\n      <td>2977.0</td>\n      <td>NaN</td>\n      <td>NaN</td>\n      <td>NaN</td>\n      <td>NaN</td>\n      <td>NaN</td>\n    </tr>\n    <tr>\n      <th>1</th>\n      <td>1/4/2015</td>\n      <td>288</td>\n      <td>2775.0</td>\n      <td>NaN</td>\n      <td>9780.0</td>\n      <td>NaN</td>\n      <td>NaN</td>\n      <td>NaN</td>\n      <td>NaN</td>\n      <td>NaN</td>\n      <td>1781.0</td>\n      <td>NaN</td>\n      <td>2943.0</td>\n      <td>NaN</td>\n      <td>NaN</td>\n      <td>NaN</td>\n      <td>NaN</td>\n      <td>NaN</td>\n    </tr>\n    <tr>\n      <th>2</th>\n      <td>1/3/2015</td>\n      <td>287</td>\n      <td>2769.0</td>\n      <td>8166.0</td>\n      <td>9722.0</td>\n      <td>NaN</td>\n      <td>NaN</td>\n      <td>NaN</td>\n      <td>NaN</td>\n      <td>NaN</td>\n      <td>1767.0</td>\n      <td>3496.0</td>\n      <td>2915.0</td>\n      <td>NaN</td>\n      <td>NaN</td>\n      <td>NaN</td>\n      <td>NaN</td>\n      <td>NaN</td>\n    </tr>\n    <tr>\n      <th>3</th>\n      <td>1/2/2015</td>\n      <td>286</td>\n      <td>NaN</td>\n      <td>8157.0</td>\n      <td>NaN</td>\n      <td>NaN</td>\n      <td>NaN</td>\n      <td>NaN</td>\n      <td>NaN</td>\n      <td>NaN</td>\n      <td>NaN</td>\n      <td>3496.0</td>\n      <td>NaN</td>\n      <td>NaN</td>\n      <td>NaN</td>\n      <td>NaN</td>\n      <td>NaN</td>\n      <td>NaN</td>\n    </tr>\n    <tr>\n      <th>4</th>\n      <td>12/31/2014</td>\n      <td>284</td>\n      <td>2730.0</td>\n      <td>8115.0</td>\n      <td>9633.0</td>\n      <td>NaN</td>\n      <td>NaN</td>\n      <td>NaN</td>\n      <td>NaN</td>\n      <td>NaN</td>\n      <td>1739.0</td>\n      <td>3471.0</td>\n      <td>2827.0</td>\n      <td>NaN</td>\n      <td>NaN</td>\n      <td>NaN</td>\n      <td>NaN</td>\n      <td>NaN</td>\n    </tr>\n  </tbody>\n</table>\n</div>"
     },
     "execution_count": 11,
     "metadata": {},
     "output_type": "execute_result"
    }
   ],
   "source": [
    "ebola.head()"
   ],
   "metadata": {
    "collapsed": false,
    "ExecuteTime": {
     "end_time": "2023-09-05T02:17:49.101880Z",
     "start_time": "2023-09-05T02:17:49.074403600Z"
    }
   },
   "id": "625cdcd9a9fc4be7"
  },
  {
   "cell_type": "code",
   "execution_count": 9,
   "outputs": [
    {
     "name": "stdout",
     "output_type": "stream",
     "text": [
      "<class 'pandas.core.frame.DataFrame'>\n",
      "RangeIndex: 122 entries, 0 to 121\n",
      "Data columns (total 18 columns):\n",
      " #   Column               Non-Null Count  Dtype  \n",
      "---  ------               --------------  -----  \n",
      " 0   Date                 122 non-null    object \n",
      " 1   Day                  122 non-null    int64  \n",
      " 2   Cases_Guinea         93 non-null     float64\n",
      " 3   Cases_Liberia        83 non-null     float64\n",
      " 4   Cases_SierraLeone    87 non-null     float64\n",
      " 5   Cases_Nigeria        38 non-null     float64\n",
      " 6   Cases_Senegal        25 non-null     float64\n",
      " 7   Cases_UnitedStates   18 non-null     float64\n",
      " 8   Cases_Spain          16 non-null     float64\n",
      " 9   Cases_Mali           12 non-null     float64\n",
      " 10  Deaths_Guinea        92 non-null     float64\n",
      " 11  Deaths_Liberia       81 non-null     float64\n",
      " 12  Deaths_SierraLeone   87 non-null     float64\n",
      " 13  Deaths_Nigeria       38 non-null     float64\n",
      " 14  Deaths_Senegal       22 non-null     float64\n",
      " 15  Deaths_UnitedStates  18 non-null     float64\n",
      " 16  Deaths_Spain         16 non-null     float64\n",
      " 17  Deaths_Mali          12 non-null     float64\n",
      "dtypes: float64(16), int64(1), object(1)\n",
      "memory usage: 17.3+ KB\n"
     ]
    }
   ],
   "source": [
    "ebola.info()"
   ],
   "metadata": {
    "collapsed": false,
    "ExecuteTime": {
     "end_time": "2023-09-05T02:16:42.123417400Z",
     "start_time": "2023-09-05T02:16:42.109653300Z"
    }
   },
   "id": "c7144eaa2f094680"
  },
  {
   "cell_type": "code",
   "execution_count": 12,
   "outputs": [],
   "source": [
    "ebola['date_dt'] = pd.to_datetime(ebola['Date'])"
   ],
   "metadata": {
    "collapsed": false,
    "ExecuteTime": {
     "end_time": "2023-09-05T02:18:13.809961800Z",
     "start_time": "2023-09-05T02:18:13.793475800Z"
    }
   },
   "id": "eb8cd92a23a3d343"
  },
  {
   "cell_type": "code",
   "execution_count": 14,
   "outputs": [
    {
     "name": "stdout",
     "output_type": "stream",
     "text": [
      "<class 'pandas.core.frame.DataFrame'>\n",
      "RangeIndex: 122 entries, 0 to 121\n",
      "Data columns (total 19 columns):\n",
      " #   Column               Non-Null Count  Dtype         \n",
      "---  ------               --------------  -----         \n",
      " 0   Date                 122 non-null    object        \n",
      " 1   Day                  122 non-null    int64         \n",
      " 2   Cases_Guinea         93 non-null     float64       \n",
      " 3   Cases_Liberia        83 non-null     float64       \n",
      " 4   Cases_SierraLeone    87 non-null     float64       \n",
      " 5   Cases_Nigeria        38 non-null     float64       \n",
      " 6   Cases_Senegal        25 non-null     float64       \n",
      " 7   Cases_UnitedStates   18 non-null     float64       \n",
      " 8   Cases_Spain          16 non-null     float64       \n",
      " 9   Cases_Mali           12 non-null     float64       \n",
      " 10  Deaths_Guinea        92 non-null     float64       \n",
      " 11  Deaths_Liberia       81 non-null     float64       \n",
      " 12  Deaths_SierraLeone   87 non-null     float64       \n",
      " 13  Deaths_Nigeria       38 non-null     float64       \n",
      " 14  Deaths_Senegal       22 non-null     float64       \n",
      " 15  Deaths_UnitedStates  18 non-null     float64       \n",
      " 16  Deaths_Spain         16 non-null     float64       \n",
      " 17  Deaths_Mali          12 non-null     float64       \n",
      " 18  date_dt              122 non-null    datetime64[ns]\n",
      "dtypes: datetime64[ns](1), float64(16), int64(1), object(1)\n",
      "memory usage: 18.2+ KB\n"
     ]
    }
   ],
   "source": [
    "ebola.info()"
   ],
   "metadata": {
    "collapsed": false,
    "ExecuteTime": {
     "end_time": "2023-09-05T02:18:28.731852400Z",
     "start_time": "2023-09-05T02:18:28.721397400Z"
    }
   },
   "id": "e065ab83e932948"
  },
  {
   "cell_type": "markdown",
   "source": [
    "- pandas 中默认的日期时间类型就是 datetime64[ns]"
   ],
   "metadata": {
    "collapsed": false
   },
   "id": "b3d8c212c9d3164c"
  },
  {
   "cell_type": "code",
   "execution_count": 15,
   "outputs": [
    {
     "data": {
      "text/plain": "Timestamp('2023-09-01 00:00:00')"
     },
     "execution_count": 15,
     "metadata": {},
     "output_type": "execute_result"
    }
   ],
   "source": [
    "pd.Timestamp(2023,9,1)"
   ],
   "metadata": {
    "collapsed": false,
    "ExecuteTime": {
     "end_time": "2023-09-05T02:20:23.127131200Z",
     "start_time": "2023-09-05T02:20:23.106706400Z"
    }
   },
   "id": "ebfee8086fdb8e71"
  },
  {
   "cell_type": "code",
   "execution_count": 44,
   "outputs": [
    {
     "name": "stdout",
     "output_type": "stream",
     "text": [
      "<class 'pandas.core.frame.DataFrame'>\n",
      "RangeIndex: 122 entries, 0 to 121\n",
      "Data columns (total 18 columns):\n",
      " #   Column               Non-Null Count  Dtype         \n",
      "---  ------               --------------  -----         \n",
      " 0   Date                 122 non-null    datetime64[ns]\n",
      " 1   Day                  122 non-null    int64         \n",
      " 2   Cases_Guinea         93 non-null     float64       \n",
      " 3   Cases_Liberia        83 non-null     float64       \n",
      " 4   Cases_SierraLeone    87 non-null     float64       \n",
      " 5   Cases_Nigeria        38 non-null     float64       \n",
      " 6   Cases_Senegal        25 non-null     float64       \n",
      " 7   Cases_UnitedStates   18 non-null     float64       \n",
      " 8   Cases_Spain          16 non-null     float64       \n",
      " 9   Cases_Mali           12 non-null     float64       \n",
      " 10  Deaths_Guinea        92 non-null     float64       \n",
      " 11  Deaths_Liberia       81 non-null     float64       \n",
      " 12  Deaths_SierraLeone   87 non-null     float64       \n",
      " 13  Deaths_Nigeria       38 non-null     float64       \n",
      " 14  Deaths_Senegal       22 non-null     float64       \n",
      " 15  Deaths_UnitedStates  18 non-null     float64       \n",
      " 16  Deaths_Spain         16 non-null     float64       \n",
      " 17  Deaths_Mali          12 non-null     float64       \n",
      "dtypes: datetime64[ns](1), float64(16), int64(1)\n",
      "memory usage: 17.3 KB\n"
     ]
    }
   ],
   "source": [
    "ebola = pd.read_csv('data/country_timeseries.csv',parse_dates=[0])\n",
    "ebola.info()"
   ],
   "metadata": {
    "collapsed": false,
    "ExecuteTime": {
     "end_time": "2023-09-05T02:35:09.083908900Z",
     "start_time": "2023-09-05T02:35:09.069752600Z"
    }
   },
   "id": "65b933d5a6d27620"
  },
  {
   "cell_type": "code",
   "execution_count": 18,
   "outputs": [],
   "source": [
    "time_stamp = pd.to_datetime('2023-09-01')"
   ],
   "metadata": {
    "collapsed": false,
    "ExecuteTime": {
     "end_time": "2023-09-05T02:25:24.288873600Z",
     "start_time": "2023-09-05T02:25:24.268899Z"
    }
   },
   "id": "f7f348bc1339398"
  },
  {
   "cell_type": "code",
   "execution_count": 39,
   "outputs": [
    {
     "data": {
      "text/plain": "2023"
     },
     "execution_count": 39,
     "metadata": {},
     "output_type": "execute_result"
    }
   ],
   "source": [
    "time_stamp.year"
   ],
   "metadata": {
    "collapsed": false,
    "ExecuteTime": {
     "end_time": "2023-09-05T02:31:12.640015Z",
     "start_time": "2023-09-05T02:31:12.623142300Z"
    }
   },
   "id": "9ea492ea5d538478"
  },
  {
   "cell_type": "code",
   "execution_count": 33,
   "outputs": [],
   "source": [
    "ebola['year']=ebola['Date'].dt.year"
   ],
   "metadata": {
    "collapsed": false,
    "ExecuteTime": {
     "end_time": "2023-09-05T02:29:06.122150400Z",
     "start_time": "2023-09-05T02:29:06.109708900Z"
    }
   },
   "id": "7f6dc6c9e7ca3325"
  },
  {
   "cell_type": "code",
   "execution_count": 35,
   "outputs": [],
   "source": [
    "ebola['month'] = ebola['Date'].dt.month"
   ],
   "metadata": {
    "collapsed": false,
    "ExecuteTime": {
     "end_time": "2023-09-05T02:29:41.488852500Z",
     "start_time": "2023-09-05T02:29:41.480067500Z"
    }
   },
   "id": "8b5230e02d3cf51"
  },
  {
   "cell_type": "code",
   "execution_count": 38,
   "outputs": [],
   "source": [
    "ebola['day'] = ebola['Date'].dt.day"
   ],
   "metadata": {
    "collapsed": false,
    "ExecuteTime": {
     "end_time": "2023-09-05T02:30:18.834302600Z",
     "start_time": "2023-09-05T02:30:18.818813400Z"
    }
   },
   "id": "12d2e520617e5dee"
  },
  {
   "cell_type": "markdown",
   "source": [
    "## 日期时间计算"
   ],
   "metadata": {
    "collapsed": false
   },
   "id": "3d1e32894e015e77"
  },
  {
   "cell_type": "code",
   "execution_count": 45,
   "outputs": [
    {
     "data": {
      "text/plain": "0     289 days\n1     288 days\n2     287 days\n3     286 days\n4     284 days\n        ...   \n117     5 days\n118     4 days\n119     3 days\n120     2 days\n121     0 days\nName: Date, Length: 122, dtype: timedelta64[ns]"
     },
     "execution_count": 45,
     "metadata": {},
     "output_type": "execute_result"
    }
   ],
   "source": [
    "ebola['Date'] - ebola['Date'].min()"
   ],
   "metadata": {
    "collapsed": false,
    "ExecuteTime": {
     "end_time": "2023-09-05T02:35:13.405097700Z",
     "start_time": "2023-09-05T02:35:13.383306400Z"
    }
   },
   "id": "fad9c07f3e1f4bdd"
  },
  {
   "cell_type": "code",
   "execution_count": 46,
   "outputs": [],
   "source": [
    "# 日期- 爆发的哪一天  算出疫情有了多少天了\n",
    "ebola['outbreak_d'] = ebola['Date'] - ebola['Date'].min()"
   ],
   "metadata": {
    "collapsed": false,
    "ExecuteTime": {
     "end_time": "2023-09-05T02:36:03.979911300Z",
     "start_time": "2023-09-05T02:36:03.964473100Z"
    }
   },
   "id": "5adbfea219fdc612"
  },
  {
   "cell_type": "code",
   "execution_count": 47,
   "outputs": [
    {
     "name": "stdout",
     "output_type": "stream",
     "text": [
      "<class 'pandas.core.frame.DataFrame'>\n",
      "RangeIndex: 122 entries, 0 to 121\n",
      "Data columns (total 19 columns):\n",
      " #   Column               Non-Null Count  Dtype          \n",
      "---  ------               --------------  -----          \n",
      " 0   Date                 122 non-null    datetime64[ns] \n",
      " 1   Day                  122 non-null    int64          \n",
      " 2   Cases_Guinea         93 non-null     float64        \n",
      " 3   Cases_Liberia        83 non-null     float64        \n",
      " 4   Cases_SierraLeone    87 non-null     float64        \n",
      " 5   Cases_Nigeria        38 non-null     float64        \n",
      " 6   Cases_Senegal        25 non-null     float64        \n",
      " 7   Cases_UnitedStates   18 non-null     float64        \n",
      " 8   Cases_Spain          16 non-null     float64        \n",
      " 9   Cases_Mali           12 non-null     float64        \n",
      " 10  Deaths_Guinea        92 non-null     float64        \n",
      " 11  Deaths_Liberia       81 non-null     float64        \n",
      " 12  Deaths_SierraLeone   87 non-null     float64        \n",
      " 13  Deaths_Nigeria       38 non-null     float64        \n",
      " 14  Deaths_Senegal       22 non-null     float64        \n",
      " 15  Deaths_UnitedStates  18 non-null     float64        \n",
      " 16  Deaths_Spain         16 non-null     float64        \n",
      " 17  Deaths_Mali          12 non-null     float64        \n",
      " 18  outbreak_d           122 non-null    timedelta64[ns]\n",
      "dtypes: datetime64[ns](1), float64(16), int64(1), timedelta64[ns](1)\n",
      "memory usage: 18.2 KB\n"
     ]
    }
   ],
   "source": [
    "ebola.info()"
   ],
   "metadata": {
    "collapsed": false,
    "ExecuteTime": {
     "end_time": "2023-09-05T02:36:08.621648400Z",
     "start_time": "2023-09-05T02:36:08.611758900Z"
    }
   },
   "id": "ab61e73a9907475f"
  },
  {
   "cell_type": "code",
   "execution_count": 48,
   "outputs": [
    {
     "name": "stdout",
     "output_type": "stream",
     "text": [
      "<class 'pandas.core.frame.DataFrame'>\n",
      "RangeIndex: 553 entries, 0 to 552\n",
      "Data columns (total 7 columns):\n",
      " #   Column                 Non-Null Count  Dtype \n",
      "---  ------                 --------------  ----- \n",
      " 0   Bank Name              553 non-null    object\n",
      " 1   City                   553 non-null    object\n",
      " 2   ST                     553 non-null    object\n",
      " 3   CERT                   553 non-null    int64 \n",
      " 4   Acquiring Institution  553 non-null    object\n",
      " 5   Closing Date           553 non-null    object\n",
      " 6   Updated Date           553 non-null    object\n",
      "dtypes: int64(1), object(6)\n",
      "memory usage: 30.4+ KB\n"
     ]
    }
   ],
   "source": [
    "banks = pd.read_csv('data/banklist.csv')\n",
    "banks.info()"
   ],
   "metadata": {
    "collapsed": false,
    "ExecuteTime": {
     "end_time": "2023-09-05T02:36:40.225678800Z",
     "start_time": "2023-09-05T02:36:40.207498600Z"
    }
   },
   "id": "eb44f3b1734fb3d2"
  },
  {
   "cell_type": "code",
   "execution_count": 50,
   "outputs": [],
   "source": [
    "banks = pd.read_csv('data/banklist.csv',parse_dates=[5,6])"
   ],
   "metadata": {
    "collapsed": false,
    "ExecuteTime": {
     "end_time": "2023-09-05T02:37:35.192304100Z",
     "start_time": "2023-09-05T02:37:35.107047300Z"
    }
   },
   "id": "bd7521b6aa658738"
  },
  {
   "cell_type": "code",
   "execution_count": 53,
   "outputs": [
    {
     "data": {
      "text/plain": "Timestamp('2017-05-26 00:00:00')"
     },
     "execution_count": 53,
     "metadata": {},
     "output_type": "execute_result"
    }
   ],
   "source": [
    "banks['Closing Date'].max()"
   ],
   "metadata": {
    "collapsed": false,
    "ExecuteTime": {
     "end_time": "2023-09-05T02:38:00.930996900Z",
     "start_time": "2023-09-05T02:38:00.918362800Z"
    }
   },
   "id": "20c1a0381b313ead"
  },
  {
   "cell_type": "code",
   "execution_count": 54,
   "outputs": [],
   "source": [
    "banks['Closing_Quarter']= banks['Closing Date'].dt.quarter\n",
    "banks['Closing_Year']= banks['Closing Date'].dt.year"
   ],
   "metadata": {
    "collapsed": false,
    "ExecuteTime": {
     "end_time": "2023-09-05T02:39:00.844134200Z",
     "start_time": "2023-09-05T02:39:00.829976800Z"
    }
   },
   "id": "fb1bdb8981b0db32"
  },
  {
   "cell_type": "code",
   "execution_count": 56,
   "outputs": [
    {
     "data": {
      "text/plain": "2010    157\n2009    140\n2011     92\n2012     51\n2008     25\n2013     24\n2014     18\n2002     11\n2015      8\n2017      6\n2016      5\n2004      4\n2001      4\n2007      3\n2003      3\n2000      2\nName: Closing_Year, dtype: int64"
     },
     "execution_count": 56,
     "metadata": {},
     "output_type": "execute_result"
    }
   ],
   "source": [
    "banks['Closing_Year'].value_counts()"
   ],
   "metadata": {
    "collapsed": false,
    "ExecuteTime": {
     "end_time": "2023-09-05T02:39:20.790246200Z",
     "start_time": "2023-09-05T02:39:20.767121700Z"
    }
   },
   "id": "1348bb84e5aadd14"
  },
  {
   "cell_type": "code",
   "execution_count": 59,
   "outputs": [
    {
     "data": {
      "text/plain": "<Axes: xlabel='Closing_Year,Closing_Quarter'>"
     },
     "execution_count": 59,
     "metadata": {},
     "output_type": "execute_result"
    },
    {
     "data": {
      "text/plain": "<Figure size 640x480 with 1 Axes>",
      "image/png": "[encoded data removed]"
     },
     "metadata": {},
     "output_type": "display_data"
    }
   ],
   "source": [
    "banks.groupby(['Closing_Year','Closing_Quarter']).size().plot(grid= True)"
   ],
   "metadata": {
    "collapsed": false,
    "ExecuteTime": {
     "end_time": "2023-09-05T02:41:16.253703300Z",
     "start_time": "2023-09-05T02:41:16.068263300Z"
    }
   },
   "id": "868cc7c28ab740c5"
  },
  {
   "cell_type": "markdown",
   "source": [
    "## 日期时间索引 datetimeIndex"
   ],
   "metadata": {
    "collapsed": false
   },
   "id": "dacbd58a807ff227"
  },
  {
   "cell_type": "code",
   "execution_count": 61,
   "outputs": [],
   "source": [
    "tesla_stock = pd.read_csv('data/TSLA.csv',parse_dates=[0])"
   ],
   "metadata": {
    "collapsed": false,
    "ExecuteTime": {
     "end_time": "2023-09-05T02:57:54.525688500Z",
     "start_time": "2023-09-05T02:57:54.513147100Z"
    }
   },
   "id": "3607d3108c8d5127"
  },
  {
   "cell_type": "code",
   "execution_count": 62,
   "outputs": [
    {
     "name": "stdout",
     "output_type": "stream",
     "text": [
      "<class 'pandas.core.frame.DataFrame'>\n",
      "RangeIndex: 1215 entries, 0 to 1214\n",
      "Data columns (total 7 columns):\n",
      " #   Column     Non-Null Count  Dtype         \n",
      "---  ------     --------------  -----         \n",
      " 0   Date       1215 non-null   datetime64[ns]\n",
      " 1   High       1215 non-null   float64       \n",
      " 2   Low        1215 non-null   float64       \n",
      " 3   Open       1215 non-null   float64       \n",
      " 4   Close      1215 non-null   float64       \n",
      " 5   Volume     1215 non-null   int64         \n",
      " 6   Adj Close  1215 non-null   float64       \n",
      "dtypes: datetime64[ns](1), float64(5), int64(1)\n",
      "memory usage: 66.6 KB\n"
     ]
    }
   ],
   "source": [
    "tesla_stock.info()"
   ],
   "metadata": {
    "collapsed": false,
    "ExecuteTime": {
     "end_time": "2023-09-05T02:57:59.922552500Z",
     "start_time": "2023-09-05T02:57:59.907027100Z"
    }
   },
   "id": "6a3f7246e48b966d"
  },
  {
   "cell_type": "code",
   "execution_count": 63,
   "outputs": [
    {
     "data": {
      "text/plain": "142.32000732421875"
     },
     "execution_count": 63,
     "metadata": {},
     "output_type": "execute_result"
    }
   ],
   "source": [
    "tesla_stock['Open'].min()"
   ],
   "metadata": {
    "collapsed": false,
    "ExecuteTime": {
     "end_time": "2023-09-05T02:58:30.141137600Z",
     "start_time": "2023-09-05T02:58:30.110699800Z"
    }
   },
   "id": "a05c367411ac929d"
  },
  {
   "cell_type": "code",
   "execution_count": 64,
   "outputs": [
    {
     "name": "stdout",
     "output_type": "stream",
     "text": [
      "<class 'pandas.core.frame.DataFrame'>\n",
      "RangeIndex: 1215 entries, 0 to 1214\n",
      "Data columns (total 7 columns):\n",
      " #   Column     Non-Null Count  Dtype         \n",
      "---  ------     --------------  -----         \n",
      " 0   Date       1215 non-null   datetime64[ns]\n",
      " 1   High       1215 non-null   float64       \n",
      " 2   Low        1215 non-null   float64       \n",
      " 3   Open       1215 non-null   float64       \n",
      " 4   Close      1215 non-null   float64       \n",
      " 5   Volume     1215 non-null   int64         \n",
      " 6   Adj Close  1215 non-null   float64       \n",
      "dtypes: datetime64[ns](1), float64(5), int64(1)\n",
      "memory usage: 66.6 KB\n"
     ]
    },
    {
     "data": {
      "text/plain": "1011.8499755859376"
     },
     "execution_count": 64,
     "metadata": {},
     "output_type": "execute_result"
    }
   ],
   "source": [
    "tesla_stock.info()\n",
    "tesla_stock['Open'].max()"
   ],
   "metadata": {
    "collapsed": false,
    "ExecuteTime": {
     "end_time": "2023-09-05T02:58:38.792404Z",
     "start_time": "2023-09-05T02:58:38.774821700Z"
    }
   },
   "id": "a7ea28bdf35517c0"
  },
  {
   "cell_type": "code",
   "execution_count": 96,
   "outputs": [
    {
     "data": {
      "text/plain": "               Date        High         Low        Open       Close   Volume  \\\nref_date                                                                       \n0 days   2015-08-19  260.649994  255.020004  260.329987  255.250000  3604300   \n1 days   2015-08-20  254.559998  241.899994  252.059998  242.179993  4905800   \n2 days   2015-08-21  243.800003  230.509995  236.000000  230.770004  6590200   \n5 days   2015-08-24  231.399994  195.000000  202.789993  218.869995  9581600   \n6 days   2015-08-25  230.899994  219.119995  230.520004  220.029999  4327300   \n7 days   2015-08-26  228.000000  215.509995  227.929993  224.839996  4963000   \n8 days   2015-08-27  244.750000  230.809998  231.000000  242.990005  7656000   \n9 days   2015-08-28  251.449997  241.570007  241.860001  248.479996  5513700   \n12 days  2015-08-31  254.949997  245.509995  245.619995  249.059998  4700200   \n\n           Adj Close  \nref_date              \n0 days    255.250000  \n1 days    242.179993  \n2 days    230.770004  \n5 days    218.869995  \n6 days    220.029999  \n7 days    224.839996  \n8 days    242.990005  \n9 days    248.479996  \n12 days   249.059998  ",
      "text/html": "<div>\n<style scoped>\n    .dataframe tbody tr th:only-of-type {\n        vertical-align: middle;\n    }\n\n    .dataframe tbody tr th {\n        vertical-align: top;\n    }\n\n    .dataframe thead th {\n        text-align: right;\n    }\n</style>\n<table border=\"1\" class=\"dataframe\">\n  <thead>\n    <tr style=\"text-align: right;\">\n      <th></th>\n      <th>Date</th>\n      <th>High</th>\n      <th>Low</th>\n      <th>Open</th>\n      <th>Close</th>\n      <th>Volume</th>\n      <th>Adj Close</th>\n    </tr>\n    <tr>\n      <th>ref_date</th>\n      <th></th>\n      <th></th>\n      <th></th>\n      <th></th>\n      <th></th>\n      <th></th>\n      <th></th>\n    </tr>\n  </thead>\n  <tbody>\n    <tr>\n      <th>0 days</th>\n      <td>2015-08-19</td>\n      <td>260.649994</td>\n      <td>255.020004</td>\n      <td>260.329987</td>\n      <td>255.250000</td>\n      <td>3604300</td>\n      <td>255.250000</td>\n    </tr>\n    <tr>\n      <th>1 days</th>\n      <td>2015-08-20</td>\n      <td>254.559998</td>\n      <td>241.899994</td>\n      <td>252.059998</td>\n      <td>242.179993</td>\n      <td>4905800</td>\n      <td>242.179993</td>\n    </tr>\n    <tr>\n      <th>2 days</th>\n      <td>2015-08-21</td>\n      <td>243.800003</td>\n      <td>230.509995</td>\n      <td>236.000000</td>\n      <td>230.770004</td>\n      <td>6590200</td>\n      <td>230.770004</td>\n    </tr>\n    <tr>\n      <th>5 days</th>\n      <td>2015-08-24</td>\n      <td>231.399994</td>\n      <td>195.000000</td>\n      <td>202.789993</td>\n      <td>218.869995</td>\n      <td>9581600</td>\n      <td>218.869995</td>\n    </tr>\n    <tr>\n      <th>6 days</th>\n      <td>2015-08-25</td>\n      <td>230.899994</td>\n      <td>219.119995</td>\n      <td>230.520004</td>\n      <td>220.029999</td>\n      <td>4327300</td>\n      <td>220.029999</td>\n    </tr>\n    <tr>\n      <th>7 days</th>\n      <td>2015-08-26</td>\n      <td>228.000000</td>\n      <td>215.509995</td>\n      <td>227.929993</td>\n      <td>224.839996</td>\n      <td>4963000</td>\n      <td>224.839996</td>\n    </tr>\n    <tr>\n      <th>8 days</th>\n      <td>2015-08-27</td>\n      <td>244.750000</td>\n      <td>230.809998</td>\n      <td>231.000000</td>\n      <td>242.990005</td>\n      <td>7656000</td>\n      <td>242.990005</td>\n    </tr>\n    <tr>\n      <th>9 days</th>\n      <td>2015-08-28</td>\n      <td>251.449997</td>\n      <td>241.570007</td>\n      <td>241.860001</td>\n      <td>248.479996</td>\n      <td>5513700</td>\n      <td>248.479996</td>\n    </tr>\n    <tr>\n      <th>12 days</th>\n      <td>2015-08-31</td>\n      <td>254.949997</td>\n      <td>245.509995</td>\n      <td>245.619995</td>\n      <td>249.059998</td>\n      <td>4700200</td>\n      <td>249.059998</td>\n    </tr>\n  </tbody>\n</table>\n</div>"
     },
     "execution_count": 96,
     "metadata": {},
     "output_type": "execute_result"
    }
   ],
   "source": [
    "tesla_stock[(tesla_stock['Date'].dt.year==2015) & (tesla_stock['Date'].dt.month==8)]"
   ],
   "metadata": {
    "collapsed": false,
    "ExecuteTime": {
     "end_time": "2023-09-05T03:49:43.072410300Z",
     "start_time": "2023-09-05T03:49:43.050434500Z"
    }
   },
   "id": "f276c340b919a02a"
  },
  {
   "cell_type": "code",
   "execution_count": 68,
   "outputs": [],
   "source": [
    "tesla_stock.set_index('Date',inplace=True)"
   ],
   "metadata": {
    "collapsed": false,
    "ExecuteTime": {
     "end_time": "2023-09-05T03:00:58.309265400Z",
     "start_time": "2023-09-05T03:00:58.286106500Z"
    }
   },
   "id": "f933bb6dd7c47562"
  },
  {
   "cell_type": "code",
   "execution_count": 74,
   "outputs": [
    {
     "data": {
      "text/plain": "                  High         Low        Open       Close   Volume  \\\nDate                                                                  \n2015-08-19  260.649994  255.020004  260.329987  255.250000  3604300   \n2015-08-20  254.559998  241.899994  252.059998  242.179993  4905800   \n2015-08-21  243.800003  230.509995  236.000000  230.770004  6590200   \n2015-08-24  231.399994  195.000000  202.789993  218.869995  9581600   \n2015-08-25  230.899994  219.119995  230.520004  220.029999  4327300   \n2015-08-26  228.000000  215.509995  227.929993  224.839996  4963000   \n2015-08-27  244.750000  230.809998  231.000000  242.990005  7656000   \n2015-08-28  251.449997  241.570007  241.860001  248.479996  5513700   \n2015-08-31  254.949997  245.509995  245.619995  249.059998  4700200   \n\n             Adj Close  \nDate                    \n2015-08-19  255.250000  \n2015-08-20  242.179993  \n2015-08-21  230.770004  \n2015-08-24  218.869995  \n2015-08-25  220.029999  \n2015-08-26  224.839996  \n2015-08-27  242.990005  \n2015-08-28  248.479996  \n2015-08-31  249.059998  ",
      "text/html": "<div>\n<style scoped>\n    .dataframe tbody tr th:only-of-type {\n        vertical-align: middle;\n    }\n\n    .dataframe tbody tr th {\n        vertical-align: top;\n    }\n\n    .dataframe thead th {\n        text-align: right;\n    }\n</style>\n<table border=\"1\" class=\"dataframe\">\n  <thead>\n    <tr style=\"text-align: right;\">\n      <th></th>\n      <th>High</th>\n      <th>Low</th>\n      <th>Open</th>\n      <th>Close</th>\n      <th>Volume</th>\n      <th>Adj Close</th>\n    </tr>\n    <tr>\n      <th>Date</th>\n      <th></th>\n      <th></th>\n      <th></th>\n      <th></th>\n      <th></th>\n      <th></th>\n    </tr>\n  </thead>\n  <tbody>\n    <tr>\n      <th>2015-08-19</th>\n      <td>260.649994</td>\n      <td>255.020004</td>\n      <td>260.329987</td>\n      <td>255.250000</td>\n      <td>3604300</td>\n      <td>255.250000</td>\n    </tr>\n    <tr>\n      <th>2015-08-20</th>\n      <td>254.559998</td>\n      <td>241.899994</td>\n      <td>252.059998</td>\n      <td>242.179993</td>\n      <td>4905800</td>\n      <td>242.179993</td>\n    </tr>\n    <tr>\n      <th>2015-08-21</th>\n      <td>243.800003</td>\n      <td>230.509995</td>\n      <td>236.000000</td>\n      <td>230.770004</td>\n      <td>6590200</td>\n      <td>230.770004</td>\n    </tr>\n    <tr>\n      <th>2015-08-24</th>\n      <td>231.399994</td>\n      <td>195.000000</td>\n      <td>202.789993</td>\n      <td>218.869995</td>\n      <td>9581600</td>\n      <td>218.869995</td>\n    </tr>\n    <tr>\n      <th>2015-08-25</th>\n      <td>230.899994</td>\n      <td>219.119995</td>\n      <td>230.520004</td>\n      <td>220.029999</td>\n      <td>4327300</td>\n      <td>220.029999</td>\n    </tr>\n    <tr>\n      <th>2015-08-26</th>\n      <td>228.000000</td>\n      <td>215.509995</td>\n      <td>227.929993</td>\n      <td>224.839996</td>\n      <td>4963000</td>\n      <td>224.839996</td>\n    </tr>\n    <tr>\n      <th>2015-08-27</th>\n      <td>244.750000</td>\n      <td>230.809998</td>\n      <td>231.000000</td>\n      <td>242.990005</td>\n      <td>7656000</td>\n      <td>242.990005</td>\n    </tr>\n    <tr>\n      <th>2015-08-28</th>\n      <td>251.449997</td>\n      <td>241.570007</td>\n      <td>241.860001</td>\n      <td>248.479996</td>\n      <td>5513700</td>\n      <td>248.479996</td>\n    </tr>\n    <tr>\n      <th>2015-08-31</th>\n      <td>254.949997</td>\n      <td>245.509995</td>\n      <td>245.619995</td>\n      <td>249.059998</td>\n      <td>4700200</td>\n      <td>249.059998</td>\n    </tr>\n  </tbody>\n</table>\n</div>"
     },
     "execution_count": 74,
     "metadata": {},
     "output_type": "execute_result"
    }
   ],
   "source": [
    "tesla_stock.loc['2015-08']"
   ],
   "metadata": {
    "collapsed": false,
    "ExecuteTime": {
     "end_time": "2023-09-05T03:02:27.814384900Z",
     "start_time": "2023-09-05T03:02:27.798857100Z"
    }
   },
   "id": "6631ace9a8880387"
  },
  {
   "cell_type": "markdown",
   "source": [
    "- 如果是一个时间点 TimeStamp\n",
    "- 如果是一列数据是时间 datetime64   把这个设置成index → datetimeIndex\n",
    "- 如果一列数据是两个datetime 相减得到的 timedelta64  → timedeltaIndex"
   ],
   "metadata": {
    "collapsed": false
   },
   "id": "d8f3db012072457f"
  },
  {
   "cell_type": "code",
   "execution_count": 77,
   "outputs": [],
   "source": [
    "tesla_stock.reset_index(inplace=True)"
   ],
   "metadata": {
    "collapsed": false,
    "ExecuteTime": {
     "end_time": "2023-09-05T03:05:05.243228300Z",
     "start_time": "2023-09-05T03:05:05.213708300Z"
    }
   },
   "id": "37085ebcee8f8f27"
  },
  {
   "cell_type": "code",
   "execution_count": 82,
   "outputs": [],
   "source": [
    "tesla_stock['ref_date'] = tesla_stock['Date']-tesla_stock['Date'].min()"
   ],
   "metadata": {
    "collapsed": false,
    "ExecuteTime": {
     "end_time": "2023-09-05T03:05:47.610226400Z",
     "start_time": "2023-09-05T03:05:47.591490700Z"
    }
   },
   "id": "7de3520b58a940d6"
  },
  {
   "cell_type": "code",
   "execution_count": 83,
   "outputs": [],
   "source": [
    "tesla_stock.set_index('ref_date',inplace=True)"
   ],
   "metadata": {
    "collapsed": false,
    "ExecuteTime": {
     "end_time": "2023-09-05T03:06:06.698391600Z",
     "start_time": "2023-09-05T03:06:06.680508300Z"
    }
   },
   "id": "4ce7bfd2bf27c865"
  },
  {
   "cell_type": "code",
   "execution_count": 86,
   "outputs": [
    {
     "data": {
      "text/plain": "TimedeltaIndex([   '0 days',    '1 days',    '2 days',    '5 days',\n                   '6 days',    '7 days',    '8 days',    '9 days',\n                  '12 days',   '13 days',\n                ...\n                '1750 days', '1751 days', '1752 days', '1755 days',\n                '1756 days', '1757 days', '1758 days', '1759 days',\n                '1762 days', '1763 days'],\n               dtype='timedelta64[ns]', name='ref_date', length=1215, freq=None)"
     },
     "execution_count": 86,
     "metadata": {},
     "output_type": "execute_result"
    }
   ],
   "source": [
    "tesla_stock.index"
   ],
   "metadata": {
    "collapsed": false,
    "ExecuteTime": {
     "end_time": "2023-09-05T03:06:36.474627700Z",
     "start_time": "2023-09-05T03:06:36.456805700Z"
    }
   },
   "id": "6e3b308c483dc5fb"
  },
  {
   "cell_type": "code",
   "execution_count": 90,
   "outputs": [
    {
     "data": {
      "text/plain": "                Date         High         Low         Open        Close  \\\nref_date                                                                  \n0 days    2015-08-19   260.649994  255.020004   260.329987   255.250000   \n1 days    2015-08-20   254.559998  241.899994   252.059998   242.179993   \n2 days    2015-08-21   243.800003  230.509995   236.000000   230.770004   \n5 days    2015-08-24   231.399994  195.000000   202.789993   218.869995   \n6 days    2015-08-25   230.899994  219.119995   230.520004   220.029999   \n...              ...          ...         ...          ...          ...   \n1757 days 2020-06-10  1027.479980  982.500000   991.880005  1025.050049   \n1758 days 2020-06-11  1018.960022  972.000000   990.200012   972.840027   \n1759 days 2020-06-12   987.979980  912.599976   980.000000   935.280029   \n1762 days 2020-06-15   998.840027  908.500000   917.789978   990.900024   \n1763 days 2020-06-16  1012.880005  962.390015  1011.849976   982.130005   \n\n             Volume    Adj Close  \nref_date                          \n0 days      3604300   255.250000  \n1 days      4905800   242.179993  \n2 days      6590200   230.770004  \n5 days      9581600   218.869995  \n6 days      4327300   220.029999  \n...             ...          ...  \n1757 days  18563400  1025.050049  \n1758 days  15916500   972.840027  \n1759 days  16730200   935.280029  \n1762 days  15697200   990.900024  \n1763 days  14051100   982.130005  \n\n[1215 rows x 7 columns]",
      "text/html": "<div>\n<style scoped>\n    .dataframe tbody tr th:only-of-type {\n        vertical-align: middle;\n    }\n\n    .dataframe tbody tr th {\n        vertical-align: top;\n    }\n\n    .dataframe thead th {\n        text-align: right;\n    }\n</style>\n<table border=\"1\" class=\"dataframe\">\n  <thead>\n    <tr style=\"text-align: right;\">\n      <th></th>\n      <th>Date</th>\n      <th>High</th>\n      <th>Low</th>\n      <th>Open</th>\n      <th>Close</th>\n      <th>Volume</th>\n      <th>Adj Close</th>\n    </tr>\n    <tr>\n      <th>ref_date</th>\n      <th></th>\n      <th></th>\n      <th></th>\n      <th></th>\n      <th></th>\n      <th></th>\n      <th></th>\n    </tr>\n  </thead>\n  <tbody>\n    <tr>\n      <th>0 days</th>\n      <td>2015-08-19</td>\n      <td>260.649994</td>\n      <td>255.020004</td>\n      <td>260.329987</td>\n      <td>255.250000</td>\n      <td>3604300</td>\n      <td>255.250000</td>\n    </tr>\n    <tr>\n      <th>1 days</th>\n      <td>2015-08-20</td>\n      <td>254.559998</td>\n      <td>241.899994</td>\n      <td>252.059998</td>\n      <td>242.179993</td>\n      <td>4905800</td>\n      <td>242.179993</td>\n    </tr>\n    <tr>\n      <th>2 days</th>\n      <td>2015-08-21</td>\n      <td>243.800003</td>\n      <td>230.509995</td>\n      <td>236.000000</td>\n      <td>230.770004</td>\n      <td>6590200</td>\n      <td>230.770004</td>\n    </tr>\n    <tr>\n      <th>5 days</th>\n      <td>2015-08-24</td>\n      <td>231.399994</td>\n      <td>195.000000</td>\n      <td>202.789993</td>\n      <td>218.869995</td>\n      <td>9581600</td>\n      <td>218.869995</td>\n    </tr>\n    <tr>\n      <th>6 days</th>\n      <td>2015-08-25</td>\n      <td>230.899994</td>\n      <td>219.119995</td>\n      <td>230.520004</td>\n      <td>220.029999</td>\n      <td>4327300</td>\n      <td>220.029999</td>\n    </tr>\n    <tr>\n      <th>...</th>\n      <td>...</td>\n      <td>...</td>\n      <td>...</td>\n      <td>...</td>\n      <td>...</td>\n      <td>...</td>\n      <td>...</td>\n    </tr>\n    <tr>\n      <th>1757 days</th>\n      <td>2020-06-10</td>\n      <td>1027.479980</td>\n      <td>982.500000</td>\n      <td>991.880005</td>\n      <td>1025.050049</td>\n      <td>18563400</td>\n      <td>1025.050049</td>\n    </tr>\n    <tr>\n      <th>1758 days</th>\n      <td>2020-06-11</td>\n      <td>1018.960022</td>\n      <td>972.000000</td>\n      <td>990.200012</td>\n      <td>972.840027</td>\n      <td>15916500</td>\n      <td>972.840027</td>\n    </tr>\n    <tr>\n      <th>1759 days</th>\n      <td>2020-06-12</td>\n      <td>987.979980</td>\n      <td>912.599976</td>\n      <td>980.000000</td>\n      <td>935.280029</td>\n      <td>16730200</td>\n      <td>935.280029</td>\n    </tr>\n    <tr>\n      <th>1762 days</th>\n      <td>2020-06-15</td>\n      <td>998.840027</td>\n      <td>908.500000</td>\n      <td>917.789978</td>\n      <td>990.900024</td>\n      <td>15697200</td>\n      <td>990.900024</td>\n    </tr>\n    <tr>\n      <th>1763 days</th>\n      <td>2020-06-16</td>\n      <td>1012.880005</td>\n      <td>962.390015</td>\n      <td>1011.849976</td>\n      <td>982.130005</td>\n      <td>14051100</td>\n      <td>982.130005</td>\n    </tr>\n  </tbody>\n</table>\n<p>1215 rows × 7 columns</p>\n</div>"
     },
     "execution_count": 90,
     "metadata": {},
     "output_type": "execute_result"
    }
   ],
   "source": [
    "tesla_stock"
   ],
   "metadata": {
    "collapsed": false,
    "ExecuteTime": {
     "end_time": "2023-09-05T03:07:17.907955800Z",
     "start_time": "2023-09-05T03:07:17.892261700Z"
    }
   },
   "id": "a82cc4d29d3a8fcf"
  },
  {
   "cell_type": "code",
   "execution_count": 89,
   "outputs": [
    {
     "data": {
      "text/plain": "               Date        High         Low        Open       Close   Volume  \\\nref_date                                                                       \n0 days   2015-08-19  260.649994  255.020004  260.329987  255.250000  3604300   \n1 days   2015-08-20  254.559998  241.899994  252.059998  242.179993  4905800   \n2 days   2015-08-21  243.800003  230.509995  236.000000  230.770004  6590200   \n\n           Adj Close  \nref_date              \n0 days    255.250000  \n1 days    242.179993  \n2 days    230.770004  ",
      "text/html": "<div>\n<style scoped>\n    .dataframe tbody tr th:only-of-type {\n        vertical-align: middle;\n    }\n\n    .dataframe tbody tr th {\n        vertical-align: top;\n    }\n\n    .dataframe thead th {\n        text-align: right;\n    }\n</style>\n<table border=\"1\" class=\"dataframe\">\n  <thead>\n    <tr style=\"text-align: right;\">\n      <th></th>\n      <th>Date</th>\n      <th>High</th>\n      <th>Low</th>\n      <th>Open</th>\n      <th>Close</th>\n      <th>Volume</th>\n      <th>Adj Close</th>\n    </tr>\n    <tr>\n      <th>ref_date</th>\n      <th></th>\n      <th></th>\n      <th></th>\n      <th></th>\n      <th></th>\n      <th></th>\n      <th></th>\n    </tr>\n  </thead>\n  <tbody>\n    <tr>\n      <th>0 days</th>\n      <td>2015-08-19</td>\n      <td>260.649994</td>\n      <td>255.020004</td>\n      <td>260.329987</td>\n      <td>255.250000</td>\n      <td>3604300</td>\n      <td>255.250000</td>\n    </tr>\n    <tr>\n      <th>1 days</th>\n      <td>2015-08-20</td>\n      <td>254.559998</td>\n      <td>241.899994</td>\n      <td>252.059998</td>\n      <td>242.179993</td>\n      <td>4905800</td>\n      <td>242.179993</td>\n    </tr>\n    <tr>\n      <th>2 days</th>\n      <td>2015-08-21</td>\n      <td>243.800003</td>\n      <td>230.509995</td>\n      <td>236.000000</td>\n      <td>230.770004</td>\n      <td>6590200</td>\n      <td>230.770004</td>\n    </tr>\n  </tbody>\n</table>\n</div>"
     },
     "execution_count": 89,
     "metadata": {},
     "output_type": "execute_result"
    }
   ],
   "source": [
    "tesla_stock.loc['0 days':'4 days']"
   ],
   "metadata": {
    "collapsed": false,
    "ExecuteTime": {
     "end_time": "2023-09-05T03:07:01.096979700Z",
     "start_time": "2023-09-05T03:07:01.073072500Z"
    }
   },
   "id": "a6bbea9f2a47b851"
  },
  {
   "cell_type": "code",
   "execution_count": 100,
   "outputs": [
    {
     "data": {
      "text/plain": "               Date        High         Low        Open       Close   Volume  \\\nref_date                                                                       \n2 days   2015-08-21  243.800003  230.509995  236.000000  230.770004  6590200   \n1 days   2015-08-20  254.559998  241.899994  252.059998  242.179993  4905800   \n\n           Adj Close  \nref_date              \n2 days    230.770004  \n1 days    242.179993  ",
      "text/html": "<div>\n<style scoped>\n    .dataframe tbody tr th:only-of-type {\n        vertical-align: middle;\n    }\n\n    .dataframe tbody tr th {\n        vertical-align: top;\n    }\n\n    .dataframe thead th {\n        text-align: right;\n    }\n</style>\n<table border=\"1\" class=\"dataframe\">\n  <thead>\n    <tr style=\"text-align: right;\">\n      <th></th>\n      <th>Date</th>\n      <th>High</th>\n      <th>Low</th>\n      <th>Open</th>\n      <th>Close</th>\n      <th>Volume</th>\n      <th>Adj Close</th>\n    </tr>\n    <tr>\n      <th>ref_date</th>\n      <th></th>\n      <th></th>\n      <th></th>\n      <th></th>\n      <th></th>\n      <th></th>\n      <th></th>\n    </tr>\n  </thead>\n  <tbody>\n    <tr>\n      <th>2 days</th>\n      <td>2015-08-21</td>\n      <td>243.800003</td>\n      <td>230.509995</td>\n      <td>236.000000</td>\n      <td>230.770004</td>\n      <td>6590200</td>\n      <td>230.770004</td>\n    </tr>\n    <tr>\n      <th>1 days</th>\n      <td>2015-08-20</td>\n      <td>254.559998</td>\n      <td>241.899994</td>\n      <td>252.059998</td>\n      <td>242.179993</td>\n      <td>4905800</td>\n      <td>242.179993</td>\n    </tr>\n  </tbody>\n</table>\n</div>"
     },
     "execution_count": 100,
     "metadata": {},
     "output_type": "execute_result"
    }
   ],
   "source": [
    "tesla_stock.sort_index(ascending=False)['4 days':'0 days']"
   ],
   "metadata": {
    "collapsed": false,
    "ExecuteTime": {
     "end_time": "2023-09-05T03:50:52.427062200Z",
     "start_time": "2023-09-05T03:50:52.385203400Z"
    }
   },
   "id": "90a2429a6375e0b5"
  },
  {
   "cell_type": "markdown",
   "source": [
    "## 生成日期时间序列"
   ],
   "metadata": {
    "collapsed": false
   },
   "id": "b38cd3c13320781f"
  },
  {
   "cell_type": "code",
   "execution_count": 91,
   "outputs": [
    {
     "data": {
      "text/plain": "DatetimeIndex(['2023-08-01', '2023-08-02', '2023-08-03', '2023-08-04',\n               '2023-08-07', '2023-08-08', '2023-08-09', '2023-08-10',\n               '2023-08-11', '2023-08-14', '2023-08-15', '2023-08-16',\n               '2023-08-17', '2023-08-18', '2023-08-21', '2023-08-22',\n               '2023-08-23', '2023-08-24', '2023-08-25', '2023-08-28',\n               '2023-08-29', '2023-08-30', '2023-08-31', '2023-09-01',\n               '2023-09-04', '2023-09-05', '2023-09-06', '2023-09-07',\n               '2023-09-08', '2023-09-11', '2023-09-12', '2023-09-13',\n               '2023-09-14', '2023-09-15', '2023-09-18', '2023-09-19',\n               '2023-09-20', '2023-09-21', '2023-09-22', '2023-09-25',\n               '2023-09-26', '2023-09-27', '2023-09-28', '2023-09-29',\n               '2023-10-02', '2023-10-03', '2023-10-04', '2023-10-05',\n               '2023-10-06', '2023-10-09', '2023-10-10', '2023-10-11',\n               '2023-10-12', '2023-10-13', '2023-10-16', '2023-10-17',\n               '2023-10-18', '2023-10-19', '2023-10-20', '2023-10-23',\n               '2023-10-24', '2023-10-25', '2023-10-26', '2023-10-27',\n               '2023-10-30'],\n              dtype='datetime64[ns]', freq='B')"
     },
     "execution_count": 91,
     "metadata": {},
     "output_type": "execute_result"
    }
   ],
   "source": [
    "pd.date_range('2023-08-01','2023-10-30',freq='B')"
   ],
   "metadata": {
    "collapsed": false,
    "ExecuteTime": {
     "end_time": "2023-09-05T03:18:16.011007700Z",
     "start_time": "2023-09-05T03:18:15.973175400Z"
    }
   },
   "id": "120fb21dea455d06"
  },
  {
   "cell_type": "code",
   "execution_count": 92,
   "outputs": [
    {
     "data": {
      "text/plain": "DatetimeIndex(['2023-08-01', '2023-08-03', '2023-08-07', '2023-08-09',\n               '2023-08-11', '2023-08-15', '2023-08-17', '2023-08-21',\n               '2023-08-23', '2023-08-25', '2023-08-29', '2023-08-31',\n               '2023-09-04', '2023-09-06', '2023-09-08', '2023-09-12',\n               '2023-09-14', '2023-09-18', '2023-09-20', '2023-09-22',\n               '2023-09-26', '2023-09-28', '2023-10-02', '2023-10-04',\n               '2023-10-06', '2023-10-10', '2023-10-12', '2023-10-16',\n               '2023-10-18', '2023-10-20', '2023-10-24', '2023-10-26',\n               '2023-10-30'],\n              dtype='datetime64[ns]', freq='2B')"
     },
     "execution_count": 92,
     "metadata": {},
     "output_type": "execute_result"
    }
   ],
   "source": [
    "pd.date_range('2023-08-01','2023-10-30',freq='2B')"
   ],
   "metadata": {
    "collapsed": false,
    "ExecuteTime": {
     "end_time": "2023-09-05T03:19:06.799556800Z",
     "start_time": "2023-09-05T03:19:06.774004200Z"
    }
   },
   "id": "f90ea60bec215013"
  },
  {
   "cell_type": "code",
   "execution_count": 94,
   "outputs": [
    {
     "data": {
      "text/plain": "DatetimeIndex(['2023-08-18', '2023-09-15', '2023-10-20'], dtype='datetime64[ns]', freq='WOM-3FRI')"
     },
     "execution_count": 94,
     "metadata": {},
     "output_type": "execute_result"
    }
   ],
   "source": [
    "pd.date_range('2023-08-01','2023-10-30',freq='WOM-1THU')\n",
    "pd.date_range('2023-08-01','2023-10-30',freq='WOM-3FRI')"
   ],
   "metadata": {
    "collapsed": false,
    "ExecuteTime": {
     "end_time": "2023-09-05T03:20:36.772378Z",
     "start_time": "2023-09-05T03:20:36.752131Z"
    }
   },
   "id": "c9e4ce402eec5a56"
  },
  {
   "cell_type": "code",
   "execution_count": 102,
   "outputs": [
    {
     "data": {
      "text/plain": "0      0\n1      6\n2      5\n3      4\n4      2\n      ..\n117    3\n118    2\n119    1\n120    0\n121    5\nName: Date, Length: 122, dtype: int64"
     },
     "execution_count": 102,
     "metadata": {},
     "output_type": "execute_result"
    }
   ],
   "source": [
    "ebola['Date'].dt.dayofweek"
   ],
   "metadata": {
    "collapsed": false,
    "ExecuteTime": {
     "end_time": "2023-09-05T03:57:20.243248600Z",
     "start_time": "2023-09-05T03:57:20.226096Z"
    }
   },
   "id": "8067f2656aaa745e"
  },
  {
   "cell_type": "markdown",
   "source": [
    "## 日期时间类型练习"
   ],
   "metadata": {
    "collapsed": false
   },
   "id": "5e51d93e3cb30819"
  },
  {
   "cell_type": "code",
   "execution_count": 104,
   "outputs": [],
   "source": [
    "crime = pd.read_csv('data/crime.csv',parse_dates=['REPORTED_DATE'])"
   ],
   "metadata": {
    "collapsed": false,
    "ExecuteTime": {
     "end_time": "2023-09-05T04:00:20.360389500Z",
     "start_time": "2023-09-05T04:00:19.331401100Z"
    }
   },
   "id": "d832f864d99bf833"
  },
  {
   "cell_type": "code",
   "execution_count": 105,
   "outputs": [
    {
     "data": {
      "text/plain": "                     OFFENSE_TYPE_ID OFFENSE_CATEGORY_ID       REPORTED_DATE  \\\n0          traffic-accident-dui-duid    traffic-accident 2014-06-29 02:01:00   \n1         vehicular-eluding-no-chase    all-other-crimes 2014-06-29 01:54:00   \n2               disturbing-the-peace     public-disorder 2014-06-29 02:00:00   \n3                             curfew     public-disorder 2014-06-29 02:18:00   \n4                 aggravated-assault  aggravated-assault 2014-06-29 04:17:00   \n...                              ...                 ...                 ...   \n460906    burglary-business-by-force            burglary 2017-09-13 05:48:00   \n460907  weapon-unlawful-discharge-of    all-other-crimes 2017-09-12 20:37:00   \n460908        traf-habitual-offender    all-other-crimes 2017-09-12 16:32:00   \n460909       criminal-mischief-other     public-disorder 2017-09-12 13:04:00   \n460910                   theft-other             larceny 2017-09-12 09:30:00   \n\n           GEO_LON    GEO_LAT            NEIGHBORHOOD_ID  IS_CRIME  IS_TRAFFIC  \n0      -105.000149  39.745753                        cbd         0           1  \n1      -104.884660  39.738702                east-colfax         1           0  \n2      -105.020719  39.706674                athmar-park         1           0  \n3      -105.001552  39.769505                  sunnyside         1           0  \n4      -105.018557  39.679229  college-view-south-platte         1           0  \n...            ...        ...                        ...       ...         ...  \n460906 -105.033840  39.762365              west-highland         1           0  \n460907 -105.040313  39.721264                barnum-west         1           0  \n460908 -104.847024  39.779596                  montbello         1           0  \n460909 -104.949183  39.756353                    skyland         1           0  \n460910 -104.985739  39.735045               capitol-hill         1           0  \n\n[460911 rows x 8 columns]",
      "text/html": "<div>\n<style scoped>\n    .dataframe tbody tr th:only-of-type {\n        vertical-align: middle;\n    }\n\n    .dataframe tbody tr th {\n        vertical-align: top;\n    }\n\n    .dataframe thead th {\n        text-align: right;\n    }\n</style>\n<table border=\"1\" class=\"dataframe\">\n  <thead>\n    <tr style=\"text-align: right;\">\n      <th></th>\n      <th>OFFENSE_TYPE_ID</th>\n      <th>OFFENSE_CATEGORY_ID</th>\n      <th>REPORTED_DATE</th>\n      <th>GEO_LON</th>\n      <th>GEO_LAT</th>\n      <th>NEIGHBORHOOD_ID</th>\n      <th>IS_CRIME</th>\n      <th>IS_TRAFFIC</th>\n    </tr>\n  </thead>\n  <tbody>\n    <tr>\n      <th>0</th>\n      <td>traffic-accident-dui-duid</td>\n      <td>traffic-accident</td>\n      <td>2014-06-29 02:01:00</td>\n      <td>-105.000149</td>\n      <td>39.745753</td>\n      <td>cbd</td>\n      <td>0</td>\n      <td>1</td>\n    </tr>\n    <tr>\n      <th>1</th>\n      <td>vehicular-eluding-no-chase</td>\n      <td>all-other-crimes</td>\n      <td>2014-06-29 01:54:00</td>\n      <td>-104.884660</td>\n      <td>39.738702</td>\n      <td>east-colfax</td>\n      <td>1</td>\n      <td>0</td>\n    </tr>\n    <tr>\n      <th>2</th>\n      <td>disturbing-the-peace</td>\n      <td>public-disorder</td>\n      <td>2014-06-29 02:00:00</td>\n      <td>-105.020719</td>\n      <td>39.706674</td>\n      <td>athmar-park</td>\n      <td>1</td>\n      <td>0</td>\n    </tr>\n    <tr>\n      <th>3</th>\n      <td>curfew</td>\n      <td>public-disorder</td>\n      <td>2014-06-29 02:18:00</td>\n      <td>-105.001552</td>\n      <td>39.769505</td>\n      <td>sunnyside</td>\n      <td>1</td>\n      <td>0</td>\n    </tr>\n    <tr>\n      <th>4</th>\n      <td>aggravated-assault</td>\n      <td>aggravated-assault</td>\n      <td>2014-06-29 04:17:00</td>\n      <td>-105.018557</td>\n      <td>39.679229</td>\n      <td>college-view-south-platte</td>\n      <td>1</td>\n      <td>0</td>\n    </tr>\n    <tr>\n      <th>...</th>\n      <td>...</td>\n      <td>...</td>\n      <td>...</td>\n      <td>...</td>\n      <td>...</td>\n      <td>...</td>\n      <td>...</td>\n      <td>...</td>\n    </tr>\n    <tr>\n      <th>460906</th>\n      <td>burglary-business-by-force</td>\n      <td>burglary</td>\n      <td>2017-09-13 05:48:00</td>\n      <td>-105.033840</td>\n      <td>39.762365</td>\n      <td>west-highland</td>\n      <td>1</td>\n      <td>0</td>\n    </tr>\n    <tr>\n      <th>460907</th>\n      <td>weapon-unlawful-discharge-of</td>\n      <td>all-other-crimes</td>\n      <td>2017-09-12 20:37:00</td>\n      <td>-105.040313</td>\n      <td>39.721264</td>\n      <td>barnum-west</td>\n      <td>1</td>\n      <td>0</td>\n    </tr>\n    <tr>\n      <th>460908</th>\n      <td>traf-habitual-offender</td>\n      <td>all-other-crimes</td>\n      <td>2017-09-12 16:32:00</td>\n      <td>-104.847024</td>\n      <td>39.779596</td>\n      <td>montbello</td>\n      <td>1</td>\n      <td>0</td>\n    </tr>\n    <tr>\n      <th>460909</th>\n      <td>criminal-mischief-other</td>\n      <td>public-disorder</td>\n      <td>2017-09-12 13:04:00</td>\n      <td>-104.949183</td>\n      <td>39.756353</td>\n      <td>skyland</td>\n      <td>1</td>\n      <td>0</td>\n    </tr>\n    <tr>\n      <th>460910</th>\n      <td>theft-other</td>\n      <td>larceny</td>\n      <td>2017-09-12 09:30:00</td>\n      <td>-104.985739</td>\n      <td>39.735045</td>\n      <td>capitol-hill</td>\n      <td>1</td>\n      <td>0</td>\n    </tr>\n  </tbody>\n</table>\n<p>460911 rows × 8 columns</p>\n</div>"
     },
     "execution_count": 105,
     "metadata": {},
     "output_type": "execute_result"
    }
   ],
   "source": [
    "crime"
   ],
   "metadata": {
    "collapsed": false,
    "ExecuteTime": {
     "end_time": "2023-09-05T04:00:26.022179200Z",
     "start_time": "2023-09-05T04:00:26.011497300Z"
    }
   },
   "id": "faec8a8ddb769e8a"
  },
  {
   "cell_type": "code",
   "execution_count": 106,
   "outputs": [
    {
     "data": {
      "text/plain": "traffic-accident                125060\nall-other-crimes                 72343\npublic-disorder                  50807\nlarceny                          48351\ntheft-from-motor-vehicle         35945\ndrug-alcohol                     28984\nburglary                         26606\nauto-theft                       23453\nother-crimes-against-persons     21137\naggravated-assault               10961\nrobbery                           6559\nwhite-collar-crime                6219\nsexual-assault                    3615\narson                              602\nmurder                             269\nName: OFFENSE_CATEGORY_ID, dtype: int64"
     },
     "execution_count": 106,
     "metadata": {},
     "output_type": "execute_result"
    }
   ],
   "source": [
    "crime['OFFENSE_CATEGORY_ID'].value_counts()"
   ],
   "metadata": {
    "collapsed": false,
    "ExecuteTime": {
     "end_time": "2023-09-05T04:00:56.313235100Z",
     "start_time": "2023-09-05T04:00:56.275056700Z"
    }
   },
   "id": "ba564d038f1421bd"
  },
  {
   "cell_type": "code",
   "execution_count": 107,
   "outputs": [],
   "source": [
    "# 把报警时间设置为行索引\n",
    "crime.set_index('REPORTED_DATE',inplace=True)"
   ],
   "metadata": {
    "collapsed": false,
    "ExecuteTime": {
     "end_time": "2023-09-05T06:31:33.005672500Z",
     "start_time": "2023-09-05T06:31:32.984282100Z"
    }
   },
   "id": "379e29d976d43fc8"
  },
  {
   "cell_type": "code",
   "execution_count": 109,
   "outputs": [
    {
     "data": {
      "text/plain": "                               OFFENSE_TYPE_ID       OFFENSE_CATEGORY_ID  \\\nREPORTED_DATE                                                              \n2016-05-11 00:05:00       disturbing-the-peace           public-disorder   \n2016-05-11 00:38:00     theft-of-motor-vehicle                auto-theft   \n2016-05-11 03:50:00    drug-poss-paraphernalia              drug-alcohol   \n2016-05-11 04:17:00   police-false-information          all-other-crimes   \n2016-05-11 03:40:00   theft-items-from-vehicle  theft-from-motor-vehicle   \n...                                        ...                       ...   \n2016-05-11 20:13:00           traffic-accident          traffic-accident   \n2016-05-11 01:55:00                 traf-other          all-other-crimes   \n2016-05-11 01:39:00  public-order-crimes-other          all-other-crimes   \n2016-05-11 18:52:00         aggravated-assault        aggravated-assault   \n2016-05-11 20:19:00         aggravated-assault        aggravated-assault   \n\n                        GEO_LON    GEO_LAT NEIGHBORHOOD_ID  IS_CRIME  \\\nREPORTED_DATE                                                          \n2016-05-11 00:05:00 -105.066050  39.654299     bear-valley         1   \n2016-05-11 00:38:00 -104.941259  39.773240  elyria-swansea         1   \n2016-05-11 03:50:00 -104.970497  39.768277            cole         1   \n2016-05-11 04:17:00 -105.053182  39.675607     harvey-park         1   \n2016-05-11 03:40:00 -104.989308  39.761519     five-points         1   \n...                         ...        ...             ...       ...   \n2016-05-11 20:13:00 -104.903433  39.778300       stapleton         0   \n2016-05-11 01:55:00 -104.981523  39.757469     five-points         1   \n2016-05-11 01:39:00 -104.987565  39.700698           baker         1   \n2016-05-11 18:52:00 -104.972747  39.757633        whittier         1   \n2016-05-11 20:19:00 -105.029808  39.769547        berkeley         1   \n\n                     IS_TRAFFIC  \nREPORTED_DATE                    \n2016-05-11 00:05:00           0  \n2016-05-11 00:38:00           0  \n2016-05-11 03:50:00           0  \n2016-05-11 04:17:00           0  \n2016-05-11 03:40:00           0  \n...                         ...  \n2016-05-11 20:13:00           1  \n2016-05-11 01:55:00           0  \n2016-05-11 01:39:00           0  \n2016-05-11 18:52:00           0  \n2016-05-11 20:19:00           0  \n\n[289 rows x 7 columns]",
      "text/html": "<div>\n<style scoped>\n    .dataframe tbody tr th:only-of-type {\n        vertical-align: middle;\n    }\n\n    .dataframe tbody tr th {\n        vertical-align: top;\n    }\n\n    .dataframe thead th {\n        text-align: right;\n    }\n</style>\n<table border=\"1\" class=\"dataframe\">\n  <thead>\n    <tr style=\"text-align: right;\">\n      <th></th>\n      <th>OFFENSE_TYPE_ID</th>\n      <th>OFFENSE_CATEGORY_ID</th>\n      <th>GEO_LON</th>\n      <th>GEO_LAT</th>\n      <th>NEIGHBORHOOD_ID</th>\n      <th>IS_CRIME</th>\n      <th>IS_TRAFFIC</th>\n    </tr>\n    <tr>\n      <th>REPORTED_DATE</th>\n      <th></th>\n      <th></th>\n      <th></th>\n      <th></th>\n      <th></th>\n      <th></th>\n      <th></th>\n    </tr>\n  </thead>\n  <tbody>\n    <tr>\n      <th>2016-05-11 00:05:00</th>\n      <td>disturbing-the-peace</td>\n      <td>public-disorder</td>\n      <td>-105.066050</td>\n      <td>39.654299</td>\n      <td>bear-valley</td>\n      <td>1</td>\n      <td>0</td>\n    </tr>\n    <tr>\n      <th>2016-05-11 00:38:00</th>\n      <td>theft-of-motor-vehicle</td>\n      <td>auto-theft</td>\n      <td>-104.941259</td>\n      <td>39.773240</td>\n      <td>elyria-swansea</td>\n      <td>1</td>\n      <td>0</td>\n    </tr>\n    <tr>\n      <th>2016-05-11 03:50:00</th>\n      <td>drug-poss-paraphernalia</td>\n      <td>drug-alcohol</td>\n      <td>-104.970497</td>\n      <td>39.768277</td>\n      <td>cole</td>\n      <td>1</td>\n      <td>0</td>\n    </tr>\n    <tr>\n      <th>2016-05-11 04:17:00</th>\n      <td>police-false-information</td>\n      <td>all-other-crimes</td>\n      <td>-105.053182</td>\n      <td>39.675607</td>\n      <td>harvey-park</td>\n      <td>1</td>\n      <td>0</td>\n    </tr>\n    <tr>\n      <th>2016-05-11 03:40:00</th>\n      <td>theft-items-from-vehicle</td>\n      <td>theft-from-motor-vehicle</td>\n      <td>-104.989308</td>\n      <td>39.761519</td>\n      <td>five-points</td>\n      <td>1</td>\n      <td>0</td>\n    </tr>\n    <tr>\n      <th>...</th>\n      <td>...</td>\n      <td>...</td>\n      <td>...</td>\n      <td>...</td>\n      <td>...</td>\n      <td>...</td>\n      <td>...</td>\n    </tr>\n    <tr>\n      <th>2016-05-11 20:13:00</th>\n      <td>traffic-accident</td>\n      <td>traffic-accident</td>\n      <td>-104.903433</td>\n      <td>39.778300</td>\n      <td>stapleton</td>\n      <td>0</td>\n      <td>1</td>\n    </tr>\n    <tr>\n      <th>2016-05-11 01:55:00</th>\n      <td>traf-other</td>\n      <td>all-other-crimes</td>\n      <td>-104.981523</td>\n      <td>39.757469</td>\n      <td>five-points</td>\n      <td>1</td>\n      <td>0</td>\n    </tr>\n    <tr>\n      <th>2016-05-11 01:39:00</th>\n      <td>public-order-crimes-other</td>\n      <td>all-other-crimes</td>\n      <td>-104.987565</td>\n      <td>39.700698</td>\n      <td>baker</td>\n      <td>1</td>\n      <td>0</td>\n    </tr>\n    <tr>\n      <th>2016-05-11 18:52:00</th>\n      <td>aggravated-assault</td>\n      <td>aggravated-assault</td>\n      <td>-104.972747</td>\n      <td>39.757633</td>\n      <td>whittier</td>\n      <td>1</td>\n      <td>0</td>\n    </tr>\n    <tr>\n      <th>2016-05-11 20:19:00</th>\n      <td>aggravated-assault</td>\n      <td>aggravated-assault</td>\n      <td>-105.029808</td>\n      <td>39.769547</td>\n      <td>berkeley</td>\n      <td>1</td>\n      <td>0</td>\n    </tr>\n  </tbody>\n</table>\n<p>289 rows × 7 columns</p>\n</div>"
     },
     "execution_count": 109,
     "metadata": {},
     "output_type": "execute_result"
    }
   ],
   "source": [
    "crime.loc['2016-05-11']"
   ],
   "metadata": {
    "collapsed": false,
    "ExecuteTime": {
     "end_time": "2023-09-05T06:32:01.376895700Z",
     "start_time": "2023-09-05T06:32:01.305011900Z"
    }
   },
   "id": "6b72e5f8c5fa53d3"
  },
  {
   "cell_type": "code",
   "execution_count": 116,
   "outputs": [
    {
     "data": {
      "text/plain": "                                 OFFENSE_TYPE_ID OFFENSE_CATEGORY_ID  \\\nREPORTED_DATE                                                          \n2016-01-13 15:26:00       drug-hallucinogen-sell        drug-alcohol   \n2015-12-18 23:51:00       theft-of-motor-vehicle          auto-theft   \n2015-11-16 14:59:00             traffic-accident    traffic-accident   \n2015-06-08 06:46:00             traffic-accident    traffic-accident   \n2015-09-30 12:15:00             traffic-accident    traffic-accident   \n...                                          ...                 ...   \n2015-05-11 19:24:00         disturbing-the-peace     public-disorder   \n2015-10-19 14:08:00  harassment-sexual-in-nature     public-disorder   \n2015-12-08 13:09:00         fraud-identity-theft  white-collar-crime   \n2015-12-24 13:56:00                  theft-other             larceny   \n2015-07-20 16:45:00         fraud-identity-theft  white-collar-crime   \n\n                        GEO_LON    GEO_LAT   NEIGHBORHOOD_ID  IS_CRIME  \\\nREPORTED_DATE                                                            \n2016-01-13 15:26:00 -104.998843  39.741401               cbd         1   \n2015-12-18 23:51:00 -105.024694  39.708538       athmar-park         1   \n2015-11-16 14:59:00 -105.050370  39.740281       west-colfax         0   \n2015-06-08 06:46:00 -104.994822  39.768386        globeville         0   \n2015-09-30 12:15:00 -105.014162  39.740439      lincoln-park         0   \n...                         ...        ...               ...       ...   \n2015-05-11 19:24:00 -104.937341  39.687357  virginia-village         1   \n2015-10-19 14:08:00 -104.997041  39.737290      lincoln-park         1   \n2015-12-08 13:09:00 -105.064441  39.654373       bear-valley         1   \n2015-12-24 13:56:00 -104.956983  39.665810         wellshire         1   \n2015-07-20 16:45:00 -104.895201  39.746496       east-colfax         1   \n\n                     IS_TRAFFIC  \nREPORTED_DATE                    \n2016-01-13 15:26:00           0  \n2015-12-18 23:51:00           0  \n2015-11-16 14:59:00           1  \n2015-06-08 06:46:00           1  \n2015-09-30 12:15:00           1  \n...                         ...  \n2015-05-11 19:24:00           0  \n2015-10-19 14:08:00           0  \n2015-12-08 13:09:00           0  \n2015-12-24 13:56:00           0  \n2015-07-20 16:45:00           0  \n\n[78887 rows x 7 columns]",
      "text/html": "<div>\n<style scoped>\n    .dataframe tbody tr th:only-of-type {\n        vertical-align: middle;\n    }\n\n    .dataframe tbody tr th {\n        vertical-align: top;\n    }\n\n    .dataframe thead th {\n        text-align: right;\n    }\n</style>\n<table border=\"1\" class=\"dataframe\">\n  <thead>\n    <tr style=\"text-align: right;\">\n      <th></th>\n      <th>OFFENSE_TYPE_ID</th>\n      <th>OFFENSE_CATEGORY_ID</th>\n      <th>GEO_LON</th>\n      <th>GEO_LAT</th>\n      <th>NEIGHBORHOOD_ID</th>\n      <th>IS_CRIME</th>\n      <th>IS_TRAFFIC</th>\n    </tr>\n    <tr>\n      <th>REPORTED_DATE</th>\n      <th></th>\n      <th></th>\n      <th></th>\n      <th></th>\n      <th></th>\n      <th></th>\n      <th></th>\n    </tr>\n  </thead>\n  <tbody>\n    <tr>\n      <th>2016-01-13 15:26:00</th>\n      <td>drug-hallucinogen-sell</td>\n      <td>drug-alcohol</td>\n      <td>-104.998843</td>\n      <td>39.741401</td>\n      <td>cbd</td>\n      <td>1</td>\n      <td>0</td>\n    </tr>\n    <tr>\n      <th>2015-12-18 23:51:00</th>\n      <td>theft-of-motor-vehicle</td>\n      <td>auto-theft</td>\n      <td>-105.024694</td>\n      <td>39.708538</td>\n      <td>athmar-park</td>\n      <td>1</td>\n      <td>0</td>\n    </tr>\n    <tr>\n      <th>2015-11-16 14:59:00</th>\n      <td>traffic-accident</td>\n      <td>traffic-accident</td>\n      <td>-105.050370</td>\n      <td>39.740281</td>\n      <td>west-colfax</td>\n      <td>0</td>\n      <td>1</td>\n    </tr>\n    <tr>\n      <th>2015-06-08 06:46:00</th>\n      <td>traffic-accident</td>\n      <td>traffic-accident</td>\n      <td>-104.994822</td>\n      <td>39.768386</td>\n      <td>globeville</td>\n      <td>0</td>\n      <td>1</td>\n    </tr>\n    <tr>\n      <th>2015-09-30 12:15:00</th>\n      <td>traffic-accident</td>\n      <td>traffic-accident</td>\n      <td>-105.014162</td>\n      <td>39.740439</td>\n      <td>lincoln-park</td>\n      <td>0</td>\n      <td>1</td>\n    </tr>\n    <tr>\n      <th>...</th>\n      <td>...</td>\n      <td>...</td>\n      <td>...</td>\n      <td>...</td>\n      <td>...</td>\n      <td>...</td>\n      <td>...</td>\n    </tr>\n    <tr>\n      <th>2015-05-11 19:24:00</th>\n      <td>disturbing-the-peace</td>\n      <td>public-disorder</td>\n      <td>-104.937341</td>\n      <td>39.687357</td>\n      <td>virginia-village</td>\n      <td>1</td>\n      <td>0</td>\n    </tr>\n    <tr>\n      <th>2015-10-19 14:08:00</th>\n      <td>harassment-sexual-in-nature</td>\n      <td>public-disorder</td>\n      <td>-104.997041</td>\n      <td>39.737290</td>\n      <td>lincoln-park</td>\n      <td>1</td>\n      <td>0</td>\n    </tr>\n    <tr>\n      <th>2015-12-08 13:09:00</th>\n      <td>fraud-identity-theft</td>\n      <td>white-collar-crime</td>\n      <td>-105.064441</td>\n      <td>39.654373</td>\n      <td>bear-valley</td>\n      <td>1</td>\n      <td>0</td>\n    </tr>\n    <tr>\n      <th>2015-12-24 13:56:00</th>\n      <td>theft-other</td>\n      <td>larceny</td>\n      <td>-104.956983</td>\n      <td>39.665810</td>\n      <td>wellshire</td>\n      <td>1</td>\n      <td>0</td>\n    </tr>\n    <tr>\n      <th>2015-07-20 16:45:00</th>\n      <td>fraud-identity-theft</td>\n      <td>white-collar-crime</td>\n      <td>-104.895201</td>\n      <td>39.746496</td>\n      <td>east-colfax</td>\n      <td>1</td>\n      <td>0</td>\n    </tr>\n  </tbody>\n</table>\n<p>78887 rows × 7 columns</p>\n</div>"
     },
     "execution_count": 116,
     "metadata": {},
     "output_type": "execute_result"
    }
   ],
   "source": [
    "crime.loc['2015-3-1 12:57:00':'2016-01-13 15:26:00']"
   ],
   "metadata": {
    "collapsed": false,
    "ExecuteTime": {
     "end_time": "2023-09-05T06:35:16.575863Z",
     "start_time": "2023-09-05T06:35:16.472604100Z"
    }
   },
   "id": "f4e5385fa31b0b38"
  },
  {
   "cell_type": "code",
   "execution_count": 113,
   "outputs": [
    {
     "name": "stderr",
     "output_type": "stream",
     "text": [
      "C:\\Users\\Administrator\\AppData\\Local\\Temp\\ipykernel_23464\\629251448.py:1: FutureWarning: Value based partial slicing on non-monotonic DatetimeIndexes with non-existing keys is deprecated and will raise a KeyError in a future Version.\n",
      "  crime.loc['2015-03-01':'2016-03-01']\n"
     ]
    },
    {
     "data": {
      "text/plain": "                                    OFFENSE_TYPE_ID OFFENSE_CATEGORY_ID  \\\nREPORTED_DATE                                                             \n2016-01-13 15:26:00          drug-hallucinogen-sell        drug-alcohol   \n2015-12-18 23:51:00          theft-of-motor-vehicle          auto-theft   \n2015-11-16 14:59:00                traffic-accident    traffic-accident   \n2015-06-08 06:46:00                traffic-accident    traffic-accident   \n2015-09-30 12:15:00                traffic-accident    traffic-accident   \n...                                             ...                 ...   \n2016-01-28 13:47:00  violation-of-restraining-order    all-other-crimes   \n2016-02-12 10:48:00    traffic-accident-hit-and-run    traffic-accident   \n2015-12-24 13:56:00                     theft-other             larceny   \n2015-07-20 16:45:00            fraud-identity-theft  white-collar-crime   \n2016-02-18 13:48:00            fraud-identity-theft  white-collar-crime   \n\n                        GEO_LON    GEO_LAT NEIGHBORHOOD_ID  IS_CRIME  \\\nREPORTED_DATE                                                          \n2016-01-13 15:26:00 -104.998843  39.741401             cbd         1   \n2015-12-18 23:51:00 -105.024694  39.708538     athmar-park         1   \n2015-11-16 14:59:00 -105.050370  39.740281     west-colfax         0   \n2015-06-08 06:46:00 -104.994822  39.768386      globeville         0   \n2015-09-30 12:15:00 -105.014162  39.740439    lincoln-park         0   \n...                         ...        ...             ...       ...   \n2016-01-28 13:47:00 -104.994883  39.730313    lincoln-park         1   \n2016-02-12 10:48:00 -104.965374  39.743159  city-park-west         0   \n2015-12-24 13:56:00 -104.956983  39.665810       wellshire         1   \n2015-07-20 16:45:00 -104.895201  39.746496     east-colfax         1   \n2016-02-18 13:48:00 -104.975716  39.763510     five-points         1   \n\n                     IS_TRAFFIC  \nREPORTED_DATE                    \n2016-01-13 15:26:00           0  \n2015-12-18 23:51:00           0  \n2015-11-16 14:59:00           1  \n2015-06-08 06:46:00           1  \n2015-09-30 12:15:00           1  \n...                         ...  \n2016-01-28 13:47:00           0  \n2016-02-12 10:48:00           1  \n2015-12-24 13:56:00           0  \n2015-07-20 16:45:00           0  \n2016-02-18 13:48:00           0  \n\n[90675 rows x 7 columns]",
      "text/html": "<div>\n<style scoped>\n    .dataframe tbody tr th:only-of-type {\n        vertical-align: middle;\n    }\n\n    .dataframe tbody tr th {\n        vertical-align: top;\n    }\n\n    .dataframe thead th {\n        text-align: right;\n    }\n</style>\n<table border=\"1\" class=\"dataframe\">\n  <thead>\n    <tr style=\"text-align: right;\">\n      <th></th>\n      <th>OFFENSE_TYPE_ID</th>\n      <th>OFFENSE_CATEGORY_ID</th>\n      <th>GEO_LON</th>\n      <th>GEO_LAT</th>\n      <th>NEIGHBORHOOD_ID</th>\n      <th>IS_CRIME</th>\n      <th>IS_TRAFFIC</th>\n    </tr>\n    <tr>\n      <th>REPORTED_DATE</th>\n      <th></th>\n      <th></th>\n      <th></th>\n      <th></th>\n      <th></th>\n      <th></th>\n      <th></th>\n    </tr>\n  </thead>\n  <tbody>\n    <tr>\n      <th>2016-01-13 15:26:00</th>\n      <td>drug-hallucinogen-sell</td>\n      <td>drug-alcohol</td>\n      <td>-104.998843</td>\n      <td>39.741401</td>\n      <td>cbd</td>\n      <td>1</td>\n      <td>0</td>\n    </tr>\n    <tr>\n      <th>2015-12-18 23:51:00</th>\n      <td>theft-of-motor-vehicle</td>\n      <td>auto-theft</td>\n      <td>-105.024694</td>\n      <td>39.708538</td>\n      <td>athmar-park</td>\n      <td>1</td>\n      <td>0</td>\n    </tr>\n    <tr>\n      <th>2015-11-16 14:59:00</th>\n      <td>traffic-accident</td>\n      <td>traffic-accident</td>\n      <td>-105.050370</td>\n      <td>39.740281</td>\n      <td>west-colfax</td>\n      <td>0</td>\n      <td>1</td>\n    </tr>\n    <tr>\n      <th>2015-06-08 06:46:00</th>\n      <td>traffic-accident</td>\n      <td>traffic-accident</td>\n      <td>-104.994822</td>\n      <td>39.768386</td>\n      <td>globeville</td>\n      <td>0</td>\n      <td>1</td>\n    </tr>\n    <tr>\n      <th>2015-09-30 12:15:00</th>\n      <td>traffic-accident</td>\n      <td>traffic-accident</td>\n      <td>-105.014162</td>\n      <td>39.740439</td>\n      <td>lincoln-park</td>\n      <td>0</td>\n      <td>1</td>\n    </tr>\n    <tr>\n      <th>...</th>\n      <td>...</td>\n      <td>...</td>\n      <td>...</td>\n      <td>...</td>\n      <td>...</td>\n      <td>...</td>\n      <td>...</td>\n    </tr>\n    <tr>\n      <th>2016-01-28 13:47:00</th>\n      <td>violation-of-restraining-order</td>\n      <td>all-other-crimes</td>\n      <td>-104.994883</td>\n      <td>39.730313</td>\n      <td>lincoln-park</td>\n      <td>1</td>\n      <td>0</td>\n    </tr>\n    <tr>\n      <th>2016-02-12 10:48:00</th>\n      <td>traffic-accident-hit-and-run</td>\n      <td>traffic-accident</td>\n      <td>-104.965374</td>\n      <td>39.743159</td>\n      <td>city-park-west</td>\n      <td>0</td>\n      <td>1</td>\n    </tr>\n    <tr>\n      <th>2015-12-24 13:56:00</th>\n      <td>theft-other</td>\n      <td>larceny</td>\n      <td>-104.956983</td>\n      <td>39.665810</td>\n      <td>wellshire</td>\n      <td>1</td>\n      <td>0</td>\n    </tr>\n    <tr>\n      <th>2015-07-20 16:45:00</th>\n      <td>fraud-identity-theft</td>\n      <td>white-collar-crime</td>\n      <td>-104.895201</td>\n      <td>39.746496</td>\n      <td>east-colfax</td>\n      <td>1</td>\n      <td>0</td>\n    </tr>\n    <tr>\n      <th>2016-02-18 13:48:00</th>\n      <td>fraud-identity-theft</td>\n      <td>white-collar-crime</td>\n      <td>-104.975716</td>\n      <td>39.763510</td>\n      <td>five-points</td>\n      <td>1</td>\n      <td>0</td>\n    </tr>\n  </tbody>\n</table>\n<p>90675 rows × 7 columns</p>\n</div>"
     },
     "execution_count": 113,
     "metadata": {},
     "output_type": "execute_result"
    }
   ],
   "source": [
    "crime.loc['2015-03-01':'2016-03-01']"
   ],
   "metadata": {
    "collapsed": false,
    "ExecuteTime": {
     "end_time": "2023-09-05T06:34:16.229651800Z",
     "start_time": "2023-09-05T06:34:16.185831900Z"
    }
   },
   "id": "4a9aff0c8a9e1a06"
  },
  {
   "cell_type": "code",
   "execution_count": 118,
   "outputs": [
    {
     "name": "stderr",
     "output_type": "stream",
     "text": [
      "C:\\Users\\Administrator\\AppData\\Local\\Temp\\ipykernel_23464\\2964011081.py:2: FutureWarning: `include_start` and `include_end` are deprecated in favour of `inclusive`.\n",
      "  crime.between_time('2:00','5:00',include_start=False)\n"
     ]
    },
    {
     "data": {
      "text/plain": "                                    OFFENSE_TYPE_ID  \\\nREPORTED_DATE                                         \n2014-06-29 02:01:00       traffic-accident-dui-duid   \n2014-06-29 02:18:00                          curfew   \n2014-06-29 04:17:00              aggravated-assault   \n2014-06-29 04:22:00  violation-of-restraining-order   \n2014-06-29 02:56:00       traffic-accident-dui-duid   \n...                                             ...   \n2017-08-25 04:41:00        theft-items-from-vehicle   \n2017-09-13 04:17:00          theft-of-motor-vehicle   \n2017-09-13 02:21:00                  assault-simple   \n2017-09-13 03:21:00       traffic-accident-dui-duid   \n2017-09-13 02:15:00    traffic-accident-hit-and-run   \n\n                              OFFENSE_CATEGORY_ID     GEO_LON    GEO_LAT  \\\nREPORTED_DATE                                                              \n2014-06-29 02:01:00              traffic-accident -105.000149  39.745753   \n2014-06-29 02:18:00               public-disorder -105.001552  39.769505   \n2014-06-29 04:17:00            aggravated-assault -105.018557  39.679229   \n2014-06-29 04:22:00              all-other-crimes -104.972447  39.739449   \n2014-06-29 02:56:00              traffic-accident -105.052956  39.733315   \n...                                           ...         ...        ...   \n2017-08-25 04:41:00      theft-from-motor-vehicle -104.880586  39.645164   \n2017-09-13 04:17:00                    auto-theft -105.028694  39.708288   \n2017-09-13 02:21:00  other-crimes-against-persons -104.925733  39.654184   \n2017-09-13 03:21:00              traffic-accident -105.010711  39.757385   \n2017-09-13 02:15:00              traffic-accident -105.043950  39.787436   \n\n                               NEIGHBORHOOD_ID  IS_CRIME  IS_TRAFFIC  \nREPORTED_DATE                                                         \n2014-06-29 02:01:00                        cbd         0           1  \n2014-06-29 02:18:00                  sunnyside         1           0  \n2014-06-29 04:17:00  college-view-south-platte         1           0  \n2014-06-29 04:22:00              cheesman-park         1           0  \n2014-06-29 02:56:00                 villa-park         0           1  \n...                                        ...       ...         ...  \n2017-08-25 04:41:00              hampden-south         1           0  \n2017-09-13 04:17:00                   westwood         1           0  \n2017-09-13 02:21:00           university-hills         1           0  \n2017-09-13 03:21:00                   highland         0           1  \n2017-09-13 02:15:00                      regis         0           1  \n\n[28887 rows x 7 columns]",
      "text/html": "<div>\n<style scoped>\n    .dataframe tbody tr th:only-of-type {\n        vertical-align: middle;\n    }\n\n    .dataframe tbody tr th {\n        vertical-align: top;\n    }\n\n    .dataframe thead th {\n        text-align: right;\n    }\n</style>\n<table border=\"1\" class=\"dataframe\">\n  <thead>\n    <tr style=\"text-align: right;\">\n      <th></th>\n      <th>OFFENSE_TYPE_ID</th>\n      <th>OFFENSE_CATEGORY_ID</th>\n      <th>GEO_LON</th>\n      <th>GEO_LAT</th>\n      <th>NEIGHBORHOOD_ID</th>\n      <th>IS_CRIME</th>\n      <th>IS_TRAFFIC</th>\n    </tr>\n    <tr>\n      <th>REPORTED_DATE</th>\n      <th></th>\n      <th></th>\n      <th></th>\n      <th></th>\n      <th></th>\n      <th></th>\n      <th></th>\n    </tr>\n  </thead>\n  <tbody>\n    <tr>\n      <th>2014-06-29 02:01:00</th>\n      <td>traffic-accident-dui-duid</td>\n      <td>traffic-accident</td>\n      <td>-105.000149</td>\n      <td>39.745753</td>\n      <td>cbd</td>\n      <td>0</td>\n      <td>1</td>\n    </tr>\n    <tr>\n      <th>2014-06-29 02:18:00</th>\n      <td>curfew</td>\n      <td>public-disorder</td>\n      <td>-105.001552</td>\n      <td>39.769505</td>\n      <td>sunnyside</td>\n      <td>1</td>\n      <td>0</td>\n    </tr>\n    <tr>\n      <th>2014-06-29 04:17:00</th>\n      <td>aggravated-assault</td>\n      <td>aggravated-assault</td>\n      <td>-105.018557</td>\n      <td>39.679229</td>\n      <td>college-view-south-platte</td>\n      <td>1</td>\n      <td>0</td>\n    </tr>\n    <tr>\n      <th>2014-06-29 04:22:00</th>\n      <td>violation-of-restraining-order</td>\n      <td>all-other-crimes</td>\n      <td>-104.972447</td>\n      <td>39.739449</td>\n      <td>cheesman-park</td>\n      <td>1</td>\n      <td>0</td>\n    </tr>\n    <tr>\n      <th>2014-06-29 02:56:00</th>\n      <td>traffic-accident-dui-duid</td>\n      <td>traffic-accident</td>\n      <td>-105.052956</td>\n      <td>39.733315</td>\n      <td>villa-park</td>\n      <td>0</td>\n      <td>1</td>\n    </tr>\n    <tr>\n      <th>...</th>\n      <td>...</td>\n      <td>...</td>\n      <td>...</td>\n      <td>...</td>\n      <td>...</td>\n      <td>...</td>\n      <td>...</td>\n    </tr>\n    <tr>\n      <th>2017-08-25 04:41:00</th>\n      <td>theft-items-from-vehicle</td>\n      <td>theft-from-motor-vehicle</td>\n      <td>-104.880586</td>\n      <td>39.645164</td>\n      <td>hampden-south</td>\n      <td>1</td>\n      <td>0</td>\n    </tr>\n    <tr>\n      <th>2017-09-13 04:17:00</th>\n      <td>theft-of-motor-vehicle</td>\n      <td>auto-theft</td>\n      <td>-105.028694</td>\n      <td>39.708288</td>\n      <td>westwood</td>\n      <td>1</td>\n      <td>0</td>\n    </tr>\n    <tr>\n      <th>2017-09-13 02:21:00</th>\n      <td>assault-simple</td>\n      <td>other-crimes-against-persons</td>\n      <td>-104.925733</td>\n      <td>39.654184</td>\n      <td>university-hills</td>\n      <td>1</td>\n      <td>0</td>\n    </tr>\n    <tr>\n      <th>2017-09-13 03:21:00</th>\n      <td>traffic-accident-dui-duid</td>\n      <td>traffic-accident</td>\n      <td>-105.010711</td>\n      <td>39.757385</td>\n      <td>highland</td>\n      <td>0</td>\n      <td>1</td>\n    </tr>\n    <tr>\n      <th>2017-09-13 02:15:00</th>\n      <td>traffic-accident-hit-and-run</td>\n      <td>traffic-accident</td>\n      <td>-105.043950</td>\n      <td>39.787436</td>\n      <td>regis</td>\n      <td>0</td>\n      <td>1</td>\n    </tr>\n  </tbody>\n</table>\n<p>28887 rows × 7 columns</p>\n</div>"
     },
     "execution_count": 118,
     "metadata": {},
     "output_type": "execute_result"
    }
   ],
   "source": [
    "# 查询凌晨2点到凌晨5点的报警记录\n",
    "crime.between_time('2:00','5:00',include_start=False)"
   ],
   "metadata": {
    "collapsed": false,
    "ExecuteTime": {
     "end_time": "2023-09-05T06:36:53.199329100Z",
     "start_time": "2023-09-05T06:36:53.160712400Z"
    }
   },
   "id": "6787ef23417f3668"
  },
  {
   "cell_type": "code",
   "execution_count": 119,
   "outputs": [
    {
     "data": {
      "text/plain": "                                   OFFENSE_TYPE_ID  \\\nREPORTED_DATE                                        \n2014-10-06 05:43:00         theft-of-motor-vehicle   \n2017-02-21 05:43:00        criminal-mischief-other   \n2017-04-10 05:43:00         theft-of-motor-vehicle   \n2017-05-01 05:43:00         theft-of-motor-vehicle   \n2017-05-12 05:43:00       theft-items-from-vehicle   \n...                                            ...   \n2012-04-15 05:43:00  weapon-by-prev-offender-powpo   \n2013-06-08 05:43:00      public-order-crimes-other   \n2013-06-08 05:43:00         theft-of-motor-vehicle   \n2012-08-30 05:43:00         theft-of-motor-vehicle   \n2013-08-31 05:43:00                 assault-simple   \n\n                              OFFENSE_CATEGORY_ID     GEO_LON    GEO_LAT  \\\nREPORTED_DATE                                                              \n2014-10-06 05:43:00                    auto-theft -105.038353  39.673947   \n2017-02-21 05:43:00               public-disorder -105.018762  39.733304   \n2017-04-10 05:43:00                    auto-theft -104.756682  39.775239   \n2017-05-01 05:43:00                    auto-theft -105.047536  39.696609   \n2017-05-12 05:43:00      theft-from-motor-vehicle -105.093418  39.633491   \n...                                           ...         ...        ...   \n2012-04-15 05:43:00              all-other-crimes -105.010912  39.710724   \n2013-06-08 05:43:00              all-other-crimes -104.982946  39.715058   \n2013-06-08 05:43:00                    auto-theft -104.892416  39.653733   \n2012-08-30 05:43:00                    auto-theft -104.891988  39.740851   \n2013-08-31 05:43:00  other-crimes-against-persons -105.052770  39.695152   \n\n                                NEIGHBORHOOD_ID  IS_CRIME  IS_TRAFFIC  \nREPORTED_DATE                                                          \n2014-10-06 05:43:00                 harvey-park         1           0  \n2017-02-21 05:43:00                  sun-valley         1           0  \n2017-04-10 05:43:00  gateway-green-valley-ranch         1           0  \n2017-05-01 05:43:00                     mar-lee         1           0  \n2017-05-12 05:43:00                     marston         1           0  \n...                                         ...       ...         ...  \n2012-04-15 05:43:00                 athmar-park         1           0  \n2013-06-08 05:43:00                       speer         1           0  \n2013-06-08 05:43:00                     hampden         1           0  \n2012-08-30 05:43:00                 east-colfax         1           0  \n2013-08-31 05:43:00                     mar-lee         1           0  \n\n[106 rows x 7 columns]",
      "text/html": "<div>\n<style scoped>\n    .dataframe tbody tr th:only-of-type {\n        vertical-align: middle;\n    }\n\n    .dataframe tbody tr th {\n        vertical-align: top;\n    }\n\n    .dataframe thead th {\n        text-align: right;\n    }\n</style>\n<table border=\"1\" class=\"dataframe\">\n  <thead>\n    <tr style=\"text-align: right;\">\n      <th></th>\n      <th>OFFENSE_TYPE_ID</th>\n      <th>OFFENSE_CATEGORY_ID</th>\n      <th>GEO_LON</th>\n      <th>GEO_LAT</th>\n      <th>NEIGHBORHOOD_ID</th>\n      <th>IS_CRIME</th>\n      <th>IS_TRAFFIC</th>\n    </tr>\n    <tr>\n      <th>REPORTED_DATE</th>\n      <th></th>\n      <th></th>\n      <th></th>\n      <th></th>\n      <th></th>\n      <th></th>\n      <th></th>\n    </tr>\n  </thead>\n  <tbody>\n    <tr>\n      <th>2014-10-06 05:43:00</th>\n      <td>theft-of-motor-vehicle</td>\n      <td>auto-theft</td>\n      <td>-105.038353</td>\n      <td>39.673947</td>\n      <td>harvey-park</td>\n      <td>1</td>\n      <td>0</td>\n    </tr>\n    <tr>\n      <th>2017-02-21 05:43:00</th>\n      <td>criminal-mischief-other</td>\n      <td>public-disorder</td>\n      <td>-105.018762</td>\n      <td>39.733304</td>\n      <td>sun-valley</td>\n      <td>1</td>\n      <td>0</td>\n    </tr>\n    <tr>\n      <th>2017-04-10 05:43:00</th>\n      <td>theft-of-motor-vehicle</td>\n      <td>auto-theft</td>\n      <td>-104.756682</td>\n      <td>39.775239</td>\n      <td>gateway-green-valley-ranch</td>\n      <td>1</td>\n      <td>0</td>\n    </tr>\n    <tr>\n      <th>2017-05-01 05:43:00</th>\n      <td>theft-of-motor-vehicle</td>\n      <td>auto-theft</td>\n      <td>-105.047536</td>\n      <td>39.696609</td>\n      <td>mar-lee</td>\n      <td>1</td>\n      <td>0</td>\n    </tr>\n    <tr>\n      <th>2017-05-12 05:43:00</th>\n      <td>theft-items-from-vehicle</td>\n      <td>theft-from-motor-vehicle</td>\n      <td>-105.093418</td>\n      <td>39.633491</td>\n      <td>marston</td>\n      <td>1</td>\n      <td>0</td>\n    </tr>\n    <tr>\n      <th>...</th>\n      <td>...</td>\n      <td>...</td>\n      <td>...</td>\n      <td>...</td>\n      <td>...</td>\n      <td>...</td>\n      <td>...</td>\n    </tr>\n    <tr>\n      <th>2012-04-15 05:43:00</th>\n      <td>weapon-by-prev-offender-powpo</td>\n      <td>all-other-crimes</td>\n      <td>-105.010912</td>\n      <td>39.710724</td>\n      <td>athmar-park</td>\n      <td>1</td>\n      <td>0</td>\n    </tr>\n    <tr>\n      <th>2013-06-08 05:43:00</th>\n      <td>public-order-crimes-other</td>\n      <td>all-other-crimes</td>\n      <td>-104.982946</td>\n      <td>39.715058</td>\n      <td>speer</td>\n      <td>1</td>\n      <td>0</td>\n    </tr>\n    <tr>\n      <th>2013-06-08 05:43:00</th>\n      <td>theft-of-motor-vehicle</td>\n      <td>auto-theft</td>\n      <td>-104.892416</td>\n      <td>39.653733</td>\n      <td>hampden</td>\n      <td>1</td>\n      <td>0</td>\n    </tr>\n    <tr>\n      <th>2012-08-30 05:43:00</th>\n      <td>theft-of-motor-vehicle</td>\n      <td>auto-theft</td>\n      <td>-104.891988</td>\n      <td>39.740851</td>\n      <td>east-colfax</td>\n      <td>1</td>\n      <td>0</td>\n    </tr>\n    <tr>\n      <th>2013-08-31 05:43:00</th>\n      <td>assault-simple</td>\n      <td>other-crimes-against-persons</td>\n      <td>-105.052770</td>\n      <td>39.695152</td>\n      <td>mar-lee</td>\n      <td>1</td>\n      <td>0</td>\n    </tr>\n  </tbody>\n</table>\n<p>106 rows × 7 columns</p>\n</div>"
     },
     "execution_count": 119,
     "metadata": {},
     "output_type": "execute_result"
    }
   ],
   "source": [
    "crime.at_time('5:43')"
   ],
   "metadata": {
    "collapsed": false,
    "ExecuteTime": {
     "end_time": "2023-09-05T06:37:40.038175100Z",
     "start_time": "2023-09-05T06:37:39.981618600Z"
    }
   },
   "id": "d2dfd50d0b620204"
  },
  {
   "cell_type": "code",
   "execution_count": 120,
   "outputs": [],
   "source": [
    "crime_sorted = crime.sort_index()"
   ],
   "metadata": {
    "collapsed": false,
    "ExecuteTime": {
     "end_time": "2023-09-05T06:37:59.629537900Z",
     "start_time": "2023-09-05T06:37:59.521202800Z"
    }
   },
   "id": "2399322d64549b4"
  },
  {
   "cell_type": "code",
   "execution_count": 121,
   "outputs": [
    {
     "name": "stderr",
     "output_type": "stream",
     "text": [
      "<magic-timeit>:1: FutureWarning: Value based partial slicing on non-monotonic DatetimeIndexes with non-existing keys is deprecated and will raise a KeyError in a future Version.\n"
     ]
    },
    {
     "name": "stdout",
     "output_type": "stream",
     "text": [
      "12.5 ms ± 291 µs per loop (mean ± std. dev. of 7 runs, 100 loops each)\n"
     ]
    }
   ],
   "source": [
    "%timeit crime.loc['2015-03-01':'2016-03-01']"
   ],
   "metadata": {
    "collapsed": false,
    "ExecuteTime": {
     "end_time": "2023-09-05T06:38:29.815353100Z",
     "start_time": "2023-09-05T06:38:19.643780300Z"
    }
   },
   "id": "961f6dd985635484"
  },
  {
   "cell_type": "code",
   "execution_count": 122,
   "outputs": [
    {
     "name": "stdout",
     "output_type": "stream",
     "text": [
      "864 µs ± 17.7 µs per loop (mean ± std. dev. of 7 runs, 1,000 loops each)\n"
     ]
    }
   ],
   "source": [
    "%timeit crime_sorted.loc['2015-03-01':'2016-03-01']"
   ],
   "metadata": {
    "collapsed": false,
    "ExecuteTime": {
     "end_time": "2023-09-05T06:38:56.105397600Z",
     "start_time": "2023-09-05T06:38:49.030011300Z"
    }
   },
   "id": "135d51c0f0fcaa"
  },
  {
   "cell_type": "code",
   "execution_count": 124,
   "outputs": [
    {
     "data": {
      "text/plain": "REPORTED_DATE\n2012-01-08     877\n2012-01-15    1071\n2012-01-22     991\n2012-01-29     988\n2012-02-05     888\n              ... \n2017-09-03    1956\n2017-09-10    1733\n2017-09-17    1976\n2017-09-24    1839\n2017-10-01    1059\nFreq: W-SUN, Length: 300, dtype: int64"
     },
     "execution_count": 124,
     "metadata": {},
     "output_type": "execute_result"
    }
   ],
   "source": [
    "# 统计每周报警数量\n",
    "crime_sorted.resample('W').size()"
   ],
   "metadata": {
    "collapsed": false,
    "ExecuteTime": {
     "end_time": "2023-09-05T06:41:54.656681800Z",
     "start_time": "2023-09-05T06:41:54.594125600Z"
    }
   },
   "id": "6c8b890c75561d47"
  },
  {
   "cell_type": "code",
   "execution_count": 125,
   "outputs": [
    {
     "data": {
      "text/plain": "                                    OFFENSE_TYPE_ID       OFFENSE_CATEGORY_ID  \\\nREPORTED_DATE                                                                   \n2012-01-02 00:06:00              aggravated-assault        aggravated-assault   \n2012-01-02 00:06:00  violation-of-restraining-order          all-other-crimes   \n2012-01-02 00:16:00       traffic-accident-dui-duid          traffic-accident   \n2012-01-02 00:47:00                traffic-accident          traffic-accident   \n2012-01-02 01:35:00              aggravated-assault        aggravated-assault   \n...                                             ...                       ...   \n2012-01-08 23:23:00       criminal-mischief-mtr-veh           public-disorder   \n2012-01-08 23:23:00        theft-parts-from-vehicle  theft-from-motor-vehicle   \n2012-01-08 23:46:00        theft-items-from-vehicle  theft-from-motor-vehicle   \n2012-01-08 23:51:00     burglary-residence-no-force                  burglary   \n2012-01-08 23:52:00                     theft-other                   larceny   \n\n                        GEO_LON    GEO_LAT       NEIGHBORHOOD_ID  IS_CRIME  \\\nREPORTED_DATE                                                                \n2012-01-02 00:06:00 -104.816860  39.796717             montbello         1   \n2012-01-02 00:06:00 -104.816860  39.796717             montbello         1   \n2012-01-02 00:16:00 -104.971851  39.736874         cheesman-park         0   \n2012-01-02 00:47:00 -104.951824  39.740168         congress-park         0   \n2012-01-02 01:35:00 -104.998131  39.749922         union-station         1   \n...                         ...        ...                   ...       ...   \n2012-01-08 23:23:00 -104.959418  39.755044               skyland         1   \n2012-01-08 23:23:00 -104.986622  39.705213  washington-park-west         1   \n2012-01-08 23:46:00 -104.991384  39.753888           five-points         1   \n2012-01-08 23:51:00 -105.031781  39.747420            sloan-lake         1   \n2012-01-08 23:52:00 -104.968227  39.739752         cheesman-park         1   \n\n                     IS_TRAFFIC  \nREPORTED_DATE                    \n2012-01-02 00:06:00           0  \n2012-01-02 00:06:00           0  \n2012-01-02 00:16:00           1  \n2012-01-02 00:47:00           1  \n2012-01-02 01:35:00           0  \n...                         ...  \n2012-01-08 23:23:00           0  \n2012-01-08 23:23:00           0  \n2012-01-08 23:46:00           0  \n2012-01-08 23:51:00           0  \n2012-01-08 23:52:00           0  \n\n[877 rows x 7 columns]",
      "text/html": "<div>\n<style scoped>\n    .dataframe tbody tr th:only-of-type {\n        vertical-align: middle;\n    }\n\n    .dataframe tbody tr th {\n        vertical-align: top;\n    }\n\n    .dataframe thead th {\n        text-align: right;\n    }\n</style>\n<table border=\"1\" class=\"dataframe\">\n  <thead>\n    <tr style=\"text-align: right;\">\n      <th></th>\n      <th>OFFENSE_TYPE_ID</th>\n      <th>OFFENSE_CATEGORY_ID</th>\n      <th>GEO_LON</th>\n      <th>GEO_LAT</th>\n      <th>NEIGHBORHOOD_ID</th>\n      <th>IS_CRIME</th>\n      <th>IS_TRAFFIC</th>\n    </tr>\n    <tr>\n      <th>REPORTED_DATE</th>\n      <th></th>\n      <th></th>\n      <th></th>\n      <th></th>\n      <th></th>\n      <th></th>\n      <th></th>\n    </tr>\n  </thead>\n  <tbody>\n    <tr>\n      <th>2012-01-02 00:06:00</th>\n      <td>aggravated-assault</td>\n      <td>aggravated-assault</td>\n      <td>-104.816860</td>\n      <td>39.796717</td>\n      <td>montbello</td>\n      <td>1</td>\n      <td>0</td>\n    </tr>\n    <tr>\n      <th>2012-01-02 00:06:00</th>\n      <td>violation-of-restraining-order</td>\n      <td>all-other-crimes</td>\n      <td>-104.816860</td>\n      <td>39.796717</td>\n      <td>montbello</td>\n      <td>1</td>\n      <td>0</td>\n    </tr>\n    <tr>\n      <th>2012-01-02 00:16:00</th>\n      <td>traffic-accident-dui-duid</td>\n      <td>traffic-accident</td>\n      <td>-104.971851</td>\n      <td>39.736874</td>\n      <td>cheesman-park</td>\n      <td>0</td>\n      <td>1</td>\n    </tr>\n    <tr>\n      <th>2012-01-02 00:47:00</th>\n      <td>traffic-accident</td>\n      <td>traffic-accident</td>\n      <td>-104.951824</td>\n      <td>39.740168</td>\n      <td>congress-park</td>\n      <td>0</td>\n      <td>1</td>\n    </tr>\n    <tr>\n      <th>2012-01-02 01:35:00</th>\n      <td>aggravated-assault</td>\n      <td>aggravated-assault</td>\n      <td>-104.998131</td>\n      <td>39.749922</td>\n      <td>union-station</td>\n      <td>1</td>\n      <td>0</td>\n    </tr>\n    <tr>\n      <th>...</th>\n      <td>...</td>\n      <td>...</td>\n      <td>...</td>\n      <td>...</td>\n      <td>...</td>\n      <td>...</td>\n      <td>...</td>\n    </tr>\n    <tr>\n      <th>2012-01-08 23:23:00</th>\n      <td>criminal-mischief-mtr-veh</td>\n      <td>public-disorder</td>\n      <td>-104.959418</td>\n      <td>39.755044</td>\n      <td>skyland</td>\n      <td>1</td>\n      <td>0</td>\n    </tr>\n    <tr>\n      <th>2012-01-08 23:23:00</th>\n      <td>theft-parts-from-vehicle</td>\n      <td>theft-from-motor-vehicle</td>\n      <td>-104.986622</td>\n      <td>39.705213</td>\n      <td>washington-park-west</td>\n      <td>1</td>\n      <td>0</td>\n    </tr>\n    <tr>\n      <th>2012-01-08 23:46:00</th>\n      <td>theft-items-from-vehicle</td>\n      <td>theft-from-motor-vehicle</td>\n      <td>-104.991384</td>\n      <td>39.753888</td>\n      <td>five-points</td>\n      <td>1</td>\n      <td>0</td>\n    </tr>\n    <tr>\n      <th>2012-01-08 23:51:00</th>\n      <td>burglary-residence-no-force</td>\n      <td>burglary</td>\n      <td>-105.031781</td>\n      <td>39.747420</td>\n      <td>sloan-lake</td>\n      <td>1</td>\n      <td>0</td>\n    </tr>\n    <tr>\n      <th>2012-01-08 23:52:00</th>\n      <td>theft-other</td>\n      <td>larceny</td>\n      <td>-104.968227</td>\n      <td>39.739752</td>\n      <td>cheesman-park</td>\n      <td>1</td>\n      <td>0</td>\n    </tr>\n  </tbody>\n</table>\n<p>877 rows × 7 columns</p>\n</div>"
     },
     "execution_count": 125,
     "metadata": {},
     "output_type": "execute_result"
    }
   ],
   "source": [
    "crime_sorted.loc[:'2012-1-8']"
   ],
   "metadata": {
    "collapsed": false,
    "ExecuteTime": {
     "end_time": "2023-09-05T06:43:33.287631800Z",
     "start_time": "2023-09-05T06:43:33.259974900Z"
    }
   },
   "id": "385571642bbb5c12"
  },
  {
   "cell_type": "code",
   "execution_count": 126,
   "outputs": [
    {
     "data": {
      "text/plain": "                                  OFFENSE_TYPE_ID  \\\nREPORTED_DATE                                       \n2012-01-09 00:04:00  traffic-accident-hit-and-run   \n2012-01-09 00:05:00  fraud-criminal-impersonation   \n2012-01-09 01:48:00     traffic-accident-dui-duid   \n2012-01-09 02:09:00        theft-of-motor-vehicle   \n2012-01-09 02:26:00       criminal-mischief-other   \n...                                           ...   \n2012-01-15 23:16:00                robbery-street   \n2012-01-15 23:18:00                assault-simple   \n2012-01-15 23:23:00    burglary-business-by-force   \n2012-01-15 23:24:00      theft-items-from-vehicle   \n2012-01-15 23:52:00  traffic-accident-hit-and-run   \n\n                              OFFENSE_CATEGORY_ID     GEO_LON    GEO_LAT  \\\nREPORTED_DATE                                                              \n2012-01-09 00:04:00              traffic-accident -104.973343  39.760757   \n2012-01-09 00:05:00            white-collar-crime -105.024676  39.712702   \n2012-01-09 01:48:00              traffic-accident -104.975428  39.772960   \n2012-01-09 02:09:00                    auto-theft -105.029413  39.757461   \n2012-01-09 02:26:00               public-disorder -104.770694  39.822671   \n...                                           ...         ...        ...   \n2012-01-15 23:16:00                       robbery -104.993926  39.746143   \n2012-01-15 23:18:00  other-crimes-against-persons -105.052765  39.654618   \n2012-01-15 23:23:00                      burglary -104.853150  39.783152   \n2012-01-15 23:24:00      theft-from-motor-vehicle -105.052865  39.754390   \n2012-01-15 23:52:00              traffic-accident -105.025084  39.713388   \n\n                       NEIGHBORHOOD_ID  IS_CRIME  IS_TRAFFIC  \nREPORTED_DATE                                                 \n2012-01-09 00:04:00        five-points         0           1  \n2012-01-09 00:05:00           valverde         1           0  \n2012-01-09 01:48:00        five-points         0           1  \n2012-01-09 02:09:00         sloan-lake         1           0  \n2012-01-09 02:26:00                dia         1           0  \n...                                ...       ...         ...  \n2012-01-15 23:16:00                cbd         1           0  \n2012-01-15 23:18:00  harvey-park-south         1           0  \n2012-01-15 23:23:00          montbello         1           0  \n2012-01-15 23:24:00         sloan-lake         1           0  \n2012-01-15 23:52:00             barnum         0           1  \n\n[1071 rows x 7 columns]",
      "text/html": "<div>\n<style scoped>\n    .dataframe tbody tr th:only-of-type {\n        vertical-align: middle;\n    }\n\n    .dataframe tbody tr th {\n        vertical-align: top;\n    }\n\n    .dataframe thead th {\n        text-align: right;\n    }\n</style>\n<table border=\"1\" class=\"dataframe\">\n  <thead>\n    <tr style=\"text-align: right;\">\n      <th></th>\n      <th>OFFENSE_TYPE_ID</th>\n      <th>OFFENSE_CATEGORY_ID</th>\n      <th>GEO_LON</th>\n      <th>GEO_LAT</th>\n      <th>NEIGHBORHOOD_ID</th>\n      <th>IS_CRIME</th>\n      <th>IS_TRAFFIC</th>\n    </tr>\n    <tr>\n      <th>REPORTED_DATE</th>\n      <th></th>\n      <th></th>\n      <th></th>\n      <th></th>\n      <th></th>\n      <th></th>\n      <th></th>\n    </tr>\n  </thead>\n  <tbody>\n    <tr>\n      <th>2012-01-09 00:04:00</th>\n      <td>traffic-accident-hit-and-run</td>\n      <td>traffic-accident</td>\n      <td>-104.973343</td>\n      <td>39.760757</td>\n      <td>five-points</td>\n      <td>0</td>\n      <td>1</td>\n    </tr>\n    <tr>\n      <th>2012-01-09 00:05:00</th>\n      <td>fraud-criminal-impersonation</td>\n      <td>white-collar-crime</td>\n      <td>-105.024676</td>\n      <td>39.712702</td>\n      <td>valverde</td>\n      <td>1</td>\n      <td>0</td>\n    </tr>\n    <tr>\n      <th>2012-01-09 01:48:00</th>\n      <td>traffic-accident-dui-duid</td>\n      <td>traffic-accident</td>\n      <td>-104.975428</td>\n      <td>39.772960</td>\n      <td>five-points</td>\n      <td>0</td>\n      <td>1</td>\n    </tr>\n    <tr>\n      <th>2012-01-09 02:09:00</th>\n      <td>theft-of-motor-vehicle</td>\n      <td>auto-theft</td>\n      <td>-105.029413</td>\n      <td>39.757461</td>\n      <td>sloan-lake</td>\n      <td>1</td>\n      <td>0</td>\n    </tr>\n    <tr>\n      <th>2012-01-09 02:26:00</th>\n      <td>criminal-mischief-other</td>\n      <td>public-disorder</td>\n      <td>-104.770694</td>\n      <td>39.822671</td>\n      <td>dia</td>\n      <td>1</td>\n      <td>0</td>\n    </tr>\n    <tr>\n      <th>...</th>\n      <td>...</td>\n      <td>...</td>\n      <td>...</td>\n      <td>...</td>\n      <td>...</td>\n      <td>...</td>\n      <td>...</td>\n    </tr>\n    <tr>\n      <th>2012-01-15 23:16:00</th>\n      <td>robbery-street</td>\n      <td>robbery</td>\n      <td>-104.993926</td>\n      <td>39.746143</td>\n      <td>cbd</td>\n      <td>1</td>\n      <td>0</td>\n    </tr>\n    <tr>\n      <th>2012-01-15 23:18:00</th>\n      <td>assault-simple</td>\n      <td>other-crimes-against-persons</td>\n      <td>-105.052765</td>\n      <td>39.654618</td>\n      <td>harvey-park-south</td>\n      <td>1</td>\n      <td>0</td>\n    </tr>\n    <tr>\n      <th>2012-01-15 23:23:00</th>\n      <td>burglary-business-by-force</td>\n      <td>burglary</td>\n      <td>-104.853150</td>\n      <td>39.783152</td>\n      <td>montbello</td>\n      <td>1</td>\n      <td>0</td>\n    </tr>\n    <tr>\n      <th>2012-01-15 23:24:00</th>\n      <td>theft-items-from-vehicle</td>\n      <td>theft-from-motor-vehicle</td>\n      <td>-105.052865</td>\n      <td>39.754390</td>\n      <td>sloan-lake</td>\n      <td>1</td>\n      <td>0</td>\n    </tr>\n    <tr>\n      <th>2012-01-15 23:52:00</th>\n      <td>traffic-accident-hit-and-run</td>\n      <td>traffic-accident</td>\n      <td>-105.025084</td>\n      <td>39.713388</td>\n      <td>barnum</td>\n      <td>0</td>\n      <td>1</td>\n    </tr>\n  </tbody>\n</table>\n<p>1071 rows × 7 columns</p>\n</div>"
     },
     "execution_count": 126,
     "metadata": {},
     "output_type": "execute_result"
    }
   ],
   "source": [
    "crime_sorted.loc['2012-1-9':'2012-1-15']"
   ],
   "metadata": {
    "collapsed": false,
    "ExecuteTime": {
     "end_time": "2023-09-05T06:44:32.026162200Z",
     "start_time": "2023-09-05T06:44:32.005487400Z"
    }
   },
   "id": "962150dd29c916b2"
  },
  {
   "cell_type": "code",
   "execution_count": 127,
   "outputs": [
    {
     "data": {
      "text/plain": "REPORTED_DATE\n2012-01-05     462\n2012-01-12    1116\n2012-01-19     924\n2012-01-26    1061\n2012-02-02     926\n              ... \n2017-09-07    1803\n2017-09-14    1866\n2017-09-21    1926\n2017-09-28    1720\n2017-10-05      28\nFreq: W-THU, Length: 301, dtype: int64"
     },
     "execution_count": 127,
     "metadata": {},
     "output_type": "execute_result"
    }
   ],
   "source": [
    "crime_sorted.resample('W-THU').size()"
   ],
   "metadata": {
    "collapsed": false,
    "ExecuteTime": {
     "end_time": "2023-09-05T06:45:06.577673900Z",
     "start_time": "2023-09-05T06:45:06.540326200Z"
    }
   },
   "id": "ed62fcf15310a1d0"
  },
  {
   "cell_type": "code",
   "execution_count": 131,
   "outputs": [
    {
     "data": {
      "text/plain": "<Axes: xlabel='REPORTED_DATE'>"
     },
     "execution_count": 131,
     "metadata": {},
     "output_type": "execute_result"
    },
    {
     "data": {
      "text/plain": "<Figure size 1600x400 with 1 Axes>",
      "image/png": "[encoded data removed]"
     },
     "metadata": {},
     "output_type": "display_data"
    }
   ],
   "source": [
    "crime_sorted.resample('M').size().plot(figsize=(16,4))"
   ],
   "metadata": {
    "collapsed": false,
    "ExecuteTime": {
     "end_time": "2023-09-05T06:46:45.982551800Z",
     "start_time": "2023-09-05T06:46:45.751484400Z"
    }
   },
   "id": "baf8e311df895c25"
  },
  {
   "cell_type": "code",
   "execution_count": 136,
   "outputs": [
    {
     "data": {
      "text/plain": "<Axes: xlabel='REPORTED_DATE'>"
     },
     "execution_count": 136,
     "metadata": {},
     "output_type": "execute_result"
    },
    {
     "data": {
      "text/plain": "<Figure size 1600x600 with 1 Axes>",
      "image/png": "[encoded data removed]"
     },
     "metadata": {},
     "output_type": "display_data"
    }
   ],
   "source": [
    "# 分析每季度的犯罪和交通事故数据\n",
    "crime_sorted.resample('Q')['IS_CRIME','IS_TRAFFIC'].sum().plot(figsize=(16,6),color=['red','blue'])"
   ],
   "metadata": {
    "collapsed": false,
    "ExecuteTime": {
     "end_time": "2023-09-05T06:49:13.745952400Z",
     "start_time": "2023-09-05T06:49:13.454923300Z"
    }
   },
   "id": "bc89ae8ed39ecadb"
  },
  {
   "cell_type": "code",
   "execution_count": 139,
   "outputs": [
    {
     "data": {
      "text/plain": "<Axes: xlabel='REPORTED_DATE'>"
     },
     "execution_count": 139,
     "metadata": {},
     "output_type": "execute_result"
    },
    {
     "data": {
      "text/plain": "<Figure size 1600x600 with 1 Axes>",
      "image/png": "[encoded data removed]"
     },
     "metadata": {},
     "output_type": "display_data"
    }
   ],
   "source": [
    "plot_kwargs = dict(figsize=(16,6),color=['red','blue'])\n",
    "crime_sorted.resample('Q')['IS_CRIME','IS_TRAFFIC'].sum().plot(**plot_kwargs)"
   ],
   "metadata": {
    "collapsed": false,
    "ExecuteTime": {
     "end_time": "2023-09-05T06:50:35.135571200Z",
     "start_time": "2023-09-05T06:50:34.857471600Z"
    }
   },
   "id": "827eeb671e126334"
  },
  {
   "cell_type": "code",
   "execution_count": 138,
   "outputs": [
    {
     "data": {
      "text/plain": "{'figsize': (16, 6), 'color': ['red', 'blue']}"
     },
     "execution_count": 138,
     "metadata": {},
     "output_type": "execute_result"
    }
   ],
   "source": [
    "plot_kwargs"
   ],
   "metadata": {
    "collapsed": false,
    "ExecuteTime": {
     "end_time": "2023-09-05T06:50:00.323943400Z",
     "start_time": "2023-09-05T06:50:00.283163700Z"
    }
   },
   "id": "da673f318a389989"
  },
  {
   "cell_type": "code",
   "execution_count": 149,
   "outputs": [
    {
     "data": {
      "text/plain": "<Axes: >"
     },
     "execution_count": 149,
     "metadata": {},
     "output_type": "execute_result"
    },
    {
     "data": {
      "text/plain": "<Figure size 640x480 with 1 Axes>",
      "image/png": "[encoded data removed]"
     },
     "metadata": {},
     "output_type": "display_data"
    }
   ],
   "source": [
    "# 分析工作日的犯罪情况\n",
    "crime_sorted.reset_index()['REPORTED_DATE'].dt.weekday.value_counts().sort_index().plot(kind = 'bar')\n",
    "# kind = 'barh'"
   ],
   "metadata": {
    "collapsed": false,
    "ExecuteTime": {
     "end_time": "2023-09-05T06:53:21.419252Z",
     "start_time": "2023-09-05T06:53:21.191194900Z"
    }
   },
   "id": "75de992773522957"
  }
 ],
 "metadata": {
  "kernelspec": {
   "display_name": "Python 3",
   "language": "python",
   "name": "python3"
  },
  "language_info": {
   "codemirror_mode": {
    "name": "ipython",
    "version": 2
   },
   "file_extension": ".py",
   "mimetype": "text/x-python",
   "name": "python",
   "nbconvert_exporter": "python",
   "pygments_lexer": "ipython2",
   "version": "2.7.6"
  }
 },
 "nbformat": 4,
 "nbformat_minor": 5
}
