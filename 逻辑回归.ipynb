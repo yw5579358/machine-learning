{
 "cells": [
  {
   "metadata": {},
   "cell_type": "code",
   "outputs": [],
   "execution_count": null,
   "source": [
    "#逻辑回归：二分类模型，线性回归的输出，作为逻辑回归的输入，输出在0,1<br/>\n",
    "#思想：利用线性模型，根据特征重要性计算值，通过sigmoid（单调递增，把(-∞, +∞) 映射到 (0， 1)）<br/>\n",
    "# 设置阈值（eg:0.5）大于为1类否则为0类<br/>\n",
    "# 𝑝_𝑖 = sigmoid(w^Tx + b )是逻辑回归的输出结果\n",
    "# 损失函数：Loss(L) = - ∑_(𝑖=1)^𝑚( 𝑦_𝑖*log(𝑝_𝑖) + (1−𝑦_𝑖)*log(1−𝑝_𝑖))"
   ],
   "id": "85275535cc6e7195"
  },
  {
   "metadata": {},
   "cell_type": "markdown",
   "source": [
    "solver 损失函数优化方法:<br/>\n",
    "          1 liblinear 对小数据集场景训练速度更快，sag 和 saga 对大数据集更快一些。<br/>\n",
    "          2 正则化：<br/>\n",
    "\t1 sag、saga 支持 L2 正则化或者没有正则化<br/>\n",
    "\t2 liblinear 和 saga 支持 L1 正则化<br/>\n",
    "penalty：正则化的种类，l1 或者 l2<br/>\n",
    "C：正则化力度 <br/>\n"
   ],
   "id": "6435cf2a4a779403"
  },
  {
   "metadata": {
    "ExecuteTime": {
     "end_time": "2025-02-08T07:22:18.683885Z",
     "start_time": "2025-02-08T07:22:18.660197Z"
    }
   },
   "cell_type": "code",
   "source": [
    "import numpy as np\n",
    "import pandas as pd\n",
    "from sklearn.model_selection import train_test_split\n",
    "from sklearn.preprocessing import StandardScaler\n",
    "from sklearn.linear_model import LogisticRegression\n",
    "#癌症分类预测\n",
    "#1.获取数据 \n",
    "data=pd.read_csv('data/breast-cancer-wisconsin.csv')\n",
    "#2.基本数据处理 \n",
    "data.replace('?',np.NAN,inplace=True)\n",
    "#2.1 缺失值处理 \n",
    "data.dropna(inplace=True)\n",
    "#2.2 确定特征值,目标值 \n",
    "x=data.iloc[:,1:-1]\n",
    "y=data['Class']\n",
    "#2.3 分割数据 \n",
    "x_train,x_test,y_train,y_test=train_test_split(x,y,test_size=0.2,random_state=22)\n",
    "#3.特征工程(标准化) \n",
    "transfer=StandardScaler()\n",
    "x_train=transfer.fit_transform(x_train)\n",
    "x_test=transfer.transform(x_test)\n",
    "#4.机器学习(逻辑回归) \n",
    "# solver liblinear对小数据集场景训练速度更快，sag和saga对大数据集更快 liblinear和saga支持l1正则化，penalty 正则化种类 l1和l2 c正则化力度，c越大惩罚越大\n",
    "model=LogisticRegression(solver='liblinear',penalty='l1',C=1.0)\n",
    "model.fit(x_train,y_train)\n",
    "y_pred=model.predict(x_test)\n",
    "print(y_pred)\n",
    "#5.模型评估\n",
    "accuracy=model.score(x_test,y_test)\n",
    "accuracy"
   ],
   "id": "6e6ad1fa18e6f808",
   "outputs": [
    {
     "name": "stdout",
     "output_type": "stream",
     "text": [
      "[2 4 4 2 2 2 2 2 2 2 2 2 2 4 2 2 4 4 4 2 4 2 4 4 4 2 4 2 2 2 2 2 4 2 2 2 4\n",
      " 2 2 2 2 4 2 4 4 4 4 2 4 4 2 2 2 2 2 4 2 2 2 2 4 4 4 4 2 4 2 2 4 2 2 2 2 4\n",
      " 2 2 2 2 2 2 4 4 4 2 4 4 4 4 2 2 2 4 2 4 2 2 2 2 2 2 4 2 2 4 2 2 4 2 4 4 2\n",
      " 2 2 2 4 2 2 2 2 2 2 4 2 4 2 2 2 4 2 4 2 2 2 4 2 2 2]\n"
     ]
    },
    {
     "data": {
      "text/plain": [
       "0.9854014598540146"
      ]
     },
     "execution_count": 12,
     "metadata": {},
     "output_type": "execute_result"
    }
   ],
   "execution_count": 12
  },
  {
   "metadata": {},
   "cell_type": "markdown",
   "source": [
    "混淆矩阵\n",
    "正例 的样本,被分类为正例的数量,叫做真正例 TP，被分为假例的数量，叫伪反例，FN\n",
    "假例的样本,被分为正例的数量,叫做伪正例,FP,被分类为假例的样本叫做真反例,TN"
   ],
   "id": "69d025e167c884d2"
  },
  {
   "metadata": {
    "ExecuteTime": {
     "end_time": "2025-02-08T07:48:59.363875Z",
     "start_time": "2025-02-08T07:48:59.351016Z"
    }
   },
   "cell_type": "code",
   "source": [
    "#这两条都有问题不知道为什么恶行都是0\n",
    "from sklearn.metrics import confusion_matrix\n",
    "import pandas as pd\n",
    "import numpy as np\n",
    "y_true = [\"恶性\", \"恶性\", \"恶性\", \"恶性\", \"恶性\", \"恶性\", \"良性\", \"良性\", \"良性\", \"良性\"]\n",
    "label=[\"恶性\",\"良性\"]\n",
    "dataframe_labels=[\"恶性（正例）\",\"良性(反例)\"]\n",
    "print(\"模型A\")\n",
    "y_pred1= [\"恶性\", \"恶性\", \"恶性\", \"良性\", \"良性\", \"良性\", \"良性\", \"良性\", \"良性\", \"良性\"]\n",
    "result=confusion_matrix(y_true,y_pred1,labels=label)\n",
    "print(pd.DataFrame(result,columns=dataframe_labels,index=label))\n",
    "\n",
    "y_pred2= [\"恶性\", \"恶性\", \"恶性\", \"恶性\", \"恶性\", \"恶性\", \"恶性\", \"恶性\", \"恶性\", \"良性\"]\n",
    "result=confusion_matrix(y_true,y_pred2,labels=label)\n",
    "print(pd.DataFrame(result,columns=dataframe_labels,index=label))\n",
    "arr=np.array(['TP','FN','FP','TN'])\n",
    "arr=arr.reshape(2,2)\n",
    "arr"
   ],
   "id": "ddeeb1d62519c1e0",
   "outputs": [
    {
     "name": "stdout",
     "output_type": "stream",
     "text": [
      "模型A\n",
      "    恶性（正例）  良性(反例)\n",
      "恶性       3       3\n",
      "良性       0       4\n",
      "    恶性（正例）  良性(反例)\n",
      "恶性       6       0\n",
      "良性       3       1\n"
     ]
    },
    {
     "data": {
      "text/plain": [
       "array([['TP', 'FN'],\n",
       "       ['FP', 'TN']], dtype='<U2')"
      ]
     },
     "execution_count": 29,
     "metadata": {},
     "output_type": "execute_result"
    }
   ],
   "execution_count": 29
  },
  {
   "metadata": {},
   "cell_type": "markdown",
   "source": [
    "精确率 (Precision) =TP/(TP+FP)<br/>\n",
    "召回率 (Recall, TPR) = TP / (TP + FN) <br/>\n",
    "准确率 (Accuracy) = (TP + TN) / 总样本数<br/>\n",
    "F1- score 综合预测能力= 2*Precision*Recall/(Precision+Recall),是精确率和召回率的调和平均数"
   ],
   "id": "2c3d37dc94b4d5f3"
  },
  {
   "metadata": {},
   "cell_type": "markdown",
   "source": [
    "ROC曲线和AUC指标 用于描述正负样本的分辨能力\n",
    "1 正样本中被预测为正样本的概率TPR \n",
    "2 负样本中被预测为正样本的概率FPR "
   ],
   "id": "7e7eada26c106764"
  },
  {
   "metadata": {},
   "cell_type": "markdown",
   "source": "ROC曲线以模型的真正率TPR为纵轴，假正率FPR为横轴，它将模型在不同阈值下的表现以曲线的形式展现出来。",
   "id": "a2c57e28bd4fd913"
  },
  {
   "metadata": {},
   "cell_type": "markdown",
   "source": [
    "ROC曲线的优劣可以通过曲线下的面积（AUC）来衡量，AUC越大表示分类器性能越好<br/>\n",
    "AUC=0.5时，表示分类器的性能等同于随机猜测<br/>\n",
    "AUC=1时，表示分类器的性能完美，能够完全正确地将正负例分类。<br/>\n",
    "曲线越靠近 (0,1) 点则模型对正负样本的辨别能力就越强\n"
   ],
   "id": "ff08cbf64d99cdae"
  },
  {
   "metadata": {
    "ExecuteTime": {
     "end_time": "2025-02-08T08:50:16.297058Z",
     "start_time": "2025-02-08T08:50:16.281579Z"
    }
   },
   "cell_type": "code",
   "source": [
    "from sklearn.metrics import roc_auc_score\n",
    "#sklearn.metrics.roc_auc_score(y_true, y_pred)\n",
    "# sklearn.metrics.classification_report(y_true, y_pred, labels=[], target_names=None "
   ],
   "id": "58798232eb7cfc44",
   "outputs": [],
   "execution_count": 30
  },
  {
   "metadata": {
    "ExecuteTime": {
     "end_time": "2025-02-08T09:01:49.618474Z",
     "start_time": "2025-02-08T09:01:49.297419Z"
    }
   },
   "cell_type": "code",
   "source": [
    "import numpy as np\n",
    "import pandas as pd\n",
    "import matplotlib.pyplot as plt\n",
    "import seaborn as sns\n",
    "from sklearn.metrics import accuracy_score\n",
    "from sklearn.metrics import classification_report\n",
    "\n",
    "#数据基本处理\n",
    "churn_pd = pd.read_csv('./data/churn.csv')\n",
    "    # 1 处理类别型的数据 类别型数据做one-hot编码 将类别转换为(010)\n",
    "churn_pd = pd.get_dummies(churn_pd)\n",
    "churn_pd.head()\n",
    "#get_dummies 会将一份数据划分出多份\n",
    "churn_pd.drop(['Churn_No', 'gender_Male'], axis=1, inplace=True)\n",
    "churn_pd.rename(columns = {'Churn_Yes':'flag'}, inplace=True)\n",
    "value_counts = churn_pd.flag.value_counts(1)\n",
    "sns.countplot(data=churn_pd,y=\"Contract_Month\",hue='flag')\n",
    "\n",
    "# 2 特征处理   \n",
    "# 2-1 确定目标值和特征值\n",
    "x = churn_pd[['Contract_Month', 'internet_other', 'PaymentElectronic']]\n",
    "y = churn_pd['flag']\n",
    "# 2-2 数据集划分   \n",
    "x_train, x_test, y_train, y_test =  train_test_split(x, y, test_size=0.3,random_state=100)\n",
    "#实例化模型，训练模型，预测模型\n",
    "model=LogisticRegression()\n",
    "model.fit(x_train,y_train)\n",
    "y_pred=model.predict(x_test)\n",
    "#模型评估\n",
    "my_accuracy_sorce=accuracy_score(y_test,y_pred)\n",
    "my_score=model.score(x_test,y_test)\n",
    "print(my_score)\n",
    "print(my_accuracy_sorce)\n",
    "#计算auc\n",
    "my_auc=roc_auc_score(y_test,y_pred)\n",
    "print(my_auc)\n",
    "#报告\n",
    "result=classification_report(y_test,y_pred,target_names=['flag0','flag1'])\n",
    "print(result)"
   ],
   "id": "d97896e37a85e9bb",
   "outputs": [
    {
     "name": "stdout",
     "output_type": "stream",
     "text": [
      "0.7624230951254141\n",
      "0.7624230951254141\n",
      "0.6472872378089588\n",
      "              precision    recall  f1-score   support\n",
      "\n",
      "       flag0       0.80      0.90      0.85      1547\n",
      "       flag1       0.58      0.40      0.47       566\n",
      "\n",
      "    accuracy                           0.76      2113\n",
      "   macro avg       0.69      0.65      0.66      2113\n",
      "weighted avg       0.74      0.76      0.75      2113\n",
      "\n"
     ]
    },
    {
     "data": {
      "text/plain": [
       "<Figure size 640x480 with 1 Axes>"
      ],
      "image/png": "[encoded data removed]"
     },
     "metadata": {},
     "output_type": "display_data"
    }
   ],
   "execution_count": 40
  }
 ],
 "metadata": {
  "kernelspec": {
   "display_name": "Python 3",
   "language": "python",
   "name": "python3"
  },
  "language_info": {
   "codemirror_mode": {
    "name": "ipython",
    "version": 2
   },
   "file_extension": ".py",
   "mimetype": "text/x-python",
   "name": "python",
   "nbconvert_exporter": "python",
   "pygments_lexer": "ipython2",
   "version": "2.7.6"
  }
 },
 "nbformat": 4,
 "nbformat_minor": 5
}
