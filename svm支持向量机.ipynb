{
 "cells": [
  {
   "metadata": {},
   "cell_type": "markdown",
   "source": [
    "SVM全称是supported\tvector\tmachine（⽀持向量机），即寻找到⼀个超平⾯使样本分成两类，并且间隔最⼤<br/>\n",
    "法既可以⽤于分类（⼆/多分类），也可⽤于回归和异常值检测<br/>\n",
    "具有良好的鲁棒性，对未知数据拥有很强的泛化能⼒，特别是在数据量较少的情况下<br/>"
   ],
   "id": "87a2406055784f9"
  },
  {
   "metadata": {},
   "cell_type": "markdown",
   "source": [
    "硬间隔<br/>\n",
    "只有在数据是线性可分离的时候才有效,对异常值⾮常敏感<br/>\n",
    "软间隔<br/>\n",
    "尽可能在保持最⼤间隔宽阔和限制间隔违例之间找到良好的平衡<br/>"
   ],
   "id": "8227d3bed90f0927"
  },
  {
   "metadata": {},
   "cell_type": "markdown",
   "source": "支持向量机推到过程，寻找最优超平面，对目标函数求解的过程中可以用拉格朗日乘子法（d个变量与k个约束，转换为d+k个无约束的问题），再通过对偶函数，变成极大值极小值问题求解\n",
   "id": "2622a575a6b75e08"
  },
  {
   "metadata": {},
   "cell_type": "markdown",
   "source": [
    "svm的损失函数 ：0/1损失  ，SVM Hinge损失函数（常用）Logistic损失函数<br/>\n",
    "核函数:  是将原始输⼊空间映射到新的特征空间，⼀个从低维空间到⾼维空间的映射,从⽽使得原本线性不可分的样本可能在核空间可分<br/>\n",
    "线性核和多项式核:找与该点距离和⻆度满⾜某种关系的样本点<br/>\n",
    "RBF核(高斯核):再属性空间找点，作为base为圆心向外扩展，扩展半径即为带宽，可划分数据<br/>\n",
    "sigmoid核: 将线性核函数经过tanh函数处理，把值限制再-1到1之间<br/>\n",
    "都是在定义距离，大于该距离，为正，小于为负<br/>"
   ],
   "id": "7a9fefb2d4030db5"
  },
  {
   "metadata": {},
   "cell_type": "markdown",
   "source": [
    "⼀般有如下指导规则：<br/>\n",
    "1）\t如果Feature的数量很⼤，甚⾄和样本数量差不多时，往往线性可分，这时选⽤LR或者线性核Linear；<br/>\n",
    "2）\t如果Feature的数量很⼩，样本数量正常，不算多也不算少，这时选⽤RBF核；<br/>\n",
    "3）\t如果Feature的数量很⼩，⽽样本的数量很⼤，这时⼿动添加⼀些Feature，使得线性可分，然后选⽤LR或<br/>\n",
    "者线性核Linear；<br/>\n",
    "4）\t多项式核⼀般很少使⽤，效率不⾼，结果也不优于RBF；<br/>\n",
    "5）\tLinear核参数少，速度快；RBF核参数多，分类结果⾮常依赖于参数，需要交叉验证或⽹格搜索最佳参<br/>\n",
    "数，⽐较耗时；<br/>\n",
    "6）应⽤最⼴的应该就是RBF核，⽆论是⼩样本还是⼤样本，⾼维还是低维等情况，RBF核函数均适⽤。<br/>"
   ],
   "id": "f04293411ada35c9"
  }
 ],
 "metadata": {
  "kernelspec": {
   "display_name": "Python 3",
   "language": "python",
   "name": "python3"
  },
  "language_info": {
   "codemirror_mode": {
    "name": "ipython",
    "version": 2
   },
   "file_extension": ".py",
   "mimetype": "text/x-python",
   "name": "python",
   "nbconvert_exporter": "python",
   "pygments_lexer": "ipython2",
   "version": "2.7.6"
  }
 },
 "nbformat": 4,
 "nbformat_minor": 5
}
