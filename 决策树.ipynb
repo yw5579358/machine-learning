{
 "cells": [
  {
   "cell_type": "markdown",
   "source": [
    "决策树：分支代表判断结果的输出，叶节点代表分类结果\n",
    "信息熵：越低越有序，Ent(D) = -（p1 * logp1 + p2 * logp2 + ... + p16 * logp16）\n",
    "信息增益：以某特征划分数据集前后的熵的差值，划分数据好坏，为信息熵-条件熵（ID3决策树算法）\n",
    "计算a特征信息熵，先计算整体信息熵，然后计算特征a各类别属性信息熵，该其中一条属性*该属性正样本比例作为条件熵，整体熵减去全部条件熵为a特征信息熵为信息增益\n",
    "信息增益率；信息增益对较多属性类别的属性有选择偏好，使用信息增益率（c4.5决策树能更好的解决这问题）\n",
    "即信息熵/分裂信息度量（该特征关乎自身信息熵）\n",
    "c4.5避免树高度无节制增长，避免过度拟合"
   ],
   "metadata": {
    "collapsed": false
   }
  },
  {
   "cell_type": "markdown",
   "source": [
    "基尼值和基尼指数(cart决策树)\n",
    "是否拖欠贷款 是3 否7， 有房拖欠 0 有房不拖欠 3 无房拖欠 3 无房不拖欠4\n",
    "根结点基尼值：Gini=1-3/10*3/10 -7/10*7/10=0.42\n",
    "是否有房基尼指数， 左基尼值 1-0/3*0/3-3/3*3/3=0\n",
    "                右基尼值 1-3/7*3/7-4/7*4/7=0.4898\n",
    "                基尼指数 3/10*0 + 7/10*0.498=0/343\n",
    "求的各特征后选最小基尼指数\n",
    "剩余再次进行循环"
   ],
   "metadata": {
    "collapsed": false
   }
  },
  {
   "cell_type": "markdown",
   "source": [
    "id3倾向选择值较多的属性，只能处理离散数据集\n",
    "c4.5后剪枝方式，可处理连续数值，对缺失值处理好，但由于需要多次扫描及排序，效率低，内存占用大\n",
    "cart 采用简化的二叉树形式\n",
    "实际中采用多变量特征树，即由一组特征决定比如oc1\n",
    "决策树中的两种类型：数字型，需要排序并分割条件，利用分割情况简化时间复杂度，名称型：枚举\n",
    "决策树构建是一种贪心算法"
   ],
   "metadata": {
    "collapsed": false
   }
  },
  {
   "cell_type": "markdown",
   "source": [
    "剪支方法\n",
    "预剪枝\n",
    "在构建树的过程中，同时剪枝,限制节点最小样本数,指定数据高度,指定熵值的最小值\n",
    "后剪枝\n",
    "把一棵树，构建完成之后，再进行从下往上的剪枝"
   ],
   "metadata": {
    "collapsed": false
   }
  },
  {
   "cell_type": "markdown",
   "source": [
    "岔话题 特征提取\n",
    "字典特征提取\n",
    "字典特征提取就是对类别型数据进行转换，做one-hot编码处理\n",
    "api:sklearn.feature_extraction.DictVectorizer(sparse=True,…)\n",
    "文本特征提取 英文api:sklearn.feature_extraction.text.CountVectorizer(stop_words=[]\n",
    "           中文jieba分词\n",
    "tfidf 在一篇文章中出现的概率高，并且在其他文章中很少出现，则认为此词或者短语具有很好的类别区分能力\n",
    "tf -- 词频idf -- 逆向文档频率\n",
    "如⼀篇⽂章的总词语数是100个，⽽词语\"⾮常\"出现了5次，那么\"⾮常\"⼀词在该⽂件中的词频就是5/100=0.05。\n",
    "如果\"⾮常\"⼀词在1,0000份⽂件出现过，⽽⽂件总数是10,000,000份的话，其逆向⽂件频率就是lg（10,000,000\t/\t1,0000）=3。最后\"⾮常\"对于这篇⽂档的tf-idf的分数为0.05\t*\t3=0.15\n",
    "api:sklearn.feature_extraction.text.TfidfVectorizer"
   ],
   "metadata": {
    "collapsed": false
   }
  },
  {
   "cell_type": "markdown",
   "source": [
    "决策树api\n",
    "class sklearn.tree.DecisionTreeClassifier(criterion=’gini’, max_depth=None,random_state=None)\n",
    "criterion\n",
    "特征选择标准\n",
    "\"gini\"或者\"entropy\"，前者代表基尼系数，后者代表信息增益。一默认\"gini\"，即CART算法。\n",
    "min_samples_split\n",
    "内部节点再划分所需最小样本数\n",
    "这个值限制了子树继续划分的条件，如果某节点的样本数少于min_samples_split，则不会继续再尝试选择最优特征来进行划分。 默认是2.如果样本量不大，不需要管这个值。如果样本量数量级非常大，则推荐增大这个值。我之前的一个项目例子，有大概10万样本，建立决策树时，我选择了min_samples_split=10。可以作为参考。\n",
    "min_samples_leaf\n",
    "叶子节点最少样本数\n",
    "这个值限制了叶子节点最少的样本数，如果某叶子节点数目小于样本数，则会和兄弟节点一起被剪枝。 默认是1,可以输入最少的样本数的整数，或者最少样本数占样本总数的百分比。如果样本量不大，不需要管这个值。如果样本量数量级非常大，则推荐增大这个值。之前的10万样本项目使用min_samples_leaf的值为5，仅供参考。\n",
    "max_depth\n",
    "决策树最大深度\n",
    "决策树的最大深度，默认可以不输入，如果不输入的话，决策树在建立子树的时候不会限制子树的深度。一般来说，数据少或者特征少的时候可以不管这个值。如果模型样本量多，特征也多的情况下，推荐限制这个最大深度，具体的取值取决于数据的分布。常用的可以取值10-100之间\n",
    "random_state\n",
    "随机数种子"
   ],
   "metadata": {
    "collapsed": false
   }
  },
  {
   "metadata": {},
   "cell_type": "markdown",
   "source": [
    "回归决策树\n",
    "决策树可分为回归决策树和分类决策树，前者主要用于处理离散数据，后者处理连续性数据\n",
    "在回归树中，采⽤的是启发式的⽅法。假如我们有n个特征，每个特征有s(i∈(1,n))个取值，那我们遍历所有特征，尝试该特征所有取值，对空间进⾏划分，直到取到特征\tj\t的取值\ts，使得损失函数最⼩，这样就得到了⼀个划分点\n"
   ]
  },
  {
   "cell_type": "markdown",
   "source": "",
   "metadata": {
    "collapsed": false
   }
  },
  {
   "metadata": {
    "ExecuteTime": {
     "end_time": "2025-02-13T06:22:28.209842Z",
     "start_time": "2025-02-13T06:22:28.204842Z"
    }
   },
   "cell_type": "code",
   "source": [
    "#字典数据提取\n",
    "from sklearn.feature_extraction import DictVectorizer\n",
    "\n",
    "data = [{'city': '北京', 'temperature': 100}, {'city': '上海', 'temperature': 60}, {'city': '深圳', 'temperature': 30}]\n",
    "transfer = DictVectorizer(sparse=False)\n",
    "# transfer = DictVectorizer(sparse=True)\n",
    "data = transfer.fit_transform(data)\n",
    "print(data)\n",
    "print(transfer.get_feature_names_out())"
   ],
   "outputs": [
    {
     "name": "stdout",
     "output_type": "stream",
     "text": [
      "[[  0.   1.   0. 100.]\n",
      " [  1.   0.   0.  60.]\n",
      " [  0.   0.   1.  30.]]\n",
      "['city=上海' 'city=北京' 'city=深圳' 'temperature']\n"
     ]
    }
   ],
   "execution_count": 13
  },
  {
   "metadata": {
    "ExecuteTime": {
     "end_time": "2025-02-13T06:25:21.415613Z",
     "start_time": "2025-02-13T06:25:21.409339Z"
    }
   },
   "cell_type": "code",
   "source": [
    "#文本特征提取\n",
    "from sklearn.feature_extraction.text import CountVectorizer\n",
    "\n",
    "d = [\"life is\tshort,i\tlike\tlike\tpython\", \"life\tis\ttoo\tlong,i dislike\tdislike\tpython\"]\n",
    "transfer2 = CountVectorizer()\n",
    "d = transfer2.fit_transform(d)\n",
    "#句子索引 0，1 单词索引 names\n",
    "print(d)\n",
    "#矩阵形式\n",
    "print(d.toarray())\n",
    "print(transfer2.get_feature_names_out())"
   ],
   "outputs": [
    {
     "name": "stdout",
     "output_type": "stream",
     "text": [
      "  (0, 2)\t1\n",
      "  (0, 1)\t1\n",
      "  (0, 6)\t1\n",
      "  (0, 3)\t2\n",
      "  (0, 5)\t1\n",
      "  (1, 2)\t1\n",
      "  (1, 1)\t1\n",
      "  (1, 5)\t1\n",
      "  (1, 7)\t1\n",
      "  (1, 4)\t1\n",
      "  (1, 0)\t2\n",
      "['dislike' 'is' 'life' 'like' 'long' 'python' 'short' 'too']\n",
      "[[0 1 1 2 0 1 1 0]\n",
      " [2 1 1 0 1 1 0 1]]\n"
     ]
    }
   ],
   "execution_count": 26
  },
  {
   "metadata": {
    "ExecuteTime": {
     "end_time": "2025-02-13T06:37:54.436994Z",
     "start_time": "2025-02-13T06:37:54.430120Z"
    }
   },
   "cell_type": "code",
   "source": [
    "#中文分词\n",
    "from sklearn.feature_extraction.text import CountVectorizer\n",
    "import jieba\n",
    "\n",
    "data = [\"⼀种还是⼀种今天很残酷，明天更残酷，后天很美好，但绝对⼤部分是死在明天晚上，所以每个⼈不要放弃今天。\",\n",
    "        \"我们看到的从很远星系来的光是在⼏百万年之前发出的，这样当我们看到宇宙时，我们是在看它的过去。\",\n",
    "        \"如果只⽤⼀种⽅式了解某样事物，你就不会真正了解它。了解事物真正含义的秘密取决于如何将其与我们所了解的事物相联系。\"]\n",
    "\n",
    "text_list = []\n",
    "for word in data:\n",
    "    text_list.append(\" \".join(jieba.cut(word)))\n",
    "transfer = CountVectorizer()\n",
    "data = transfer.fit_transform(text_list)\n",
    "print(data.toarray())\n",
    "print(transfer.get_feature_names_out())\n",
    "print(text_list)"
   ],
   "outputs": [
    {
     "name": "stdout",
     "output_type": "stream",
     "text": [
      "[[0 1 0 0 0 2 0 0 0 1 0 0 0 0 0 1 1 2 0 1 0 2 1 0 0 0 0 1 1 0 0 1 0 1]\n",
      " [0 0 1 0 0 0 1 1 0 0 0 0 0 1 3 0 0 0 1 0 0 0 0 1 2 0 0 0 0 0 1 0 1 0]\n",
      " [1 0 0 4 3 0 0 0 1 0 1 1 1 0 1 0 0 0 0 0 1 0 0 0 0 2 1 0 0 1 0 0 0 0]]\n",
      "['不会' '不要' '之前' '了解' '事物' '今天' '光是在' '发出' '取决于' '后天' '含义' '如何' '如果' '宇宙'\n",
      " '我们' '所以' '放弃' '明天' '星系' '晚上' '某样' '残酷' '每个' '百万年' '看到' '真正' '秘密' '绝对'\n",
      " '美好' '联系' '过去' '还是' '这样' '部分']\n",
      "['⼀ 种 还是 ⼀ 种 今天 很 残酷 ， 明天 更 残酷 ， 后天 很 美好 ， 但 绝对 ⼤ 部分 是 死 在 明天 晚上 ， 所以 每个 ⼈ 不要 放弃 今天 。', '我们 看到 的 从 很 远 星系 来 的 光是在 ⼏ 百万年 之前 发出 的 ， 这样 当 我们 看到 宇宙 时 ， 我们 是 在 看 它 的 过去 。', '如果 只 ⽤ ⼀ 种 ⽅ 式 了解 某样 事物 ， 你 就 不会 真正 了解 它 。 了解 事物 真正 含义 的 秘密 取决于 如何 将 其 与 我们 所 了解 的 事物 相 联系 。']\n"
     ]
    }
   ],
   "execution_count": 32
  },
  {
   "metadata": {
    "ExecuteTime": {
     "end_time": "2025-02-13T06:59:58.720033Z",
     "start_time": "2025-02-13T06:59:58.710035Z"
    }
   },
   "cell_type": "code",
   "source": [
    "#tf-idf\n",
    "from sklearn.feature_extraction.text import TfidfVectorizer\n",
    "\n",
    "data = [\"⼀种还是⼀种今天很残酷，明天更残酷，后天很美好，但绝对⼤部分是死在明天晚上，所以每个⼈不要放弃今天。\",\n",
    "        \"我们看到的从很远星系来的光是在⼏百万年之前发出的，这样当我们看到宇宙时，我们是在看它的过去。\",\n",
    "        \"如果只⽤⼀种⽅式了解某样事物，你就不会真正了解它。了解事物真正含义的秘密取决于如何将其与我们所了解的事物相联系。\"]\n",
    "\n",
    "text_list = []\n",
    "for word in data:\n",
    "    text_list.append(\" \".join(jieba.cut(word)))\n",
    "\n",
    "transfer = TfidfVectorizer(stop_words=['一种', '不会', '不要'])\n",
    "data = transfer.fit_transform(text_list)\n",
    "print(data.toarray())\n",
    "print(transfer.get_feature_names_out())"
   ],
   "outputs": [
    {
     "name": "stdout",
     "output_type": "stream",
     "text": [
      "[[0.         0.         0.         0.43643578 0.         0.\n",
      "  0.         0.21821789 0.         0.         0.         0.\n",
      "  0.         0.21821789 0.21821789 0.43643578 0.         0.21821789\n",
      "  0.         0.43643578 0.21821789 0.         0.         0.\n",
      "  0.         0.21821789 0.21821789 0.         0.         0.21821789\n",
      "  0.         0.21821789]\n",
      " [0.2410822  0.         0.         0.         0.2410822  0.2410822\n",
      "  0.         0.         0.         0.         0.         0.2410822\n",
      "  0.55004769 0.         0.         0.         0.2410822  0.\n",
      "  0.         0.         0.         0.2410822  0.48216441 0.\n",
      "  0.         0.         0.         0.         0.2410822  0.\n",
      "  0.2410822  0.        ]\n",
      " [0.         0.6613748  0.4960311  0.         0.         0.\n",
      "  0.1653437  0.         0.1653437  0.1653437  0.1653437  0.\n",
      "  0.12574815 0.         0.         0.         0.         0.\n",
      "  0.1653437  0.         0.         0.         0.         0.3306874\n",
      "  0.1653437  0.         0.         0.1653437  0.         0.\n",
      "  0.         0.        ]]\n",
      "['之前' '了解' '事物' '今天' '光是在' '发出' '取决于' '后天' '含义' '如何' '如果' '宇宙' '我们' '所以'\n",
      " '放弃' '明天' '星系' '晚上' '某样' '残酷' '每个' '百万年' '看到' '真正' '秘密' '绝对' '美好' '联系'\n",
      " '过去' '还是' '这样' '部分']\n"
     ]
    }
   ],
   "execution_count": 35
  },
  {
   "metadata": {
    "ExecuteTime": {
     "end_time": "2025-02-13T07:03:20.046761Z",
     "start_time": "2025-02-13T07:03:20.039760Z"
    }
   },
   "cell_type": "code",
   "source": "#泰坦尼克号案例",
   "outputs": [],
   "execution_count": 36
  },
  {
   "metadata": {
    "ExecuteTime": {
     "end_time": "2025-02-13T07:25:09.481728Z",
     "start_time": "2025-02-13T07:25:07.193644Z"
    }
   },
   "cell_type": "code",
   "source": [
    "import pandas as pd\n",
    "import numpy as np\n",
    "from sklearn.feature_extraction import DictVectorizer\n",
    "from sklearn.model_selection import train_test_split\n",
    "from sklearn.tree import DecisionTreeClassifier, export_graphviz, DecisionTreeRegressor\n",
    "\n",
    "#1.获取数据\n",
    "#\"http://biostat.mc.vanderbilt.edu/wiki/pub/Main/DataSets/titanic.txt\"\n",
    "titan = pd.read_csv('数据丢了')\n",
    "#2.数据基本处理\n",
    "#2.1\t确定特征值,⽬标值\n",
    "x = titan[[\"pclass\", \"age\", \"sex\"]]\n",
    "y = titan[\"survived\"]\n",
    "#2.2\t缺失值处理\n",
    "x['age'].fillna(x['age'].mean(), inplace=True)\n",
    "#2.3\t数据集划分\n",
    "x_train, x_test, y_train, y_test = train_test_split(x, y, random_state=22)\n",
    "#3.特征⼯程(字典特征抽取)\n",
    "#需要将类别符号进行one-hot编码处理\n",
    "transfer = DictVectorizer(sparse=False)\n",
    "x_train = transfer.fit_transform(x_train.to_dict(orient=\"records\"))\n",
    "x_test = transfer.fit_transform(x_test.to_dict(orient=\"records\"))\n",
    "# 4.机器学习(决策树)\n",
    "estimator = DecisionTreeClassifier(criterion=\"entropy\", max_depth=5)\n",
    "estimator.fit(x_train, y_train)\n",
    "# 5.模型评估\n",
    "estimator.score(x_test, y_test)\n",
    "#6 模型预测\n",
    "estimator.predict(x_test)"
   ],
   "outputs": [
    {
     "ename": "FileNotFoundError",
     "evalue": "[Errno 2] No such file or directory: '数据丢了'",
     "output_type": "error",
     "traceback": [
      "\u001B[1;31m---------------------------------------------------------------------------\u001B[0m",
      "\u001B[1;31mFileNotFoundError\u001B[0m                         Traceback (most recent call last)",
      "Cell \u001B[1;32mIn[37], line 9\u001B[0m\n\u001B[0;32m      5\u001B[0m \u001B[38;5;28;01mfrom\u001B[39;00m \u001B[38;5;21;01msklearn\u001B[39;00m\u001B[38;5;21;01m.\u001B[39;00m\u001B[38;5;21;01mtree\u001B[39;00m \u001B[38;5;28;01mimport\u001B[39;00m DecisionTreeClassifier, export_graphviz\n\u001B[0;32m      7\u001B[0m \u001B[38;5;66;03m#1.获取数据\u001B[39;00m\n\u001B[0;32m      8\u001B[0m \u001B[38;5;66;03m#\"http://biostat.mc.vanderbilt.edu/wiki/pub/Main/DataSets/titanic.txt\"\u001B[39;00m\n\u001B[1;32m----> 9\u001B[0m titan \u001B[38;5;241m=\u001B[39m pd\u001B[38;5;241m.\u001B[39mread_csv(\u001B[38;5;124m'\u001B[39m\u001B[38;5;124m数据丢了\u001B[39m\u001B[38;5;124m'\u001B[39m)\n\u001B[0;32m     10\u001B[0m \u001B[38;5;66;03m#2.数据基本处理\u001B[39;00m\n\u001B[0;32m     11\u001B[0m \u001B[38;5;66;03m#2.1\t确定特征值,⽬标值\u001B[39;00m\n\u001B[0;32m     12\u001B[0m x \u001B[38;5;241m=\u001B[39m titan[[\u001B[38;5;124m\"\u001B[39m\u001B[38;5;124mpclass\u001B[39m\u001B[38;5;124m\"\u001B[39m, \u001B[38;5;124m\"\u001B[39m\u001B[38;5;124mage\u001B[39m\u001B[38;5;124m\"\u001B[39m, \u001B[38;5;124m\"\u001B[39m\u001B[38;5;124msex\u001B[39m\u001B[38;5;124m\"\u001B[39m]]\n",
      "File \u001B[1;32mD:\\wym\\tool\\anaconda\\Lib\\site-packages\\pandas\\util\\_decorators.py:211\u001B[0m, in \u001B[0;36mdeprecate_kwarg.<locals>._deprecate_kwarg.<locals>.wrapper\u001B[1;34m(*args, **kwargs)\u001B[0m\n\u001B[0;32m    209\u001B[0m     \u001B[38;5;28;01melse\u001B[39;00m:\n\u001B[0;32m    210\u001B[0m         kwargs[new_arg_name] \u001B[38;5;241m=\u001B[39m new_arg_value\n\u001B[1;32m--> 211\u001B[0m \u001B[38;5;28;01mreturn\u001B[39;00m func(\u001B[38;5;241m*\u001B[39margs, \u001B[38;5;241m*\u001B[39m\u001B[38;5;241m*\u001B[39mkwargs)\n",
      "File \u001B[1;32mD:\\wym\\tool\\anaconda\\Lib\\site-packages\\pandas\\util\\_decorators.py:331\u001B[0m, in \u001B[0;36mdeprecate_nonkeyword_arguments.<locals>.decorate.<locals>.wrapper\u001B[1;34m(*args, **kwargs)\u001B[0m\n\u001B[0;32m    325\u001B[0m \u001B[38;5;28;01mif\u001B[39;00m \u001B[38;5;28mlen\u001B[39m(args) \u001B[38;5;241m>\u001B[39m num_allow_args:\n\u001B[0;32m    326\u001B[0m     warnings\u001B[38;5;241m.\u001B[39mwarn(\n\u001B[0;32m    327\u001B[0m         msg\u001B[38;5;241m.\u001B[39mformat(arguments\u001B[38;5;241m=\u001B[39m_format_argument_list(allow_args)),\n\u001B[0;32m    328\u001B[0m         \u001B[38;5;167;01mFutureWarning\u001B[39;00m,\n\u001B[0;32m    329\u001B[0m         stacklevel\u001B[38;5;241m=\u001B[39mfind_stack_level(),\n\u001B[0;32m    330\u001B[0m     )\n\u001B[1;32m--> 331\u001B[0m \u001B[38;5;28;01mreturn\u001B[39;00m func(\u001B[38;5;241m*\u001B[39margs, \u001B[38;5;241m*\u001B[39m\u001B[38;5;241m*\u001B[39mkwargs)\n",
      "File \u001B[1;32mD:\\wym\\tool\\anaconda\\Lib\\site-packages\\pandas\\io\\parsers\\readers.py:950\u001B[0m, in \u001B[0;36mread_csv\u001B[1;34m(filepath_or_buffer, sep, delimiter, header, names, index_col, usecols, squeeze, prefix, mangle_dupe_cols, dtype, engine, converters, true_values, false_values, skipinitialspace, skiprows, skipfooter, nrows, na_values, keep_default_na, na_filter, verbose, skip_blank_lines, parse_dates, infer_datetime_format, keep_date_col, date_parser, dayfirst, cache_dates, iterator, chunksize, compression, thousands, decimal, lineterminator, quotechar, quoting, doublequote, escapechar, comment, encoding, encoding_errors, dialect, error_bad_lines, warn_bad_lines, on_bad_lines, delim_whitespace, low_memory, memory_map, float_precision, storage_options)\u001B[0m\n\u001B[0;32m    935\u001B[0m kwds_defaults \u001B[38;5;241m=\u001B[39m _refine_defaults_read(\n\u001B[0;32m    936\u001B[0m     dialect,\n\u001B[0;32m    937\u001B[0m     delimiter,\n\u001B[1;32m   (...)\u001B[0m\n\u001B[0;32m    946\u001B[0m     defaults\u001B[38;5;241m=\u001B[39m{\u001B[38;5;124m\"\u001B[39m\u001B[38;5;124mdelimiter\u001B[39m\u001B[38;5;124m\"\u001B[39m: \u001B[38;5;124m\"\u001B[39m\u001B[38;5;124m,\u001B[39m\u001B[38;5;124m\"\u001B[39m},\n\u001B[0;32m    947\u001B[0m )\n\u001B[0;32m    948\u001B[0m kwds\u001B[38;5;241m.\u001B[39mupdate(kwds_defaults)\n\u001B[1;32m--> 950\u001B[0m \u001B[38;5;28;01mreturn\u001B[39;00m _read(filepath_or_buffer, kwds)\n",
      "File \u001B[1;32mD:\\wym\\tool\\anaconda\\Lib\\site-packages\\pandas\\io\\parsers\\readers.py:605\u001B[0m, in \u001B[0;36m_read\u001B[1;34m(filepath_or_buffer, kwds)\u001B[0m\n\u001B[0;32m    602\u001B[0m _validate_names(kwds\u001B[38;5;241m.\u001B[39mget(\u001B[38;5;124m\"\u001B[39m\u001B[38;5;124mnames\u001B[39m\u001B[38;5;124m\"\u001B[39m, \u001B[38;5;28;01mNone\u001B[39;00m))\n\u001B[0;32m    604\u001B[0m \u001B[38;5;66;03m# Create the parser.\u001B[39;00m\n\u001B[1;32m--> 605\u001B[0m parser \u001B[38;5;241m=\u001B[39m TextFileReader(filepath_or_buffer, \u001B[38;5;241m*\u001B[39m\u001B[38;5;241m*\u001B[39mkwds)\n\u001B[0;32m    607\u001B[0m \u001B[38;5;28;01mif\u001B[39;00m chunksize \u001B[38;5;129;01mor\u001B[39;00m iterator:\n\u001B[0;32m    608\u001B[0m     \u001B[38;5;28;01mreturn\u001B[39;00m parser\n",
      "File \u001B[1;32mD:\\wym\\tool\\anaconda\\Lib\\site-packages\\pandas\\io\\parsers\\readers.py:1442\u001B[0m, in \u001B[0;36mTextFileReader.__init__\u001B[1;34m(self, f, engine, **kwds)\u001B[0m\n\u001B[0;32m   1439\u001B[0m     \u001B[38;5;28mself\u001B[39m\u001B[38;5;241m.\u001B[39moptions[\u001B[38;5;124m\"\u001B[39m\u001B[38;5;124mhas_index_names\u001B[39m\u001B[38;5;124m\"\u001B[39m] \u001B[38;5;241m=\u001B[39m kwds[\u001B[38;5;124m\"\u001B[39m\u001B[38;5;124mhas_index_names\u001B[39m\u001B[38;5;124m\"\u001B[39m]\n\u001B[0;32m   1441\u001B[0m \u001B[38;5;28mself\u001B[39m\u001B[38;5;241m.\u001B[39mhandles: IOHandles \u001B[38;5;241m|\u001B[39m \u001B[38;5;28;01mNone\u001B[39;00m \u001B[38;5;241m=\u001B[39m \u001B[38;5;28;01mNone\u001B[39;00m\n\u001B[1;32m-> 1442\u001B[0m \u001B[38;5;28mself\u001B[39m\u001B[38;5;241m.\u001B[39m_engine \u001B[38;5;241m=\u001B[39m \u001B[38;5;28mself\u001B[39m\u001B[38;5;241m.\u001B[39m_make_engine(f, \u001B[38;5;28mself\u001B[39m\u001B[38;5;241m.\u001B[39mengine)\n",
      "File \u001B[1;32mD:\\wym\\tool\\anaconda\\Lib\\site-packages\\pandas\\io\\parsers\\readers.py:1735\u001B[0m, in \u001B[0;36mTextFileReader._make_engine\u001B[1;34m(self, f, engine)\u001B[0m\n\u001B[0;32m   1733\u001B[0m     \u001B[38;5;28;01mif\u001B[39;00m \u001B[38;5;124m\"\u001B[39m\u001B[38;5;124mb\u001B[39m\u001B[38;5;124m\"\u001B[39m \u001B[38;5;129;01mnot\u001B[39;00m \u001B[38;5;129;01min\u001B[39;00m mode:\n\u001B[0;32m   1734\u001B[0m         mode \u001B[38;5;241m+\u001B[39m\u001B[38;5;241m=\u001B[39m \u001B[38;5;124m\"\u001B[39m\u001B[38;5;124mb\u001B[39m\u001B[38;5;124m\"\u001B[39m\n\u001B[1;32m-> 1735\u001B[0m \u001B[38;5;28mself\u001B[39m\u001B[38;5;241m.\u001B[39mhandles \u001B[38;5;241m=\u001B[39m get_handle(\n\u001B[0;32m   1736\u001B[0m     f,\n\u001B[0;32m   1737\u001B[0m     mode,\n\u001B[0;32m   1738\u001B[0m     encoding\u001B[38;5;241m=\u001B[39m\u001B[38;5;28mself\u001B[39m\u001B[38;5;241m.\u001B[39moptions\u001B[38;5;241m.\u001B[39mget(\u001B[38;5;124m\"\u001B[39m\u001B[38;5;124mencoding\u001B[39m\u001B[38;5;124m\"\u001B[39m, \u001B[38;5;28;01mNone\u001B[39;00m),\n\u001B[0;32m   1739\u001B[0m     compression\u001B[38;5;241m=\u001B[39m\u001B[38;5;28mself\u001B[39m\u001B[38;5;241m.\u001B[39moptions\u001B[38;5;241m.\u001B[39mget(\u001B[38;5;124m\"\u001B[39m\u001B[38;5;124mcompression\u001B[39m\u001B[38;5;124m\"\u001B[39m, \u001B[38;5;28;01mNone\u001B[39;00m),\n\u001B[0;32m   1740\u001B[0m     memory_map\u001B[38;5;241m=\u001B[39m\u001B[38;5;28mself\u001B[39m\u001B[38;5;241m.\u001B[39moptions\u001B[38;5;241m.\u001B[39mget(\u001B[38;5;124m\"\u001B[39m\u001B[38;5;124mmemory_map\u001B[39m\u001B[38;5;124m\"\u001B[39m, \u001B[38;5;28;01mFalse\u001B[39;00m),\n\u001B[0;32m   1741\u001B[0m     is_text\u001B[38;5;241m=\u001B[39mis_text,\n\u001B[0;32m   1742\u001B[0m     errors\u001B[38;5;241m=\u001B[39m\u001B[38;5;28mself\u001B[39m\u001B[38;5;241m.\u001B[39moptions\u001B[38;5;241m.\u001B[39mget(\u001B[38;5;124m\"\u001B[39m\u001B[38;5;124mencoding_errors\u001B[39m\u001B[38;5;124m\"\u001B[39m, \u001B[38;5;124m\"\u001B[39m\u001B[38;5;124mstrict\u001B[39m\u001B[38;5;124m\"\u001B[39m),\n\u001B[0;32m   1743\u001B[0m     storage_options\u001B[38;5;241m=\u001B[39m\u001B[38;5;28mself\u001B[39m\u001B[38;5;241m.\u001B[39moptions\u001B[38;5;241m.\u001B[39mget(\u001B[38;5;124m\"\u001B[39m\u001B[38;5;124mstorage_options\u001B[39m\u001B[38;5;124m\"\u001B[39m, \u001B[38;5;28;01mNone\u001B[39;00m),\n\u001B[0;32m   1744\u001B[0m )\n\u001B[0;32m   1745\u001B[0m \u001B[38;5;28;01massert\u001B[39;00m \u001B[38;5;28mself\u001B[39m\u001B[38;5;241m.\u001B[39mhandles \u001B[38;5;129;01mis\u001B[39;00m \u001B[38;5;129;01mnot\u001B[39;00m \u001B[38;5;28;01mNone\u001B[39;00m\n\u001B[0;32m   1746\u001B[0m f \u001B[38;5;241m=\u001B[39m \u001B[38;5;28mself\u001B[39m\u001B[38;5;241m.\u001B[39mhandles\u001B[38;5;241m.\u001B[39mhandle\n",
      "File \u001B[1;32mD:\\wym\\tool\\anaconda\\Lib\\site-packages\\pandas\\io\\common.py:856\u001B[0m, in \u001B[0;36mget_handle\u001B[1;34m(path_or_buf, mode, encoding, compression, memory_map, is_text, errors, storage_options)\u001B[0m\n\u001B[0;32m    851\u001B[0m \u001B[38;5;28;01melif\u001B[39;00m \u001B[38;5;28misinstance\u001B[39m(handle, \u001B[38;5;28mstr\u001B[39m):\n\u001B[0;32m    852\u001B[0m     \u001B[38;5;66;03m# Check whether the filename is to be opened in binary mode.\u001B[39;00m\n\u001B[0;32m    853\u001B[0m     \u001B[38;5;66;03m# Binary mode does not support 'encoding' and 'newline'.\u001B[39;00m\n\u001B[0;32m    854\u001B[0m     \u001B[38;5;28;01mif\u001B[39;00m ioargs\u001B[38;5;241m.\u001B[39mencoding \u001B[38;5;129;01mand\u001B[39;00m \u001B[38;5;124m\"\u001B[39m\u001B[38;5;124mb\u001B[39m\u001B[38;5;124m\"\u001B[39m \u001B[38;5;129;01mnot\u001B[39;00m \u001B[38;5;129;01min\u001B[39;00m ioargs\u001B[38;5;241m.\u001B[39mmode:\n\u001B[0;32m    855\u001B[0m         \u001B[38;5;66;03m# Encoding\u001B[39;00m\n\u001B[1;32m--> 856\u001B[0m         handle \u001B[38;5;241m=\u001B[39m \u001B[38;5;28mopen\u001B[39m(\n\u001B[0;32m    857\u001B[0m             handle,\n\u001B[0;32m    858\u001B[0m             ioargs\u001B[38;5;241m.\u001B[39mmode,\n\u001B[0;32m    859\u001B[0m             encoding\u001B[38;5;241m=\u001B[39mioargs\u001B[38;5;241m.\u001B[39mencoding,\n\u001B[0;32m    860\u001B[0m             errors\u001B[38;5;241m=\u001B[39merrors,\n\u001B[0;32m    861\u001B[0m             newline\u001B[38;5;241m=\u001B[39m\u001B[38;5;124m\"\u001B[39m\u001B[38;5;124m\"\u001B[39m,\n\u001B[0;32m    862\u001B[0m         )\n\u001B[0;32m    863\u001B[0m     \u001B[38;5;28;01melse\u001B[39;00m:\n\u001B[0;32m    864\u001B[0m         \u001B[38;5;66;03m# Binary mode\u001B[39;00m\n\u001B[0;32m    865\u001B[0m         handle \u001B[38;5;241m=\u001B[39m \u001B[38;5;28mopen\u001B[39m(handle, ioargs\u001B[38;5;241m.\u001B[39mmode)\n",
      "\u001B[1;31mFileNotFoundError\u001B[0m: [Errno 2] No such file or directory: '数据丢了'"
     ]
    }
   ],
   "execution_count": 37
  },
  {
   "metadata": {},
   "cell_type": "code",
   "outputs": [],
   "execution_count": null,
   "source": [
    "#决策树可视化\n",
    "export_graphviz(estimator, out_file=\"./data/tree.dot\",\n",
    "                feature_names=['age', 'pclass=1st', 'pclass=2nd', 'pclass=3rd', '⼥性', '男性'])\n",
    "#⽹站显示结构\n",
    "#http://webgraphviz.com/"
   ]
  },
  {
   "metadata": {
    "ExecuteTime": {
     "end_time": "2025-02-13T07:43:07.593439Z",
     "start_time": "2025-02-13T07:43:07.589440Z"
    }
   },
   "cell_type": "code",
   "source": "#回归树和线性回归对比",
   "outputs": [],
   "execution_count": 38
  },
  {
   "metadata": {
    "ExecuteTime": {
     "end_time": "2025-02-13T08:01:33.410209Z",
     "start_time": "2025-02-13T08:01:32.955224Z"
    }
   },
   "cell_type": "code",
   "source": [
    "import matplotlib.pyplot as plt\n",
    "from sklearn.tree import DecisionTreeRegressor\n",
    "from sklearn.linear_model import LinearRegression\n",
    "\n",
    "x = np.array(list(range(1, 11))).reshape(-1, 1)\n",
    "y = np.array([5.56, 5.70, 5.91, 6.40, 6.80, 7.05, 8.90, 8.70, 9.00, 9.05])\n",
    "\n",
    "model1 = DecisionTreeRegressor(max_depth=3)\n",
    "model2 = DecisionTreeRegressor(max_depth=1)\n",
    "model3 = LinearRegression()\n",
    "\n",
    "model1.fit(x, y)\n",
    "model2.fit(x, y)\n",
    "model3.fit(x, y)\n",
    "\n",
    "x_test = np.arange(0.0, 10.0, 0.01).reshape(-1, 1)\n",
    "y_1 = model1.predict(x_test)\n",
    "y_2 = model2.predict(x_test)\n",
    "y_3 = model3.predict(x_test)\n",
    "\n",
    "plt.figure(figsize=(10, 8))\n",
    "plt.scatter(x, y, label='data')\n",
    "plt.plot(x_test, y_1, label='max_depth=3')\n",
    "plt.plot(x_test, y_2, label='max_depth=1')\n",
    "plt.plot(x_test, y_3, label='liner_model')\n",
    "\n",
    "plt.xlabel(\"data\")\n",
    "plt.ylabel(\"target\")\n",
    "plt.legend()"
   ],
   "outputs": [
    {
     "data": {
      "text/plain": [
       "<matplotlib.legend.Legend at 0x19d203067d0>"
      ]
     },
     "execution_count": 61,
     "metadata": {},
     "output_type": "execute_result"
    },
    {
     "data": {
      "text/plain": [
       "<Figure size 1000x800 with 1 Axes>"
      ],
      "image/png": "[encoded data removed]"
     },
     "metadata": {},
     "output_type": "display_data"
    }
   ],
   "execution_count": 61
  }
 ],
 "metadata": {
  "kernelspec": {
   "display_name": "Python 3",
   "language": "python",
   "name": "python3"
  },
  "language_info": {
   "codemirror_mode": {
    "name": "ipython",
    "version": 2
   },
   "file_extension": ".py",
   "mimetype": "text/x-python",
   "name": "python",
   "nbconvert_exporter": "python",
   "pygments_lexer": "ipython2",
   "version": "2.7.6"
  }
 },
 "nbformat": 4,
 "nbformat_minor": 0
}
