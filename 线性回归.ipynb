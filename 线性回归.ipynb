{
 "cells": [
  {
   "cell_type": "code",
   "id": "initial_id",
   "metadata": {
    "collapsed": true,
    "ExecuteTime": {
     "end_time": "2025-02-06T03:02:00.006716Z",
     "start_time": "2025-02-06T03:02:00.003723Z"
    }
   },
   "source": "#重点: 线性回归定义，损失函数，梯度下降算法，回归模型评估:MAE,MSE,欠拟合 过拟合出现原因及解决方法",
   "outputs": [],
   "execution_count": 1
  },
  {
   "metadata": {},
   "cell_type": "code",
   "outputs": [],
   "execution_count": null,
   "source": [
    "#线性回归：利用回归方程对一个或多个自变量(特征值)和因变量(目标值)之间关系进行建模的一种方式 <br>\n",
    "#数学公式： ℎ_((𝑤)) =  𝑤_1 𝑥_1+〖 𝑤〗_2 𝑥_2 + 𝑤_3 𝑥_3 + …  + 𝑏 =  𝑤^𝑇 x+𝑏"
   ],
   "id": "b32a421344d462fb"
  },
  {
   "metadata": {
    "ExecuteTime": {
     "end_time": "2025-02-07T03:05:33.444013Z",
     "start_time": "2025-02-07T03:05:30.368053Z"
    }
   },
   "cell_type": "code",
   "source": "from sklearn.linear_model import LinearRegression",
   "id": "a4cdf92d03852bce",
   "outputs": [],
   "execution_count": 2
  },
  {
   "metadata": {
    "ExecuteTime": {
     "end_time": "2025-02-07T03:09:47.174909Z",
     "start_time": "2025-02-07T03:09:47.160949Z"
    }
   },
   "cell_type": "code",
   "source": [
    "def dm1_predictHeight():\n",
    "    #身高和体重参数\n",
    "    x = [[160], [166],  [172], [174],[180]]\n",
    "    y = [56.3, 60.6, 65.1, 68.5, 75]\n",
    "    #实例化线性回归模型estimator\n",
    "    #lineRegression是正规方程法 fit_intercept=True 使用截距，否则为0 \n",
    "    estimator=LinearRegression()\n",
    "    estimator.fit(x,y)\n",
    "    #斜率和截距\n",
    "    print(estimator.coef_)\n",
    "    print(estimator.intercept_)\n",
    "    #模型预测\n",
    "    ans=estimator.predict([[180]])\n",
    "    print(ans)\n",
    "dm1_predictHeight()    "
   ],
   "id": "25217668e06e3b63",
   "outputs": [
    {
     "name": "stdout",
     "output_type": "stream",
     "text": [
      "[0.92942177]\n",
      "-93.27346938775514\n",
      "[74.02244898]\n"
     ]
    }
   ],
   "execution_count": 4
  },
  {
   "metadata": {},
   "cell_type": "markdown",
   "source": [
    "损失函数:衡量模型预测值和真实值差异的函数\n",
    "\n",
    "梯度下降是机器学习中优化模型参数以最小化损失函数的核心算法\n",
    "1. 基本概念\n",
    "目标：找到使损失函数（预测误差）最小的模型参数。\n",
    "核心思想：通过迭代调整参数，沿损失函数梯度的反方向（下降最快）逐步逼近最小值。\n",
    "\n",
    "2. 关键步骤\n",
    "初始化参数：随机选择初始参数（如权重θ）。\n",
    "计算梯度：求损失函数对每个参数的偏导数（梯度∇J）。\n",
    "更新参数：沿负梯度方向调整参数，公式为：\n",
    "θ_new = θ_old - α * ∇J(θ_old)\n",
    "学习率（α）：控制步长，需合理选择（太小收敛慢，太大会震荡）。\n",
    "\n",
    "3. 数学示例（线性回归）\n",
    "损失函数：均方误差\n",
    "J(θ₀, θ₁) = (1 / 2m) * Σ(hθ(xⁱ) - yⁱ)²\n",
    "梯度计算：\n",
    "对θ₀的偏导：∂J/∂θ₀ = (1 / m) * Σ(hθ(xⁱ) - yⁱ)\n",
    "对θ₁的偏导：∂J/∂θ₁ = (1 / m) * Σ(hθ(xⁱ) - yⁱ) * xⁱ\n",
    "参数更新：同时更新θ₀和θ₁。\n",
    "\n",
    "4. 变体与技巧\n",
    "批量梯度下降：每次用全部数据计算梯度（稳定但慢）。\n",
    "随机梯度下降（SGD）：每次随机选一个样本（快但波动大）。\n",
    "小批量梯度下降：折中方案，常用（如32/64个样本为一组）。\n",
    "特征缩放：归一化特征（如Z-score）以加速收敛。\n",
    "学习率调整：可逐步衰减或使用自适应方法（如Adam）。\n",
    "\n",
    "5. 关键点：\n",
    "梯度是上升方向，反方向下降最快。\n",
    "所有参数需同时更新。\n",
    "学习率决定步长，需平衡速度和稳定性。\n",
    "\n",
    "6. 常见问题\n",
    "局部最优：高维问题中更可能遇到鞍点而非局部最优，SGD的噪声可能帮助逃脱。\n",
    "收敛判断：损失变化小或梯度接近零时停止。\n",
    "与正规方程对比：梯度下降适合大数据/高维，正规方程适合小数据（直接求逆矩阵）。"
   ],
   "id": "af8c07fca504a07d"
  },
  {
   "metadata": {},
   "cell_type": "markdown",
   "source": [
    "线性回归模型评估 MAE平均绝对误差 MSE均方误差 RMSE均方绝对误差 <br/>\n",
    "MAE对误差大小不敏感\n",
    " RMSE会放大预测误差较大的样本的影响\n",
    " RMSE对异常数据敏感\n"
   ],
   "id": "4fc45267f18c1173"
  },
  {
   "metadata": {},
   "cell_type": "markdown",
   "source": "波士顿房价预测",
   "id": "80875ffbdf5354a1"
  },
  {
   "metadata": {
    "ExecuteTime": {
     "end_time": "2025-02-07T07:04:47.792019Z",
     "start_time": "2025-02-07T07:04:47.788395Z"
    }
   },
   "cell_type": "code",
   "source": [
    "# from sklearn.datasets import load_boston #房价数据\n",
    "from sklearn.preprocessing import StandardScaler #数据标准化 避免数据大小不一致，导致结果影响较大\n",
    "from sklearn.model_selection import train_test_split #用于数据集划分\n",
    "from sklearn.linear_model import LinearRegression #线性回归正规方程法\n",
    "from sklearn.linear_model import SGDRegressor #梯度下降最小二乘法\n",
    "from sklearn.metrics import mean_squared_error #均方误差\n",
    "from sklearn.linear_model import Ridge,RidgeCV"
   ],
   "id": "eb928fed85809973",
   "outputs": [],
   "execution_count": 55
  },
  {
   "metadata": {
    "ExecuteTime": {
     "end_time": "2025-02-07T06:44:00.538985Z",
     "start_time": "2025-02-07T06:43:57.858115Z"
    }
   },
   "cell_type": "code",
   "source": [
    "#波士顿房价数据 1.2版本删除了已经，需要通过其它方式获取\n",
    "import pandas as pd\n",
    "import numpy as np\n",
    "data_url = \"http://lib.stat.cmu.edu/datasets/boston\"\n",
    "raw_df = pd.read_csv(data_url, sep=\"\\s+\", skiprows=22, header=None)\n",
    "data = np.hstack([raw_df.values[::2, :], raw_df.values[1::2, :2]])\n",
    "target = raw_df.values[1::2, 2]"
   ],
   "id": "bd0607e804d503fe",
   "outputs": [],
   "execution_count": 15
  },
  {
   "metadata": {
    "ExecuteTime": {
     "end_time": "2025-02-07T06:43:53.971585Z",
     "start_time": "2025-02-07T06:43:53.965154Z"
    }
   },
   "cell_type": "code",
   "source": "data",
   "id": "1d5755bc46190de2",
   "outputs": [
    {
     "data": {
      "text/plain": [
       "array([[6.3200e-03, 1.8000e+01, 2.3100e+00, ..., 1.5300e+01, 3.9690e+02,\n",
       "        4.9800e+00],\n",
       "       [2.7310e-02, 0.0000e+00, 7.0700e+00, ..., 1.7800e+01, 3.9690e+02,\n",
       "        9.1400e+00],\n",
       "       [2.7290e-02, 0.0000e+00, 7.0700e+00, ..., 1.7800e+01, 3.9283e+02,\n",
       "        4.0300e+00],\n",
       "       ...,\n",
       "       [6.0760e-02, 0.0000e+00, 1.1930e+01, ..., 2.1000e+01, 3.9690e+02,\n",
       "        5.6400e+00],\n",
       "       [1.0959e-01, 0.0000e+00, 1.1930e+01, ..., 2.1000e+01, 3.9345e+02,\n",
       "        6.4800e+00],\n",
       "       [4.7410e-02, 0.0000e+00, 1.1930e+01, ..., 2.1000e+01, 3.9690e+02,\n",
       "        7.8800e+00]])"
      ]
     },
     "execution_count": 14,
     "metadata": {},
     "output_type": "execute_result"
    }
   ],
   "execution_count": 14
  },
  {
   "metadata": {
    "ExecuteTime": {
     "end_time": "2025-02-07T06:44:05.757431Z",
     "start_time": "2025-02-07T06:44:05.750450Z"
    }
   },
   "cell_type": "code",
   "source": "target",
   "id": "cf8d07dd6a7739b4",
   "outputs": [
    {
     "data": {
      "text/plain": [
       "array([24. , 21.6, 34.7, 33.4, 36.2, 28.7, 22.9, 27.1, 16.5, 18.9, 15. ,\n",
       "       18.9, 21.7, 20.4, 18.2, 19.9, 23.1, 17.5, 20.2, 18.2, 13.6, 19.6,\n",
       "       15.2, 14.5, 15.6, 13.9, 16.6, 14.8, 18.4, 21. , 12.7, 14.5, 13.2,\n",
       "       13.1, 13.5, 18.9, 20. , 21. , 24.7, 30.8, 34.9, 26.6, 25.3, 24.7,\n",
       "       21.2, 19.3, 20. , 16.6, 14.4, 19.4, 19.7, 20.5, 25. , 23.4, 18.9,\n",
       "       35.4, 24.7, 31.6, 23.3, 19.6, 18.7, 16. , 22.2, 25. , 33. , 23.5,\n",
       "       19.4, 22. , 17.4, 20.9, 24.2, 21.7, 22.8, 23.4, 24.1, 21.4, 20. ,\n",
       "       20.8, 21.2, 20.3, 28. , 23.9, 24.8, 22.9, 23.9, 26.6, 22.5, 22.2,\n",
       "       23.6, 28.7, 22.6, 22. , 22.9, 25. , 20.6, 28.4, 21.4, 38.7, 43.8,\n",
       "       33.2, 27.5, 26.5, 18.6, 19.3, 20.1, 19.5, 19.5, 20.4, 19.8, 19.4,\n",
       "       21.7, 22.8, 18.8, 18.7, 18.5, 18.3, 21.2, 19.2, 20.4, 19.3, 22. ,\n",
       "       20.3, 20.5, 17.3, 18.8, 21.4, 15.7, 16.2, 18. , 14.3, 19.2, 19.6,\n",
       "       23. , 18.4, 15.6, 18.1, 17.4, 17.1, 13.3, 17.8, 14. , 14.4, 13.4,\n",
       "       15.6, 11.8, 13.8, 15.6, 14.6, 17.8, 15.4, 21.5, 19.6, 15.3, 19.4,\n",
       "       17. , 15.6, 13.1, 41.3, 24.3, 23.3, 27. , 50. , 50. , 50. , 22.7,\n",
       "       25. , 50. , 23.8, 23.8, 22.3, 17.4, 19.1, 23.1, 23.6, 22.6, 29.4,\n",
       "       23.2, 24.6, 29.9, 37.2, 39.8, 36.2, 37.9, 32.5, 26.4, 29.6, 50. ,\n",
       "       32. , 29.8, 34.9, 37. , 30.5, 36.4, 31.1, 29.1, 50. , 33.3, 30.3,\n",
       "       34.6, 34.9, 32.9, 24.1, 42.3, 48.5, 50. , 22.6, 24.4, 22.5, 24.4,\n",
       "       20. , 21.7, 19.3, 22.4, 28.1, 23.7, 25. , 23.3, 28.7, 21.5, 23. ,\n",
       "       26.7, 21.7, 27.5, 30.1, 44.8, 50. , 37.6, 31.6, 46.7, 31.5, 24.3,\n",
       "       31.7, 41.7, 48.3, 29. , 24. , 25.1, 31.5, 23.7, 23.3, 22. , 20.1,\n",
       "       22.2, 23.7, 17.6, 18.5, 24.3, 20.5, 24.5, 26.2, 24.4, 24.8, 29.6,\n",
       "       42.8, 21.9, 20.9, 44. , 50. , 36. , 30.1, 33.8, 43.1, 48.8, 31. ,\n",
       "       36.5, 22.8, 30.7, 50. , 43.5, 20.7, 21.1, 25.2, 24.4, 35.2, 32.4,\n",
       "       32. , 33.2, 33.1, 29.1, 35.1, 45.4, 35.4, 46. , 50. , 32.2, 22. ,\n",
       "       20.1, 23.2, 22.3, 24.8, 28.5, 37.3, 27.9, 23.9, 21.7, 28.6, 27.1,\n",
       "       20.3, 22.5, 29. , 24.8, 22. , 26.4, 33.1, 36.1, 28.4, 33.4, 28.2,\n",
       "       22.8, 20.3, 16.1, 22.1, 19.4, 21.6, 23.8, 16.2, 17.8, 19.8, 23.1,\n",
       "       21. , 23.8, 23.1, 20.4, 18.5, 25. , 24.6, 23. , 22.2, 19.3, 22.6,\n",
       "       19.8, 17.1, 19.4, 22.2, 20.7, 21.1, 19.5, 18.5, 20.6, 19. , 18.7,\n",
       "       32.7, 16.5, 23.9, 31.2, 17.5, 17.2, 23.1, 24.5, 26.6, 22.9, 24.1,\n",
       "       18.6, 30.1, 18.2, 20.6, 17.8, 21.7, 22.7, 22.6, 25. , 19.9, 20.8,\n",
       "       16.8, 21.9, 27.5, 21.9, 23.1, 50. , 50. , 50. , 50. , 50. , 13.8,\n",
       "       13.8, 15. , 13.9, 13.3, 13.1, 10.2, 10.4, 10.9, 11.3, 12.3,  8.8,\n",
       "        7.2, 10.5,  7.4, 10.2, 11.5, 15.1, 23.2,  9.7, 13.8, 12.7, 13.1,\n",
       "       12.5,  8.5,  5. ,  6.3,  5.6,  7.2, 12.1,  8.3,  8.5,  5. , 11.9,\n",
       "       27.9, 17.2, 27.5, 15. , 17.2, 17.9, 16.3,  7. ,  7.2,  7.5, 10.4,\n",
       "        8.8,  8.4, 16.7, 14.2, 20.8, 13.4, 11.7,  8.3, 10.2, 10.9, 11. ,\n",
       "        9.5, 14.5, 14.1, 16.1, 14.3, 11.7, 13.4,  9.6,  8.7,  8.4, 12.8,\n",
       "       10.5, 17.1, 18.4, 15.4, 10.8, 11.8, 14.9, 12.6, 14.1, 13. , 13.4,\n",
       "       15.2, 16.1, 17.8, 14.9, 14.1, 12.7, 13.5, 14.9, 20. , 16.4, 17.7,\n",
       "       19.5, 20.2, 21.4, 19.9, 19. , 19.1, 19.1, 20.1, 19.9, 19.6, 23.2,\n",
       "       29.8, 13.8, 13.3, 16.7, 12. , 14.6, 21.4, 23. , 23.7, 25. , 21.8,\n",
       "       20.6, 21.2, 19.1, 20.6, 15.2,  7. ,  8.1, 13.6, 20.1, 21.8, 24.5,\n",
       "       23.1, 19.7, 18.3, 21.2, 17.5, 16.8, 22.4, 20.6, 23.9, 22. , 11.9])"
      ]
     },
     "execution_count": 16,
     "metadata": {},
     "output_type": "execute_result"
    }
   ],
   "execution_count": 16
  },
  {
   "metadata": {
    "ExecuteTime": {
     "end_time": "2025-02-07T06:51:03.604287Z",
     "start_time": "2025-02-07T06:51:02.833968Z"
    }
   },
   "cell_type": "code",
   "source": [
    "#数据集划分 特征，目标值-> 训练集，测试集，训练目标集，测试目标集\n",
    "x_train,x_test,y_train,y_test=train_test_split(data,target,random_state=22)\n",
    "#实例化标准化对象\n",
    "transfer=StandardScaler()\n",
    "#标准化\n",
    "x_train=transfer.fit_transform(x_train)\n",
    "x_test=transfer.transform(x_test)\n",
    "#线性回归 正规方程方式求解\n",
    "estimator=LinearRegression()\n",
    "estimator.fit(x_train,y_train)\n",
    "#模型评估\n",
    "y_pred=estimator.predict(x_test)\n",
    "print(\"预测值: \",y_pred)\n",
    "print(\"模型权重系数，斜率\",estimator.coef_)\n",
    "print(\"模型偏置，截距\",estimator.intercept_)\n",
    "#模型评分\n",
    "error=mean_squared_error(y_test,y_pred)\n",
    "print(\"均方误差\",error)"
   ],
   "id": "e2296d56a21d36cd",
   "outputs": [
    {
     "name": "stdout",
     "output_type": "stream",
     "text": [
      "预测值:  [28.22944896 31.5122308  21.11612841 32.6663189  20.0023467  19.07315705\n",
      " 21.09772798 19.61400153 19.61907059 32.87611987 20.97911561 27.52898011\n",
      " 15.54701758 19.78630176 36.88641203 18.81202132  9.35912225 18.49452615\n",
      " 30.66499315 24.30184448 19.08220837 34.11391208 29.81386585 17.51775647\n",
      " 34.91026707 26.54967053 34.71035391 27.4268996  19.09095832 14.92742976\n",
      " 30.86877936 15.88271775 37.17548808  7.72101675 16.24074861 17.19211608\n",
      "  7.42140081 20.0098852  40.58481466 28.93190595 25.25404307 17.74970308\n",
      " 38.76446932  6.87996052 21.80450956 25.29110265 20.427491   20.4698034\n",
      " 17.25330064 26.12442519  8.48268143 27.50871869 30.58284841 16.56039764\n",
      "  9.38919181 35.54434377 32.29801978 21.81298945 17.60263689 22.0804256\n",
      " 23.49262401 24.10617033 20.1346492  38.5268066  24.58319594 19.78072415\n",
      " 13.93429891  6.75507808 42.03759064 21.9215625  16.91352899 22.58327744\n",
      " 40.76440704 21.3998946  36.89912238 27.19273661 20.97945544 20.37925063\n",
      " 25.3536439  22.18729123 31.13342301 20.39451125 23.99224334 31.54729547\n",
      " 26.74581308 20.90199941 29.08225233 21.98331503 26.29101202 20.17329401\n",
      " 25.49225305 24.09171045 19.90739221 16.35154974 15.25184758 18.40766132\n",
      " 24.83797801 16.61703662 20.89470344 26.70854061 20.7591883  17.88403312\n",
      " 24.28656105 23.37651493 21.64202047 36.81476219 15.86570054 21.42338732\n",
      " 32.81366203 33.74086414 20.61688336 26.88191023 22.65739323 17.35731771\n",
      " 21.67699248 21.65034728 27.66728556 25.04691687 23.73976625 14.6649641\n",
      " 15.17700342  3.81620663 29.18194848 20.68544417 22.32934783 28.01568563\n",
      " 28.58237108]\n",
      "模型权重系数，斜率 [-0.64817766  1.14673408 -0.05949444  0.74216553 -1.95515269  2.70902585\n",
      " -0.07737374 -3.29889391  2.50267196 -1.85679269 -1.75044624  0.87341624\n",
      " -3.91336869]\n",
      "模型偏置，截距 22.62137203166228\n",
      "均方误差 20.627513763095394\n"
     ]
    }
   ],
   "execution_count": 17
  },
  {
   "metadata": {
    "ExecuteTime": {
     "end_time": "2025-02-07T06:58:01.003022Z",
     "start_time": "2025-02-07T06:58:00.993893Z"
    }
   },
   "cell_type": "code",
   "source": [
    "#对上面使用梯度下降法\n",
    "x_train,x_test,y_train,y_test=train_test_split(data,target,random_state=22)\n",
    "#标准化\n",
    "transfer=StandardScaler()\n",
    "x_train=transfer.fit_transform(x_train)\n",
    "x_test=transfer.transform(x_test)\n",
    "#实例化模型及训练\n",
    "# estimator=SGDRegressor()\n",
    "# 最大迭代次数，学习速率\n",
    "estimator=SGDRegressor(max_iter=1000,learning_rate='constant',eta0=0.001)\n",
    "estimator.fit(x_train,y_train)\n",
    "#结果预测\n",
    "y_pred=estimator.predict(x_test)\n",
    "print(\"预测结果\",y_pred)\n",
    "print(\"权重系数，偏置分别为\",estimator.coef_,estimator.intercept_)\n",
    "#评分\n",
    "error=mean_squared_error(y_test,y_pred)\n",
    "print(error)"
   ],
   "id": "c5268f49f567e1d0",
   "outputs": [
    {
     "name": "stdout",
     "output_type": "stream",
     "text": [
      "预测结果 [28.28851816 31.53982596 21.51036828 32.7146877  20.33065431 19.19151303\n",
      " 21.38892132 19.48735819 19.7676907  32.74018724 21.38389418 27.20338019\n",
      " 15.62966481 20.02489846 37.01598676 18.56133     9.93351622 18.67854317\n",
      " 30.81414391 24.28913563 19.14562144 34.027646   29.52350284 17.43304441\n",
      " 34.70243045 26.35950529 34.10760064 27.36910791 19.19160907 16.03852019\n",
      " 30.77818569 14.25321595 37.41546388  9.05991192 16.48140495 16.75147428\n",
      "  7.95272302 19.79165817 40.51809557 29.28185551 25.27186125 17.94134807\n",
      " 39.57660718  6.74591242 21.52339744 24.92828198 21.18946812 20.73426423\n",
      " 17.04879295 26.40349819  9.88795887 27.04197168 30.70912209 16.81795404\n",
      "  9.65705606 35.38710195 31.16663764 23.16926066 17.62899016 21.90536249\n",
      " 23.59335923 23.83611948 20.45681039 38.03011645 25.92108513 19.71220698\n",
      " 14.25997104  6.7777073  42.62747374 21.82206241 16.56132617 22.71980752\n",
      " 40.91424631 21.8051288  36.84612024 27.08281405 22.09596845 20.65523186\n",
      " 25.35238012 24.16783014 31.50109322 20.18370336 24.07576332 31.36032163\n",
      " 27.27694082 20.96041078 28.95169433 22.12462594 26.75716031 18.54851764\n",
      " 24.98970594 23.97811379 20.0335435  18.27052783 15.55522547 18.32414617\n",
      " 24.44017849 16.76961905 20.63908369 26.77344572 20.74900413 18.1297898\n",
      " 24.0910285  23.17346961 20.0787608  36.4404208  16.10014701 22.64743705\n",
      " 32.56820514 33.68283462 20.55606174 25.69113634 23.6896008  17.83268772\n",
      " 21.49078586 21.78945213 27.45840126 25.27522649 23.60337975 14.45591186\n",
      " 15.75458681  3.69545998 29.14824587 20.75768024 22.26876809 28.00982349\n",
      " 28.23606312]\n",
      "权重系数，偏置分别为 [-0.47762831  0.83147458 -0.47282194  0.8228319  -1.53330661  2.86724235\n",
      " -0.17535001 -2.96356561  1.46774688 -0.75985498 -1.69589725  0.89046265\n",
      " -3.85953746] [22.61687868]\n",
      "21.408933995008127\n"
     ]
    }
   ],
   "execution_count": 54
  },
  {
   "metadata": {},
   "cell_type": "markdown",
   "source": [
    "sklearn.linear_model.SGDRegressor(loss=\"squared_loss\", fit_intercept=True, learning_rate ='constant', eta0=0.01)<br/>\n",
    "SGDRegressor类实现了随机梯度下降学习，它支持不同的损失函数和正则化惩罚项，来拟合线性回归模型。<br/>\n",
    "参数<br/>\n",
    "loss（损失函数类型）eg：loss=”squared_loss<br/>\n",
    "fit_intercept（是否计算偏置）<br/>\n",
    "learning_rate （学习率策略）：string, optional ，可以配置学习率随着迭代次数不断减小<br/>\n",
    "比如：学习率不断变小策略： ‘invscaling’: eta = eta0 / pow(t, power_t=0.25) <br/>\n",
    "eta0=0.01  （学习率的值）\t\t<br/>\n",
    "属性<br/>\n",
    "SGDRegressor.coef_ （回归系数）SGDRegressor.intercept_ （偏置）<br/>\n"
   ],
   "id": "52c3bed679192c5a"
  },
  {
   "metadata": {},
   "cell_type": "markdown",
   "source": [
    "欠拟合：模型在训练集上表现不好，在测试集上也表现不好。模型过于简单\n",
    "过拟合：模型在训练集上表现好，在测试集上表现不好。模型过于复杂"
   ],
   "id": "3ae715ad509c5a1e"
  },
  {
   "metadata": {},
   "cell_type": "markdown",
   "source": [
    "欠拟合可以从数据，模型，算法角度，通过添加其他特征。组合，泛华，相关性三类特征是特征添加的重要手段<br/>\n",
    "模型过于简单可通过添加二次项增加模型泛华能力"
   ],
   "id": "fc42e30738b9263d"
  },
  {
   "metadata": {
    "ExecuteTime": {
     "end_time": "2025-02-07T07:19:22.428067Z",
     "start_time": "2025-02-07T07:19:22.189398Z"
    }
   },
   "cell_type": "code",
   "source": [
    "import matplotlib.pyplot as plt\n",
    "#模拟欠拟合\n",
    "np.random.seed(666)\n",
    "x=np.random.uniform(-3,3,size=100)\n",
    "y=0.5*x**2+x+2+np.random.normal(0,1,100)\n",
    "estimator=LinearRegression()\n",
    "X=x.reshape(-1,1)\n",
    "estimator.fit(X,y)\n",
    "y_pred=estimator.predict(X)\n",
    "myret=mean_squared_error(y,y_pred)\n",
    "print(myret)\n",
    "#画图\n",
    "plt.scatter(x,y)\n",
    "plt.plot(x,y_pred,color='red')"
   ],
   "id": "f94b8c3f0e4b6b53",
   "outputs": [
    {
     "name": "stdout",
     "output_type": "stream",
     "text": [
      "3.0750025765636577\n"
     ]
    },
    {
     "data": {
      "text/plain": [
       "[<matplotlib.lines.Line2D at 0x20e27235810>]"
      ]
     },
     "execution_count": 63,
     "metadata": {},
     "output_type": "execute_result"
    },
    {
     "data": {
      "text/plain": [
       "<Figure size 640x480 with 1 Axes>"
      ],
      "image/png": "[encoded data removed]"
     },
     "metadata": {},
     "output_type": "display_data"
    }
   ],
   "execution_count": 63
  },
  {
   "metadata": {
    "ExecuteTime": {
     "end_time": "2025-02-07T07:19:50.817245Z",
     "start_time": "2025-02-07T07:19:50.560799Z"
    }
   },
   "cell_type": "code",
   "source": [
    "#模拟正好拟合\n",
    "np.random.seed(666)\n",
    "x=np.random.uniform(-3,3,size=100)\n",
    "y=0.5*x**2+x+2+np.random.normal(0,1,100)\n",
    "estimator=LinearRegression()\n",
    "X=x.reshape(-1,1)\n",
    "#正好拟合\n",
    "X2=np.hstack([X,X**2])\n",
    "estimator.fit(X2,y)\n",
    "y_pred=estimator.predict(X2)\n",
    "myret=mean_squared_error(y,y_pred)\n",
    "print(myret)\n",
    "#画图\n",
    "plt.scatter(x,y)\n",
    "plt.plot(np.sort(x),y_pred[np.argsort(x)],color='red')"
   ],
   "id": "b2309bd5cb8f31f1",
   "outputs": [
    {
     "name": "stdout",
     "output_type": "stream",
     "text": [
      "1.0987392142417858\n"
     ]
    },
    {
     "data": {
      "text/plain": [
       "[<matplotlib.lines.Line2D at 0x20e27282ed0>]"
      ]
     },
     "execution_count": 64,
     "metadata": {},
     "output_type": "execute_result"
    },
    {
     "data": {
      "text/plain": [
       "<Figure size 640x480 with 1 Axes>"
      ],
      "image/png": "[encoded data removed]"
     },
     "metadata": {},
     "output_type": "display_data"
    }
   ],
   "execution_count": 64
  },
  {
   "metadata": {},
   "cell_type": "markdown",
   "source": [
    "过拟合出现的原因 原始特征过多，存在一些嘈杂特征， 模型过于复杂是因为模型尝试去兼顾各个测试数据点\n",
    "\n",
    "重新清洗数据: 对于过多异常点数据、数据不纯的地方再处理<br/>\n",
    "增大数据的训练量:对原来的数据训练的太过了，增加数据量的情况下，会缓解<br/>\n",
    "正则化 解决模型过拟合的方法，在机器学习、深度学习中大量使用<br/>\n",
    "减少特征维度，防止维灾难 由于特征多，样本数量少，导致学习不充分，泛化能力差\n"
   ],
   "id": "ae189fbd2870ba81"
  },
  {
   "metadata": {
    "ExecuteTime": {
     "end_time": "2025-02-07T07:22:00.393598Z",
     "start_time": "2025-02-07T07:21:59.987883Z"
    }
   },
   "cell_type": "code",
   "source": [
    "#模拟过拟合\n",
    "np.random.seed(666)\n",
    "x=np.random.uniform(-3,3,size=100)\n",
    "y=0.5*x**2+x+2+np.random.normal(0,1,100)\n",
    "estimator=LinearRegression()\n",
    "X=x.reshape(-1,1)\n",
    "#正好拟合\n",
    "X2=np.hstack([X,X**2,X**3,X**4,X**5,X**6,X**7,X**8,X**9,X**10,X**11,X**12,X**13])\n",
    "estimator.fit(X2,y)\n",
    "y_pred=estimator.predict(X2)\n",
    "myret=mean_squared_error(y,y_pred)\n",
    "print(myret)\n",
    "#画图\n",
    "plt.scatter(x,y)\n",
    "plt.plot(np.sort(x),y_pred[np.argsort(x)],color='red')"
   ],
   "id": "b03e842718183a7b",
   "outputs": [
    {
     "name": "stdout",
     "output_type": "stream",
     "text": [
      "1.0217267597702384\n"
     ]
    },
    {
     "data": {
      "text/plain": [
       "[<matplotlib.lines.Line2D at 0x20e2874ab90>]"
      ]
     },
     "execution_count": 67,
     "metadata": {},
     "output_type": "execute_result"
    },
    {
     "data": {
      "text/plain": [
       "<Figure size 640x480 with 1 Axes>"
      ],
      "image/png": "[encoded data removed]"
     },
     "metadata": {},
     "output_type": "display_data"
    }
   ],
   "execution_count": 67
  },
  {
   "metadata": {},
   "cell_type": "markdown",
   "source": "",
   "id": "4b67fb77d3d436e1"
  },
  {
   "metadata": {},
   "cell_type": "markdown",
   "source": [
    "正则化是一种通过约束模型复杂度来减轻过拟合的技术<br/>\n",
    "正则化的原理<br/>\n",
    "损失函数中加入正则化项,原始的损失函数（如均方误差 MSE）会被修改为：<br/>\n",
    "新损失函数=原始损失+λ⋅正则化项<br/>\n",
    "其中：λ（alpha）是正则化系数，控制正则化的强度。\n",
    "正则化项 对模型权重进行惩罚，防止其过大。\n",
    "正则化的作用:限制权重的大小，使模型更简单。减少异常值或噪声对模型的影响。"
   ],
   "id": "9e635d8fb0f6e634"
  },
  {
   "metadata": {},
   "cell_type": "markdown",
   "source": "",
   "id": "16a478b53b7b4f23"
  },
  {
   "metadata": {},
   "cell_type": "code",
   "outputs": [],
   "execution_count": null,
   "source": "",
   "id": "27d985a0aed8a88a"
  },
  {
   "metadata": {},
   "cell_type": "markdown",
   "source": [
    "参数选择alpha（λ）：<br/>\n",
    "alpha 越大，正则化越强，权重越小（模型更简单）。<br/>\n",
    "需通过交叉验证调整 alpha 的值。<br/>\n",
    "对比 L1 和 L2<br/>\n",
    "特性\t      |  L1 正则化（Lasso）    |\t    L2 正则化（Ridge）<br/>\n",
    "权重稀疏性  |\t部分权重为 0（特征选择） |   \t权重接近 0 但不为 0<br/>\n",
    "适用场景\t  |  高维数据、特征选择\t |      共线性数据、保留所有特征<br/>\n",
    "优化目标\t  |  绝对值惩罚\t         |      平方惩罚"
   ],
   "id": "145cac506dea69a6"
  },
  {
   "metadata": {
    "ExecuteTime": {
     "end_time": "2025-02-07T09:53:19.274493Z",
     "start_time": "2025-02-07T09:53:19.029635Z"
    }
   },
   "cell_type": "code",
   "source": [
    "from sklearn.linear_model import Ridge #L2 岭回归\n",
    "from sklearn.linear_model import Lasso #L1 Lasso回归\n",
    "np.random.seed(666)\n",
    "x=np.random.uniform(-3,3,size=100)\n",
    "y=0.5*x**2+x+2+np.random.normal(0,1,100)\n",
    "estimator=Ridge(alpha=10)\n",
    "X=x.reshape(-1,1)\n",
    "#正好拟合\n",
    "X2=np.hstack([X,X**2,X**3,X**4,X**5,X**6,X**7,X**8,X**9,X**10,X**11,X**12,X**13])\n",
    "estimator.fit(X2,y)\n",
    "y_pred=estimator.predict(X2)\n",
    "myret=mean_squared_error(y,y_pred)\n",
    "print(myret)\n",
    "#画图\n",
    "plt.scatter(x,y)\n",
    "plt.plot(np.sort(x),y_pred[np.argsort(x)],color='red')"
   ],
   "id": "67247015f8b48c31",
   "outputs": [
    {
     "name": "stdout",
     "output_type": "stream",
     "text": [
      "1.101146043045581\n"
     ]
    },
    {
     "data": {
      "text/plain": [
       "[<matplotlib.lines.Line2D at 0x20e294d8690>]"
      ]
     },
     "execution_count": 74,
     "metadata": {},
     "output_type": "execute_result"
    },
    {
     "data": {
      "text/plain": [
       "<Figure size 640x480 with 1 Axes>"
      ],
      "image/png": "[encoded data removed]"
     },
     "metadata": {},
     "output_type": "display_data"
    }
   ],
   "execution_count": 74
  }
 ],
 "metadata": {
  "kernelspec": {
   "display_name": "Python 3",
   "language": "python",
   "name": "python3"
  },
  "language_info": {
   "codemirror_mode": {
    "name": "ipython",
    "version": 2
   },
   "file_extension": ".py",
   "mimetype": "text/x-python",
   "name": "python",
   "nbconvert_exporter": "python",
   "pygments_lexer": "ipython2",
   "version": "2.7.6"
  }
 },
 "nbformat": 4,
 "nbformat_minor": 5
}
