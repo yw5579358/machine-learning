{
 "cells": [
  {
   "cell_type": "markdown",
   "metadata": {},
   "source": [
    "# 1. 天猫复购预测背景\n",
    "\n",
    "商家有时会在特定日期，例如Boxing-day，黑色星期五或是双十一（11月11日）开展大型促销活动或者发放优惠券以吸引消费者，然而很多被吸引来的买家都是一次性消费者，这些促销活动可能对销售业绩的增长并没有长远帮助，因此为解决这个问题，商家需要识别出哪类消费者可以转化为重复购买者。通过对这些潜在的忠诚客户进行定位，商家可以大大降低促销成本，提高投资回报率（Return on Investment, ROI）。众所周知的是，在线投放广告时精准定位客户是件比较难的事情，尤其是针对新消费者的定位。不过，利用天猫长期积累的用户行为日志，我们或许可以解决这个问题。\n"
   ]
  },
  {
   "cell_type": "markdown",
   "metadata": {},
   "source": [
    "# 2. 需求分析 \n",
    "我们提供了一些商家信息，以及在“双十一”期间购买了对应产品的新消费者信息。你的任务是预测给定的商家中，哪些新消费者在未来会成为忠实客户，即需要预测这些新消费者在6个月内再次购买的概率。"
   ]
  },
  {
   "cell_type": "markdown",
   "metadata": {},
   "source": [
    "# 3. 数据集描述\n",
    "\n",
    "\n",
    "数据集包含了匿名用户在 \"双十一 \"前6个月和\"双十一 \"当天的购物记录，标签为是否是重复购买者。出于隐私保护，数据采样存在部分偏差，该数据集的统计结果会与天猫的实际情况有一定的偏差，但不影响解决方案的适用性。训练集和测试集数据见文件data_format2.zip，数据详情见下表。\n",
    "\n",
    "- user_id 购物者的唯一ID编码\n",
    "- age_range 用户年龄范围。\n",
    "- gender 用户性别。0表示女性，1表示男性，2和NULL表示未知\n",
    "- merchant_id 商家的唯一ID编码\n",
    "- label 取值集合为{0, 1, -1, NULL}。取1表示'userid'是'merchantid'的重复买家，取0则反之。取-1表示'user_id'不是给定商家的新客户，因此不在我们预测范围内，但这些记录可能会提供额外信息。测试集这一部分需要预测，因此为NULL。\n",
    "- activity_log {userid, merchantid}之间的每组交易中都记录有itemid, categoryid, brand_id, time，用#分隔。记录不按任何特定顺序排序。\n",
    "\n",
    "以\"prediction.csv\"作为文件名提交，提交格式如下：\n",
    "- user_id 购物者的唯一ID编码\n",
    "- merchant_id 商家的唯一ID编码\n",
    "- prob 给定客户是给定商家的重复购买者的概率，取值在[0, 1]\n",
    "\n",
    "其他格式数据\n",
    "\n",
    "我们还以另一种格式提供了相同数据集，可能更方便做特征工程，详情见data_format1.zip文件夹（内含4个文件），数据描述如下。\n",
    "\n",
    "用户行为日志\n",
    "- user_id 购物者的唯一ID编码\n",
    "- item_id 商品的唯一编码\n",
    "- cat_id 商品所属品类的唯一编码\n",
    "- merchant_id 商家的唯一ID编码\n",
    "- brand_id 商品品牌的唯一编码\n",
    "- time_tamp 购买时间（格式：mmdd）\n",
    "- action_type 包含{0, 1, 2, 3}，0表示单击，1表示添加到购物车，2表示购买，3表示添加到收藏夹\n",
    "\n",
    "用户画像\n",
    "- user_id 购物者的唯一ID编码\n",
    "- age_range 用户年龄范围。\n",
    "- gender 用户性别。0表示女性，1表示男性，2和NULL表示未知\n",
    "\n",
    "训练数据和测试数据\n",
    "- user_id 购物者的唯一ID编码\n",
    "- merchant_id 商家的唯一ID编码\n",
    "- label 包含{0, 1}，1表示重复买家，0表示非重复买家。测试集这一部分需要预测，因此为空。"
   ]
  },
  {
   "cell_type": "markdown",
   "metadata": {},
   "source": [
    "# 4. 流程分析\n",
    "\n",
    "## 4.1 特征工程思路：\n",
    "\n",
    ">聚合特征：\n",
    ">\n",
    ">**toB:**  每个品类(或者其他unit)的销量/收藏量/加购量/点击量，渗透率\n",
    ">\n",
    ">**toC:**  这个人的总购买量/.../...，当天前一段时间内的购买量/.../...,\n",
    "\n",
    ">活动辨识：\n",
    ">\n",
    ">是否双11（双十一的行为和之前会有很大差距）\n",
    "\n",
    ">用户信息\n",
    ">\n",
    ">分类变量（Gender, age）的编码等\n"
   ]
  },
  {
   "cell_type": "code",
   "metadata": {
    "tags": [],
    "ExecuteTime": {
     "end_time": "2025-03-26T06:55:56.224489Z",
     "start_time": "2025-03-26T06:54:53.247290Z"
    }
   },
   "source": [
    "import pandas as pd\n",
    "train_df = pd.read_csv('data_format1/train_format1.csv')\n",
    "test_df = pd.read_csv('data_format1/test_format1.csv')\n",
    "user_info = pd.read_csv('data_format1/user_info_format1.csv')\n",
    "user_log = pd.read_csv('data_format1/user_log_format1.csv').rename(columns={'seller_id':'merchant_id'})"
   ],
   "outputs": [],
   "execution_count": 1
  },
  {
   "cell_type": "markdown",
   "metadata": {},
   "source": [
    "## 4.2 探索性分析"
   ]
  },
  {
   "metadata": {
    "ExecuteTime": {
     "end_time": "2025-03-26T07:06:59.791961Z",
     "start_time": "2025-03-26T07:06:59.778961Z"
    }
   },
   "cell_type": "code",
   "source": "user_log.head(100)",
   "outputs": [
    {
     "data": {
      "text/plain": [
       "    user_id  item_id  cat_id  merchant_id  brand_id  time_stamp  action_type\n",
       "0    328862   323294     833         2882    2661.0         829            0\n",
       "1    328862   844400    1271         2882    2661.0         829            0\n",
       "2    328862   575153    1271         2882    2661.0         829            0\n",
       "3    328862   996875    1271         2882    2661.0         829            0\n",
       "4    328862  1086186    1271         1253    1049.0         829            0\n",
       "..      ...      ...     ...          ...       ...         ...          ...\n",
       "95   328862    42828    1397         3354     883.0         615            0\n",
       "96   328862   157010    1095          883    1647.0         615            0\n",
       "97   328862   484676     267         3073    8126.0        1002            2\n",
       "98   328862  1024236    1577         1138    4104.0        1002            0\n",
       "99   328862    99493     387         1138    4104.0        1002            0\n",
       "\n",
       "[100 rows x 7 columns]"
      ],
      "text/html": [
       "<div>\n",
       "<style scoped>\n",
       "    .dataframe tbody tr th:only-of-type {\n",
       "        vertical-align: middle;\n",
       "    }\n",
       "\n",
       "    .dataframe tbody tr th {\n",
       "        vertical-align: top;\n",
       "    }\n",
       "\n",
       "    .dataframe thead th {\n",
       "        text-align: right;\n",
       "    }\n",
       "</style>\n",
       "<table border=\"1\" class=\"dataframe\">\n",
       "  <thead>\n",
       "    <tr style=\"text-align: right;\">\n",
       "      <th></th>\n",
       "      <th>user_id</th>\n",
       "      <th>item_id</th>\n",
       "      <th>cat_id</th>\n",
       "      <th>merchant_id</th>\n",
       "      <th>brand_id</th>\n",
       "      <th>time_stamp</th>\n",
       "      <th>action_type</th>\n",
       "    </tr>\n",
       "  </thead>\n",
       "  <tbody>\n",
       "    <tr>\n",
       "      <th>0</th>\n",
       "      <td>328862</td>\n",
       "      <td>323294</td>\n",
       "      <td>833</td>\n",
       "      <td>2882</td>\n",
       "      <td>2661.0</td>\n",
       "      <td>829</td>\n",
       "      <td>0</td>\n",
       "    </tr>\n",
       "    <tr>\n",
       "      <th>1</th>\n",
       "      <td>328862</td>\n",
       "      <td>844400</td>\n",
       "      <td>1271</td>\n",
       "      <td>2882</td>\n",
       "      <td>2661.0</td>\n",
       "      <td>829</td>\n",
       "      <td>0</td>\n",
       "    </tr>\n",
       "    <tr>\n",
       "      <th>2</th>\n",
       "      <td>328862</td>\n",
       "      <td>575153</td>\n",
       "      <td>1271</td>\n",
       "      <td>2882</td>\n",
       "      <td>2661.0</td>\n",
       "      <td>829</td>\n",
       "      <td>0</td>\n",
       "    </tr>\n",
       "    <tr>\n",
       "      <th>3</th>\n",
       "      <td>328862</td>\n",
       "      <td>996875</td>\n",
       "      <td>1271</td>\n",
       "      <td>2882</td>\n",
       "      <td>2661.0</td>\n",
       "      <td>829</td>\n",
       "      <td>0</td>\n",
       "    </tr>\n",
       "    <tr>\n",
       "      <th>4</th>\n",
       "      <td>328862</td>\n",
       "      <td>1086186</td>\n",
       "      <td>1271</td>\n",
       "      <td>1253</td>\n",
       "      <td>1049.0</td>\n",
       "      <td>829</td>\n",
       "      <td>0</td>\n",
       "    </tr>\n",
       "    <tr>\n",
       "      <th>...</th>\n",
       "      <td>...</td>\n",
       "      <td>...</td>\n",
       "      <td>...</td>\n",
       "      <td>...</td>\n",
       "      <td>...</td>\n",
       "      <td>...</td>\n",
       "      <td>...</td>\n",
       "    </tr>\n",
       "    <tr>\n",
       "      <th>95</th>\n",
       "      <td>328862</td>\n",
       "      <td>42828</td>\n",
       "      <td>1397</td>\n",
       "      <td>3354</td>\n",
       "      <td>883.0</td>\n",
       "      <td>615</td>\n",
       "      <td>0</td>\n",
       "    </tr>\n",
       "    <tr>\n",
       "      <th>96</th>\n",
       "      <td>328862</td>\n",
       "      <td>157010</td>\n",
       "      <td>1095</td>\n",
       "      <td>883</td>\n",
       "      <td>1647.0</td>\n",
       "      <td>615</td>\n",
       "      <td>0</td>\n",
       "    </tr>\n",
       "    <tr>\n",
       "      <th>97</th>\n",
       "      <td>328862</td>\n",
       "      <td>484676</td>\n",
       "      <td>267</td>\n",
       "      <td>3073</td>\n",
       "      <td>8126.0</td>\n",
       "      <td>1002</td>\n",
       "      <td>2</td>\n",
       "    </tr>\n",
       "    <tr>\n",
       "      <th>98</th>\n",
       "      <td>328862</td>\n",
       "      <td>1024236</td>\n",
       "      <td>1577</td>\n",
       "      <td>1138</td>\n",
       "      <td>4104.0</td>\n",
       "      <td>1002</td>\n",
       "      <td>0</td>\n",
       "    </tr>\n",
       "    <tr>\n",
       "      <th>99</th>\n",
       "      <td>328862</td>\n",
       "      <td>99493</td>\n",
       "      <td>387</td>\n",
       "      <td>1138</td>\n",
       "      <td>4104.0</td>\n",
       "      <td>1002</td>\n",
       "      <td>0</td>\n",
       "    </tr>\n",
       "  </tbody>\n",
       "</table>\n",
       "<p>100 rows × 7 columns</p>\n",
       "</div>"
      ]
     },
     "execution_count": 5,
     "metadata": {},
     "output_type": "execute_result"
    }
   ],
   "execution_count": 5
  },
  {
   "cell_type": "markdown",
   "metadata": {},
   "source": [
    "### 1 查看用户画像中年龄和性别缺失率"
   ]
  },
  {
   "cell_type": "code",
   "metadata": {
    "ExecuteTime": {
     "end_time": "2025-03-26T08:18:28.708027Z",
     "start_time": "2025-03-26T08:18:28.601995Z"
    }
   },
   "source": [
    "#无效用户剔除\n",
    "invalid_users = user_info.loc[user_info['age_range'].isna() | user_info['gender'].isna() | (user_info['age_range']==0) | (user_info['gender']==2), 'user_id']\n",
    "user_info.describe()\n",
    "user_info.dropna(subset=['age_range','gender'],inplace=True)\n",
    "user_info=user_info[~((user_info['age_range']==0) | (user_info['gender']==2))]\n",
    "user_info.describe()"
   ],
   "outputs": [
    {
     "data": {
      "text/plain": [
       "             user_id      age_range         gender\n",
       "count  317840.000000  317840.000000  317840.000000\n",
       "mean   212168.950019       3.756425       0.311525\n",
       "std    122511.940869       1.323918       0.463117\n",
       "min         1.000000       1.000000       0.000000\n",
       "25%    106171.250000       3.000000       0.000000\n",
       "50%    212175.500000       3.000000       0.000000\n",
       "75%    318236.250000       5.000000       1.000000\n",
       "max    424168.000000       8.000000       1.000000"
      ],
      "text/html": [
       "<div>\n",
       "<style scoped>\n",
       "    .dataframe tbody tr th:only-of-type {\n",
       "        vertical-align: middle;\n",
       "    }\n",
       "\n",
       "    .dataframe tbody tr th {\n",
       "        vertical-align: top;\n",
       "    }\n",
       "\n",
       "    .dataframe thead th {\n",
       "        text-align: right;\n",
       "    }\n",
       "</style>\n",
       "<table border=\"1\" class=\"dataframe\">\n",
       "  <thead>\n",
       "    <tr style=\"text-align: right;\">\n",
       "      <th></th>\n",
       "      <th>user_id</th>\n",
       "      <th>age_range</th>\n",
       "      <th>gender</th>\n",
       "    </tr>\n",
       "  </thead>\n",
       "  <tbody>\n",
       "    <tr>\n",
       "      <th>count</th>\n",
       "      <td>317840.000000</td>\n",
       "      <td>317840.000000</td>\n",
       "      <td>317840.000000</td>\n",
       "    </tr>\n",
       "    <tr>\n",
       "      <th>mean</th>\n",
       "      <td>212168.950019</td>\n",
       "      <td>3.756425</td>\n",
       "      <td>0.311525</td>\n",
       "    </tr>\n",
       "    <tr>\n",
       "      <th>std</th>\n",
       "      <td>122511.940869</td>\n",
       "      <td>1.323918</td>\n",
       "      <td>0.463117</td>\n",
       "    </tr>\n",
       "    <tr>\n",
       "      <th>min</th>\n",
       "      <td>1.000000</td>\n",
       "      <td>1.000000</td>\n",
       "      <td>0.000000</td>\n",
       "    </tr>\n",
       "    <tr>\n",
       "      <th>25%</th>\n",
       "      <td>106171.250000</td>\n",
       "      <td>3.000000</td>\n",
       "      <td>0.000000</td>\n",
       "    </tr>\n",
       "    <tr>\n",
       "      <th>50%</th>\n",
       "      <td>212175.500000</td>\n",
       "      <td>3.000000</td>\n",
       "      <td>0.000000</td>\n",
       "    </tr>\n",
       "    <tr>\n",
       "      <th>75%</th>\n",
       "      <td>318236.250000</td>\n",
       "      <td>5.000000</td>\n",
       "      <td>1.000000</td>\n",
       "    </tr>\n",
       "    <tr>\n",
       "      <th>max</th>\n",
       "      <td>424168.000000</td>\n",
       "      <td>8.000000</td>\n",
       "      <td>1.000000</td>\n",
       "    </tr>\n",
       "  </tbody>\n",
       "</table>\n",
       "</div>"
      ]
     },
     "execution_count": 24,
     "metadata": {},
     "output_type": "execute_result"
    }
   ],
   "execution_count": 24
  },
  {
   "cell_type": "markdown",
   "metadata": {},
   "source": [
    "### 2 查看用户信息数据的缺失—用户行为日志数据缺失"
   ]
  },
  {
   "cell_type": "code",
   "metadata": {
    "ExecuteTime": {
     "end_time": "2025-03-26T08:20:38.167763Z",
     "start_time": "2025-03-26T08:20:25.714437Z"
    }
   },
   "source": [
    "user_log.describe()\n",
    "user_log.dropna(subset=['brand_id'],inplace=True)"
   ],
   "outputs": [],
   "execution_count": 26
  },
  {
   "cell_type": "markdown",
   "metadata": {},
   "source": [
    "用户行为日志主要缺失特征为购买品牌的缺失，其他特征均无缺失。"
   ]
  },
  {
   "cell_type": "markdown",
   "metadata": {},
   "source": [
    "### 3 查看用户画像和历史记录基本数据描述"
   ]
  },
  {
   "cell_type": "code",
   "metadata": {
    "ExecuteTime": {
     "end_time": "2025-03-26T08:21:24.756685Z",
     "start_time": "2025-03-26T08:21:14.762691Z"
    }
   },
   "source": "user_log.describe()",
   "outputs": [
    {
     "data": {
      "text/plain": [
       "            user_id       item_id        cat_id   merchant_id      brand_id  \\\n",
       "count  5.483432e+07  5.483432e+07  5.483432e+07  5.483432e+07  5.483432e+07   \n",
       "mean   2.121592e+05  5.538555e+05  8.770755e+02  2.470840e+03  4.153348e+03   \n",
       "std    1.222875e+05  3.221491e+05  4.486180e+02  1.473345e+03  2.397679e+03   \n",
       "min    1.000000e+00  1.000000e+00  1.000000e+00  1.000000e+00  1.000000e+00   \n",
       "25%    1.063400e+05  2.731430e+05  5.550000e+02  1.151000e+03  2.027000e+03   \n",
       "50%    2.126580e+05  5.555290e+05  8.210000e+02  2.459000e+03  4.065000e+03   \n",
       "75%    3.177530e+05  8.306860e+05  1.252000e+03  3.760000e+03  6.196000e+03   \n",
       "max    4.241700e+05  1.113166e+06  1.671000e+03  4.995000e+03  8.477000e+03   \n",
       "\n",
       "         time_stamp   action_type  \n",
       "count  5.483432e+07  5.483432e+07  \n",
       "mean   9.229646e+02  2.839965e-01  \n",
       "std    1.954433e+02  8.073288e-01  \n",
       "min    5.110000e+02  0.000000e+00  \n",
       "25%    7.300000e+02  0.000000e+00  \n",
       "50%    1.010000e+03  0.000000e+00  \n",
       "75%    1.109000e+03  0.000000e+00  \n",
       "max    1.112000e+03  3.000000e+00  "
      ],
      "text/html": [
       "<div>\n",
       "<style scoped>\n",
       "    .dataframe tbody tr th:only-of-type {\n",
       "        vertical-align: middle;\n",
       "    }\n",
       "\n",
       "    .dataframe tbody tr th {\n",
       "        vertical-align: top;\n",
       "    }\n",
       "\n",
       "    .dataframe thead th {\n",
       "        text-align: right;\n",
       "    }\n",
       "</style>\n",
       "<table border=\"1\" class=\"dataframe\">\n",
       "  <thead>\n",
       "    <tr style=\"text-align: right;\">\n",
       "      <th></th>\n",
       "      <th>user_id</th>\n",
       "      <th>item_id</th>\n",
       "      <th>cat_id</th>\n",
       "      <th>merchant_id</th>\n",
       "      <th>brand_id</th>\n",
       "      <th>time_stamp</th>\n",
       "      <th>action_type</th>\n",
       "    </tr>\n",
       "  </thead>\n",
       "  <tbody>\n",
       "    <tr>\n",
       "      <th>count</th>\n",
       "      <td>5.483432e+07</td>\n",
       "      <td>5.483432e+07</td>\n",
       "      <td>5.483432e+07</td>\n",
       "      <td>5.483432e+07</td>\n",
       "      <td>5.483432e+07</td>\n",
       "      <td>5.483432e+07</td>\n",
       "      <td>5.483432e+07</td>\n",
       "    </tr>\n",
       "    <tr>\n",
       "      <th>mean</th>\n",
       "      <td>2.121592e+05</td>\n",
       "      <td>5.538555e+05</td>\n",
       "      <td>8.770755e+02</td>\n",
       "      <td>2.470840e+03</td>\n",
       "      <td>4.153348e+03</td>\n",
       "      <td>9.229646e+02</td>\n",
       "      <td>2.839965e-01</td>\n",
       "    </tr>\n",
       "    <tr>\n",
       "      <th>std</th>\n",
       "      <td>1.222875e+05</td>\n",
       "      <td>3.221491e+05</td>\n",
       "      <td>4.486180e+02</td>\n",
       "      <td>1.473345e+03</td>\n",
       "      <td>2.397679e+03</td>\n",
       "      <td>1.954433e+02</td>\n",
       "      <td>8.073288e-01</td>\n",
       "    </tr>\n",
       "    <tr>\n",
       "      <th>min</th>\n",
       "      <td>1.000000e+00</td>\n",
       "      <td>1.000000e+00</td>\n",
       "      <td>1.000000e+00</td>\n",
       "      <td>1.000000e+00</td>\n",
       "      <td>1.000000e+00</td>\n",
       "      <td>5.110000e+02</td>\n",
       "      <td>0.000000e+00</td>\n",
       "    </tr>\n",
       "    <tr>\n",
       "      <th>25%</th>\n",
       "      <td>1.063400e+05</td>\n",
       "      <td>2.731430e+05</td>\n",
       "      <td>5.550000e+02</td>\n",
       "      <td>1.151000e+03</td>\n",
       "      <td>2.027000e+03</td>\n",
       "      <td>7.300000e+02</td>\n",
       "      <td>0.000000e+00</td>\n",
       "    </tr>\n",
       "    <tr>\n",
       "      <th>50%</th>\n",
       "      <td>2.126580e+05</td>\n",
       "      <td>5.555290e+05</td>\n",
       "      <td>8.210000e+02</td>\n",
       "      <td>2.459000e+03</td>\n",
       "      <td>4.065000e+03</td>\n",
       "      <td>1.010000e+03</td>\n",
       "      <td>0.000000e+00</td>\n",
       "    </tr>\n",
       "    <tr>\n",
       "      <th>75%</th>\n",
       "      <td>3.177530e+05</td>\n",
       "      <td>8.306860e+05</td>\n",
       "      <td>1.252000e+03</td>\n",
       "      <td>3.760000e+03</td>\n",
       "      <td>6.196000e+03</td>\n",
       "      <td>1.109000e+03</td>\n",
       "      <td>0.000000e+00</td>\n",
       "    </tr>\n",
       "    <tr>\n",
       "      <th>max</th>\n",
       "      <td>4.241700e+05</td>\n",
       "      <td>1.113166e+06</td>\n",
       "      <td>1.671000e+03</td>\n",
       "      <td>4.995000e+03</td>\n",
       "      <td>8.477000e+03</td>\n",
       "      <td>1.112000e+03</td>\n",
       "      <td>3.000000e+00</td>\n",
       "    </tr>\n",
       "  </tbody>\n",
       "</table>\n",
       "</div>"
      ]
     },
     "execution_count": 28,
     "metadata": {},
     "output_type": "execute_result"
    }
   ],
   "execution_count": 28
  },
  {
   "metadata": {
    "ExecuteTime": {
     "end_time": "2025-03-26T08:21:32.436554Z",
     "start_time": "2025-03-26T08:21:32.394711Z"
    }
   },
   "cell_type": "code",
   "source": "user_info.describe()",
   "outputs": [
    {
     "data": {
      "text/plain": [
       "             user_id      age_range         gender\n",
       "count  317840.000000  317840.000000  317840.000000\n",
       "mean   212168.950019       3.756425       0.311525\n",
       "std    122511.940869       1.323918       0.463117\n",
       "min         1.000000       1.000000       0.000000\n",
       "25%    106171.250000       3.000000       0.000000\n",
       "50%    212175.500000       3.000000       0.000000\n",
       "75%    318236.250000       5.000000       1.000000\n",
       "max    424168.000000       8.000000       1.000000"
      ],
      "text/html": [
       "<div>\n",
       "<style scoped>\n",
       "    .dataframe tbody tr th:only-of-type {\n",
       "        vertical-align: middle;\n",
       "    }\n",
       "\n",
       "    .dataframe tbody tr th {\n",
       "        vertical-align: top;\n",
       "    }\n",
       "\n",
       "    .dataframe thead th {\n",
       "        text-align: right;\n",
       "    }\n",
       "</style>\n",
       "<table border=\"1\" class=\"dataframe\">\n",
       "  <thead>\n",
       "    <tr style=\"text-align: right;\">\n",
       "      <th></th>\n",
       "      <th>user_id</th>\n",
       "      <th>age_range</th>\n",
       "      <th>gender</th>\n",
       "    </tr>\n",
       "  </thead>\n",
       "  <tbody>\n",
       "    <tr>\n",
       "      <th>count</th>\n",
       "      <td>317840.000000</td>\n",
       "      <td>317840.000000</td>\n",
       "      <td>317840.000000</td>\n",
       "    </tr>\n",
       "    <tr>\n",
       "      <th>mean</th>\n",
       "      <td>212168.950019</td>\n",
       "      <td>3.756425</td>\n",
       "      <td>0.311525</td>\n",
       "    </tr>\n",
       "    <tr>\n",
       "      <th>std</th>\n",
       "      <td>122511.940869</td>\n",
       "      <td>1.323918</td>\n",
       "      <td>0.463117</td>\n",
       "    </tr>\n",
       "    <tr>\n",
       "      <th>min</th>\n",
       "      <td>1.000000</td>\n",
       "      <td>1.000000</td>\n",
       "      <td>0.000000</td>\n",
       "    </tr>\n",
       "    <tr>\n",
       "      <th>25%</th>\n",
       "      <td>106171.250000</td>\n",
       "      <td>3.000000</td>\n",
       "      <td>0.000000</td>\n",
       "    </tr>\n",
       "    <tr>\n",
       "      <th>50%</th>\n",
       "      <td>212175.500000</td>\n",
       "      <td>3.000000</td>\n",
       "      <td>0.000000</td>\n",
       "    </tr>\n",
       "    <tr>\n",
       "      <th>75%</th>\n",
       "      <td>318236.250000</td>\n",
       "      <td>5.000000</td>\n",
       "      <td>1.000000</td>\n",
       "    </tr>\n",
       "    <tr>\n",
       "      <th>max</th>\n",
       "      <td>424168.000000</td>\n",
       "      <td>8.000000</td>\n",
       "      <td>1.000000</td>\n",
       "    </tr>\n",
       "  </tbody>\n",
       "</table>\n",
       "</div>"
      ]
     },
     "execution_count": 29,
     "metadata": {},
     "output_type": "execute_result"
    }
   ],
   "execution_count": 29
  },
  {
   "cell_type": "markdown",
   "metadata": {
    "tags": []
   },
   "source": [
    "用户画像的基本数据分析显示用户的平均年龄在30岁左右，且方差较大。且购买者的性别主要为女性。\n",
    "\n"
   ]
  },
  {
   "metadata": {},
   "cell_type": "markdown",
   "source": "### 4 查看样本label比例"
  },
  {
   "metadata": {
    "ExecuteTime": {
     "end_time": "2025-03-26T08:24:25.679192Z",
     "start_time": "2025-03-26T08:24:25.634287Z"
    }
   },
   "cell_type": "code",
   "source": "train_df.describe()",
   "outputs": [
    {
     "data": {
      "text/plain": [
       "             user_id    merchant_id          label\n",
       "count  260864.000000  260864.000000  260864.000000\n",
       "mean   211889.321420    2540.292363       0.061151\n",
       "std    122399.488027    1451.207514       0.239607\n",
       "min         1.000000       2.000000       0.000000\n",
       "25%    105488.000000    1340.000000       0.000000\n",
       "50%    211927.500000    2482.000000       0.000000\n",
       "75%    317670.500000    3898.000000       0.000000\n",
       "max    424170.000000    4993.000000       1.000000"
      ],
      "text/html": [
       "<div>\n",
       "<style scoped>\n",
       "    .dataframe tbody tr th:only-of-type {\n",
       "        vertical-align: middle;\n",
       "    }\n",
       "\n",
       "    .dataframe tbody tr th {\n",
       "        vertical-align: top;\n",
       "    }\n",
       "\n",
       "    .dataframe thead th {\n",
       "        text-align: right;\n",
       "    }\n",
       "</style>\n",
       "<table border=\"1\" class=\"dataframe\">\n",
       "  <thead>\n",
       "    <tr style=\"text-align: right;\">\n",
       "      <th></th>\n",
       "      <th>user_id</th>\n",
       "      <th>merchant_id</th>\n",
       "      <th>label</th>\n",
       "    </tr>\n",
       "  </thead>\n",
       "  <tbody>\n",
       "    <tr>\n",
       "      <th>count</th>\n",
       "      <td>260864.000000</td>\n",
       "      <td>260864.000000</td>\n",
       "      <td>260864.000000</td>\n",
       "    </tr>\n",
       "    <tr>\n",
       "      <th>mean</th>\n",
       "      <td>211889.321420</td>\n",
       "      <td>2540.292363</td>\n",
       "      <td>0.061151</td>\n",
       "    </tr>\n",
       "    <tr>\n",
       "      <th>std</th>\n",
       "      <td>122399.488027</td>\n",
       "      <td>1451.207514</td>\n",
       "      <td>0.239607</td>\n",
       "    </tr>\n",
       "    <tr>\n",
       "      <th>min</th>\n",
       "      <td>1.000000</td>\n",
       "      <td>2.000000</td>\n",
       "      <td>0.000000</td>\n",
       "    </tr>\n",
       "    <tr>\n",
       "      <th>25%</th>\n",
       "      <td>105488.000000</td>\n",
       "      <td>1340.000000</td>\n",
       "      <td>0.000000</td>\n",
       "    </tr>\n",
       "    <tr>\n",
       "      <th>50%</th>\n",
       "      <td>211927.500000</td>\n",
       "      <td>2482.000000</td>\n",
       "      <td>0.000000</td>\n",
       "    </tr>\n",
       "    <tr>\n",
       "      <th>75%</th>\n",
       "      <td>317670.500000</td>\n",
       "      <td>3898.000000</td>\n",
       "      <td>0.000000</td>\n",
       "    </tr>\n",
       "    <tr>\n",
       "      <th>max</th>\n",
       "      <td>424170.000000</td>\n",
       "      <td>4993.000000</td>\n",
       "      <td>1.000000</td>\n",
       "    </tr>\n",
       "  </tbody>\n",
       "</table>\n",
       "</div>"
      ]
     },
     "execution_count": 31,
     "metadata": {},
     "output_type": "execute_result"
    }
   ],
   "execution_count": 31
  },
  {
   "metadata": {},
   "cell_type": "markdown",
   "source": "样本不均衡，非重复购买者比例远远大于重复购买者，因此需要采取一定措施解决此类样本不平衡问题"
  },
  {
   "cell_type": "markdown",
   "metadata": {},
   "source": [
    "### 5 对top 5店铺进行画图分析"
   ]
  },
  {
   "cell_type": "code",
   "metadata": {
    "ExecuteTime": {
     "end_time": "2025-03-26T08:32:07.743887Z",
     "start_time": "2025-03-26T08:32:07.656888Z"
    }
   },
   "source": [
    "merchant_count=train_df.groupby('merchant_id')['user_id'].nunique().reset_index()\n",
    "merchant_count=merchant_count.sort_values(by='user_id',ascending=False).head(5)\n",
    "top5=train_df[train_df['merchant_id'].isin(merchant_count['merchant_id'])]"
   ],
   "outputs": [],
   "execution_count": 32
  },
  {
   "metadata": {
    "ExecuteTime": {
     "end_time": "2025-03-26T08:42:13.815749Z",
     "start_time": "2025-03-26T08:42:13.494128Z"
    }
   },
   "cell_type": "code",
   "source": [
    "#绘图\n",
    "from matplotlib import pyplot as plt\n",
    "import seaborn as sns\n",
    "\n",
    "plt.rcParams['font.sans-serif'] = ['SimHei']  # 指定默认字体为黑体\n",
    "plt.rcParams['axes.unicode_minus'] = False  # 正确显示负号\n",
    "\n",
    "plt.figure(figsize=(10,6))\n",
    "sns.countplot(data=top5,x='merchant_id',hue='label',palette='Set2')\n",
    "\n",
    "plt.title('top5 merchants')\n",
    "plt.xlabel('店铺id')\n",
    "plt.ylabel('购买用户数')\n",
    "plt.legend(title='1 会重复购买 0 否')"
   ],
   "outputs": [
    {
     "data": {
      "text/plain": [
       "<matplotlib.legend.Legend at 0x13a8c6f1ed0>"
      ]
     },
     "execution_count": 36,
     "metadata": {},
     "output_type": "execute_result"
    },
    {
     "data": {
      "text/plain": [
       "<Figure size 1000x600 with 1 Axes>"
      ],
      "image/png": "[encoded data removed]"
     },
     "metadata": {},
     "output_type": "display_data"
    }
   ],
   "execution_count": 36
  },
  {
   "cell_type": "markdown",
   "metadata": {},
   "source": [
    "采用分布直方图对前五名店铺进行比例分析，可得前五名店铺占据了接近一半的数据量，且重复购买的比例都远远小于非重复购买"
   ]
  },
  {
   "cell_type": "markdown",
   "metadata": {},
   "source": [
    "### 6 对商家的重复购买比例进行绘图分析"
   ]
  },
  {
   "cell_type": "code",
   "metadata": {
    "ExecuteTime": {
     "end_time": "2025-03-26T08:59:27.885793Z",
     "start_time": "2025-03-26T08:59:27.877464Z"
    }
   },
   "source": "ratio=top5.groupby('merchant_id').apply(lambda x: x[x['label']==1]['user_id'].nunique()/x['user_id'].nunique()).reset_index(name='rat')",
   "outputs": [],
   "execution_count": 52
  },
  {
   "metadata": {
    "ExecuteTime": {
     "end_time": "2025-03-26T09:19:39.669603Z",
     "start_time": "2025-03-26T09:19:39.662601Z"
    }
   },
   "cell_type": "code",
   "source": "ratio.head()",
   "outputs": [
    {
     "data": {
      "text/plain": [
       "   merchant_id       rat\n",
       "0         1102  0.083367\n",
       "1         3828  0.125999\n",
       "2         4044  0.061853\n",
       "3         4173  0.068057\n",
       "4         4976  0.058701"
      ],
      "text/html": [
       "<div>\n",
       "<style scoped>\n",
       "    .dataframe tbody tr th:only-of-type {\n",
       "        vertical-align: middle;\n",
       "    }\n",
       "\n",
       "    .dataframe tbody tr th {\n",
       "        vertical-align: top;\n",
       "    }\n",
       "\n",
       "    .dataframe thead th {\n",
       "        text-align: right;\n",
       "    }\n",
       "</style>\n",
       "<table border=\"1\" class=\"dataframe\">\n",
       "  <thead>\n",
       "    <tr style=\"text-align: right;\">\n",
       "      <th></th>\n",
       "      <th>merchant_id</th>\n",
       "      <th>rat</th>\n",
       "    </tr>\n",
       "  </thead>\n",
       "  <tbody>\n",
       "    <tr>\n",
       "      <th>0</th>\n",
       "      <td>1102</td>\n",
       "      <td>0.083367</td>\n",
       "    </tr>\n",
       "    <tr>\n",
       "      <th>1</th>\n",
       "      <td>3828</td>\n",
       "      <td>0.125999</td>\n",
       "    </tr>\n",
       "    <tr>\n",
       "      <th>2</th>\n",
       "      <td>4044</td>\n",
       "      <td>0.061853</td>\n",
       "    </tr>\n",
       "    <tr>\n",
       "      <th>3</th>\n",
       "      <td>4173</td>\n",
       "      <td>0.068057</td>\n",
       "    </tr>\n",
       "    <tr>\n",
       "      <th>4</th>\n",
       "      <td>4976</td>\n",
       "      <td>0.058701</td>\n",
       "    </tr>\n",
       "  </tbody>\n",
       "</table>\n",
       "</div>"
      ]
     },
     "execution_count": 59,
     "metadata": {},
     "output_type": "execute_result"
    }
   ],
   "execution_count": 59
  },
  {
   "metadata": {
    "ExecuteTime": {
     "end_time": "2025-03-26T09:21:17.458202Z",
     "start_time": "2025-03-26T09:21:17.258457Z"
    }
   },
   "cell_type": "code",
   "source": [
    "#绘图\n",
    "plt.figure(figsize=(8, 5))\n",
    "sns.barplot(data=ratio,x='merchant_id', y='rat',palette='Blues')\n",
    "plt.title('top5 复购率')\n",
    "plt.xlabel('店铺id')\n",
    "plt.ylabel('复购率')"
   ],
   "outputs": [
    {
     "data": {
      "text/plain": [
       "Text(0, 0.5, '复购率')"
      ]
     },
     "execution_count": 61,
     "metadata": {},
     "output_type": "execute_result"
    },
    {
     "data": {
      "text/plain": [
       "<Figure size 800x500 with 1 Axes>"
      ],
      "image/png": "[encoded data removed]"
     },
     "metadata": {},
     "output_type": "display_data"
    }
   ],
   "execution_count": 61
  },
  {
   "cell_type": "markdown",
   "metadata": {},
   "source": [
    "由于数据的特征维度并不具有连续性，无法使用插值法进行填补，并且空缺比率较小，因此我们直接将空缺数据视为一个特征，用-1填补并代表此类特征"
   ]
  },
  {
   "cell_type": "markdown",
   "metadata": {},
   "source": [
    "### 7 查看离散变量分布\n",
    "action type中大部分都是click，真正的购买行为很少"
   ]
  },
  {
   "metadata": {
    "ExecuteTime": {
     "end_time": "2025-03-26T09:25:44.915081Z",
     "start_time": "2025-03-26T09:25:44.908594Z"
    }
   },
   "cell_type": "code",
   "source": "user_log.info",
   "outputs": [
    {
     "data": {
      "text/plain": [
       "<bound method DataFrame.info of           user_id  item_id  cat_id  merchant_id  brand_id  time_stamp  \\\n",
       "0          328862   323294     833         2882    2661.0         829   \n",
       "1          328862   844400    1271         2882    2661.0         829   \n",
       "2          328862   575153    1271         2882    2661.0         829   \n",
       "3          328862   996875    1271         2882    2661.0         829   \n",
       "4          328862  1086186    1271         1253    1049.0         829   \n",
       "...           ...      ...     ...          ...       ...         ...   \n",
       "54925325   208016   107662     898         1346    7995.0        1110   \n",
       "54925326   208016  1058313     898         1346    7995.0        1110   \n",
       "54925327   208016   449814     898          983    7995.0        1110   \n",
       "54925328   208016   634856     898         1346    7995.0        1110   \n",
       "54925329   208016   272094     898         1346    7995.0        1111   \n",
       "\n",
       "          action_type  \n",
       "0                   0  \n",
       "1                   0  \n",
       "2                   0  \n",
       "3                   0  \n",
       "4                   0  \n",
       "...               ...  \n",
       "54925325            0  \n",
       "54925326            0  \n",
       "54925327            0  \n",
       "54925328            0  \n",
       "54925329            0  \n",
       "\n",
       "[54834315 rows x 7 columns]>"
      ]
     },
     "execution_count": 66,
     "metadata": {},
     "output_type": "execute_result"
    }
   ],
   "execution_count": 66
  },
  {
   "cell_type": "code",
   "metadata": {
    "ExecuteTime": {
     "end_time": "2025-03-26T09:22:36.605765Z",
     "start_time": "2025-03-26T09:22:24.191579Z"
    }
   },
   "source": "user_log.describe()",
   "outputs": [
    {
     "data": {
      "text/plain": [
       "            user_id       item_id        cat_id   merchant_id      brand_id  \\\n",
       "count  5.483432e+07  5.483432e+07  5.483432e+07  5.483432e+07  5.483432e+07   \n",
       "mean   2.121592e+05  5.538555e+05  8.770755e+02  2.470840e+03  4.153348e+03   \n",
       "std    1.222875e+05  3.221491e+05  4.486180e+02  1.473345e+03  2.397679e+03   \n",
       "min    1.000000e+00  1.000000e+00  1.000000e+00  1.000000e+00  1.000000e+00   \n",
       "25%    1.063400e+05  2.731430e+05  5.550000e+02  1.151000e+03  2.027000e+03   \n",
       "50%    2.126580e+05  5.555290e+05  8.210000e+02  2.459000e+03  4.065000e+03   \n",
       "75%    3.177530e+05  8.306860e+05  1.252000e+03  3.760000e+03  6.196000e+03   \n",
       "max    4.241700e+05  1.113166e+06  1.671000e+03  4.995000e+03  8.477000e+03   \n",
       "\n",
       "         time_stamp   action_type  \n",
       "count  5.483432e+07  5.483432e+07  \n",
       "mean   9.229646e+02  2.839965e-01  \n",
       "std    1.954433e+02  8.073288e-01  \n",
       "min    5.110000e+02  0.000000e+00  \n",
       "25%    7.300000e+02  0.000000e+00  \n",
       "50%    1.010000e+03  0.000000e+00  \n",
       "75%    1.109000e+03  0.000000e+00  \n",
       "max    1.112000e+03  3.000000e+00  "
      ],
      "text/html": [
       "<div>\n",
       "<style scoped>\n",
       "    .dataframe tbody tr th:only-of-type {\n",
       "        vertical-align: middle;\n",
       "    }\n",
       "\n",
       "    .dataframe tbody tr th {\n",
       "        vertical-align: top;\n",
       "    }\n",
       "\n",
       "    .dataframe thead th {\n",
       "        text-align: right;\n",
       "    }\n",
       "</style>\n",
       "<table border=\"1\" class=\"dataframe\">\n",
       "  <thead>\n",
       "    <tr style=\"text-align: right;\">\n",
       "      <th></th>\n",
       "      <th>user_id</th>\n",
       "      <th>item_id</th>\n",
       "      <th>cat_id</th>\n",
       "      <th>merchant_id</th>\n",
       "      <th>brand_id</th>\n",
       "      <th>time_stamp</th>\n",
       "      <th>action_type</th>\n",
       "    </tr>\n",
       "  </thead>\n",
       "  <tbody>\n",
       "    <tr>\n",
       "      <th>count</th>\n",
       "      <td>5.483432e+07</td>\n",
       "      <td>5.483432e+07</td>\n",
       "      <td>5.483432e+07</td>\n",
       "      <td>5.483432e+07</td>\n",
       "      <td>5.483432e+07</td>\n",
       "      <td>5.483432e+07</td>\n",
       "      <td>5.483432e+07</td>\n",
       "    </tr>\n",
       "    <tr>\n",
       "      <th>mean</th>\n",
       "      <td>2.121592e+05</td>\n",
       "      <td>5.538555e+05</td>\n",
       "      <td>8.770755e+02</td>\n",
       "      <td>2.470840e+03</td>\n",
       "      <td>4.153348e+03</td>\n",
       "      <td>9.229646e+02</td>\n",
       "      <td>2.839965e-01</td>\n",
       "    </tr>\n",
       "    <tr>\n",
       "      <th>std</th>\n",
       "      <td>1.222875e+05</td>\n",
       "      <td>3.221491e+05</td>\n",
       "      <td>4.486180e+02</td>\n",
       "      <td>1.473345e+03</td>\n",
       "      <td>2.397679e+03</td>\n",
       "      <td>1.954433e+02</td>\n",
       "      <td>8.073288e-01</td>\n",
       "    </tr>\n",
       "    <tr>\n",
       "      <th>min</th>\n",
       "      <td>1.000000e+00</td>\n",
       "      <td>1.000000e+00</td>\n",
       "      <td>1.000000e+00</td>\n",
       "      <td>1.000000e+00</td>\n",
       "      <td>1.000000e+00</td>\n",
       "      <td>5.110000e+02</td>\n",
       "      <td>0.000000e+00</td>\n",
       "    </tr>\n",
       "    <tr>\n",
       "      <th>25%</th>\n",
       "      <td>1.063400e+05</td>\n",
       "      <td>2.731430e+05</td>\n",
       "      <td>5.550000e+02</td>\n",
       "      <td>1.151000e+03</td>\n",
       "      <td>2.027000e+03</td>\n",
       "      <td>7.300000e+02</td>\n",
       "      <td>0.000000e+00</td>\n",
       "    </tr>\n",
       "    <tr>\n",
       "      <th>50%</th>\n",
       "      <td>2.126580e+05</td>\n",
       "      <td>5.555290e+05</td>\n",
       "      <td>8.210000e+02</td>\n",
       "      <td>2.459000e+03</td>\n",
       "      <td>4.065000e+03</td>\n",
       "      <td>1.010000e+03</td>\n",
       "      <td>0.000000e+00</td>\n",
       "    </tr>\n",
       "    <tr>\n",
       "      <th>75%</th>\n",
       "      <td>3.177530e+05</td>\n",
       "      <td>8.306860e+05</td>\n",
       "      <td>1.252000e+03</td>\n",
       "      <td>3.760000e+03</td>\n",
       "      <td>6.196000e+03</td>\n",
       "      <td>1.109000e+03</td>\n",
       "      <td>0.000000e+00</td>\n",
       "    </tr>\n",
       "    <tr>\n",
       "      <th>max</th>\n",
       "      <td>4.241700e+05</td>\n",
       "      <td>1.113166e+06</td>\n",
       "      <td>1.671000e+03</td>\n",
       "      <td>4.995000e+03</td>\n",
       "      <td>8.477000e+03</td>\n",
       "      <td>1.112000e+03</td>\n",
       "      <td>3.000000e+00</td>\n",
       "    </tr>\n",
       "  </tbody>\n",
       "</table>\n",
       "</div>"
      ]
     },
     "execution_count": 62,
     "metadata": {},
     "output_type": "execute_result"
    }
   ],
   "execution_count": 62
  },
  {
   "cell_type": "markdown",
   "metadata": {},
   "source": [
    "各种行为基本上都是在双十一激增"
   ]
  },
  {
   "cell_type": "code",
   "metadata": {
    "ExecuteTime": {
     "end_time": "2025-03-26T09:24:56.335282Z",
     "start_time": "2025-03-26T09:24:55.110731Z"
    }
   },
   "source": "user_log.value_counts('time_stamp')",
   "outputs": [
    {
     "data": {
      "text/plain": [
       "time_stamp\n",
       "1111    10564866\n",
       "1110     2929056\n",
       "1109     1202382\n",
       "1108      964587\n",
       "1107      854720\n",
       "          ...   \n",
       "512        20573\n",
       "511        19920\n",
       "518        19127\n",
       "519        18313\n",
       "1112          46\n",
       "Length: 186, dtype: int64"
      ]
     },
     "execution_count": 65,
     "metadata": {},
     "output_type": "execute_result"
    }
   ],
   "execution_count": 65
  },
  {
   "cell_type": "markdown",
   "metadata": {},
   "source": [
    "### 8 填充缺失值"
   ]
  },
  {
   "cell_type": "code",
   "execution_count": null,
   "metadata": {},
   "outputs": [],
   "source": []
  },
  {
   "cell_type": "markdown",
   "metadata": {},
   "source": [
    "# 5 数据处理"
   ]
  },
  {
   "cell_type": "markdown",
   "metadata": {},
   "source": [
    "## 5.1 特征构造-聚合特征"
   ]
  },
  {
   "cell_type": "code",
   "metadata": {
    "tags": [],
    "ExecuteTime": {
     "end_time": "2025-03-26T09:45:18.580205Z",
     "start_time": "2025-03-26T09:45:08.912326Z"
    }
   },
   "source": [
    "# 每个用户在每个商家交互过的商品总和（不分种类）。total_item_id\n",
    "total_item_id=user_log.groupby(['user_id','merchant_id'])['item_id'].count().reset_index(name='total_item_id')\n",
    "total_item_id.head()"
   ],
   "outputs": [
    {
     "data": {
      "text/plain": [
       "   user_id  merchant_id  total_item_id\n",
       "0        1          471              1\n",
       "1        1          739              1\n",
       "2        1          925              4\n",
       "3        1         1019             14\n",
       "4        1         1156              1"
      ],
      "text/html": [
       "<div>\n",
       "<style scoped>\n",
       "    .dataframe tbody tr th:only-of-type {\n",
       "        vertical-align: middle;\n",
       "    }\n",
       "\n",
       "    .dataframe tbody tr th {\n",
       "        vertical-align: top;\n",
       "    }\n",
       "\n",
       "    .dataframe thead th {\n",
       "        text-align: right;\n",
       "    }\n",
       "</style>\n",
       "<table border=\"1\" class=\"dataframe\">\n",
       "  <thead>\n",
       "    <tr style=\"text-align: right;\">\n",
       "      <th></th>\n",
       "      <th>user_id</th>\n",
       "      <th>merchant_id</th>\n",
       "      <th>total_item_id</th>\n",
       "    </tr>\n",
       "  </thead>\n",
       "  <tbody>\n",
       "    <tr>\n",
       "      <th>0</th>\n",
       "      <td>1</td>\n",
       "      <td>471</td>\n",
       "      <td>1</td>\n",
       "    </tr>\n",
       "    <tr>\n",
       "      <th>1</th>\n",
       "      <td>1</td>\n",
       "      <td>739</td>\n",
       "      <td>1</td>\n",
       "    </tr>\n",
       "    <tr>\n",
       "      <th>2</th>\n",
       "      <td>1</td>\n",
       "      <td>925</td>\n",
       "      <td>4</td>\n",
       "    </tr>\n",
       "    <tr>\n",
       "      <th>3</th>\n",
       "      <td>1</td>\n",
       "      <td>1019</td>\n",
       "      <td>14</td>\n",
       "    </tr>\n",
       "    <tr>\n",
       "      <th>4</th>\n",
       "      <td>1</td>\n",
       "      <td>1156</td>\n",
       "      <td>1</td>\n",
       "    </tr>\n",
       "  </tbody>\n",
       "</table>\n",
       "</div>"
      ]
     },
     "execution_count": 68,
     "metadata": {},
     "output_type": "execute_result"
    }
   ],
   "execution_count": 68
  },
  {
   "cell_type": "code",
   "metadata": {
    "collapsed": false,
    "jupyter": {
     "outputs_hidden": false
    },
    "tags": [],
    "ExecuteTime": {
     "end_time": "2025-03-26T10:02:26.874875Z",
     "start_time": "2025-03-26T10:01:46.098507Z"
    }
   },
   "source": [
    "# 每个用户在每个商家交互过的商品种类总和。unique_item_id\n",
    "unique_item_id = user_log.groupby(['user_id', 'merchant_id'])['item_id'].nunique().reset_index(name='unique_item_id')   \n",
    "unique_item_id.head()"
   ],
   "outputs": [
    {
     "data": {
      "text/plain": [
       "   user_id  merchant_id  unique_item_id\n",
       "0        1          471               1\n",
       "1        1          739               1\n",
       "2        1          925               1\n",
       "3        1         1019               1\n",
       "4        1         1156               1"
      ],
      "text/html": [
       "<div>\n",
       "<style scoped>\n",
       "    .dataframe tbody tr th:only-of-type {\n",
       "        vertical-align: middle;\n",
       "    }\n",
       "\n",
       "    .dataframe tbody tr th {\n",
       "        vertical-align: top;\n",
       "    }\n",
       "\n",
       "    .dataframe thead th {\n",
       "        text-align: right;\n",
       "    }\n",
       "</style>\n",
       "<table border=\"1\" class=\"dataframe\">\n",
       "  <thead>\n",
       "    <tr style=\"text-align: right;\">\n",
       "      <th></th>\n",
       "      <th>user_id</th>\n",
       "      <th>merchant_id</th>\n",
       "      <th>unique_item_id</th>\n",
       "    </tr>\n",
       "  </thead>\n",
       "  <tbody>\n",
       "    <tr>\n",
       "      <th>0</th>\n",
       "      <td>1</td>\n",
       "      <td>471</td>\n",
       "      <td>1</td>\n",
       "    </tr>\n",
       "    <tr>\n",
       "      <th>1</th>\n",
       "      <td>1</td>\n",
       "      <td>739</td>\n",
       "      <td>1</td>\n",
       "    </tr>\n",
       "    <tr>\n",
       "      <th>2</th>\n",
       "      <td>1</td>\n",
       "      <td>925</td>\n",
       "      <td>1</td>\n",
       "    </tr>\n",
       "    <tr>\n",
       "      <th>3</th>\n",
       "      <td>1</td>\n",
       "      <td>1019</td>\n",
       "      <td>1</td>\n",
       "    </tr>\n",
       "    <tr>\n",
       "      <th>4</th>\n",
       "      <td>1</td>\n",
       "      <td>1156</td>\n",
       "      <td>1</td>\n",
       "    </tr>\n",
       "  </tbody>\n",
       "</table>\n",
       "</div>"
      ]
     },
     "execution_count": 73,
     "metadata": {},
     "output_type": "execute_result"
    }
   ],
   "execution_count": 73
  },
  {
   "cell_type": "code",
   "metadata": {
    "collapsed": false,
    "jupyter": {
     "outputs_hidden": false
    },
    "tags": [],
    "ExecuteTime": {
     "end_time": "2025-03-26T10:02:54.172453Z",
     "start_time": "2025-03-26T10:02:26.875875Z"
    }
   },
   "source": [
    "# 每个用户在每个商家交互过的商品所属品类总和total_cat_id\n",
    "total_cat_id = user_log.groupby(['user_id', 'merchant_id'])['cat_id'].nunique().reset_index(name='total_cat_id')\n",
    "total_cat_id"
   ],
   "outputs": [
    {
     "data": {
      "text/plain": [
       "          user_id  merchant_id  total_cat_id\n",
       "0               1          471             1\n",
       "1               1          739             1\n",
       "2               1          925             1\n",
       "3               1         1019             1\n",
       "4               1         1156             1\n",
       "...           ...          ...           ...\n",
       "14052680   424170         1082             1\n",
       "14052681   424170         3469             1\n",
       "14052682   424170         3736             2\n",
       "14052683   424170         4268             1\n",
       "14052684   424170         4963             1\n",
       "\n",
       "[14052685 rows x 3 columns]"
      ],
      "text/html": [
       "<div>\n",
       "<style scoped>\n",
       "    .dataframe tbody tr th:only-of-type {\n",
       "        vertical-align: middle;\n",
       "    }\n",
       "\n",
       "    .dataframe tbody tr th {\n",
       "        vertical-align: top;\n",
       "    }\n",
       "\n",
       "    .dataframe thead th {\n",
       "        text-align: right;\n",
       "    }\n",
       "</style>\n",
       "<table border=\"1\" class=\"dataframe\">\n",
       "  <thead>\n",
       "    <tr style=\"text-align: right;\">\n",
       "      <th></th>\n",
       "      <th>user_id</th>\n",
       "      <th>merchant_id</th>\n",
       "      <th>total_cat_id</th>\n",
       "    </tr>\n",
       "  </thead>\n",
       "  <tbody>\n",
       "    <tr>\n",
       "      <th>0</th>\n",
       "      <td>1</td>\n",
       "      <td>471</td>\n",
       "      <td>1</td>\n",
       "    </tr>\n",
       "    <tr>\n",
       "      <th>1</th>\n",
       "      <td>1</td>\n",
       "      <td>739</td>\n",
       "      <td>1</td>\n",
       "    </tr>\n",
       "    <tr>\n",
       "      <th>2</th>\n",
       "      <td>1</td>\n",
       "      <td>925</td>\n",
       "      <td>1</td>\n",
       "    </tr>\n",
       "    <tr>\n",
       "      <th>3</th>\n",
       "      <td>1</td>\n",
       "      <td>1019</td>\n",
       "      <td>1</td>\n",
       "    </tr>\n",
       "    <tr>\n",
       "      <th>4</th>\n",
       "      <td>1</td>\n",
       "      <td>1156</td>\n",
       "      <td>1</td>\n",
       "    </tr>\n",
       "    <tr>\n",
       "      <th>...</th>\n",
       "      <td>...</td>\n",
       "      <td>...</td>\n",
       "      <td>...</td>\n",
       "    </tr>\n",
       "    <tr>\n",
       "      <th>14052680</th>\n",
       "      <td>424170</td>\n",
       "      <td>1082</td>\n",
       "      <td>1</td>\n",
       "    </tr>\n",
       "    <tr>\n",
       "      <th>14052681</th>\n",
       "      <td>424170</td>\n",
       "      <td>3469</td>\n",
       "      <td>1</td>\n",
       "    </tr>\n",
       "    <tr>\n",
       "      <th>14052682</th>\n",
       "      <td>424170</td>\n",
       "      <td>3736</td>\n",
       "      <td>2</td>\n",
       "    </tr>\n",
       "    <tr>\n",
       "      <th>14052683</th>\n",
       "      <td>424170</td>\n",
       "      <td>4268</td>\n",
       "      <td>1</td>\n",
       "    </tr>\n",
       "    <tr>\n",
       "      <th>14052684</th>\n",
       "      <td>424170</td>\n",
       "      <td>4963</td>\n",
       "      <td>1</td>\n",
       "    </tr>\n",
       "  </tbody>\n",
       "</table>\n",
       "<p>14052685 rows × 3 columns</p>\n",
       "</div>"
      ]
     },
     "execution_count": 74,
     "metadata": {},
     "output_type": "execute_result"
    }
   ],
   "execution_count": 74
  },
  {
   "metadata": {
    "ExecuteTime": {
     "end_time": "2025-03-26T10:09:34.550088Z",
     "start_time": "2025-03-26T10:09:10.662251Z"
    }
   },
   "cell_type": "code",
   "source": [
    "# 每个用户在每个商家交互过的天数总和。total_time_temp\n",
    "\n",
    "total_time_temp = user_log.groupby(['user_id', 'merchant_id'])['time_stamp'].nunique().reset_index(name='total_time_temp')"
   ],
   "outputs": [],
   "execution_count": 82
  },
  {
   "cell_type": "code",
   "metadata": {
    "collapsed": false,
    "jupyter": {
     "outputs_hidden": false
    },
    "tags": [],
    "ExecuteTime": {
     "end_time": "2025-03-26T10:06:39.441607Z",
     "start_time": "2025-03-26T10:06:29.267462Z"
    }
   },
   "source": [
    "# 每个用户在每个商家点击次数总和。clicks\n",
    "clicks = user_log[user_log['action_type'] == 0].groupby(['user_id', 'merchant_id'])['action_type'].count().reset_index(name='clicks')\n",
    "\n",
    "# 每个用户在每个商家加入购物车次数总和。shopping_cart\n",
    "shopping_cart = user_log[user_log['action_type'] == 1].groupby(['user_id', 'merchant_id'])['action_type'].count().reset_index(name='shopping_cart')\n"
   ],
   "outputs": [],
   "execution_count": 77
  },
  {
   "cell_type": "code",
   "metadata": {
    "collapsed": false,
    "jupyter": {
     "outputs_hidden": false
    },
    "tags": [],
    "ExecuteTime": {
     "end_time": "2025-03-26T10:22:31.620294Z",
     "start_time": "2025-03-26T10:21:49.221958Z"
    }
   },
   "source": [
    "# 合并数据\n",
    "df_features = total_item_id.merge(unique_item_id, on=['user_id', 'merchant_id'])\n",
    "df_features = df_features.merge(total_cat_id, on=['user_id', 'merchant_id'])\n",
    "df_features = df_features.merge(total_time_temp, on=['user_id', 'merchant_id'])\n",
    "df_features = df_features.merge(clicks, on=['user_id', 'merchant_id'], how='left')\n",
    "df_features = df_features.merge(shopping_cart, on=['user_id', 'merchant_id'], how='left')"
   ],
   "outputs": [],
   "execution_count": 89
  },
  {
   "metadata": {
    "ExecuteTime": {
     "end_time": "2025-03-26T10:28:47.178143Z",
     "start_time": "2025-03-26T10:28:41.963551Z"
    }
   },
   "cell_type": "code",
   "source": "df_train=train_df.merge(df_features,on=['user_id', 'merchant_id'], how='left')",
   "outputs": [],
   "execution_count": 91
  },
  {
   "metadata": {
    "ExecuteTime": {
     "end_time": "2025-03-26T10:29:04.270977Z",
     "start_time": "2025-03-26T10:29:04.160054Z"
    }
   },
   "cell_type": "code",
   "source": "df_train.describe()",
   "outputs": [
    {
     "data": {
      "text/plain": [
       "             user_id    merchant_id          label  total_item_id  \\\n",
       "count  260864.000000  260864.000000  260864.000000  260811.000000   \n",
       "mean   211889.321420    2540.292363       0.061151      10.800549   \n",
       "std    122399.488027    1451.207514       0.239607      19.807157   \n",
       "min         1.000000       2.000000       0.000000       1.000000   \n",
       "25%    105488.000000    1340.000000       0.000000       3.000000   \n",
       "50%    211927.500000    2482.000000       0.000000       6.000000   \n",
       "75%    317670.500000    3898.000000       0.000000      12.000000   \n",
       "max    424170.000000    4993.000000       1.000000    3918.000000   \n",
       "\n",
       "       unique_item_id   total_cat_id  total_time_temp         clicks  \\\n",
       "count   260811.000000  260811.000000    260811.000000  230991.000000   \n",
       "mean         4.379574       1.878732         1.886719      10.250936   \n",
       "std          7.955462       1.862960         1.666779      19.926362   \n",
       "min          1.000000       1.000000         1.000000       1.000000   \n",
       "25%          1.000000       1.000000         1.000000       2.000000   \n",
       "50%          2.000000       1.000000         1.000000       5.000000   \n",
       "75%          4.000000       2.000000         2.000000      11.000000   \n",
       "max        603.000000      33.000000        56.000000    3917.000000   \n",
       "\n",
       "       shopping_cart  \n",
       "count      14.000000  \n",
       "mean        1.071429  \n",
       "std         0.267261  \n",
       "min         1.000000  \n",
       "25%         1.000000  \n",
       "50%         1.000000  \n",
       "75%         1.000000  \n",
       "max         2.000000  "
      ],
      "text/html": [
       "<div>\n",
       "<style scoped>\n",
       "    .dataframe tbody tr th:only-of-type {\n",
       "        vertical-align: middle;\n",
       "    }\n",
       "\n",
       "    .dataframe tbody tr th {\n",
       "        vertical-align: top;\n",
       "    }\n",
       "\n",
       "    .dataframe thead th {\n",
       "        text-align: right;\n",
       "    }\n",
       "</style>\n",
       "<table border=\"1\" class=\"dataframe\">\n",
       "  <thead>\n",
       "    <tr style=\"text-align: right;\">\n",
       "      <th></th>\n",
       "      <th>user_id</th>\n",
       "      <th>merchant_id</th>\n",
       "      <th>label</th>\n",
       "      <th>total_item_id</th>\n",
       "      <th>unique_item_id</th>\n",
       "      <th>total_cat_id</th>\n",
       "      <th>total_time_temp</th>\n",
       "      <th>clicks</th>\n",
       "      <th>shopping_cart</th>\n",
       "    </tr>\n",
       "  </thead>\n",
       "  <tbody>\n",
       "    <tr>\n",
       "      <th>count</th>\n",
       "      <td>260864.000000</td>\n",
       "      <td>260864.000000</td>\n",
       "      <td>260864.000000</td>\n",
       "      <td>260811.000000</td>\n",
       "      <td>260811.000000</td>\n",
       "      <td>260811.000000</td>\n",
       "      <td>260811.000000</td>\n",
       "      <td>230991.000000</td>\n",
       "      <td>14.000000</td>\n",
       "    </tr>\n",
       "    <tr>\n",
       "      <th>mean</th>\n",
       "      <td>211889.321420</td>\n",
       "      <td>2540.292363</td>\n",
       "      <td>0.061151</td>\n",
       "      <td>10.800549</td>\n",
       "      <td>4.379574</td>\n",
       "      <td>1.878732</td>\n",
       "      <td>1.886719</td>\n",
       "      <td>10.250936</td>\n",
       "      <td>1.071429</td>\n",
       "    </tr>\n",
       "    <tr>\n",
       "      <th>std</th>\n",
       "      <td>122399.488027</td>\n",
       "      <td>1451.207514</td>\n",
       "      <td>0.239607</td>\n",
       "      <td>19.807157</td>\n",
       "      <td>7.955462</td>\n",
       "      <td>1.862960</td>\n",
       "      <td>1.666779</td>\n",
       "      <td>19.926362</td>\n",
       "      <td>0.267261</td>\n",
       "    </tr>\n",
       "    <tr>\n",
       "      <th>min</th>\n",
       "      <td>1.000000</td>\n",
       "      <td>2.000000</td>\n",
       "      <td>0.000000</td>\n",
       "      <td>1.000000</td>\n",
       "      <td>1.000000</td>\n",
       "      <td>1.000000</td>\n",
       "      <td>1.000000</td>\n",
       "      <td>1.000000</td>\n",
       "      <td>1.000000</td>\n",
       "    </tr>\n",
       "    <tr>\n",
       "      <th>25%</th>\n",
       "      <td>105488.000000</td>\n",
       "      <td>1340.000000</td>\n",
       "      <td>0.000000</td>\n",
       "      <td>3.000000</td>\n",
       "      <td>1.000000</td>\n",
       "      <td>1.000000</td>\n",
       "      <td>1.000000</td>\n",
       "      <td>2.000000</td>\n",
       "      <td>1.000000</td>\n",
       "    </tr>\n",
       "    <tr>\n",
       "      <th>50%</th>\n",
       "      <td>211927.500000</td>\n",
       "      <td>2482.000000</td>\n",
       "      <td>0.000000</td>\n",
       "      <td>6.000000</td>\n",
       "      <td>2.000000</td>\n",
       "      <td>1.000000</td>\n",
       "      <td>1.000000</td>\n",
       "      <td>5.000000</td>\n",
       "      <td>1.000000</td>\n",
       "    </tr>\n",
       "    <tr>\n",
       "      <th>75%</th>\n",
       "      <td>317670.500000</td>\n",
       "      <td>3898.000000</td>\n",
       "      <td>0.000000</td>\n",
       "      <td>12.000000</td>\n",
       "      <td>4.000000</td>\n",
       "      <td>2.000000</td>\n",
       "      <td>2.000000</td>\n",
       "      <td>11.000000</td>\n",
       "      <td>1.000000</td>\n",
       "    </tr>\n",
       "    <tr>\n",
       "      <th>max</th>\n",
       "      <td>424170.000000</td>\n",
       "      <td>4993.000000</td>\n",
       "      <td>1.000000</td>\n",
       "      <td>3918.000000</td>\n",
       "      <td>603.000000</td>\n",
       "      <td>33.000000</td>\n",
       "      <td>56.000000</td>\n",
       "      <td>3917.000000</td>\n",
       "      <td>2.000000</td>\n",
       "    </tr>\n",
       "  </tbody>\n",
       "</table>\n",
       "</div>"
      ]
     },
     "execution_count": 92,
     "metadata": {},
     "output_type": "execute_result"
    }
   ],
   "execution_count": 92
  },
  {
   "metadata": {
    "ExecuteTime": {
     "end_time": "2025-03-26T10:49:26.327578Z",
     "start_time": "2025-03-26T10:49:26.230516Z"
    }
   },
   "cell_type": "code",
   "source": [
    "#缺失处理\n",
    "df_train['clicks'].fillna(0, inplace=True)\n",
    "df_train['shopping_cart'].fillna(0, inplace=True)\n",
    "df_train['total_item_id'].fillna(0, inplace=True)\n",
    "df_train['unique_item_id'].fillna(0, inplace=True)\n",
    "df_train['total_cat_id'].fillna(0, inplace=True)\n",
    "df_train['total_time_temp'].fillna(0, inplace=True)\n",
    "df_train.describe()"
   ],
   "outputs": [
    {
     "data": {
      "text/plain": [
       "             user_id    merchant_id          label  total_item_id  \\\n",
       "count  260864.000000  260864.000000  260864.000000  260864.000000   \n",
       "mean   211889.321420    2540.292363       0.061151      10.798355   \n",
       "std    122399.488027    1451.207514       0.239607      19.805743   \n",
       "min         1.000000       2.000000       0.000000       0.000000   \n",
       "25%    105488.000000    1340.000000       0.000000       3.000000   \n",
       "50%    211927.500000    2482.000000       0.000000       6.000000   \n",
       "75%    317670.500000    3898.000000       0.000000      12.000000   \n",
       "max    424170.000000    4993.000000       1.000000    3918.000000   \n",
       "\n",
       "       unique_item_id   total_cat_id  total_time_temp         clicks  \\\n",
       "count   260864.000000  260864.000000    260864.000000  260864.000000   \n",
       "mean         4.378684       1.878350         1.886335       9.077044   \n",
       "std          7.954898       1.862963         1.666827      19.032752   \n",
       "min          0.000000       0.000000         0.000000       0.000000   \n",
       "25%          1.000000       1.000000         1.000000       2.000000   \n",
       "50%          2.000000       1.000000         1.000000       4.000000   \n",
       "75%          4.000000       2.000000         2.000000      10.000000   \n",
       "max        603.000000      33.000000        56.000000    3917.000000   \n",
       "\n",
       "       shopping_cart  \n",
       "count  260864.000000  \n",
       "mean        0.000058  \n",
       "std         0.008072  \n",
       "min         0.000000  \n",
       "25%         0.000000  \n",
       "50%         0.000000  \n",
       "75%         0.000000  \n",
       "max         2.000000  "
      ],
      "text/html": [
       "<div>\n",
       "<style scoped>\n",
       "    .dataframe tbody tr th:only-of-type {\n",
       "        vertical-align: middle;\n",
       "    }\n",
       "\n",
       "    .dataframe tbody tr th {\n",
       "        vertical-align: top;\n",
       "    }\n",
       "\n",
       "    .dataframe thead th {\n",
       "        text-align: right;\n",
       "    }\n",
       "</style>\n",
       "<table border=\"1\" class=\"dataframe\">\n",
       "  <thead>\n",
       "    <tr style=\"text-align: right;\">\n",
       "      <th></th>\n",
       "      <th>user_id</th>\n",
       "      <th>merchant_id</th>\n",
       "      <th>label</th>\n",
       "      <th>total_item_id</th>\n",
       "      <th>unique_item_id</th>\n",
       "      <th>total_cat_id</th>\n",
       "      <th>total_time_temp</th>\n",
       "      <th>clicks</th>\n",
       "      <th>shopping_cart</th>\n",
       "    </tr>\n",
       "  </thead>\n",
       "  <tbody>\n",
       "    <tr>\n",
       "      <th>count</th>\n",
       "      <td>260864.000000</td>\n",
       "      <td>260864.000000</td>\n",
       "      <td>260864.000000</td>\n",
       "      <td>260864.000000</td>\n",
       "      <td>260864.000000</td>\n",
       "      <td>260864.000000</td>\n",
       "      <td>260864.000000</td>\n",
       "      <td>260864.000000</td>\n",
       "      <td>260864.000000</td>\n",
       "    </tr>\n",
       "    <tr>\n",
       "      <th>mean</th>\n",
       "      <td>211889.321420</td>\n",
       "      <td>2540.292363</td>\n",
       "      <td>0.061151</td>\n",
       "      <td>10.798355</td>\n",
       "      <td>4.378684</td>\n",
       "      <td>1.878350</td>\n",
       "      <td>1.886335</td>\n",
       "      <td>9.077044</td>\n",
       "      <td>0.000058</td>\n",
       "    </tr>\n",
       "    <tr>\n",
       "      <th>std</th>\n",
       "      <td>122399.488027</td>\n",
       "      <td>1451.207514</td>\n",
       "      <td>0.239607</td>\n",
       "      <td>19.805743</td>\n",
       "      <td>7.954898</td>\n",
       "      <td>1.862963</td>\n",
       "      <td>1.666827</td>\n",
       "      <td>19.032752</td>\n",
       "      <td>0.008072</td>\n",
       "    </tr>\n",
       "    <tr>\n",
       "      <th>min</th>\n",
       "      <td>1.000000</td>\n",
       "      <td>2.000000</td>\n",
       "      <td>0.000000</td>\n",
       "      <td>0.000000</td>\n",
       "      <td>0.000000</td>\n",
       "      <td>0.000000</td>\n",
       "      <td>0.000000</td>\n",
       "      <td>0.000000</td>\n",
       "      <td>0.000000</td>\n",
       "    </tr>\n",
       "    <tr>\n",
       "      <th>25%</th>\n",
       "      <td>105488.000000</td>\n",
       "      <td>1340.000000</td>\n",
       "      <td>0.000000</td>\n",
       "      <td>3.000000</td>\n",
       "      <td>1.000000</td>\n",
       "      <td>1.000000</td>\n",
       "      <td>1.000000</td>\n",
       "      <td>2.000000</td>\n",
       "      <td>0.000000</td>\n",
       "    </tr>\n",
       "    <tr>\n",
       "      <th>50%</th>\n",
       "      <td>211927.500000</td>\n",
       "      <td>2482.000000</td>\n",
       "      <td>0.000000</td>\n",
       "      <td>6.000000</td>\n",
       "      <td>2.000000</td>\n",
       "      <td>1.000000</td>\n",
       "      <td>1.000000</td>\n",
       "      <td>4.000000</td>\n",
       "      <td>0.000000</td>\n",
       "    </tr>\n",
       "    <tr>\n",
       "      <th>75%</th>\n",
       "      <td>317670.500000</td>\n",
       "      <td>3898.000000</td>\n",
       "      <td>0.000000</td>\n",
       "      <td>12.000000</td>\n",
       "      <td>4.000000</td>\n",
       "      <td>2.000000</td>\n",
       "      <td>2.000000</td>\n",
       "      <td>10.000000</td>\n",
       "      <td>0.000000</td>\n",
       "    </tr>\n",
       "    <tr>\n",
       "      <th>max</th>\n",
       "      <td>424170.000000</td>\n",
       "      <td>4993.000000</td>\n",
       "      <td>1.000000</td>\n",
       "      <td>3918.000000</td>\n",
       "      <td>603.000000</td>\n",
       "      <td>33.000000</td>\n",
       "      <td>56.000000</td>\n",
       "      <td>3917.000000</td>\n",
       "      <td>2.000000</td>\n",
       "    </tr>\n",
       "  </tbody>\n",
       "</table>\n",
       "</div>"
      ]
     },
     "execution_count": 101,
     "metadata": {},
     "output_type": "execute_result"
    }
   ],
   "execution_count": 101
  },
  {
   "cell_type": "markdown",
   "metadata": {},
   "source": [
    "## 5.2 下采样"
   ]
  },
  {
   "cell_type": "code",
   "metadata": {
    "ExecuteTime": {
     "end_time": "2025-03-26T10:49:36.350587Z",
     "start_time": "2025-03-26T10:49:36.292193Z"
    }
   },
   "source": [
    "from sklearn.model_selection import train_test_split\n",
    "x=df_train.drop('label',axis=1)\n",
    "y=df_train['label']\n",
    "x_train,y_train,x_test,y_test= train_test_split(x,y,test_size=0.2,random_state=0)"
   ],
   "outputs": [],
   "execution_count": 102
  },
  {
   "metadata": {
    "ExecuteTime": {
     "end_time": "2025-03-26T10:48:13.234368Z",
     "start_time": "2025-03-26T10:48:13.140515Z"
    }
   },
   "cell_type": "code",
   "source": "x.describe()",
   "outputs": [
    {
     "data": {
      "text/plain": [
       "             user_id    merchant_id  total_item_id  unique_item_id  \\\n",
       "count  260864.000000  260864.000000  260811.000000   260811.000000   \n",
       "mean   211889.321420    2540.292363      10.800549        4.379574   \n",
       "std    122399.488027    1451.207514      19.807157        7.955462   \n",
       "min         1.000000       2.000000       1.000000        1.000000   \n",
       "25%    105488.000000    1340.000000       3.000000        1.000000   \n",
       "50%    211927.500000    2482.000000       6.000000        2.000000   \n",
       "75%    317670.500000    3898.000000      12.000000        4.000000   \n",
       "max    424170.000000    4993.000000    3918.000000      603.000000   \n",
       "\n",
       "        total_cat_id  total_time_temp         clicks  shopping_cart  \n",
       "count  260811.000000    260811.000000  260864.000000  260864.000000  \n",
       "mean        1.878732         1.886719       9.077044       0.000058  \n",
       "std         1.862960         1.666779      19.032752       0.008072  \n",
       "min         1.000000         1.000000       0.000000       0.000000  \n",
       "25%         1.000000         1.000000       2.000000       0.000000  \n",
       "50%         1.000000         1.000000       4.000000       0.000000  \n",
       "75%         2.000000         2.000000      10.000000       0.000000  \n",
       "max        33.000000        56.000000    3917.000000       2.000000  "
      ],
      "text/html": [
       "<div>\n",
       "<style scoped>\n",
       "    .dataframe tbody tr th:only-of-type {\n",
       "        vertical-align: middle;\n",
       "    }\n",
       "\n",
       "    .dataframe tbody tr th {\n",
       "        vertical-align: top;\n",
       "    }\n",
       "\n",
       "    .dataframe thead th {\n",
       "        text-align: right;\n",
       "    }\n",
       "</style>\n",
       "<table border=\"1\" class=\"dataframe\">\n",
       "  <thead>\n",
       "    <tr style=\"text-align: right;\">\n",
       "      <th></th>\n",
       "      <th>user_id</th>\n",
       "      <th>merchant_id</th>\n",
       "      <th>total_item_id</th>\n",
       "      <th>unique_item_id</th>\n",
       "      <th>total_cat_id</th>\n",
       "      <th>total_time_temp</th>\n",
       "      <th>clicks</th>\n",
       "      <th>shopping_cart</th>\n",
       "    </tr>\n",
       "  </thead>\n",
       "  <tbody>\n",
       "    <tr>\n",
       "      <th>count</th>\n",
       "      <td>260864.000000</td>\n",
       "      <td>260864.000000</td>\n",
       "      <td>260811.000000</td>\n",
       "      <td>260811.000000</td>\n",
       "      <td>260811.000000</td>\n",
       "      <td>260811.000000</td>\n",
       "      <td>260864.000000</td>\n",
       "      <td>260864.000000</td>\n",
       "    </tr>\n",
       "    <tr>\n",
       "      <th>mean</th>\n",
       "      <td>211889.321420</td>\n",
       "      <td>2540.292363</td>\n",
       "      <td>10.800549</td>\n",
       "      <td>4.379574</td>\n",
       "      <td>1.878732</td>\n",
       "      <td>1.886719</td>\n",
       "      <td>9.077044</td>\n",
       "      <td>0.000058</td>\n",
       "    </tr>\n",
       "    <tr>\n",
       "      <th>std</th>\n",
       "      <td>122399.488027</td>\n",
       "      <td>1451.207514</td>\n",
       "      <td>19.807157</td>\n",
       "      <td>7.955462</td>\n",
       "      <td>1.862960</td>\n",
       "      <td>1.666779</td>\n",
       "      <td>19.032752</td>\n",
       "      <td>0.008072</td>\n",
       "    </tr>\n",
       "    <tr>\n",
       "      <th>min</th>\n",
       "      <td>1.000000</td>\n",
       "      <td>2.000000</td>\n",
       "      <td>1.000000</td>\n",
       "      <td>1.000000</td>\n",
       "      <td>1.000000</td>\n",
       "      <td>1.000000</td>\n",
       "      <td>0.000000</td>\n",
       "      <td>0.000000</td>\n",
       "    </tr>\n",
       "    <tr>\n",
       "      <th>25%</th>\n",
       "      <td>105488.000000</td>\n",
       "      <td>1340.000000</td>\n",
       "      <td>3.000000</td>\n",
       "      <td>1.000000</td>\n",
       "      <td>1.000000</td>\n",
       "      <td>1.000000</td>\n",
       "      <td>2.000000</td>\n",
       "      <td>0.000000</td>\n",
       "    </tr>\n",
       "    <tr>\n",
       "      <th>50%</th>\n",
       "      <td>211927.500000</td>\n",
       "      <td>2482.000000</td>\n",
       "      <td>6.000000</td>\n",
       "      <td>2.000000</td>\n",
       "      <td>1.000000</td>\n",
       "      <td>1.000000</td>\n",
       "      <td>4.000000</td>\n",
       "      <td>0.000000</td>\n",
       "    </tr>\n",
       "    <tr>\n",
       "      <th>75%</th>\n",
       "      <td>317670.500000</td>\n",
       "      <td>3898.000000</td>\n",
       "      <td>12.000000</td>\n",
       "      <td>4.000000</td>\n",
       "      <td>2.000000</td>\n",
       "      <td>2.000000</td>\n",
       "      <td>10.000000</td>\n",
       "      <td>0.000000</td>\n",
       "    </tr>\n",
       "    <tr>\n",
       "      <th>max</th>\n",
       "      <td>424170.000000</td>\n",
       "      <td>4993.000000</td>\n",
       "      <td>3918.000000</td>\n",
       "      <td>603.000000</td>\n",
       "      <td>33.000000</td>\n",
       "      <td>56.000000</td>\n",
       "      <td>3917.000000</td>\n",
       "      <td>2.000000</td>\n",
       "    </tr>\n",
       "  </tbody>\n",
       "</table>\n",
       "</div>"
      ]
     },
     "execution_count": 100,
     "metadata": {},
     "output_type": "execute_result"
    }
   ],
   "execution_count": 100
  },
  {
   "cell_type": "markdown",
   "metadata": {},
   "source": [
    "## 5.3 过采样"
   ]
  },
  {
   "cell_type": "code",
   "metadata": {
    "tags": [],
    "ExecuteTime": {
     "end_time": "2025-03-26T10:51:35.175976Z",
     "start_time": "2025-03-26T10:49:47.294205Z"
    }
   },
   "source": [
    "#孤立森林减少异常点\n",
    "from pyod.models.iforest import IForest\n",
    "clf=IForest(n_estimators=500,behaviour='new',n_jobs=-1)\n",
    "clf.fit(x[['total_item_id','unique_item_id',\"total_cat_id\",\"total_time_temp\",\"clicks\",\"shopping_cart\"]])\n",
    "out_pred=clf.predict_proba(x[['total_item_id','unique_item_id',\"total_cat_id\",\"total_time_temp\",\"clicks\",\"shopping_cart\"]],method='linear')[:,1]\n",
    "x['out_pred']=out_pred"
   ],
   "outputs": [
    {
     "name": "stderr",
     "output_type": "stream",
     "text": [
      "D:\\wym\\tool\\anaconda\\Lib\\site-packages\\sklearn\\base.py:432: UserWarning: X has feature names, but IsolationForest was fitted without feature names\n",
      "  warnings.warn(\n"
     ]
    }
   ],
   "execution_count": 103
  },
  {
   "cell_type": "markdown",
   "metadata": {},
   "source": [
    "## 5.4 保存数据"
   ]
  },
  {
   "cell_type": "code",
   "execution_count": 12,
   "metadata": {
    "ExecuteTime": {
     "end_time": "2023-05-09T14:47:59.390848600Z",
     "start_time": "2023-05-09T14:47:58.193902600Z"
    },
    "tags": []
   },
   "outputs": [],
   "source": [
    "train_df.to_csv('train_v1.csv', index=False)\n",
    "test_df.to_csv('test_v1.csv',index=False)"
   ]
  },
  {
   "cell_type": "code",
   "execution_count": 49,
   "metadata": {
    "tags": []
   },
   "outputs": [],
   "source": [
    "train_df = pd.read_csv('./train_v1.csv')\n",
    "test_df = pd.read_csv('./test_v1.csv')"
   ]
  },
  {
   "cell_type": "markdown",
   "metadata": {},
   "source": [
    "# 6 模型构建和训练&评估\n",
    "\n",
    "## 6.1 数据准备，评估函数准备"
   ]
  },
  {
   "cell_type": "code",
   "execution_count": null,
   "metadata": {},
   "outputs": [],
   "source": []
  },
  {
   "cell_type": "markdown",
   "metadata": {},
   "source": [
    "## 6.2 逻辑回归LR\n",
    "### 1 原始数据"
   ]
  },
  {
   "cell_type": "code",
   "execution_count": null,
   "metadata": {},
   "outputs": [],
   "source": []
  },
  {
   "cell_type": "markdown",
   "metadata": {},
   "source": [
    "### 2 对样本作平衡处理\n",
    "调整了一下权重之后效果好多了"
   ]
  },
  {
   "cell_type": "markdown",
   "metadata": {},
   "source": [
    "### 3 过采样数据训练 "
   ]
  },
  {
   "cell_type": "markdown",
   "metadata": {},
   "source": [
    "### 4 下采样数据训练"
   ]
  },
  {
   "cell_type": "markdown",
   "metadata": {},
   "source": [
    "## 6.3 LightGBM"
   ]
  },
  {
   "cell_type": "markdown",
   "metadata": {},
   "source": [
    "### 1 原始数据"
   ]
  },
  {
   "cell_type": "markdown",
   "metadata": {},
   "source": [
    "### 2 过采样数据训练"
   ]
  },
  {
   "cell_type": "markdown",
   "metadata": {},
   "source": [
    "### 3 欠采样数据训练"
   ]
  },
  {
   "cell_type": "markdown",
   "metadata": {},
   "source": [
    "## 6.4 决策树"
   ]
  },
  {
   "cell_type": "code",
   "execution_count": null,
   "metadata": {},
   "outputs": [],
   "source": []
  },
  {
   "cell_type": "markdown",
   "metadata": {},
   "source": [
    "## 6.5 XGboost"
   ]
  },
  {
   "cell_type": "code",
   "execution_count": null,
   "metadata": {},
   "outputs": [],
   "source": []
  },
  {
   "cell_type": "markdown",
   "metadata": {},
   "source": [
    "# 7 输出预测结果\n"
   ]
  },
  {
   "cell_type": "code",
   "execution_count": null,
   "metadata": {},
   "outputs": [],
   "source": []
  }
 ],
 "metadata": {
  "kernelspec": {
   "display_name": "Python 3 (ipykernel)",
   "language": "python",
   "name": "python3"
  },
  "language_info": {
   "codemirror_mode": {
    "name": "ipython",
    "version": 3
   },
   "file_extension": ".py",
   "mimetype": "text/x-python",
   "name": "python",
   "nbconvert_exporter": "python",
   "pygments_lexer": "ipython3",
   "version": "3.10.0"
  },
  "toc": {
   "base_numbering": 1,
   "nav_menu": {},
   "number_sections": true,
   "sideBar": true,
   "skip_h1_title": false,
   "title_cell": "Table of Contents",
   "title_sidebar": "Contents",
   "toc_cell": true,
   "toc_position": {
    "height": "calc(100% - 180px)",
    "left": "10px",
    "top": "150px",
    "width": "294.55px"
   },
   "toc_section_display": true,
   "toc_window_display": true
  }
 },
 "nbformat": 4,
 "nbformat_minor": 4
}
